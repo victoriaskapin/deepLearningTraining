{
 "cells": [
  {
   "cell_type": "markdown",
   "metadata": {},
   "source": [
    "Ejercicio 1\n",
    "Generar un tensor llamado x cuyo contenido sea el siguiente\n"
   ]
  },
  {
   "cell_type": "code",
   "execution_count": 3,
   "metadata": {},
   "outputs": [
    {
     "name": "stdout",
     "output_type": "stream",
     "text": [
      "tensor([[[ 0,  2,  4,  6,  8],\n",
      "         [10, 12, 14, 16, 18],\n",
      "         [20, 22, 24, 26, 28]],\n",
      "\n",
      "        [[30, 32, 34, 36, 38],\n",
      "         [40, 42, 44, 46, 48],\n",
      "         [50, 52, 54, 56, 58]]])\n"
     ]
    }
   ],
   "source": [
    "import torch \n",
    "import numpy as np\n",
    "import matplotlib.pyplot as plt\n",
    "import math \n",
    "\n",
    "# Ejercicio 1\n",
    "aux = np.arange(0,59,2)\n",
    "x = torch.tensor(aux.reshape(2,3,5))\n",
    "print(x)"
   ]
  },
  {
   "cell_type": "code",
   "execution_count": 74,
   "metadata": {},
   "outputs": [
    {
     "name": "stdout",
     "output_type": "stream",
     "text": [
      "torch.Size([5])\n",
      "torch.Size([2, 4, 5, 3])\n",
      "tensor([[[[1., 1., 1.],\n",
      "          [2., 2., 2.],\n",
      "          [3., 3., 3.],\n",
      "          [4., 4., 4.],\n",
      "          [5., 5., 5.]],\n",
      "\n",
      "         [[1., 1., 1.],\n",
      "          [2., 2., 2.],\n",
      "          [3., 3., 3.],\n",
      "          [4., 4., 4.],\n",
      "          [5., 5., 5.]],\n",
      "\n",
      "         [[1., 1., 1.],\n",
      "          [2., 2., 2.],\n",
      "          [3., 3., 3.],\n",
      "          [4., 4., 4.],\n",
      "          [5., 5., 5.]],\n",
      "\n",
      "         [[1., 1., 1.],\n",
      "          [2., 2., 2.],\n",
      "          [3., 3., 3.],\n",
      "          [4., 4., 4.],\n",
      "          [5., 5., 5.]]],\n",
      "\n",
      "\n",
      "        [[[1., 1., 1.],\n",
      "          [2., 2., 2.],\n",
      "          [3., 3., 3.],\n",
      "          [4., 4., 4.],\n",
      "          [5., 5., 5.]],\n",
      "\n",
      "         [[1., 1., 1.],\n",
      "          [2., 2., 2.],\n",
      "          [3., 3., 3.],\n",
      "          [4., 4., 4.],\n",
      "          [5., 5., 5.]],\n",
      "\n",
      "         [[1., 1., 1.],\n",
      "          [2., 2., 2.],\n",
      "          [3., 3., 3.],\n",
      "          [4., 4., 4.],\n",
      "          [5., 5., 5.]],\n",
      "\n",
      "         [[1., 1., 1.],\n",
      "          [2., 2., 2.],\n",
      "          [3., 3., 3.],\n",
      "          [4., 4., 4.],\n",
      "          [5., 5., 5.]]]])\n"
     ]
    }
   ],
   "source": [
    "X = torch.ones(2, 4, 5, 3)\n",
    "y = torch.tensor([1,2,3,4,5])\n",
    "\n",
    "#realizar los cambios necesarios para que sea posible multiplicar cada columna del tensor X por el vector y\n",
    "\n",
    "print (y.shape)\n",
    "print (X.shape)\n",
    "\n",
    "y = y.view(5,1)\n",
    "# y = y.expand(5,3)\n",
    "y.unsqueeze_(0)\n",
    "\n",
    "X = X * y\n",
    "print (X)"
   ]
  },
  {
   "cell_type": "code",
   "execution_count": 25,
   "metadata": {},
   "outputs": [
    {
     "data": {
      "image/png": "[encoded data removed]",
      "text/plain": [
       "<Figure size 432x288 with 1 Axes>"
      ]
     },
     "metadata": {
      "needs_background": "light"
     },
     "output_type": "display_data"
    },
    {
     "name": "stdout",
     "output_type": "stream",
     "text": [
      "torch.Size([6000, 1, 28, 28])\n"
     ]
    }
   ],
   "source": [
    "# Ejercicio 3\n",
    "# Descargar el dataset FashionMNIST y guardar en un tensor todas las imágenes de bolsos (label 8).\n",
    "\n",
    "# Tip: use la función torch.stack para apilar una lista de tensores en uno solo\n",
    "\n",
    "from torch.utils.data import Dataset\n",
    "from torchvision import datasets # Contiene FashionMNIST\n",
    "from torchvision.transforms import ToTensor, Lambda # Transformaciones\n",
    "import matplotlib.pyplot as plt # Para graficar\n",
    "\n",
    "# Descargar FashionMNIST\n",
    "training_data = datasets.FashionMNIST(\n",
    "    root=\"data\",\n",
    "    train=True,\n",
    "    download=True,\n",
    "    transform=ToTensor()\n",
    ")\n",
    "\n",
    "# Creo el tensor con las imágenes de bolsos\n",
    "bolsos = torch.stack([img for img, label in training_data if label == 8])\n",
    "\n",
    "# Grafico una imagen de un bolso \n",
    "plt.imshow(bolsos[2][0], cmap='gray')\n",
    "plt.show()\n",
    "print(bolsos.shape)"
   ]
  },
  {
   "cell_type": "markdown",
   "metadata": {},
   "source": [
    "Use autograd para graficar el gradiente de la siguiente función aplicada sobre el tensor \"x\".\n",
    "\n",
    "$$f(x) = \\tan(2x+ \\frac{\\pi}{2}) $$\n",
    "\n",
    "Graficar entre 0 y 2$\\pi$."
   ]
  },
  {
   "cell_type": "code",
   "execution_count": 81,
   "metadata": {},
   "outputs": [
    {
     "name": "stdout",
     "output_type": "stream",
     "text": [
      "tensor([0.0000, 0.2618, 0.5236, 0.7854, 1.0472, 1.3090, 1.5708, 1.8326, 2.0944,\n",
      "        2.3562, 2.6180, 2.8798, 3.1416, 3.4034, 3.6652, 3.9270, 4.1888, 4.4506,\n",
      "        4.7124, 4.9742, 5.2360, 5.4978, 5.7596, 6.0214, 6.2832],\n",
      "       requires_grad=True)\n"
     ]
    },
    {
     "data": {
      "image/png": "[encoded data removed]",
      "text/plain": [
       "<Figure size 432x288 with 1 Axes>"
      ]
     },
     "metadata": {
      "needs_background": "light"
     },
     "output_type": "display_data"
    },
    {
     "name": "stdout",
     "output_type": "stream",
     "text": [
      "tensor([1.0467e+15, 8.0000e+00, 2.6667e+00, 2.0000e+00, 2.6667e+00, 8.0000e+00,\n",
      "        1.4064e+16, 8.0000e+00, 2.6667e+00, 2.0000e+00, 2.6667e+00, 8.0000e+00,\n",
      "        1.7531e+13, 8.0000e+00, 2.6667e+00, 2.0000e+00, 2.6667e+00, 8.0000e+00,\n",
      "        2.3770e+13, 8.0000e+00, 2.6667e+00, 2.0000e+00, 2.6667e+00, 8.0000e+00,\n",
      "        1.5627e+15])\n"
     ]
    }
   ],
   "source": [
    "\n",
    "x = torch.linspace(0., 2. * math.pi, steps=25, requires_grad=True)\n",
    "print(x)\n",
    "a = 2*x\n",
    "b = a + math.pi/2\n",
    "\n",
    "c = torch.tan(b)\n",
    "out = c.sum()\n",
    "out.backward()\n",
    "plt.plot(x.detach(),x.grad.detach())\n",
    "plt.show()\n",
    "print(x.grad)\n",
    "\n",
    "\n"
   ]
  }
 ],
 "metadata": {
  "kernelspec": {
   "display_name": "env_pytorch",
   "language": "python",
   "name": "python3"
  },
  "language_info": {
   "codemirror_mode": {
    "name": "ipython",
    "version": 3
   },
   "file_extension": ".py",
   "mimetype": "text/x-python",
   "name": "python",
   "nbconvert_exporter": "python",
   "pygments_lexer": "ipython3",
   "version": "3.6.13"
  },
  "orig_nbformat": 4
 },
 "nbformat": 4,
 "nbformat_minor": 2
}

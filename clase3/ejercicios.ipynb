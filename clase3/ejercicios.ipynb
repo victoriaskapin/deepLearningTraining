{
  "cells": [
    {
      "cell_type": "markdown",
      "metadata": {
        "id": "1vfLOURR2gHH"
      },
      "source": [
        "<a href=\"https://colab.research.google.com/github/institutohumai/cursos-python/blob/master/DeepLearning/3_Redes_Multicapa/ejercicios/ejercicios.ipynb\" target=\"_parent\"><img src=\"https://colab.research.google.com/assets/colab-badge.svg\" alt=\"Open in Colab\"/></a>"
      ]
    },
    {
      "cell_type": "markdown",
      "metadata": {
        "id": "HIfRkWPFFAoh"
      },
      "source": [
        "# Ejercicios Clase 3"
      ]
    },
    {
      "cell_type": "markdown",
      "metadata": {
        "id": "XrjQc1jFzKax"
      },
      "source": [
        "En este notebook vamos a usar MLPs para generar un modelo clasificador sobre FashionMNIST así que muchas de las funciones que usamos en los ejercicios de la clase 2 te serán muy útiles."
      ]
    },
    {
      "cell_type": "markdown",
      "metadata": {
        "id": "wXptOn-CVs2n"
      },
      "source": [
        "## Ejercicio 1:"
      ]
    },
    {
      "cell_type": "markdown",
      "metadata": {
        "id": "JVlWPVyn5PW1"
      },
      "source": [
        "Generar un modelo perceptron multicapa con 2 capas ocultas de 512 y 128 neuronas respectivamente para clasificación sobre el dataset FashionMNIST"
      ]
    },
    {
      "cell_type": "code",
      "execution_count": null,
      "metadata": {
        "id": "5s8UWRi1zqXD"
      },
      "outputs": [],
      "source": [
        "net1 = #ingresa tu código aquí"
      ]
    },
    {
      "cell_type": "markdown",
      "metadata": {
        "id": "1ntELWGPIpoB"
      },
      "source": [
        "## Ejercicio 2\n",
        "\n",
        "Entrene el modelo por 10 épocas con un tamaño de lote de 256 y un learning rate de 0.3. (Le recomendamos reutilizar las funciones modularizadas de los ejercicios de la clase 2)"
      ]
    },
    {
      "cell_type": "code",
      "execution_count": null,
      "metadata": {
        "id": "KIIQUloXX-PA"
      },
      "outputs": [],
      "source": [
        "#ingresa tu código aquí\n"
      ]
    },
    {
      "cell_type": "markdown",
      "metadata": {
        "id": "iH0Tag93XCct"
      },
      "source": [
        "## Ejercicio 3 :"
      ]
    },
    {
      "cell_type": "markdown",
      "metadata": {
        "id": "oJOmdokbXCcu"
      },
      "source": [
        "A partir del modelo anterior, analice que ocurre si en lugar de entrenar 10 épocas, entrena 20"
      ]
    },
    {
      "cell_type": "code",
      "execution_count": null,
      "metadata": {
        "id": "1eOc5tisYNHZ"
      },
      "outputs": [],
      "source": [
        "#ingresa tu código aquí"
      ]
    },
    {
      "cell_type": "markdown",
      "metadata": {
        "id": "ptvfEmUIcf0-"
      },
      "source": [
        "## Ejercicio 4"
      ]
    },
    {
      "cell_type": "markdown",
      "metadata": {
        "id": "eL8cyma5ciJa"
      },
      "source": [
        "Aumente el learning rate a 1 y entrene nuevamente. ¿Cómo puede explicar lo que pasó?"
      ]
    },
    {
      "cell_type": "code",
      "execution_count": null,
      "metadata": {
        "id": "gMEUXxHac3Ny"
      },
      "outputs": [],
      "source": [
        "#ingresa tu código aquí"
      ]
    },
    {
      "cell_type": "markdown",
      "metadata": {
        "id": "UpPB6eo7YcUy"
      },
      "source": [
        "## Ejercicio 5:"
      ]
    },
    {
      "cell_type": "markdown",
      "metadata": {
        "id": "Tf0axPgXYcU0"
      },
      "source": [
        "Analize el efecto de cambiar las funciones de activación en el accurracy"
      ]
    },
    {
      "cell_type": "code",
      "execution_count": null,
      "metadata": {
        "id": "1aVS2IaOYcU2"
      },
      "outputs": [],
      "source": [
        "#ingresa tu código aquí"
      ]
    },
    {
      "cell_type": "markdown",
      "metadata": {
        "id": "rMzoVF_5bARh"
      },
      "source": [
        "## Ejercicio 6:"
      ]
    },
    {
      "cell_type": "markdown",
      "metadata": {
        "id": "qj9XuB7LbARi"
      },
      "source": [
        "Ahora genere un tercer modelo en donde ambas capas tengan 1024 neuronas. Analice si produjo algún cambio en los rendimientos."
      ]
    },
    {
      "cell_type": "code",
      "execution_count": null,
      "metadata": {
        "id": "9sKhx7oDbARk"
      },
      "outputs": [],
      "source": [
        "#ingresa tu código aquí\n"
      ]
    }
  ],
  "metadata": {
    "colab": {
      "name": "ejercicios.ipynb",
      "provenance": [],
      "toc_visible": true
    },
    "kernelspec": {
      "display_name": "Python 3",
      "name": "python3"
    },
    "language_info": {
      "name": "python",
      "version": "3.6.13"
    }
  },
  "nbformat": 4,
  "nbformat_minor": 0
}

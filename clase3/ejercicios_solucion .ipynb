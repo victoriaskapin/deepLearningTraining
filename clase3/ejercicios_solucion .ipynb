{
  "nbformat": 4,
  "nbformat_minor": 0,
  "metadata": {
    "colab": {
      "name": "ejercicios_solucion.ipynb",
      "provenance": [],
      "toc_visible": true
    },
    "kernelspec": {
      "name": "python3",
      "display_name": "Python 3"
    },
    "language_info": {
      "name": "python"
    },
    "widgets": {
      "application/vnd.jupyter.widget-state+json": {
        "a7495bca61214311a0841bee870c84cd": {
          "model_module": "@jupyter-widgets/controls",
          "model_name": "HBoxModel",
          "model_module_version": "1.5.0",
          "state": {
            "_dom_classes": [],
            "_model_module": "@jupyter-widgets/controls",
            "_model_module_version": "1.5.0",
            "_model_name": "HBoxModel",
            "_view_count": null,
            "_view_module": "@jupyter-widgets/controls",
            "_view_module_version": "1.5.0",
            "_view_name": "HBoxView",
            "box_style": "",
            "children": [
              "IPY_MODEL_93d8ad1153a7453bbb82f1e687061117",
              "IPY_MODEL_5dd16a3bb9464537b08f8f1b9ca64644",
              "IPY_MODEL_1f3b159ea6bb48b6943ed567fae9d741"
            ],
            "layout": "IPY_MODEL_e880b9f958c145d78dcb35f839c07e16"
          }
        },
        "93d8ad1153a7453bbb82f1e687061117": {
          "model_module": "@jupyter-widgets/controls",
          "model_name": "HTMLModel",
          "model_module_version": "1.5.0",
          "state": {
            "_dom_classes": [],
            "_model_module": "@jupyter-widgets/controls",
            "_model_module_version": "1.5.0",
            "_model_name": "HTMLModel",
            "_view_count": null,
            "_view_module": "@jupyter-widgets/controls",
            "_view_module_version": "1.5.0",
            "_view_name": "HTMLView",
            "description": "",
            "description_tooltip": null,
            "layout": "IPY_MODEL_4eb05adfe37b4186b5c9410dd2185060",
            "placeholder": "​",
            "style": "IPY_MODEL_c075e58be9b442a0b2b515fbaefee6e5",
            "value": "100%"
          }
        },
        "5dd16a3bb9464537b08f8f1b9ca64644": {
          "model_module": "@jupyter-widgets/controls",
          "model_name": "FloatProgressModel",
          "model_module_version": "1.5.0",
          "state": {
            "_dom_classes": [],
            "_model_module": "@jupyter-widgets/controls",
            "_model_module_version": "1.5.0",
            "_model_name": "FloatProgressModel",
            "_view_count": null,
            "_view_module": "@jupyter-widgets/controls",
            "_view_module_version": "1.5.0",
            "_view_name": "ProgressView",
            "bar_style": "success",
            "description": "",
            "description_tooltip": null,
            "layout": "IPY_MODEL_e8bbbcbcaee84bee81a0b758031aceef",
            "max": 26421880,
            "min": 0,
            "orientation": "horizontal",
            "style": "IPY_MODEL_3272c104421d46c080919146b3ae62d3",
            "value": 26421880
          }
        },
        "1f3b159ea6bb48b6943ed567fae9d741": {
          "model_module": "@jupyter-widgets/controls",
          "model_name": "HTMLModel",
          "model_module_version": "1.5.0",
          "state": {
            "_dom_classes": [],
            "_model_module": "@jupyter-widgets/controls",
            "_model_module_version": "1.5.0",
            "_model_name": "HTMLModel",
            "_view_count": null,
            "_view_module": "@jupyter-widgets/controls",
            "_view_module_version": "1.5.0",
            "_view_name": "HTMLView",
            "description": "",
            "description_tooltip": null,
            "layout": "IPY_MODEL_bbe81cf0dfbe4bb5966078b810e863b4",
            "placeholder": "​",
            "style": "IPY_MODEL_4d33856a9aca4aea87415903d07e1342",
            "value": " 26421880/26421880 [00:01&lt;00:00, 27266926.52it/s]"
          }
        },
        "e880b9f958c145d78dcb35f839c07e16": {
          "model_module": "@jupyter-widgets/base",
          "model_name": "LayoutModel",
          "model_module_version": "1.2.0",
          "state": {
            "_model_module": "@jupyter-widgets/base",
            "_model_module_version": "1.2.0",
            "_model_name": "LayoutModel",
            "_view_count": null,
            "_view_module": "@jupyter-widgets/base",
            "_view_module_version": "1.2.0",
            "_view_name": "LayoutView",
            "align_content": null,
            "align_items": null,
            "align_self": null,
            "border": null,
            "bottom": null,
            "display": null,
            "flex": null,
            "flex_flow": null,
            "grid_area": null,
            "grid_auto_columns": null,
            "grid_auto_flow": null,
            "grid_auto_rows": null,
            "grid_column": null,
            "grid_gap": null,
            "grid_row": null,
            "grid_template_areas": null,
            "grid_template_columns": null,
            "grid_template_rows": null,
            "height": null,
            "justify_content": null,
            "justify_items": null,
            "left": null,
            "margin": null,
            "max_height": null,
            "max_width": null,
            "min_height": null,
            "min_width": null,
            "object_fit": null,
            "object_position": null,
            "order": null,
            "overflow": null,
            "overflow_x": null,
            "overflow_y": null,
            "padding": null,
            "right": null,
            "top": null,
            "visibility": null,
            "width": null
          }
        },
        "4eb05adfe37b4186b5c9410dd2185060": {
          "model_module": "@jupyter-widgets/base",
          "model_name": "LayoutModel",
          "model_module_version": "1.2.0",
          "state": {
            "_model_module": "@jupyter-widgets/base",
            "_model_module_version": "1.2.0",
            "_model_name": "LayoutModel",
            "_view_count": null,
            "_view_module": "@jupyter-widgets/base",
            "_view_module_version": "1.2.0",
            "_view_name": "LayoutView",
            "align_content": null,
            "align_items": null,
            "align_self": null,
            "border": null,
            "bottom": null,
            "display": null,
            "flex": null,
            "flex_flow": null,
            "grid_area": null,
            "grid_auto_columns": null,
            "grid_auto_flow": null,
            "grid_auto_rows": null,
            "grid_column": null,
            "grid_gap": null,
            "grid_row": null,
            "grid_template_areas": null,
            "grid_template_columns": null,
            "grid_template_rows": null,
            "height": null,
            "justify_content": null,
            "justify_items": null,
            "left": null,
            "margin": null,
            "max_height": null,
            "max_width": null,
            "min_height": null,
            "min_width": null,
            "object_fit": null,
            "object_position": null,
            "order": null,
            "overflow": null,
            "overflow_x": null,
            "overflow_y": null,
            "padding": null,
            "right": null,
            "top": null,
            "visibility": null,
            "width": null
          }
        },
        "c075e58be9b442a0b2b515fbaefee6e5": {
          "model_module": "@jupyter-widgets/controls",
          "model_name": "DescriptionStyleModel",
          "model_module_version": "1.5.0",
          "state": {
            "_model_module": "@jupyter-widgets/controls",
            "_model_module_version": "1.5.0",
            "_model_name": "DescriptionStyleModel",
            "_view_count": null,
            "_view_module": "@jupyter-widgets/base",
            "_view_module_version": "1.2.0",
            "_view_name": "StyleView",
            "description_width": ""
          }
        },
        "e8bbbcbcaee84bee81a0b758031aceef": {
          "model_module": "@jupyter-widgets/base",
          "model_name": "LayoutModel",
          "model_module_version": "1.2.0",
          "state": {
            "_model_module": "@jupyter-widgets/base",
            "_model_module_version": "1.2.0",
            "_model_name": "LayoutModel",
            "_view_count": null,
            "_view_module": "@jupyter-widgets/base",
            "_view_module_version": "1.2.0",
            "_view_name": "LayoutView",
            "align_content": null,
            "align_items": null,
            "align_self": null,
            "border": null,
            "bottom": null,
            "display": null,
            "flex": null,
            "flex_flow": null,
            "grid_area": null,
            "grid_auto_columns": null,
            "grid_auto_flow": null,
            "grid_auto_rows": null,
            "grid_column": null,
            "grid_gap": null,
            "grid_row": null,
            "grid_template_areas": null,
            "grid_template_columns": null,
            "grid_template_rows": null,
            "height": null,
            "justify_content": null,
            "justify_items": null,
            "left": null,
            "margin": null,
            "max_height": null,
            "max_width": null,
            "min_height": null,
            "min_width": null,
            "object_fit": null,
            "object_position": null,
            "order": null,
            "overflow": null,
            "overflow_x": null,
            "overflow_y": null,
            "padding": null,
            "right": null,
            "top": null,
            "visibility": null,
            "width": null
          }
        },
        "3272c104421d46c080919146b3ae62d3": {
          "model_module": "@jupyter-widgets/controls",
          "model_name": "ProgressStyleModel",
          "model_module_version": "1.5.0",
          "state": {
            "_model_module": "@jupyter-widgets/controls",
            "_model_module_version": "1.5.0",
            "_model_name": "ProgressStyleModel",
            "_view_count": null,
            "_view_module": "@jupyter-widgets/base",
            "_view_module_version": "1.2.0",
            "_view_name": "StyleView",
            "bar_color": null,
            "description_width": ""
          }
        },
        "bbe81cf0dfbe4bb5966078b810e863b4": {
          "model_module": "@jupyter-widgets/base",
          "model_name": "LayoutModel",
          "model_module_version": "1.2.0",
          "state": {
            "_model_module": "@jupyter-widgets/base",
            "_model_module_version": "1.2.0",
            "_model_name": "LayoutModel",
            "_view_count": null,
            "_view_module": "@jupyter-widgets/base",
            "_view_module_version": "1.2.0",
            "_view_name": "LayoutView",
            "align_content": null,
            "align_items": null,
            "align_self": null,
            "border": null,
            "bottom": null,
            "display": null,
            "flex": null,
            "flex_flow": null,
            "grid_area": null,
            "grid_auto_columns": null,
            "grid_auto_flow": null,
            "grid_auto_rows": null,
            "grid_column": null,
            "grid_gap": null,
            "grid_row": null,
            "grid_template_areas": null,
            "grid_template_columns": null,
            "grid_template_rows": null,
            "height": null,
            "justify_content": null,
            "justify_items": null,
            "left": null,
            "margin": null,
            "max_height": null,
            "max_width": null,
            "min_height": null,
            "min_width": null,
            "object_fit": null,
            "object_position": null,
            "order": null,
            "overflow": null,
            "overflow_x": null,
            "overflow_y": null,
            "padding": null,
            "right": null,
            "top": null,
            "visibility": null,
            "width": null
          }
        },
        "4d33856a9aca4aea87415903d07e1342": {
          "model_module": "@jupyter-widgets/controls",
          "model_name": "DescriptionStyleModel",
          "model_module_version": "1.5.0",
          "state": {
            "_model_module": "@jupyter-widgets/controls",
            "_model_module_version": "1.5.0",
            "_model_name": "DescriptionStyleModel",
            "_view_count": null,
            "_view_module": "@jupyter-widgets/base",
            "_view_module_version": "1.2.0",
            "_view_name": "StyleView",
            "description_width": ""
          }
        },
        "2f0f5d015146454f8a60dc033b5175b3": {
          "model_module": "@jupyter-widgets/controls",
          "model_name": "HBoxModel",
          "model_module_version": "1.5.0",
          "state": {
            "_dom_classes": [],
            "_model_module": "@jupyter-widgets/controls",
            "_model_module_version": "1.5.0",
            "_model_name": "HBoxModel",
            "_view_count": null,
            "_view_module": "@jupyter-widgets/controls",
            "_view_module_version": "1.5.0",
            "_view_name": "HBoxView",
            "box_style": "",
            "children": [
              "IPY_MODEL_9b8e904fae5d4523be0dd82812373218",
              "IPY_MODEL_ebda30c67c85411aaed67b6ecc418b19",
              "IPY_MODEL_1ba62d94915346d7abfd5e3be5b156bd"
            ],
            "layout": "IPY_MODEL_09b4e06e51044b9390ce3461ad14a7cc"
          }
        },
        "9b8e904fae5d4523be0dd82812373218": {
          "model_module": "@jupyter-widgets/controls",
          "model_name": "HTMLModel",
          "model_module_version": "1.5.0",
          "state": {
            "_dom_classes": [],
            "_model_module": "@jupyter-widgets/controls",
            "_model_module_version": "1.5.0",
            "_model_name": "HTMLModel",
            "_view_count": null,
            "_view_module": "@jupyter-widgets/controls",
            "_view_module_version": "1.5.0",
            "_view_name": "HTMLView",
            "description": "",
            "description_tooltip": null,
            "layout": "IPY_MODEL_6489ba5b30044137982ed1517b933e34",
            "placeholder": "​",
            "style": "IPY_MODEL_830b93c114da4a5e81be189b497b0793",
            "value": "100%"
          }
        },
        "ebda30c67c85411aaed67b6ecc418b19": {
          "model_module": "@jupyter-widgets/controls",
          "model_name": "FloatProgressModel",
          "model_module_version": "1.5.0",
          "state": {
            "_dom_classes": [],
            "_model_module": "@jupyter-widgets/controls",
            "_model_module_version": "1.5.0",
            "_model_name": "FloatProgressModel",
            "_view_count": null,
            "_view_module": "@jupyter-widgets/controls",
            "_view_module_version": "1.5.0",
            "_view_name": "ProgressView",
            "bar_style": "success",
            "description": "",
            "description_tooltip": null,
            "layout": "IPY_MODEL_a3e216edf7974e99822de235b88f2239",
            "max": 29515,
            "min": 0,
            "orientation": "horizontal",
            "style": "IPY_MODEL_22f454e16c5343b6b306e2dbec78c239",
            "value": 29515
          }
        },
        "1ba62d94915346d7abfd5e3be5b156bd": {
          "model_module": "@jupyter-widgets/controls",
          "model_name": "HTMLModel",
          "model_module_version": "1.5.0",
          "state": {
            "_dom_classes": [],
            "_model_module": "@jupyter-widgets/controls",
            "_model_module_version": "1.5.0",
            "_model_name": "HTMLModel",
            "_view_count": null,
            "_view_module": "@jupyter-widgets/controls",
            "_view_module_version": "1.5.0",
            "_view_name": "HTMLView",
            "description": "",
            "description_tooltip": null,
            "layout": "IPY_MODEL_2eb88682bdaf46debc932bf7ca5f213d",
            "placeholder": "​",
            "style": "IPY_MODEL_32c570a5d5dd4b968ecf56cce3141316",
            "value": " 29515/29515 [00:00&lt;00:00, 293013.96it/s]"
          }
        },
        "09b4e06e51044b9390ce3461ad14a7cc": {
          "model_module": "@jupyter-widgets/base",
          "model_name": "LayoutModel",
          "model_module_version": "1.2.0",
          "state": {
            "_model_module": "@jupyter-widgets/base",
            "_model_module_version": "1.2.0",
            "_model_name": "LayoutModel",
            "_view_count": null,
            "_view_module": "@jupyter-widgets/base",
            "_view_module_version": "1.2.0",
            "_view_name": "LayoutView",
            "align_content": null,
            "align_items": null,
            "align_self": null,
            "border": null,
            "bottom": null,
            "display": null,
            "flex": null,
            "flex_flow": null,
            "grid_area": null,
            "grid_auto_columns": null,
            "grid_auto_flow": null,
            "grid_auto_rows": null,
            "grid_column": null,
            "grid_gap": null,
            "grid_row": null,
            "grid_template_areas": null,
            "grid_template_columns": null,
            "grid_template_rows": null,
            "height": null,
            "justify_content": null,
            "justify_items": null,
            "left": null,
            "margin": null,
            "max_height": null,
            "max_width": null,
            "min_height": null,
            "min_width": null,
            "object_fit": null,
            "object_position": null,
            "order": null,
            "overflow": null,
            "overflow_x": null,
            "overflow_y": null,
            "padding": null,
            "right": null,
            "top": null,
            "visibility": null,
            "width": null
          }
        },
        "6489ba5b30044137982ed1517b933e34": {
          "model_module": "@jupyter-widgets/base",
          "model_name": "LayoutModel",
          "model_module_version": "1.2.0",
          "state": {
            "_model_module": "@jupyter-widgets/base",
            "_model_module_version": "1.2.0",
            "_model_name": "LayoutModel",
            "_view_count": null,
            "_view_module": "@jupyter-widgets/base",
            "_view_module_version": "1.2.0",
            "_view_name": "LayoutView",
            "align_content": null,
            "align_items": null,
            "align_self": null,
            "border": null,
            "bottom": null,
            "display": null,
            "flex": null,
            "flex_flow": null,
            "grid_area": null,
            "grid_auto_columns": null,
            "grid_auto_flow": null,
            "grid_auto_rows": null,
            "grid_column": null,
            "grid_gap": null,
            "grid_row": null,
            "grid_template_areas": null,
            "grid_template_columns": null,
            "grid_template_rows": null,
            "height": null,
            "justify_content": null,
            "justify_items": null,
            "left": null,
            "margin": null,
            "max_height": null,
            "max_width": null,
            "min_height": null,
            "min_width": null,
            "object_fit": null,
            "object_position": null,
            "order": null,
            "overflow": null,
            "overflow_x": null,
            "overflow_y": null,
            "padding": null,
            "right": null,
            "top": null,
            "visibility": null,
            "width": null
          }
        },
        "830b93c114da4a5e81be189b497b0793": {
          "model_module": "@jupyter-widgets/controls",
          "model_name": "DescriptionStyleModel",
          "model_module_version": "1.5.0",
          "state": {
            "_model_module": "@jupyter-widgets/controls",
            "_model_module_version": "1.5.0",
            "_model_name": "DescriptionStyleModel",
            "_view_count": null,
            "_view_module": "@jupyter-widgets/base",
            "_view_module_version": "1.2.0",
            "_view_name": "StyleView",
            "description_width": ""
          }
        },
        "a3e216edf7974e99822de235b88f2239": {
          "model_module": "@jupyter-widgets/base",
          "model_name": "LayoutModel",
          "model_module_version": "1.2.0",
          "state": {
            "_model_module": "@jupyter-widgets/base",
            "_model_module_version": "1.2.0",
            "_model_name": "LayoutModel",
            "_view_count": null,
            "_view_module": "@jupyter-widgets/base",
            "_view_module_version": "1.2.0",
            "_view_name": "LayoutView",
            "align_content": null,
            "align_items": null,
            "align_self": null,
            "border": null,
            "bottom": null,
            "display": null,
            "flex": null,
            "flex_flow": null,
            "grid_area": null,
            "grid_auto_columns": null,
            "grid_auto_flow": null,
            "grid_auto_rows": null,
            "grid_column": null,
            "grid_gap": null,
            "grid_row": null,
            "grid_template_areas": null,
            "grid_template_columns": null,
            "grid_template_rows": null,
            "height": null,
            "justify_content": null,
            "justify_items": null,
            "left": null,
            "margin": null,
            "max_height": null,
            "max_width": null,
            "min_height": null,
            "min_width": null,
            "object_fit": null,
            "object_position": null,
            "order": null,
            "overflow": null,
            "overflow_x": null,
            "overflow_y": null,
            "padding": null,
            "right": null,
            "top": null,
            "visibility": null,
            "width": null
          }
        },
        "22f454e16c5343b6b306e2dbec78c239": {
          "model_module": "@jupyter-widgets/controls",
          "model_name": "ProgressStyleModel",
          "model_module_version": "1.5.0",
          "state": {
            "_model_module": "@jupyter-widgets/controls",
            "_model_module_version": "1.5.0",
            "_model_name": "ProgressStyleModel",
            "_view_count": null,
            "_view_module": "@jupyter-widgets/base",
            "_view_module_version": "1.2.0",
            "_view_name": "StyleView",
            "bar_color": null,
            "description_width": ""
          }
        },
        "2eb88682bdaf46debc932bf7ca5f213d": {
          "model_module": "@jupyter-widgets/base",
          "model_name": "LayoutModel",
          "model_module_version": "1.2.0",
          "state": {
            "_model_module": "@jupyter-widgets/base",
            "_model_module_version": "1.2.0",
            "_model_name": "LayoutModel",
            "_view_count": null,
            "_view_module": "@jupyter-widgets/base",
            "_view_module_version": "1.2.0",
            "_view_name": "LayoutView",
            "align_content": null,
            "align_items": null,
            "align_self": null,
            "border": null,
            "bottom": null,
            "display": null,
            "flex": null,
            "flex_flow": null,
            "grid_area": null,
            "grid_auto_columns": null,
            "grid_auto_flow": null,
            "grid_auto_rows": null,
            "grid_column": null,
            "grid_gap": null,
            "grid_row": null,
            "grid_template_areas": null,
            "grid_template_columns": null,
            "grid_template_rows": null,
            "height": null,
            "justify_content": null,
            "justify_items": null,
            "left": null,
            "margin": null,
            "max_height": null,
            "max_width": null,
            "min_height": null,
            "min_width": null,
            "object_fit": null,
            "object_position": null,
            "order": null,
            "overflow": null,
            "overflow_x": null,
            "overflow_y": null,
            "padding": null,
            "right": null,
            "top": null,
            "visibility": null,
            "width": null
          }
        },
        "32c570a5d5dd4b968ecf56cce3141316": {
          "model_module": "@jupyter-widgets/controls",
          "model_name": "DescriptionStyleModel",
          "model_module_version": "1.5.0",
          "state": {
            "_model_module": "@jupyter-widgets/controls",
            "_model_module_version": "1.5.0",
            "_model_name": "DescriptionStyleModel",
            "_view_count": null,
            "_view_module": "@jupyter-widgets/base",
            "_view_module_version": "1.2.0",
            "_view_name": "StyleView",
            "description_width": ""
          }
        },
        "70e7a6f7fa4e43ddb8d99d6e7d972525": {
          "model_module": "@jupyter-widgets/controls",
          "model_name": "HBoxModel",
          "model_module_version": "1.5.0",
          "state": {
            "_dom_classes": [],
            "_model_module": "@jupyter-widgets/controls",
            "_model_module_version": "1.5.0",
            "_model_name": "HBoxModel",
            "_view_count": null,
            "_view_module": "@jupyter-widgets/controls",
            "_view_module_version": "1.5.0",
            "_view_name": "HBoxView",
            "box_style": "",
            "children": [
              "IPY_MODEL_9c93b235c08f4c9ab985e8f1279d1eba",
              "IPY_MODEL_01499cfe182549aaaeb1a6082146a648",
              "IPY_MODEL_3d2cdc908ef54de0a0d30e72fafc32f9"
            ],
            "layout": "IPY_MODEL_48b4569a12f749edaabd652521cf9ba5"
          }
        },
        "9c93b235c08f4c9ab985e8f1279d1eba": {
          "model_module": "@jupyter-widgets/controls",
          "model_name": "HTMLModel",
          "model_module_version": "1.5.0",
          "state": {
            "_dom_classes": [],
            "_model_module": "@jupyter-widgets/controls",
            "_model_module_version": "1.5.0",
            "_model_name": "HTMLModel",
            "_view_count": null,
            "_view_module": "@jupyter-widgets/controls",
            "_view_module_version": "1.5.0",
            "_view_name": "HTMLView",
            "description": "",
            "description_tooltip": null,
            "layout": "IPY_MODEL_890418a691ce45418b7eecff66e57392",
            "placeholder": "​",
            "style": "IPY_MODEL_6d6de786f3f947c7b4acaa6c169ecc28",
            "value": "100%"
          }
        },
        "01499cfe182549aaaeb1a6082146a648": {
          "model_module": "@jupyter-widgets/controls",
          "model_name": "FloatProgressModel",
          "model_module_version": "1.5.0",
          "state": {
            "_dom_classes": [],
            "_model_module": "@jupyter-widgets/controls",
            "_model_module_version": "1.5.0",
            "_model_name": "FloatProgressModel",
            "_view_count": null,
            "_view_module": "@jupyter-widgets/controls",
            "_view_module_version": "1.5.0",
            "_view_name": "ProgressView",
            "bar_style": "success",
            "description": "",
            "description_tooltip": null,
            "layout": "IPY_MODEL_31765222f73242fe95c0271c6d1317b1",
            "max": 4422102,
            "min": 0,
            "orientation": "horizontal",
            "style": "IPY_MODEL_423cbe42ba3c40d898a15c1207830568",
            "value": 4422102
          }
        },
        "3d2cdc908ef54de0a0d30e72fafc32f9": {
          "model_module": "@jupyter-widgets/controls",
          "model_name": "HTMLModel",
          "model_module_version": "1.5.0",
          "state": {
            "_dom_classes": [],
            "_model_module": "@jupyter-widgets/controls",
            "_model_module_version": "1.5.0",
            "_model_name": "HTMLModel",
            "_view_count": null,
            "_view_module": "@jupyter-widgets/controls",
            "_view_module_version": "1.5.0",
            "_view_name": "HTMLView",
            "description": "",
            "description_tooltip": null,
            "layout": "IPY_MODEL_55c564973d39467e818bccfc70b94174",
            "placeholder": "​",
            "style": "IPY_MODEL_07ccfeed79bb4fd1bde8af5e95c43cc4",
            "value": " 4422102/4422102 [00:00&lt;00:00, 10608042.04it/s]"
          }
        },
        "48b4569a12f749edaabd652521cf9ba5": {
          "model_module": "@jupyter-widgets/base",
          "model_name": "LayoutModel",
          "model_module_version": "1.2.0",
          "state": {
            "_model_module": "@jupyter-widgets/base",
            "_model_module_version": "1.2.0",
            "_model_name": "LayoutModel",
            "_view_count": null,
            "_view_module": "@jupyter-widgets/base",
            "_view_module_version": "1.2.0",
            "_view_name": "LayoutView",
            "align_content": null,
            "align_items": null,
            "align_self": null,
            "border": null,
            "bottom": null,
            "display": null,
            "flex": null,
            "flex_flow": null,
            "grid_area": null,
            "grid_auto_columns": null,
            "grid_auto_flow": null,
            "grid_auto_rows": null,
            "grid_column": null,
            "grid_gap": null,
            "grid_row": null,
            "grid_template_areas": null,
            "grid_template_columns": null,
            "grid_template_rows": null,
            "height": null,
            "justify_content": null,
            "justify_items": null,
            "left": null,
            "margin": null,
            "max_height": null,
            "max_width": null,
            "min_height": null,
            "min_width": null,
            "object_fit": null,
            "object_position": null,
            "order": null,
            "overflow": null,
            "overflow_x": null,
            "overflow_y": null,
            "padding": null,
            "right": null,
            "top": null,
            "visibility": null,
            "width": null
          }
        },
        "890418a691ce45418b7eecff66e57392": {
          "model_module": "@jupyter-widgets/base",
          "model_name": "LayoutModel",
          "model_module_version": "1.2.0",
          "state": {
            "_model_module": "@jupyter-widgets/base",
            "_model_module_version": "1.2.0",
            "_model_name": "LayoutModel",
            "_view_count": null,
            "_view_module": "@jupyter-widgets/base",
            "_view_module_version": "1.2.0",
            "_view_name": "LayoutView",
            "align_content": null,
            "align_items": null,
            "align_self": null,
            "border": null,
            "bottom": null,
            "display": null,
            "flex": null,
            "flex_flow": null,
            "grid_area": null,
            "grid_auto_columns": null,
            "grid_auto_flow": null,
            "grid_auto_rows": null,
            "grid_column": null,
            "grid_gap": null,
            "grid_row": null,
            "grid_template_areas": null,
            "grid_template_columns": null,
            "grid_template_rows": null,
            "height": null,
            "justify_content": null,
            "justify_items": null,
            "left": null,
            "margin": null,
            "max_height": null,
            "max_width": null,
            "min_height": null,
            "min_width": null,
            "object_fit": null,
            "object_position": null,
            "order": null,
            "overflow": null,
            "overflow_x": null,
            "overflow_y": null,
            "padding": null,
            "right": null,
            "top": null,
            "visibility": null,
            "width": null
          }
        },
        "6d6de786f3f947c7b4acaa6c169ecc28": {
          "model_module": "@jupyter-widgets/controls",
          "model_name": "DescriptionStyleModel",
          "model_module_version": "1.5.0",
          "state": {
            "_model_module": "@jupyter-widgets/controls",
            "_model_module_version": "1.5.0",
            "_model_name": "DescriptionStyleModel",
            "_view_count": null,
            "_view_module": "@jupyter-widgets/base",
            "_view_module_version": "1.2.0",
            "_view_name": "StyleView",
            "description_width": ""
          }
        },
        "31765222f73242fe95c0271c6d1317b1": {
          "model_module": "@jupyter-widgets/base",
          "model_name": "LayoutModel",
          "model_module_version": "1.2.0",
          "state": {
            "_model_module": "@jupyter-widgets/base",
            "_model_module_version": "1.2.0",
            "_model_name": "LayoutModel",
            "_view_count": null,
            "_view_module": "@jupyter-widgets/base",
            "_view_module_version": "1.2.0",
            "_view_name": "LayoutView",
            "align_content": null,
            "align_items": null,
            "align_self": null,
            "border": null,
            "bottom": null,
            "display": null,
            "flex": null,
            "flex_flow": null,
            "grid_area": null,
            "grid_auto_columns": null,
            "grid_auto_flow": null,
            "grid_auto_rows": null,
            "grid_column": null,
            "grid_gap": null,
            "grid_row": null,
            "grid_template_areas": null,
            "grid_template_columns": null,
            "grid_template_rows": null,
            "height": null,
            "justify_content": null,
            "justify_items": null,
            "left": null,
            "margin": null,
            "max_height": null,
            "max_width": null,
            "min_height": null,
            "min_width": null,
            "object_fit": null,
            "object_position": null,
            "order": null,
            "overflow": null,
            "overflow_x": null,
            "overflow_y": null,
            "padding": null,
            "right": null,
            "top": null,
            "visibility": null,
            "width": null
          }
        },
        "423cbe42ba3c40d898a15c1207830568": {
          "model_module": "@jupyter-widgets/controls",
          "model_name": "ProgressStyleModel",
          "model_module_version": "1.5.0",
          "state": {
            "_model_module": "@jupyter-widgets/controls",
            "_model_module_version": "1.5.0",
            "_model_name": "ProgressStyleModel",
            "_view_count": null,
            "_view_module": "@jupyter-widgets/base",
            "_view_module_version": "1.2.0",
            "_view_name": "StyleView",
            "bar_color": null,
            "description_width": ""
          }
        },
        "55c564973d39467e818bccfc70b94174": {
          "model_module": "@jupyter-widgets/base",
          "model_name": "LayoutModel",
          "model_module_version": "1.2.0",
          "state": {
            "_model_module": "@jupyter-widgets/base",
            "_model_module_version": "1.2.0",
            "_model_name": "LayoutModel",
            "_view_count": null,
            "_view_module": "@jupyter-widgets/base",
            "_view_module_version": "1.2.0",
            "_view_name": "LayoutView",
            "align_content": null,
            "align_items": null,
            "align_self": null,
            "border": null,
            "bottom": null,
            "display": null,
            "flex": null,
            "flex_flow": null,
            "grid_area": null,
            "grid_auto_columns": null,
            "grid_auto_flow": null,
            "grid_auto_rows": null,
            "grid_column": null,
            "grid_gap": null,
            "grid_row": null,
            "grid_template_areas": null,
            "grid_template_columns": null,
            "grid_template_rows": null,
            "height": null,
            "justify_content": null,
            "justify_items": null,
            "left": null,
            "margin": null,
            "max_height": null,
            "max_width": null,
            "min_height": null,
            "min_width": null,
            "object_fit": null,
            "object_position": null,
            "order": null,
            "overflow": null,
            "overflow_x": null,
            "overflow_y": null,
            "padding": null,
            "right": null,
            "top": null,
            "visibility": null,
            "width": null
          }
        },
        "07ccfeed79bb4fd1bde8af5e95c43cc4": {
          "model_module": "@jupyter-widgets/controls",
          "model_name": "DescriptionStyleModel",
          "model_module_version": "1.5.0",
          "state": {
            "_model_module": "@jupyter-widgets/controls",
            "_model_module_version": "1.5.0",
            "_model_name": "DescriptionStyleModel",
            "_view_count": null,
            "_view_module": "@jupyter-widgets/base",
            "_view_module_version": "1.2.0",
            "_view_name": "StyleView",
            "description_width": ""
          }
        },
        "42a86c3a5b614c0c91aa49dd07d5463c": {
          "model_module": "@jupyter-widgets/controls",
          "model_name": "HBoxModel",
          "model_module_version": "1.5.0",
          "state": {
            "_dom_classes": [],
            "_model_module": "@jupyter-widgets/controls",
            "_model_module_version": "1.5.0",
            "_model_name": "HBoxModel",
            "_view_count": null,
            "_view_module": "@jupyter-widgets/controls",
            "_view_module_version": "1.5.0",
            "_view_name": "HBoxView",
            "box_style": "",
            "children": [
              "IPY_MODEL_081481590b8e42cfb3c4467d11d124e6",
              "IPY_MODEL_8d0a0248b810445aadd3af1abe37953a",
              "IPY_MODEL_a68330eca5c24ac8a622bec336c30e82"
            ],
            "layout": "IPY_MODEL_cdb1fabb2e184279b5728d538cfabcec"
          }
        },
        "081481590b8e42cfb3c4467d11d124e6": {
          "model_module": "@jupyter-widgets/controls",
          "model_name": "HTMLModel",
          "model_module_version": "1.5.0",
          "state": {
            "_dom_classes": [],
            "_model_module": "@jupyter-widgets/controls",
            "_model_module_version": "1.5.0",
            "_model_name": "HTMLModel",
            "_view_count": null,
            "_view_module": "@jupyter-widgets/controls",
            "_view_module_version": "1.5.0",
            "_view_name": "HTMLView",
            "description": "",
            "description_tooltip": null,
            "layout": "IPY_MODEL_714eb773dbf646ceac370b99b8af0402",
            "placeholder": "​",
            "style": "IPY_MODEL_a7198b4ece5d4efbbc72895ab130d15d",
            "value": "100%"
          }
        },
        "8d0a0248b810445aadd3af1abe37953a": {
          "model_module": "@jupyter-widgets/controls",
          "model_name": "FloatProgressModel",
          "model_module_version": "1.5.0",
          "state": {
            "_dom_classes": [],
            "_model_module": "@jupyter-widgets/controls",
            "_model_module_version": "1.5.0",
            "_model_name": "FloatProgressModel",
            "_view_count": null,
            "_view_module": "@jupyter-widgets/controls",
            "_view_module_version": "1.5.0",
            "_view_name": "ProgressView",
            "bar_style": "success",
            "description": "",
            "description_tooltip": null,
            "layout": "IPY_MODEL_e57f7ae1e52c4a539d7299c462f6d491",
            "max": 5148,
            "min": 0,
            "orientation": "horizontal",
            "style": "IPY_MODEL_bb847191dee840b4976ddc9f8877fd07",
            "value": 5148
          }
        },
        "a68330eca5c24ac8a622bec336c30e82": {
          "model_module": "@jupyter-widgets/controls",
          "model_name": "HTMLModel",
          "model_module_version": "1.5.0",
          "state": {
            "_dom_classes": [],
            "_model_module": "@jupyter-widgets/controls",
            "_model_module_version": "1.5.0",
            "_model_name": "HTMLModel",
            "_view_count": null,
            "_view_module": "@jupyter-widgets/controls",
            "_view_module_version": "1.5.0",
            "_view_name": "HTMLView",
            "description": "",
            "description_tooltip": null,
            "layout": "IPY_MODEL_0ecc15a7fe734863b9b2490dea292e74",
            "placeholder": "​",
            "style": "IPY_MODEL_dba63b5e0b3844c4b401e643ee561592",
            "value": " 5148/5148 [00:00&lt;00:00, 58460.05it/s]"
          }
        },
        "cdb1fabb2e184279b5728d538cfabcec": {
          "model_module": "@jupyter-widgets/base",
          "model_name": "LayoutModel",
          "model_module_version": "1.2.0",
          "state": {
            "_model_module": "@jupyter-widgets/base",
            "_model_module_version": "1.2.0",
            "_model_name": "LayoutModel",
            "_view_count": null,
            "_view_module": "@jupyter-widgets/base",
            "_view_module_version": "1.2.0",
            "_view_name": "LayoutView",
            "align_content": null,
            "align_items": null,
            "align_self": null,
            "border": null,
            "bottom": null,
            "display": null,
            "flex": null,
            "flex_flow": null,
            "grid_area": null,
            "grid_auto_columns": null,
            "grid_auto_flow": null,
            "grid_auto_rows": null,
            "grid_column": null,
            "grid_gap": null,
            "grid_row": null,
            "grid_template_areas": null,
            "grid_template_columns": null,
            "grid_template_rows": null,
            "height": null,
            "justify_content": null,
            "justify_items": null,
            "left": null,
            "margin": null,
            "max_height": null,
            "max_width": null,
            "min_height": null,
            "min_width": null,
            "object_fit": null,
            "object_position": null,
            "order": null,
            "overflow": null,
            "overflow_x": null,
            "overflow_y": null,
            "padding": null,
            "right": null,
            "top": null,
            "visibility": null,
            "width": null
          }
        },
        "714eb773dbf646ceac370b99b8af0402": {
          "model_module": "@jupyter-widgets/base",
          "model_name": "LayoutModel",
          "model_module_version": "1.2.0",
          "state": {
            "_model_module": "@jupyter-widgets/base",
            "_model_module_version": "1.2.0",
            "_model_name": "LayoutModel",
            "_view_count": null,
            "_view_module": "@jupyter-widgets/base",
            "_view_module_version": "1.2.0",
            "_view_name": "LayoutView",
            "align_content": null,
            "align_items": null,
            "align_self": null,
            "border": null,
            "bottom": null,
            "display": null,
            "flex": null,
            "flex_flow": null,
            "grid_area": null,
            "grid_auto_columns": null,
            "grid_auto_flow": null,
            "grid_auto_rows": null,
            "grid_column": null,
            "grid_gap": null,
            "grid_row": null,
            "grid_template_areas": null,
            "grid_template_columns": null,
            "grid_template_rows": null,
            "height": null,
            "justify_content": null,
            "justify_items": null,
            "left": null,
            "margin": null,
            "max_height": null,
            "max_width": null,
            "min_height": null,
            "min_width": null,
            "object_fit": null,
            "object_position": null,
            "order": null,
            "overflow": null,
            "overflow_x": null,
            "overflow_y": null,
            "padding": null,
            "right": null,
            "top": null,
            "visibility": null,
            "width": null
          }
        },
        "a7198b4ece5d4efbbc72895ab130d15d": {
          "model_module": "@jupyter-widgets/controls",
          "model_name": "DescriptionStyleModel",
          "model_module_version": "1.5.0",
          "state": {
            "_model_module": "@jupyter-widgets/controls",
            "_model_module_version": "1.5.0",
            "_model_name": "DescriptionStyleModel",
            "_view_count": null,
            "_view_module": "@jupyter-widgets/base",
            "_view_module_version": "1.2.0",
            "_view_name": "StyleView",
            "description_width": ""
          }
        },
        "e57f7ae1e52c4a539d7299c462f6d491": {
          "model_module": "@jupyter-widgets/base",
          "model_name": "LayoutModel",
          "model_module_version": "1.2.0",
          "state": {
            "_model_module": "@jupyter-widgets/base",
            "_model_module_version": "1.2.0",
            "_model_name": "LayoutModel",
            "_view_count": null,
            "_view_module": "@jupyter-widgets/base",
            "_view_module_version": "1.2.0",
            "_view_name": "LayoutView",
            "align_content": null,
            "align_items": null,
            "align_self": null,
            "border": null,
            "bottom": null,
            "display": null,
            "flex": null,
            "flex_flow": null,
            "grid_area": null,
            "grid_auto_columns": null,
            "grid_auto_flow": null,
            "grid_auto_rows": null,
            "grid_column": null,
            "grid_gap": null,
            "grid_row": null,
            "grid_template_areas": null,
            "grid_template_columns": null,
            "grid_template_rows": null,
            "height": null,
            "justify_content": null,
            "justify_items": null,
            "left": null,
            "margin": null,
            "max_height": null,
            "max_width": null,
            "min_height": null,
            "min_width": null,
            "object_fit": null,
            "object_position": null,
            "order": null,
            "overflow": null,
            "overflow_x": null,
            "overflow_y": null,
            "padding": null,
            "right": null,
            "top": null,
            "visibility": null,
            "width": null
          }
        },
        "bb847191dee840b4976ddc9f8877fd07": {
          "model_module": "@jupyter-widgets/controls",
          "model_name": "ProgressStyleModel",
          "model_module_version": "1.5.0",
          "state": {
            "_model_module": "@jupyter-widgets/controls",
            "_model_module_version": "1.5.0",
            "_model_name": "ProgressStyleModel",
            "_view_count": null,
            "_view_module": "@jupyter-widgets/base",
            "_view_module_version": "1.2.0",
            "_view_name": "StyleView",
            "bar_color": null,
            "description_width": ""
          }
        },
        "0ecc15a7fe734863b9b2490dea292e74": {
          "model_module": "@jupyter-widgets/base",
          "model_name": "LayoutModel",
          "model_module_version": "1.2.0",
          "state": {
            "_model_module": "@jupyter-widgets/base",
            "_model_module_version": "1.2.0",
            "_model_name": "LayoutModel",
            "_view_count": null,
            "_view_module": "@jupyter-widgets/base",
            "_view_module_version": "1.2.0",
            "_view_name": "LayoutView",
            "align_content": null,
            "align_items": null,
            "align_self": null,
            "border": null,
            "bottom": null,
            "display": null,
            "flex": null,
            "flex_flow": null,
            "grid_area": null,
            "grid_auto_columns": null,
            "grid_auto_flow": null,
            "grid_auto_rows": null,
            "grid_column": null,
            "grid_gap": null,
            "grid_row": null,
            "grid_template_areas": null,
            "grid_template_columns": null,
            "grid_template_rows": null,
            "height": null,
            "justify_content": null,
            "justify_items": null,
            "left": null,
            "margin": null,
            "max_height": null,
            "max_width": null,
            "min_height": null,
            "min_width": null,
            "object_fit": null,
            "object_position": null,
            "order": null,
            "overflow": null,
            "overflow_x": null,
            "overflow_y": null,
            "padding": null,
            "right": null,
            "top": null,
            "visibility": null,
            "width": null
          }
        },
        "dba63b5e0b3844c4b401e643ee561592": {
          "model_module": "@jupyter-widgets/controls",
          "model_name": "DescriptionStyleModel",
          "model_module_version": "1.5.0",
          "state": {
            "_model_module": "@jupyter-widgets/controls",
            "_model_module_version": "1.5.0",
            "_model_name": "DescriptionStyleModel",
            "_view_count": null,
            "_view_module": "@jupyter-widgets/base",
            "_view_module_version": "1.2.0",
            "_view_name": "StyleView",
            "description_width": ""
          }
        }
      }
    }
  },
  "cells": [
    {
      "cell_type": "markdown",
      "source": [
        "<a href=\"https://colab.research.google.com/github/institutohumai/cursos-python/blob/master/DeepLearning/3_Redes_Multicapa/ejercicios/ejercicios_solucion.ipynb\" target=\"_parent\"><img src=\"https://colab.research.google.com/assets/colab-badge.svg\" alt=\"Open in Colab\"/></a>"
      ],
      "metadata": {
        "id": "Oti6unhf5jWQ"
      }
    },
    {
      "cell_type": "markdown",
      "source": [
        "# Ejercicios Clase 3"
      ],
      "metadata": {
        "id": "HIfRkWPFFAoh"
      }
    },
    {
      "cell_type": "markdown",
      "source": [
        "En este notebook vamos a usar MLPs para generar un modelo clasificador sobre FashionMNIST así que muchas de las funciones que usamos en los ejercicios de la clase 2 te serán muy útiles."
      ],
      "metadata": {
        "id": "XrjQc1jFzKax"
      }
    },
    {
      "cell_type": "code",
      "source": [
        "## Funciones útiles de la clase 2\n",
        "\n",
        "import torchvision\n",
        "from IPython import display\n",
        "from torchvision import transforms\n",
        "from torch.utils import data\n",
        "\n",
        "def load_data_fashion_mnist(batch_size, resize=None):\n",
        "    trans = [transforms.ToTensor()]\n",
        "    if resize:\n",
        "        trans.insert(0, transforms.Resize(resize))\n",
        "    trans = transforms.Compose(trans)\n",
        "    mnist_train = torchvision.datasets.FashionMNIST(\n",
        "        root=\"../data\", train=True, transform=trans, download=True)\n",
        "    mnist_test = torchvision.datasets.FashionMNIST(\n",
        "        root=\"../data\", train=False, transform=trans, download=True)\n",
        "    return (data.DataLoader(mnist_train, batch_size, shuffle=True,\n",
        "                            num_workers=1),\n",
        "            data.DataLoader(mnist_test, batch_size, shuffle=False,\n",
        "                            num_workers=1))\n",
        "\n",
        "def init_weights(m):\n",
        "  if type(m) == nn.Linear:\n",
        "      nn.init.normal_(m.weight, std=0.01)\n",
        "\n",
        "def accuracy(y_hat, y):\n",
        "    \"\"\"Compute the number of correct predictions.\"\"\"\n",
        "    if len(y_hat.shape) > 1 and y_hat.shape[1] > 1:\n",
        "        y_hat = y_hat.argmax(axis=1)\n",
        "    cmp = y_hat.type(y.dtype) == y\n",
        "    return float(cmp.type(y.dtype).sum())\n",
        "\n",
        "def train(net, train_iter, test_iter, loss, num_epochs, trainer):\n",
        "  for epoch in range(num_epochs):\n",
        "    L = 0.0\n",
        "    N = 0\n",
        "    Acc = 0.0\n",
        "    TestAcc = 0.0\n",
        "    TestN = 0\n",
        "    for X, y in train_iter:\n",
        "        l = loss(net(X) ,y)\n",
        "        trainer.zero_grad()\n",
        "        l.mean().backward()\n",
        "        trainer.step()\n",
        "        L += l.sum()\n",
        "        N += l.numel()\n",
        "        Acc += accuracy(net(X), y)\n",
        "    for X, y in test_iter:\n",
        "        TestN += y.numel()\n",
        "        TestAcc += accuracy(net(X), y)\n",
        "    print(f'epoch {epoch + 1}, loss {(L/N):f}\\\n",
        "          , train accuracy  {(Acc/N):f}, test accuracy {(TestAcc/TestN):f}')\n"
      ],
      "metadata": {
        "id": "LDceE_ABK3xI"
      },
      "execution_count": null,
      "outputs": []
    },
    {
      "cell_type": "markdown",
      "source": [
        "## Ejercicio 1:"
      ],
      "metadata": {
        "id": "wXptOn-CVs2n"
      }
    },
    {
      "cell_type": "markdown",
      "source": [
        "A partir de los modelos anteriores vistos en clase, generar un modelo perceptron multicapa con 2 capas ocultas de 512 y 128 neuronas respectivamente para clasificación sobre el dataset FashionMNIST"
      ],
      "metadata": {
        "id": "JVlWPVyn5PW1"
      }
    },
    {
      "cell_type": "code",
      "source": [
        "import torch\n",
        "from torch import nn\n",
        "\n",
        "INPUT = 28 * 28 # 28 por 28 pixeles\n",
        "OUTPUT = 10 # 10 clases\n",
        "# TODO\n",
        "HIDDEN1 = 512 # elija los valores a completar\n",
        "HIDDEN2 = 128 # elija los valores a completar\n",
        "\n",
        "\n",
        "net1 = nn.Sequential(nn.Flatten(),\n",
        "                    nn.Linear(INPUT, HIDDEN1),\n",
        "                    nn.ReLU(),\n",
        "                    nn.Linear(HIDDEN1, HIDDEN2),\n",
        "                    nn.ReLU(),\n",
        "                    nn.Linear(HIDDEN2, OUTPUT))\n"
      ],
      "metadata": {
        "id": "fZUhN5u7HEao"
      },
      "execution_count": null,
      "outputs": []
    },
    {
      "cell_type": "markdown",
      "source": [
        "## Ejercicio 2\n",
        "\n",
        "Entrene el modelo por 10 épocas con un tamaño de lote de 256 y un learning rate de 0.3. (Le recomendamos reutilizar las funciones modularizadas de los ejercicios de la clase 2)"
      ],
      "metadata": {
        "id": "1ntELWGPIpoB"
      }
    },
    {
      "cell_type": "code",
      "source": [
        "\n",
        "batch_size, lr, num_epochs = 256, 0.3, 10\n",
        "\n",
        "\n",
        "net1.apply(init_weights);\n",
        "\n",
        "train_iter, test_iter = load_data_fashion_mnist(batch_size)\n",
        "loss = nn.CrossEntropyLoss(reduction='none')\n",
        "trainer = torch.optim.SGD(net1.parameters(), lr=lr)\n",
        "\n",
        "train(net1, train_iter, test_iter, loss, num_epochs, trainer)"
      ],
      "metadata": {
        "colab": {
          "base_uri": "https://localhost:8080/",
          "height": 597,
          "referenced_widgets": [
            "a7495bca61214311a0841bee870c84cd",
            "93d8ad1153a7453bbb82f1e687061117",
            "5dd16a3bb9464537b08f8f1b9ca64644",
            "1f3b159ea6bb48b6943ed567fae9d741",
            "e880b9f958c145d78dcb35f839c07e16",
            "4eb05adfe37b4186b5c9410dd2185060",
            "c075e58be9b442a0b2b515fbaefee6e5",
            "e8bbbcbcaee84bee81a0b758031aceef",
            "3272c104421d46c080919146b3ae62d3",
            "bbe81cf0dfbe4bb5966078b810e863b4",
            "4d33856a9aca4aea87415903d07e1342",
            "2f0f5d015146454f8a60dc033b5175b3",
            "9b8e904fae5d4523be0dd82812373218",
            "ebda30c67c85411aaed67b6ecc418b19",
            "1ba62d94915346d7abfd5e3be5b156bd",
            "09b4e06e51044b9390ce3461ad14a7cc",
            "6489ba5b30044137982ed1517b933e34",
            "830b93c114da4a5e81be189b497b0793",
            "a3e216edf7974e99822de235b88f2239",
            "22f454e16c5343b6b306e2dbec78c239",
            "2eb88682bdaf46debc932bf7ca5f213d",
            "32c570a5d5dd4b968ecf56cce3141316",
            "70e7a6f7fa4e43ddb8d99d6e7d972525",
            "9c93b235c08f4c9ab985e8f1279d1eba",
            "01499cfe182549aaaeb1a6082146a648",
            "3d2cdc908ef54de0a0d30e72fafc32f9",
            "48b4569a12f749edaabd652521cf9ba5",
            "890418a691ce45418b7eecff66e57392",
            "6d6de786f3f947c7b4acaa6c169ecc28",
            "31765222f73242fe95c0271c6d1317b1",
            "423cbe42ba3c40d898a15c1207830568",
            "55c564973d39467e818bccfc70b94174",
            "07ccfeed79bb4fd1bde8af5e95c43cc4",
            "42a86c3a5b614c0c91aa49dd07d5463c",
            "081481590b8e42cfb3c4467d11d124e6",
            "8d0a0248b810445aadd3af1abe37953a",
            "a68330eca5c24ac8a622bec336c30e82",
            "cdb1fabb2e184279b5728d538cfabcec",
            "714eb773dbf646ceac370b99b8af0402",
            "a7198b4ece5d4efbbc72895ab130d15d",
            "e57f7ae1e52c4a539d7299c462f6d491",
            "bb847191dee840b4976ddc9f8877fd07",
            "0ecc15a7fe734863b9b2490dea292e74",
            "dba63b5e0b3844c4b401e643ee561592"
          ]
        },
        "outputId": "5511c343-1aca-4728-cbc1-3a2be1b75c6b",
        "id": "KIIQUloXX-PA"
      },
      "execution_count": null,
      "outputs": [
        {
          "output_type": "stream",
          "name": "stdout",
          "text": [
            "Downloading http://fashion-mnist.s3-website.eu-central-1.amazonaws.com/train-images-idx3-ubyte.gz\n",
            "Downloading http://fashion-mnist.s3-website.eu-central-1.amazonaws.com/train-images-idx3-ubyte.gz to ../data/FashionMNIST/raw/train-images-idx3-ubyte.gz\n"
          ]
        },
        {
          "output_type": "display_data",
          "data": {
            "text/plain": [
              "  0%|          | 0/26421880 [00:00<?, ?it/s]"
            ],
            "application/vnd.jupyter.widget-view+json": {
              "version_major": 2,
              "version_minor": 0,
              "model_id": "a7495bca61214311a0841bee870c84cd"
            }
          },
          "metadata": {}
        },
        {
          "output_type": "stream",
          "name": "stdout",
          "text": [
            "Extracting ../data/FashionMNIST/raw/train-images-idx3-ubyte.gz to ../data/FashionMNIST/raw\n",
            "\n",
            "Downloading http://fashion-mnist.s3-website.eu-central-1.amazonaws.com/train-labels-idx1-ubyte.gz\n",
            "Downloading http://fashion-mnist.s3-website.eu-central-1.amazonaws.com/train-labels-idx1-ubyte.gz to ../data/FashionMNIST/raw/train-labels-idx1-ubyte.gz\n"
          ]
        },
        {
          "output_type": "display_data",
          "data": {
            "text/plain": [
              "  0%|          | 0/29515 [00:00<?, ?it/s]"
            ],
            "application/vnd.jupyter.widget-view+json": {
              "version_major": 2,
              "version_minor": 0,
              "model_id": "2f0f5d015146454f8a60dc033b5175b3"
            }
          },
          "metadata": {}
        },
        {
          "output_type": "stream",
          "name": "stdout",
          "text": [
            "Extracting ../data/FashionMNIST/raw/train-labels-idx1-ubyte.gz to ../data/FashionMNIST/raw\n",
            "\n",
            "Downloading http://fashion-mnist.s3-website.eu-central-1.amazonaws.com/t10k-images-idx3-ubyte.gz\n",
            "Downloading http://fashion-mnist.s3-website.eu-central-1.amazonaws.com/t10k-images-idx3-ubyte.gz to ../data/FashionMNIST/raw/t10k-images-idx3-ubyte.gz\n"
          ]
        },
        {
          "output_type": "display_data",
          "data": {
            "text/plain": [
              "  0%|          | 0/4422102 [00:00<?, ?it/s]"
            ],
            "application/vnd.jupyter.widget-view+json": {
              "version_major": 2,
              "version_minor": 0,
              "model_id": "70e7a6f7fa4e43ddb8d99d6e7d972525"
            }
          },
          "metadata": {}
        },
        {
          "output_type": "stream",
          "name": "stdout",
          "text": [
            "Extracting ../data/FashionMNIST/raw/t10k-images-idx3-ubyte.gz to ../data/FashionMNIST/raw\n",
            "\n",
            "Downloading http://fashion-mnist.s3-website.eu-central-1.amazonaws.com/t10k-labels-idx1-ubyte.gz\n",
            "Downloading http://fashion-mnist.s3-website.eu-central-1.amazonaws.com/t10k-labels-idx1-ubyte.gz to ../data/FashionMNIST/raw/t10k-labels-idx1-ubyte.gz\n"
          ]
        },
        {
          "output_type": "display_data",
          "data": {
            "text/plain": [
              "  0%|          | 0/5148 [00:00<?, ?it/s]"
            ],
            "application/vnd.jupyter.widget-view+json": {
              "version_major": 2,
              "version_minor": 0,
              "model_id": "42a86c3a5b614c0c91aa49dd07d5463c"
            }
          },
          "metadata": {}
        },
        {
          "output_type": "stream",
          "name": "stdout",
          "text": [
            "Extracting ../data/FashionMNIST/raw/t10k-labels-idx1-ubyte.gz to ../data/FashionMNIST/raw\n",
            "\n",
            "epoch 1, loss 1.182099          , train accuracy  0.557933, test accuracy 0.755900\n",
            "epoch 2, loss 0.569742          , train accuracy  0.806083, test accuracy 0.795500\n",
            "epoch 3, loss 0.470278          , train accuracy  0.847350, test accuracy 0.835100\n",
            "epoch 4, loss 0.418085          , train accuracy  0.866733, test accuracy 0.812600\n",
            "epoch 5, loss 0.392901          , train accuracy  0.877317, test accuracy 0.833100\n",
            "epoch 6, loss 0.366398          , train accuracy  0.886917, test accuracy 0.846700\n",
            "epoch 7, loss 0.349786          , train accuracy  0.892983, test accuracy 0.855600\n",
            "epoch 8, loss 0.335449          , train accuracy  0.900133, test accuracy 0.856100\n",
            "epoch 9, loss 0.321487          , train accuracy  0.905550, test accuracy 0.867600\n",
            "epoch 10, loss 0.311042          , train accuracy  0.908083, test accuracy 0.843700\n"
          ]
        }
      ]
    },
    {
      "cell_type": "markdown",
      "source": [
        "## Ejercicio 3 :"
      ],
      "metadata": {
        "id": "iH0Tag93XCct"
      }
    },
    {
      "cell_type": "markdown",
      "source": [
        "A partir del modelo anterior, analice que ocurre si en lugar de entrenar 10 épocas, entrena 20"
      ],
      "metadata": {
        "id": "oJOmdokbXCcu"
      }
    },
    {
      "cell_type": "code",
      "source": [
        "batch_size, lr, num_epochs = 256, 0.3, 20\n",
        "\n",
        "net1.apply(init_weights);\n",
        "\n",
        "train(net1, train_iter, test_iter, loss, num_epochs, trainer)"
      ],
      "metadata": {
        "id": "1eOc5tisYNHZ",
        "colab": {
          "base_uri": "https://localhost:8080/"
        },
        "outputId": "38f530d2-2d03-4526-e713-df12080edf06"
      },
      "execution_count": null,
      "outputs": [
        {
          "output_type": "stream",
          "name": "stdout",
          "text": [
            "epoch 1, loss 1.111413          , train accuracy  0.593433, test accuracy 0.712900\n",
            "epoch 2, loss 0.554315          , train accuracy  0.811817, test accuracy 0.817100\n",
            "epoch 3, loss 0.461862          , train accuracy  0.849050, test accuracy 0.823400\n",
            "epoch 4, loss 0.413027          , train accuracy  0.868583, test accuracy 0.795700\n",
            "epoch 5, loss 0.387351          , train accuracy  0.878333, test accuracy 0.836300\n",
            "epoch 6, loss 0.359771          , train accuracy  0.887517, test accuracy 0.821400\n",
            "epoch 7, loss 0.346642          , train accuracy  0.894800, test accuracy 0.861700\n",
            "epoch 8, loss 0.329839          , train accuracy  0.900483, test accuracy 0.854300\n",
            "epoch 9, loss 0.321700          , train accuracy  0.904383, test accuracy 0.852000\n",
            "epoch 10, loss 0.305733          , train accuracy  0.909633, test accuracy 0.870500\n",
            "epoch 11, loss 0.297583          , train accuracy  0.913667, test accuracy 0.853100\n",
            "epoch 12, loss 0.284602          , train accuracy  0.919017, test accuracy 0.865600\n",
            "epoch 13, loss 0.280659          , train accuracy  0.920367, test accuracy 0.869000\n",
            "epoch 14, loss 0.278567          , train accuracy  0.921733, test accuracy 0.870500\n",
            "epoch 15, loss 0.262729          , train accuracy  0.927450, test accuracy 0.862800\n",
            "epoch 16, loss 0.257480          , train accuracy  0.929117, test accuracy 0.868200\n",
            "epoch 17, loss 0.251289          , train accuracy  0.933083, test accuracy 0.835300\n",
            "epoch 18, loss 0.245576          , train accuracy  0.935133, test accuracy 0.879700\n",
            "epoch 19, loss 0.238270          , train accuracy  0.937417, test accuracy 0.875100\n",
            "epoch 20, loss 0.234072          , train accuracy  0.940667, test accuracy 0.863400\n"
          ]
        }
      ]
    },
    {
      "cell_type": "markdown",
      "source": [
        "## Ejercicio 4"
      ],
      "metadata": {
        "id": "ptvfEmUIcf0-"
      }
    },
    {
      "cell_type": "markdown",
      "source": [
        "Aumente el learning rate a 1 y entrene nuevamente. ¿Cómo puede explicar lo que pasó?"
      ],
      "metadata": {
        "id": "eL8cyma5ciJa"
      }
    },
    {
      "cell_type": "code",
      "source": [
        "batch_size, lr, num_epochs = 256, 1, 10\n",
        "\n",
        "net1.apply(init_weights);\n",
        "trainer = torch.optim.SGD(net1.parameters(), lr=lr)\n",
        "\n",
        "train(net1, train_iter, test_iter, loss, num_epochs, trainer)"
      ],
      "metadata": {
        "colab": {
          "base_uri": "https://localhost:8080/"
        },
        "id": "gMEUXxHac3Ny",
        "outputId": "e04e2d4b-3f83-4c71-e664-cb15d71343f1"
      },
      "execution_count": null,
      "outputs": [
        {
          "output_type": "stream",
          "name": "stdout",
          "text": [
            "epoch 1, loss 2.182756          , train accuracy  0.234600, test accuracy 0.219600\n",
            "epoch 2, loss 2.007764          , train accuracy  0.210467, test accuracy 0.100100\n",
            "epoch 3, loss 2.303420          , train accuracy  0.112717, test accuracy 0.100100\n",
            "epoch 4, loss 2.303282          , train accuracy  0.114383, test accuracy 0.100300\n",
            "epoch 5, loss 2.302786          , train accuracy  0.115167, test accuracy 0.119000\n",
            "epoch 6, loss 2.107055          , train accuracy  0.204567, test accuracy 0.195000\n",
            "epoch 7, loss 1.735971          , train accuracy  0.253517, test accuracy 0.245200\n",
            "epoch 8, loss 1.686117          , train accuracy  0.255433, test accuracy 0.205200\n",
            "epoch 9, loss 7.856735          , train accuracy  0.231100, test accuracy 0.227700\n",
            "epoch 10, loss 1.702922          , train accuracy  0.244950, test accuracy 0.206900\n"
          ]
        }
      ]
    },
    {
      "cell_type": "markdown",
      "source": [
        "## Ejercicio 5:"
      ],
      "metadata": {
        "id": "UpPB6eo7YcUy"
      }
    },
    {
      "cell_type": "markdown",
      "source": [
        "Analize el efecto de cambiar las funciones de activación en el accurracy"
      ],
      "metadata": {
        "id": "Tf0axPgXYcU0"
      }
    },
    {
      "cell_type": "code",
      "source": [
        "\n",
        "INPUT = 28 * 28\n",
        "OUTPUT = 10\n",
        "HIDDEN1 = 512\n",
        "HIDDEN2 = 128\n",
        "\n",
        "\n",
        "net2 = nn.Sequential(nn.Flatten(),\n",
        "                    nn.Linear(INPUT, HIDDEN1),\n",
        "                    nn.Sigmoid(),\n",
        "                    nn.Linear(HIDDEN1, HIDDEN2),\n",
        "                    nn.Sigmoid(),\n",
        "                    nn.Linear(HIDDEN2, OUTPUT))\n",
        "batch_size, lr, num_epochs = 256, 0.3, 10\n",
        "\n",
        "net2.apply(init_weights);\n",
        "\n",
        "train_iter, test_iter = load_data_fashion_mnist(batch_size)\n",
        "loss = nn.CrossEntropyLoss(reduction='none')\n",
        "trainer2 = torch.optim.SGD(net2.parameters(), lr=lr)\n",
        "train(net2, train_iter, test_iter, loss, num_epochs, trainer2)"
      ],
      "metadata": {
        "colab": {
          "base_uri": "https://localhost:8080/"
        },
        "outputId": "4ddeb811-8170-4e0e-96be-cf61307980b7",
        "id": "1aVS2IaOYcU2"
      },
      "execution_count": null,
      "outputs": [
        {
          "output_type": "stream",
          "name": "stdout",
          "text": [
            "epoch 1, loss 2.309904          , train accuracy  0.130783, test accuracy 0.100000\n",
            "epoch 2, loss 1.932206          , train accuracy  0.284817, test accuracy 0.430000\n",
            "epoch 3, loss 1.108402          , train accuracy  0.601600, test accuracy 0.627100\n",
            "epoch 4, loss 0.888719          , train accuracy  0.666650, test accuracy 0.666100\n",
            "epoch 5, loss 0.809186          , train accuracy  0.700783, test accuracy 0.696800\n",
            "epoch 6, loss 0.735249          , train accuracy  0.737200, test accuracy 0.740300\n",
            "epoch 7, loss 0.667225          , train accuracy  0.765350, test accuracy 0.755500\n",
            "epoch 8, loss 0.624143          , train accuracy  0.781600, test accuracy 0.753600\n",
            "epoch 9, loss 0.589545          , train accuracy  0.795233, test accuracy 0.768800\n",
            "epoch 10, loss 0.563377          , train accuracy  0.806133, test accuracy 0.794200\n"
          ]
        }
      ]
    },
    {
      "cell_type": "markdown",
      "source": [
        "## Ejercicio 6:"
      ],
      "metadata": {
        "id": "rMzoVF_5bARh"
      }
    },
    {
      "cell_type": "markdown",
      "source": [
        "Ahora genere un tercer modelo en donde ambas capas tengan 1024 neuronas."
      ],
      "metadata": {
        "id": "qj9XuB7LbARi"
      }
    },
    {
      "cell_type": "code",
      "source": [
        "# solucion\n",
        "\n",
        "INPUT = 28 * 28\n",
        "OUTPUT = 10\n",
        "HIDDEN1 = 1024\n",
        "HIDDEN2 = 1024\n",
        "batch_size, lr, num_epochs = 256, 0.3, 20\n",
        "\n",
        "net3 = nn.Sequential(nn.Flatten(),\n",
        "                    nn.Linear(INPUT, HIDDEN1),\n",
        "                    nn.ReLU(),\n",
        "                    nn.Linear(HIDDEN1, HIDDEN2),\n",
        "                    nn.ReLU(),\n",
        "                    nn.Linear(HIDDEN2, OUTPUT))\n",
        "\n",
        "net3.apply(init_weights);\n",
        "\n",
        "train_iter, test_iter = load_data_fashion_mnist(batch_size)\n",
        "loss = nn.CrossEntropyLoss(reduction='none')\n",
        "trainer3 = torch.optim.SGD(net3.parameters(), lr=lr)\n",
        "train(net3, train_iter, test_iter, loss, num_epochs, trainer3)\n"
      ],
      "metadata": {
        "colab": {
          "base_uri": "https://localhost:8080/"
        },
        "id": "9sKhx7oDbARk",
        "outputId": "dea9af02-0058-481c-82c5-2f79e2a2dc2b"
      },
      "execution_count": null,
      "outputs": [
        {
          "output_type": "stream",
          "name": "stdout",
          "text": [
            "epoch 1, loss 0.936292          , train accuracy  0.667200, test accuracy 0.767800\n",
            "epoch 2, loss 0.508285          , train accuracy  0.831317, test accuracy 0.804900\n",
            "epoch 3, loss 0.437318          , train accuracy  0.858533, test accuracy 0.832000\n",
            "epoch 4, loss 0.396568          , train accuracy  0.874067, test accuracy 0.818000\n",
            "epoch 5, loss 0.373061          , train accuracy  0.883233, test accuracy 0.841700\n",
            "epoch 6, loss 0.349964          , train accuracy  0.892650, test accuracy 0.844700\n",
            "epoch 7, loss 0.332366          , train accuracy  0.900050, test accuracy 0.772300\n",
            "epoch 8, loss 0.316635          , train accuracy  0.905750, test accuracy 0.837800\n",
            "epoch 9, loss 0.308448          , train accuracy  0.909367, test accuracy 0.841200\n",
            "epoch 10, loss 0.294572          , train accuracy  0.914283, test accuracy 0.783900\n",
            "epoch 11, loss 0.373762          , train accuracy  0.892867, test accuracy 0.860000\n",
            "epoch 12, loss 0.294065          , train accuracy  0.915283, test accuracy 0.838700\n",
            "epoch 13, loss 0.282249          , train accuracy  0.920933, test accuracy 0.875900\n",
            "epoch 14, loss 0.271778          , train accuracy  0.923833, test accuracy 0.880700\n",
            "epoch 15, loss 0.263169          , train accuracy  0.926417, test accuracy 0.831300\n",
            "epoch 16, loss 0.256221          , train accuracy  0.929867, test accuracy 0.865900\n",
            "epoch 17, loss 0.246561          , train accuracy  0.933883, test accuracy 0.864500\n",
            "epoch 18, loss 0.241727          , train accuracy  0.934950, test accuracy 0.845500\n",
            "epoch 19, loss 0.234623          , train accuracy  0.937550, test accuracy 0.805700\n",
            "epoch 20, loss 0.231290          , train accuracy  0.941150, test accuracy 0.879100\n"
          ]
        }
      ]
    }
  ]
}
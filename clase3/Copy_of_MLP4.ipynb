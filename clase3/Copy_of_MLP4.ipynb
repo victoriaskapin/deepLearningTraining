{
  "cells": [
    {
      "cell_type": "markdown",
      "metadata": {
        "id": "3ldDruvP73r6"
      },
      "source": [
        "<a href=\"https://colab.research.google.com/github/institutohumai/cursos-python/blob/master/DeepLearning/3_Redes_Multicapa/2_backpropagation_autograd.ipynb\" target=\"_parent\"><img src=\"https://colab.research.google.com/assets/colab-badge.svg\" alt=\"Open in Colab\"/></a>"
      ]
    },
    {
      "cell_type": "markdown",
      "metadata": {
        "id": "AXlE9A8e7HeF"
      },
      "source": [
        "# Backpropagation y Autograd"
      ]
    },
    {
      "cell_type": "code",
      "execution_count": 1,
      "metadata": {
        "id": "BUFa4jBEBj4A"
      },
      "outputs": [],
      "source": [
        "import torch"
      ]
    },
    {
      "cell_type": "markdown",
      "metadata": {
        "id": "QZaxSTSOXO85"
      },
      "source": [
        "Autograd durante el entrenamiento\n",
        "--------------------\n",
        "\n",
        "Hemos echado un breve vistazo a cómo funciona Autograd, pero ¿cómo se ve cuando se usa para el propósito previsto? Definamos un modelo pequeño y examinemos cómo cambia después de un solo lote de entrenamiento. Primero, definimos algunas constantes, nuestro modelo y algunos sustitutos para entradas y salidas:"
      ]
    },
    {
      "cell_type": "code",
      "execution_count": 2,
      "metadata": {
        "id": "Dp8VeM0uEDXx"
      },
      "outputs": [],
      "source": [
        "BATCH_SIZE = 16\n",
        "DIM_IN = 784\n",
        "HIDDEN_SIZE = 256\n",
        "DIM_OUT = 10\n",
        "\n",
        "net = torch.nn.Sequential(torch.nn.Linear(DIM_IN, HIDDEN_SIZE),\n",
        "                    torch.nn.ReLU(),\n",
        "                    torch.nn.Linear(HIDDEN_SIZE, DIM_OUT))\n",
        "#por defecto en el caso de un modelo secuencial, se calculan los gradientes\n",
        "\n",
        "# features aleatorias\n",
        "some_input = torch.randn(BATCH_SIZE, DIM_IN, requires_grad=False)\n",
        "# etiquetas aleatorias\n",
        "ideal_output = torch.randn(BATCH_SIZE, DIM_OUT, requires_grad=False)\n",
        "\n",
        "model = net"
      ]
    },
    {
      "cell_type": "markdown",
      "metadata": {
        "id": "3Iq_1R_DQTQn"
      },
      "source": [
        "Fijemos nos que no hizo falta agregar\n",
        "``requires_grad=True`` a las capas de modelo esto es por que la clase ``torch.nn.Module`` supone que siempre usaremos el gradiente para entrenar el modelo\n",
        "\n",
        "Sin embargo, al momento de inicial los valores del modelo, el gradiente no se calcula, hasta que lo pidamos.\n",
        "\n"
      ]
    },
    {
      "cell_type": "code",
      "execution_count": 3,
      "metadata": {
        "colab": {
          "base_uri": "https://localhost:8080/"
        },
        "id": "Ck18sjWnQTQo",
        "outputId": "fd452bfc-cfc3-4671-d072-0c3d9dce7c3f"
      },
      "outputs": [
        {
          "name": "stdout",
          "output_type": "stream",
          "text": [
            "tensor([-0.0422, -0.0268,  0.0251,  0.0417, -0.0115,  0.0034, -0.0393, -0.0317,\n",
            "        -0.0144,  0.0118], grad_fn=<SliceBackward0>)\n",
            "None\n"
          ]
        }
      ],
      "source": [
        "print(model[2].weight[0][0:10]) # solo algunos son mostrados\n",
        "print(model[2].weight.grad)"
      ]
    },
    {
      "cell_type": "markdown",
      "metadata": {
        "id": "FczXgOYkQTQo"
      },
      "source": [
        "Veamos que ocurre ahora si entrenamos.\n",
        "\n",
        "Consideremos como función de perdida la distancia cuadrática media entre nuestra ``prediction`` y las etiquetas, ``ideal_output``\n",
        "\n",
        "En este caso usaremos SGD como algoritmos de optimización.\n",
        "\n",
        "\n"
      ]
    },
    {
      "cell_type": "code",
      "execution_count": 4,
      "metadata": {
        "colab": {
          "base_uri": "https://localhost:8080/"
        },
        "id": "ISiSS0cnQTQr",
        "outputId": "7da6fe59-5eb9-44fb-f892-5c28908c0a29"
      },
      "outputs": [
        {
          "name": "stdout",
          "output_type": "stream",
          "text": [
            "tensor(143.2557, grad_fn=<SumBackward0>)\n"
          ]
        }
      ],
      "source": [
        "optimizer = torch.optim.SGD(model.parameters(), lr=0.001)\n",
        "\n",
        "prediction = model(some_input)\n",
        "\n",
        "loss = (ideal_output - prediction).pow(2).sum()\n",
        "print(loss)"
      ]
    },
    {
      "cell_type": "markdown",
      "metadata": {
        "id": "W0-dRCmmQTQs"
      },
      "source": [
        "Hasta que no llamemos  ``loss.backward()`` los gradientes no se calculan.\n",
        "\n",
        "\n"
      ]
    },
    {
      "cell_type": "code",
      "execution_count": 5,
      "metadata": {
        "colab": {
          "base_uri": "https://localhost:8080/"
        },
        "id": "VIswtgKuHXgs",
        "outputId": "5ea5fbec-50ea-4990-b3a8-cd593af4ec09"
      },
      "outputs": [
        {
          "name": "stdout",
          "output_type": "stream",
          "text": [
            "tensor([-0.0422, -0.0268,  0.0251,  0.0417, -0.0115,  0.0034, -0.0393, -0.0317,\n",
            "        -0.0144,  0.0118], grad_fn=<SliceBackward0>)\n",
            "None\n"
          ]
        }
      ],
      "source": [
        "print(model[2].weight[0][0:10]) # solo algunos son mostrados\n",
        "print(model[2].weight.grad)"
      ]
    },
    {
      "cell_type": "code",
      "execution_count": 6,
      "metadata": {
        "colab": {
          "base_uri": "https://localhost:8080/"
        },
        "id": "1RIppPw_QTQs",
        "outputId": "31928184-b3f3-4bbd-a036-a7de8710a677"
      },
      "outputs": [
        {
          "name": "stdout",
          "output_type": "stream",
          "text": [
            "tensor([-0.0422, -0.0268,  0.0251,  0.0417, -0.0115,  0.0034, -0.0393, -0.0317,\n",
            "        -0.0144,  0.0118], grad_fn=<SliceBackward0>)\n",
            "tensor([ 1.2026,  5.2959, -1.2644, -2.0956, -1.4005,  1.3287,  2.6351,  4.1413,\n",
            "         0.6922, -4.4739])\n"
          ]
        }
      ],
      "source": [
        "loss.backward()\n",
        "print(model[2].weight[0][0:10])\n",
        "print(model[2].weight.grad[0][0:10])"
      ]
    },
    {
      "cell_type": "markdown",
      "metadata": {
        "id": "4vR5GYY1QTQs"
      },
      "source": [
        "Por ahora solo hemos calculados los gradientes, pero no los hemos usada para actualizar los pesos. Esto es porque debemos ejecutar ``optimizer.step()``\n",
        "\n",
        "\n"
      ]
    },
    {
      "cell_type": "code",
      "execution_count": 7,
      "metadata": {
        "colab": {
          "base_uri": "https://localhost:8080/"
        },
        "id": "okTVR8gyHzzz",
        "outputId": "6ee3e2b6-e0fd-4bae-f188-111c4c0ef295"
      },
      "outputs": [
        {
          "name": "stdout",
          "output_type": "stream",
          "text": [
            "tensor([-0.0422, -0.0268,  0.0251,  0.0417, -0.0115,  0.0034, -0.0393, -0.0317,\n",
            "        -0.0144,  0.0118], grad_fn=<SliceBackward0>)\n",
            "tensor([ 1.2026,  5.2959, -1.2644, -2.0956, -1.4005,  1.3287,  2.6351,  4.1413,\n",
            "         0.6922, -4.4739])\n"
          ]
        }
      ],
      "source": [
        "print(model[2].weight[0][0:10]) # solo algunos son mostrados\n",
        "print(model[2].weight.grad[0][0:10])"
      ]
    },
    {
      "cell_type": "code",
      "execution_count": 8,
      "metadata": {
        "colab": {
          "base_uri": "https://localhost:8080/"
        },
        "id": "_fdjOapqQTQt",
        "outputId": "f947526a-d164-4035-b8f2-936b193e4599"
      },
      "outputs": [
        {
          "name": "stdout",
          "output_type": "stream",
          "text": [
            "tensor([-0.0434, -0.0321,  0.0264,  0.0438, -0.0101,  0.0021, -0.0419, -0.0359,\n",
            "        -0.0151,  0.0163], grad_fn=<SliceBackward0>)\n",
            "tensor([ 1.2026,  5.2959, -1.2644, -2.0956, -1.4005,  1.3287,  2.6351,  4.1413,\n",
            "         0.6922, -4.4739])\n"
          ]
        }
      ],
      "source": [
        "optimizer.step()\n",
        "print(model[2].weight[0][0:10])\n",
        "print(model[2].weight.grad[0][0:10])"
      ]
    },
    {
      "cell_type": "markdown",
      "metadata": {
        "id": "Squyv_l8QTQt"
      },
      "source": [
        "Vemos ahora que los valores de ``model[2]`` han cambiado\n",
        "\n",
        "Un detalle que no dedemos ignorar es que debemos llamar a la función ``optimizer.zero_grad()`` despues de llamar\n",
        "``optimizer.step()``. De no hacer esto cada vez que llamemos  ``loss.backward()`` la suma de los gradientes se acumulará.\n",
        "\n",
        "\n"
      ]
    },
    {
      "cell_type": "code",
      "execution_count": 9,
      "metadata": {
        "colab": {
          "base_uri": "https://localhost:8080/"
        },
        "id": "Z7Wcgm9OQTQv",
        "outputId": "6fc1efb3-ea34-4a11-a7ed-d21897a2d8b9"
      },
      "outputs": [
        {
          "name": "stdout",
          "output_type": "stream",
          "text": [
            "tensor([ 1.2026,  5.2959, -1.2644, -2.0956, -1.4005,  1.3287,  2.6351,  4.1413,\n",
            "         0.6922, -4.4739])\n",
            "tensor([  6.4025,  19.8908, -12.3711, -12.6375,  -4.0476,  -3.3324,   9.5262,\n",
            "         23.4708,   3.3043, -24.0810])\n",
            "tensor([0., 0., 0., 0., 0., 0., 0., 0., 0., 0.])\n"
          ]
        }
      ],
      "source": [
        "print(model[2].weight.grad[0][0:10])\n",
        "\n",
        "for i in range(0, 5):\n",
        "    prediction = model(some_input)\n",
        "    loss = (ideal_output - prediction).pow(2).sum()\n",
        "    loss.backward()\n",
        "\n",
        "print(model[2].weight.grad[0][0:10])\n",
        "\n",
        "optimizer.zero_grad()\n",
        "\n",
        "\n",
        "if model[2].weight.grad is not None:\n",
        "    print(model[2].weight.grad[0][0:10])\n",
        "else:\n",
        "  print('Model has no grad')"
      ]
    },
    {
      "cell_type": "markdown",
      "metadata": {
        "id": "Hwps1UrKQTQ-"
      },
      "source": [
        "Contenido adicional: Más información sobre Autograd\n",
        "-----------------------------------------------------------\n",
        "\n",
        "En principio, ya conocíamos la noción de gradiente. Sabíamos que para una toma vectores m-dimensionales y devuelve un único valor (un escalar), $l=g\\left(\\vec{y}\\right)$ existe el gradiente. Esto es un vector que nos dice como varía una función conforme cambian los valores del vector de entrada $\\vec{y}$\n",
        "\n",
        "\n",
        "$$v=\\left(\\begin{array}{ccc}\\frac{\\partial l}{\\partial y_{1}} & \\cdots & \\frac{\\partial l}{\\partial y_{m}}\\end{array}\\right)^{T}$$\n",
        "\n",
        "En general, si tenemos una función que toma vectores n-dimensionales como entrada y tiene como salida vectores m-dimensionales, $\\vec{y}=f(\\vec{x})$, la idea de gradiente no permite abarcar todas las posibles variaciones. En este sentido se necesita una generalización de la idea de gradiente. Esta generalización es una matriz conocida como el\n",
        "*Jacobiano:*\n",
        "\n",
        "\\begin{align}J\n",
        "     =\n",
        "     \\left(\\begin{array}{ccc}\n",
        "     \\frac{\\partial y_{1}}{\\partial x_{1}} & \\cdots & \\frac{\\partial y_{1}}{\\partial x_{n}}\\\\\n",
        "     \\vdots & \\ddots & \\vdots\\\\\n",
        "     \\frac{\\partial y_{m}}{\\partial x_{1}} & \\cdots & \\frac{\\partial y_{m}}{\\partial x_{n}}\n",
        "     \\end{array}\\right)\\end{align}\n",
        "\n",
        "Sin embargo, la función de pérdida nuestros modelos más sencillos son en realidad una combinación de las dos cosas.\n",
        "\n",
        "$$l=g\\left(\\vec{y}\\right)$$\n",
        "$$\\vec{y}=f(\\vec{x})$$\n",
        "$$l=g\\left(f(\\vec{x})\\right)$$\n",
        "\n",
        "Puede demostrarse, sin embargo, que para obtener el gradiente de $l$, respecto de $\\vec{x}$ solo debemos hacer una multiplicación matricial\n",
        "\n",
        "$$\\vec{\\nabla_x} l=J^{T}\\cdot v$$\n",
        "\n",
        "\\begin{align}J^{T}\\cdot v=\\left(\\begin{array}{ccc}\n",
        "   \\frac{\\partial y_{1}}{\\partial x_{1}} & \\cdots & \\frac{\\partial y_{m}}{\\partial x_{1}}\\\\\n",
        "   \\vdots & \\ddots & \\vdots\\\\\n",
        "   \\frac{\\partial y_{1}}{\\partial x_{n}} & \\cdots & \\frac{\\partial y_{m}}{\\partial x_{n}}\n",
        "   \\end{array}\\right)\\left(\\begin{array}{c}\n",
        "   \\frac{\\partial l}{\\partial y_{1}}\\\\\n",
        "   \\vdots\\\\\n",
        "   \\frac{\\partial l}{\\partial y_{m}}\n",
        "   \\end{array}\\right)=\\left(\\begin{array}{c}\n",
        "   \\frac{\\partial l}{\\partial x_{1}}\\\\\n",
        "   \\vdots\\\\\n",
        "   \\frac{\\partial l}{\\partial x_{n}}\n",
        "   \\end{array}\\right)\\end{align}\n",
        "\n",
        "Del mismo modo, a la salida de cada capa, tenemos un Jacobiano distinto. De tal manera que nuestro gradiente en realdiad tendra la forma:\n",
        "\n",
        "$$\\vec{\\nabla_x} l=J_{1}^{T} J_{2}^{T} J_{3}^{T} J_{4}^{T}\\cdot v$$\n",
        "\n",
        "\n",
        "**``torch.autograd`` es la herramienta que computa todas estas dependencias por medio de productos matriciales** Además de guardar la relación entre cada salida y cada entrada de cada capa\n",
        "\n",
        "\n"
      ]
    },
    {
      "cell_type": "markdown",
      "metadata": {
        "id": "R_PjgZpSsewp"
      },
      "source": [
        "Para más información consultar\n",
        "\n",
        "<https://pytorch.org/docs/stable/autograd.html#functional-higher-level-api>"
      ]
    }
  ],
  "metadata": {
    "colab": {
      "provenance": [],
      "toc_visible": true
    },
    "kernelspec": {
      "display_name": "Python 3",
      "name": "python3"
    },
    "language_info": {
      "codemirror_mode": {
        "name": "ipython",
        "version": 3
      },
      "file_extension": ".py",
      "mimetype": "text/x-python",
      "name": "python",
      "nbconvert_exporter": "python",
      "pygments_lexer": "ipython3",
      "version": "3.6.13"
    }
  },
  "nbformat": 4,
  "nbformat_minor": 0
}

{
  "cells": [
    {
      "cell_type": "markdown",
      "metadata": {
        "id": "kaxr86i2hnX-"
      },
      "source": [
        "<a href=\"https://colab.research.google.com/github/institutohumai/cursos-python/blob/master/DeepLearning/2_RedesDeUnaCapa/ejercicios/ejercicios.ipynb\" target=\"_parent\"><img src=\"https://colab.research.google.com/assets/colab-badge.svg\" alt=\"Open in Colab\"/></a>"
      ]
    },
    {
      "cell_type": "markdown",
      "metadata": {
        "id": "lgsT9jksm5LF"
      },
      "source": [
        "# Ejercicios para la clase 2\n",
        "\n"
      ]
    },
    {
      "cell_type": "markdown",
      "metadata": {
        "id": "KEwhMG1-wDZw"
      },
      "source": [
        "En este notebook vamos a retomar el ejemplo de la red neuronal entrenada para clasificar FashionMNIST. Si bien ese ejemplo tiene todos los pasos necesarios para entrenar la red, varios de esos pasos sirven para entrenar cualquier otro modelo. Así que vamos a tratar de modularizarlo de manera que el código sea reutilizable.\n",
        "\n",
        "Arranquemos importando los módulos necesarios."
      ]
    },
    {
      "cell_type": "code",
      "execution_count": 9,
      "metadata": {
        "id": "_IKoVRbjSfc6",
        "origin_pos": 2,
        "tab": [
          "pytorch"
        ]
      },
      "outputs": [],
      "source": [
        "import torch\n",
        "import torchvision\n",
        "from IPython import display\n",
        "from torchvision import transforms\n",
        "from torch.utils import data"
      ]
    },
    {
      "cell_type": "markdown",
      "metadata": {
        "id": "_ZRZy4UfRQhB"
      },
      "source": [
        "Volvemos a definir la función que crea los Datasets y devuelve los DataLoaders para poder iterar sobre ellos."
      ]
    },
    {
      "cell_type": "code",
      "execution_count": 10,
      "metadata": {
        "id": "5wo108R04-B3"
      },
      "outputs": [],
      "source": [
        "def load_data_fashion_mnist(batch_size, resize=None):\n",
        "    trans = [transforms.ToTensor()] # ToTensor convierte a tensores y normaliza\n",
        "    if resize: # Si se especifica un tamaño de imagen\n",
        "        trans.insert(0, transforms.Resize(resize))\n",
        "    trans = transforms.Compose(trans)\n",
        "    mnist_train = torchvision.datasets.FashionMNIST( # Descarga el dataset de entrenamiento\n",
        "        root=\"../data\", train=True, transform=trans, download=True)\n",
        "    mnist_test = torchvision.datasets.FashionMNIST( # Descarga el dataset de prueba\n",
        "        root=\"../data\", train=False, transform=trans, download=True)\n",
        "    return (data.DataLoader(mnist_train, batch_size, shuffle=True, # Crea los dataloaders de entrenamiento y prueba con el tamaño de batch especificado y los datos descargados\n",
        "                            num_workers=1),\n",
        "            data.DataLoader(mnist_test, batch_size, shuffle=False,\n",
        "                            num_workers=1))\n",
        "\n",
        "\n",
        "#.DataLoader es una clase que permite cargar los datos de manera eficiente en batches de tamaño especificado"
      ]
    },
    {
      "cell_type": "markdown",
      "metadata": {
        "id": "8xbesO6LRS_G"
      },
      "source": [
        "También definimos una función que devuelve la cantidad de aciertos del modelo a partir de un tensor de predicciones y otro de etiquetas."
      ]
    },
    {
      "cell_type": "code",
      "execution_count": 11,
      "metadata": {
        "id": "UrSYLgd4SfdP",
        "origin_pos": 27,
        "tab": [
          "pytorch"
        ]
      },
      "outputs": [],
      "source": [
        "#devuelve el numero de aciertos de la prediccion\n",
        "def accuracy(y_hat, y): #y_hat es la prediccion y es el valor real\n",
        "    \"\"\"Compute the number of correct predictions.\"\"\"\n",
        "    if len(y_hat.shape) > 1 and y_hat.shape[1] > 1: #si y_hat es un vector de vectores (matriz) y no un vector de numeros (vector) \n",
        "        y_hat = y_hat.argmax(axis=1) #devuelve el indice del valor mas grande de cada vector (el valor mas probable) \n",
        "    cmp = y_hat.type(y.dtype) == y #compara los valores de y_hat con los de y\n",
        "    return float(cmp.type(y.dtype).sum()) #devuelve el numero de aciertos"
      ]
    },
    {
      "cell_type": "markdown",
      "metadata": {
        "id": "aZkInvacReE4"
      },
      "source": [
        "Volvemos a definir el modelo con una capa de 10 neuronas para hacer la clasificación e inicializamos sus pesos aleatoriamente con una distribución gaussiana."
      ]
    },
    {
      "cell_type": "code",
      "execution_count": 12,
      "metadata": {
        "id": "DBFL4_UxSYQc",
        "origin_pos": 7,
        "tab": [
          "pytorch"
        ]
      },
      "outputs": [],
      "source": [
        "net = torch.nn.Sequential(torch.nn.Flatten(), torch.nn.Linear(784, 10)) # 28*28 = 784 pixels \n",
        "# net es mi modelo, el cual es una secuencia de capas.  Sequential es una clase que permite definir una secuencia de capas. cuyos parametros son \n",
        "# torch.nn.Flatten() que es una capa que aplana la imagen de 28x28 a un vector de 784 elementos\n",
        "# torch.nn.Linear(784, 10) es una capa lineal que recibe 784 elementos y devuelve 10 elementos\n",
        "\n",
        "\n",
        "def init_weights(m): # funcion que inicializa los pesos de la red neuronal con una distribucion normal de media 0 y desviacion estandar 0.01\n",
        "    if type(m) == torch.nn.Linear:\n",
        "        torch.nn.init.normal_(m.weight, std=0.01)\n",
        "\n",
        "net.apply(init_weights); # aplica la funcion init_weights a la red neuronal net para inicializar los pesos"
      ]
    },
    {
      "cell_type": "markdown",
      "metadata": {
        "id": "OKCx8gJfRiTc"
      },
      "source": [
        "Definimos la entropía cruzada como función de perdida y el descenso de gradiente estocástico como algoritmo de optimización."
      ]
    },
    {
      "cell_type": "code",
      "execution_count": 13,
      "metadata": {
        "id": "VlPHONcmSYQf",
        "origin_pos": 11,
        "tab": [
          "pytorch"
        ]
      },
      "outputs": [],
      "source": [
        "loss = torch.nn.CrossEntropyLoss(reduction='none') # declaro mi funcion de perdida con reduccion none para que no me haga el promedio de las perdidas\n",
        "trainer = torch.optim.SGD(net.parameters(), lr=0.1) # declaro mi optimizador SGD con learning rate 0.1 y le paso los parametros de mi red"
      ]
    },
    {
      "cell_type": "markdown",
      "metadata": {
        "id": "uFeFfZzK0KIO"
      },
      "source": [
        "Y por último, definimos una función que lleva adelante el entrenamiento completo."
      ]
    },
    {
      "cell_type": "markdown",
      "metadata": {
        "id": "J1rb67LYPG0o"
      },
      "source": [
        "## Ejercicio 1\n",
        "\n",
        "Implementar la función `train_epoch()` que lleva adelante el entrenamiento de una época."
      ]
    },
    {
      "cell_type": "code",
      "execution_count": 18,
      "metadata": {
        "id": "n-j-GPHgzHhx"
      },
      "outputs": [],
      "source": [
        "def train_epoch(net, train_iter, loss, updater):\n",
        "  '''\n",
        "  Lleva adelante el entrenamiento de una sola época.\n",
        "\n",
        "    Parámetros:\n",
        "            net: la red neuronal que se va a entrenar\n",
        "            train_iter: iterador de datos de entrenamiento\n",
        "            loss: función de perdida a minimizar\n",
        "            updater: algoritmo de optimización\n",
        "\n",
        "    Salida:\n",
        "            L: pérdida calculada\n",
        "            Acc: accuracy de entrenamiento calculada\n",
        "  '''\n",
        "  # inserte su código aquí\n",
        "  Accuracy = 0.0\n",
        "  L = 0.0 #inicializacion de la perdida\n",
        "  N = 0.0 #inicializacion del numero de datos\n",
        "  for X, y in train_iter:\n",
        "        l = loss(net(X) ,y) #calculo de la perdida\n",
        "        updater.zero_grad() #reinicio de los gradientes\n",
        "        l.sum().backward() #calculo de los gradientes con backpropagation\n",
        "        updater.step() #actualizacion de los pesos\n",
        "        with torch.no_grad(): \n",
        "            Accuracy += accuracy(net(X), y) #calculo del accuracy\n",
        "            L += l.sum() #calculo de la perdida\n",
        "            N += l.numel() #calculo del numero de datos\n",
        "        return L/N, Accuracy/N #retorna la perdida y el accuracy"
      ]
    },
    {
      "cell_type": "markdown",
      "metadata": {
        "id": "tUDesTD05Ern"
      },
      "source": [
        "## Ejercicio 2\n",
        "\n",
        "Implementar la función `test_accuracy()` que lleva adelante la evaluación de la performance de la red con los datos de prueba."
      ]
    },
    {
      "cell_type": "code",
      "execution_count": 15,
      "metadata": {
        "id": "M6FI7Ym-wFpS"
      },
      "outputs": [],
      "source": [
        "def test_accuracy(net, test_iter):\n",
        "  '''\n",
        "  Evalúa los resultados del entrenamiento de una sola época.\n",
        "\n",
        "    Parámetros:\n",
        "            net: la red neuronal que se va a evaluar\n",
        "            test_iter: iterador de datos de prueba\n",
        "\n",
        "    Salida:\n",
        "            - TestAcc: accuracy de prueba calculada\n",
        "  '''\n",
        "  # inserte su código aquí\n",
        "  TestAcc = 0.0\n",
        "  TestN = 0.0\n",
        "  with torch.no_grad():\n",
        "      for X, y in test_iter:\n",
        "                output = net(X)\n",
        "                print(accuracy(output, y))\n",
        "                TestAcc += accuracy(output, y)\n",
        "                TestN += 1\n",
        "  #print(TestN, TestAcc)\n",
        "  return TestAcc/TestN\n",
        "        \n",
        "\n",
        "  \n"
      ]
    },
    {
      "cell_type": "code",
      "execution_count": 19,
      "metadata": {
        "id": "JkWvYfcnyIw9"
      },
      "outputs": [],
      "source": [
        "def train(net, train_iter, test_iter, loss, num_epochs, updater):\n",
        "  '''\n",
        "  Lleva adelante el entrenamiento completo llamando a funciones internas\n",
        "  que modularizan el ciclo de entrenamiento.\n",
        "\n",
        "    Parámetros:\n",
        "            net: la red neuronal que se va a entrenar\n",
        "            train_iter: iterador de datos de entrenamiento\n",
        "            test_iter: iterador de datos de prueba\n",
        "            loss: función de perdida a minimizar\n",
        "            num_epoch: cantidad de épocas a entrenar\n",
        "            updater: algoritmo de optimización\n",
        "\n",
        "    Salida:\n",
        "            metrics: una lista de tuplas (una para cada epoch)\n",
        "              con las siguientes componentes\n",
        "              - epoch: número de época\n",
        "              - L: pérdida calculada\n",
        "              - Acc: accuracy de entrenamiento calculada\n",
        "              - TestAcc: accuracy de prueba calculada\n",
        "  '''\n",
        "  metrics =[]\n",
        "  for epoch in range(num_epochs):\n",
        "      L, Acc = train_epoch(net, train_iter, loss, updater)\n",
        "      print(\"Epoch %d, Loss: %f, Train acc %f\" % (epoch, L, Acc))\n",
        "      TestAcc = test_accuracy(net, test_iter)\n",
        "      metric = (epoch + 1, L, Acc, TestAcc)\n",
        "#      print(metric)\n",
        "      metrics.append(metric)\n",
        "  return metrics\n",
        "\n",
        "    \n"
      ]
    },
    {
      "cell_type": "markdown",
      "metadata": {
        "id": "MeLMq-kc6_EH"
      },
      "source": [
        "## Ejercicio 3\n",
        "\n",
        "Utilizar las funciones anteriores para entrenar efectivamente a la red. Entrenarla por 10 epochs y con lotes de tamaño 256."
      ]
    },
    {
      "cell_type": "code",
      "execution_count": 20,
      "metadata": {
        "id": "5tD0w1U0R6xO"
      },
      "outputs": [
        {
          "name": "stdout",
          "output_type": "stream",
          "text": [
            "Epoch 0, Loss: 50.648369, Train acc 0.140625\n",
            "30.0\n",
            "38.0\n",
            "32.0\n",
            "31.0\n",
            "41.0\n",
            "32.0\n",
            "27.0\n",
            "24.0\n",
            "30.0\n",
            "31.0\n",
            "40.0\n",
            "21.0\n",
            "32.0\n",
            "19.0\n",
            "32.0\n",
            "26.0\n",
            "27.0\n",
            "40.0\n",
            "33.0\n",
            "29.0\n",
            "38.0\n",
            "31.0\n",
            "27.0\n",
            "25.0\n",
            "24.0\n",
            "28.0\n",
            "25.0\n",
            "25.0\n",
            "36.0\n",
            "29.0\n",
            "22.0\n",
            "35.0\n",
            "28.0\n",
            "32.0\n",
            "31.0\n",
            "27.0\n",
            "28.0\n",
            "28.0\n",
            "27.0\n",
            "1.0\n",
            "Epoch 1, Loss: 386.003418, Train acc 0.210938\n",
            "59.0\n",
            "57.0\n",
            "50.0\n",
            "44.0\n",
            "49.0\n",
            "49.0\n",
            "52.0\n",
            "54.0\n",
            "43.0\n",
            "51.0\n",
            "49.0\n",
            "62.0\n",
            "52.0\n",
            "60.0\n",
            "53.0\n",
            "49.0\n",
            "69.0\n",
            "45.0\n",
            "54.0\n",
            "47.0\n",
            "38.0\n",
            "47.0\n",
            "52.0\n",
            "45.0\n",
            "51.0\n",
            "61.0\n",
            "44.0\n",
            "47.0\n",
            "53.0\n",
            "45.0\n",
            "37.0\n",
            "46.0\n",
            "43.0\n",
            "53.0\n",
            "35.0\n",
            "50.0\n",
            "51.0\n",
            "55.0\n",
            "49.0\n",
            "4.0\n",
            "Epoch 2, Loss: 561.092102, Train acc 0.355469\n",
            "89.0\n",
            "75.0\n",
            "74.0\n",
            "83.0\n",
            "71.0\n",
            "73.0\n",
            "72.0\n",
            "86.0\n",
            "87.0\n",
            "79.0\n",
            "86.0\n",
            "76.0\n",
            "78.0\n",
            "83.0\n",
            "80.0\n",
            "85.0\n",
            "69.0\n",
            "87.0\n",
            "73.0\n",
            "80.0\n",
            "83.0\n",
            "81.0\n",
            "74.0\n",
            "85.0\n",
            "72.0\n",
            "75.0\n",
            "84.0\n",
            "87.0\n",
            "64.0\n",
            "76.0\n",
            "83.0\n",
            "77.0\n",
            "83.0\n",
            "91.0\n",
            "98.0\n",
            "82.0\n",
            "81.0\n",
            "76.0\n",
            "76.0\n",
            "6.0\n",
            "Epoch 3, Loss: 613.135742, Train acc 0.324219\n",
            "82.0\n",
            "60.0\n",
            "67.0\n",
            "75.0\n",
            "57.0\n",
            "77.0\n",
            "66.0\n",
            "80.0\n",
            "80.0\n",
            "74.0\n",
            "65.0\n",
            "63.0\n",
            "62.0\n",
            "71.0\n",
            "69.0\n",
            "75.0\n",
            "56.0\n",
            "84.0\n",
            "62.0\n",
            "68.0\n",
            "66.0\n",
            "82.0\n",
            "73.0\n",
            "89.0\n",
            "80.0\n",
            "67.0\n",
            "75.0\n",
            "81.0\n",
            "63.0\n",
            "74.0\n",
            "74.0\n",
            "68.0\n",
            "77.0\n",
            "76.0\n",
            "85.0\n",
            "71.0\n",
            "74.0\n",
            "79.0\n",
            "67.0\n",
            "6.0\n",
            "Epoch 4, Loss: 572.322205, Train acc 0.339844\n",
            "72.0\n",
            "71.0\n",
            "74.0\n",
            "80.0\n",
            "64.0\n",
            "78.0\n",
            "86.0\n",
            "83.0\n",
            "79.0\n",
            "77.0\n",
            "83.0\n",
            "77.0\n",
            "82.0\n",
            "93.0\n",
            "81.0\n",
            "77.0\n",
            "79.0\n",
            "77.0\n",
            "83.0\n",
            "72.0\n",
            "85.0\n",
            "69.0\n",
            "87.0\n",
            "66.0\n",
            "68.0\n",
            "76.0\n",
            "88.0\n",
            "65.0\n",
            "80.0\n",
            "84.0\n",
            "88.0\n",
            "72.0\n",
            "72.0\n",
            "86.0\n",
            "84.0\n",
            "67.0\n",
            "83.0\n",
            "76.0\n",
            "84.0\n",
            "4.0\n",
            "Epoch 5, Loss: 604.745422, Train acc 0.171875\n",
            "43.0\n",
            "43.0\n",
            "51.0\n",
            "45.0\n",
            "58.0\n",
            "53.0\n",
            "50.0\n",
            "36.0\n",
            "47.0\n",
            "51.0\n",
            "41.0\n",
            "46.0\n",
            "49.0\n",
            "47.0\n",
            "46.0\n",
            "49.0\n",
            "52.0\n",
            "45.0\n",
            "50.0\n",
            "50.0\n",
            "48.0\n",
            "52.0\n",
            "55.0\n",
            "54.0\n",
            "55.0\n",
            "53.0\n",
            "43.0\n",
            "49.0\n",
            "51.0\n",
            "44.0\n",
            "51.0\n",
            "52.0\n",
            "52.0\n",
            "39.0\n",
            "37.0\n",
            "54.0\n",
            "57.0\n",
            "48.0\n",
            "48.0\n",
            "3.0\n",
            "Epoch 6, Loss: 612.764160, Train acc 0.343750\n",
            "72.0\n",
            "78.0\n",
            "66.0\n",
            "75.0\n",
            "69.0\n",
            "61.0\n",
            "78.0\n",
            "73.0\n",
            "84.0\n",
            "62.0\n",
            "66.0\n",
            "66.0\n",
            "78.0\n",
            "79.0\n",
            "72.0\n",
            "64.0\n",
            "69.0\n",
            "72.0\n",
            "69.0\n",
            "71.0\n",
            "63.0\n",
            "72.0\n",
            "70.0\n",
            "74.0\n",
            "69.0\n",
            "64.0\n",
            "75.0\n",
            "83.0\n",
            "71.0\n",
            "79.0\n",
            "76.0\n",
            "70.0\n",
            "75.0\n",
            "73.0\n",
            "84.0\n",
            "69.0\n",
            "64.0\n",
            "77.0\n",
            "61.0\n",
            "3.0\n",
            "Epoch 7, Loss: 345.446777, Train acc 0.460938\n",
            "126.0\n",
            "140.0\n",
            "121.0\n",
            "122.0\n",
            "112.0\n",
            "131.0\n",
            "136.0\n",
            "126.0\n",
            "127.0\n",
            "125.0\n",
            "127.0\n",
            "127.0\n",
            "124.0\n",
            "135.0\n",
            "120.0\n",
            "109.0\n",
            "142.0\n",
            "124.0\n",
            "128.0\n",
            "120.0\n",
            "129.0\n",
            "107.0\n",
            "122.0\n",
            "108.0\n",
            "115.0\n",
            "122.0\n",
            "134.0\n",
            "113.0\n",
            "125.0\n",
            "127.0\n",
            "130.0\n",
            "117.0\n",
            "118.0\n",
            "139.0\n",
            "125.0\n",
            "111.0\n",
            "125.0\n",
            "119.0\n",
            "120.0\n",
            "7.0\n",
            "Epoch 8, Loss: 213.245789, Train acc 0.468750\n",
            "109.0\n",
            "108.0\n",
            "110.0\n",
            "112.0\n",
            "111.0\n",
            "115.0\n",
            "91.0\n",
            "104.0\n",
            "102.0\n",
            "114.0\n",
            "110.0\n",
            "91.0\n",
            "101.0\n",
            "96.0\n",
            "99.0\n",
            "110.0\n",
            "103.0\n",
            "110.0\n",
            "100.0\n",
            "103.0\n",
            "117.0\n",
            "99.0\n",
            "94.0\n",
            "112.0\n",
            "97.0\n",
            "104.0\n",
            "97.0\n",
            "101.0\n",
            "107.0\n",
            "102.0\n",
            "101.0\n",
            "112.0\n",
            "113.0\n",
            "111.0\n",
            "98.0\n",
            "98.0\n",
            "101.0\n",
            "105.0\n",
            "115.0\n",
            "9.0\n",
            "Epoch 9, Loss: 293.787354, Train acc 0.425781\n",
            "105.0\n",
            "102.0\n",
            "97.0\n",
            "100.0\n",
            "87.0\n",
            "102.0\n",
            "98.0\n",
            "122.0\n",
            "101.0\n",
            "111.0\n",
            "110.0\n",
            "108.0\n",
            "106.0\n",
            "111.0\n",
            "101.0\n",
            "108.0\n",
            "113.0\n",
            "107.0\n",
            "100.0\n",
            "95.0\n",
            "101.0\n",
            "93.0\n",
            "105.0\n",
            "98.0\n",
            "110.0\n",
            "110.0\n",
            "114.0\n",
            "98.0\n",
            "96.0\n",
            "109.0\n",
            "108.0\n",
            "96.0\n",
            "107.0\n",
            "116.0\n",
            "110.0\n",
            "97.0\n",
            "101.0\n",
            "98.0\n",
            "113.0\n",
            "8.0\n",
            "Época [1/10], Pérdida: 50.6484, Acc: 0.1406, TestAcc: 29.0500\n",
            "Época [2/10], Pérdida: 386.0034, Acc: 0.2109, TestAcc: 48.8500\n",
            "Época [3/10], Pérdida: 561.0921, Acc: 0.3555, TestAcc: 78.0000\n",
            "Época [4/10], Pérdida: 613.1357, Acc: 0.3242, TestAcc: 70.5000\n",
            "Época [5/10], Pérdida: 572.3222, Acc: 0.3398, TestAcc: 76.3000\n",
            "Época [6/10], Pérdida: 604.7454, Acc: 0.1719, TestAcc: 47.4250\n",
            "Época [7/10], Pérdida: 612.7642, Acc: 0.3438, TestAcc: 69.9000\n",
            "Época [8/10], Pérdida: 345.4468, Acc: 0.4609, TestAcc: 120.8750\n",
            "Época [9/10], Pérdida: 213.2458, Acc: 0.4688, TestAcc: 102.3000\n",
            "Época [10/10], Pérdida: 293.7874, Acc: 0.4258, TestAcc: 101.8000\n",
            "Entrenamiento completado.\n"
          ]
        }
      ],
      "source": [
        "#inserte su código aquí\n",
        "num_epochs = 10\n",
        "batch_size = 256\n",
        "train_iter, test_iter = load_data_fashion_mnist(batch_size)\n",
        "lr = 0.01\n",
        "# Entrenamiento de la red\n",
        "metrics = train(net, train_iter, test_iter, loss, num_epochs, trainer)\n",
        "\n",
        "# Imprime los resultados de cada época\n",
        "for epoch, loss, acc, test_acc in metrics:\n",
        "    print(f'Época [{epoch}/{num_epochs}], Pérdida: {loss:.4f}, Acc: {acc:.4f}, TestAcc: {test_acc:.4f}')\n",
        "\n",
        "print('Entrenamiento completado.')"
      ]
    },
    {
      "cell_type": "markdown",
      "metadata": {
        "id": "DtyCl3ZyEyjL"
      },
      "source": [
        "## Ejercicio 4\n",
        "Graficar la evolución de los valores de el accuracy de entrenamiento, el accuracy de prueba y la pérdida en función de las épocas."
      ]
    },
    {
      "cell_type": "code",
      "execution_count": 21,
      "metadata": {
        "id": "7MctBmcjbGwZ"
      },
      "outputs": [
        {
          "data": {
            "image/png": "[encoded data removed]",
            "text/plain": [
              "<Figure size 720x360 with 1 Axes>"
            ]
          },
          "metadata": {
            "needs_background": "light"
          },
          "output_type": "display_data"
        },
        {
          "data": {
            "image/png": "[encoded data removed]",
            "text/plain": [
              "<Figure size 720x360 with 1 Axes>"
            ]
          },
          "metadata": {
            "needs_background": "light"
          },
          "output_type": "display_data"
        }
      ],
      "source": [
        "#inserte su código aquí\n",
        "import matplotlib.pyplot as plt\n",
        "\n",
        "# Supongamos que ya tienes los resultados en la lista `metrics`\n",
        "# Cada elemento de la lista es una tupla (epoch, L, Acc, TestAcc)\n",
        "\n",
        "epochs = [epoch for epoch, _, _, _ in metrics]\n",
        "train_accuracy = [acc for _, _, acc, _ in metrics]\n",
        "test_accuracy = [test_acc for _, _, _, test_acc in metrics]\n",
        "loss = [loss for _, loss, _, _ in metrics]\n",
        "\n",
        "# Graficar el accuracy de entrenamiento y de prueba\n",
        "plt.figure(figsize=(10, 5))\n",
        "plt.plot(epochs, train_accuracy, label='Accuracy de entrenamiento', marker='o')\n",
        "plt.plot(epochs, test_accuracy, label='Accuracy de prueba', marker='x')\n",
        "plt.xlabel('Época')\n",
        "plt.ylabel('Accuracy')\n",
        "plt.title('Evolución del Accuracy de Entrenamiento y Prueba')\n",
        "plt.legend()\n",
        "plt.grid(True)\n",
        "plt.show()\n",
        "\n",
        "# Graficar la pérdida\n",
        "plt.figure(figsize=(10, 5))\n",
        "plt.plot(epochs, loss, label='Pérdida', marker='o', color='r')\n",
        "plt.xlabel('Época')\n",
        "plt.ylabel('Pérdida')\n",
        "plt.title('Evolución de la Pérdida')\n",
        "plt.legend()\n",
        "plt.grid(True)\n",
        "plt.show()\n"
      ]
    }
  ],
  "metadata": {
    "colab": {
      "name": "Ejercicios.ipynb",
      "provenance": []
    },
    "kernelspec": {
      "display_name": "Python 3",
      "name": "python3"
    },
    "language_info": {
      "codemirror_mode": {
        "name": "ipython",
        "version": 3
      },
      "file_extension": ".py",
      "mimetype": "text/x-python",
      "name": "python",
      "nbconvert_exporter": "python",
      "pygments_lexer": "ipython3",
      "version": "3.6.13"
    }
  },
  "nbformat": 4,
  "nbformat_minor": 0
}

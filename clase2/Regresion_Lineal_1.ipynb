{
  "cells": [
    {
      "cell_type": "markdown",
      "metadata": {
        "id": "cpK9JEXehxtJ"
      },
      "source": [
        "<a href=\"https://colab.research.google.com/github/institutohumai/cursos-python/blob/master/DeepLearning/2_RedesDeUnaCapa/1_regresion_lineal.ipynb\" target=\"_parent\"><img src=\"https://colab.research.google.com/assets/colab-badge.svg\" alt=\"Open in Colab\"/></a>"
      ]
    },
    {
      "cell_type": "markdown",
      "metadata": {
        "id": "p6h-9OAbMv6G"
      },
      "source": [
        "# Redes Neuronales de Una Capa"
      ]
    },
    {
      "cell_type": "markdown",
      "metadata": {
        "id": "PLfy42WKz6Ue",
        "origin_pos": 0
      },
      "source": [
        "# Regresión lineal desde cero\n",
        "\n",
        "Si estás acá en principio sabés que es una regresión lineal. Una regresión lineal una forma de analizar como ciertas variables dependen de otras.\n",
        "\n"
      ]
    },
    {
      "cell_type": "markdown",
      "metadata": {
        "id": "y5NgPf5Z4O14"
      },
      "source": [
        "![Linear_regression.svg](https://i.imgur.com/P3WseWv.png)"
      ]
    },
    {
      "cell_type": "markdown",
      "metadata": {
        "id": "Vj4qRAqTfMaY"
      },
      "source": [
        "Una regresión lineal, nos relaciona variables independientes o features con una variable dependiente objetivo. Por medio de sumás y productos de las diferentes cantidades independientes, se busca obtener la variable dependiente."
      ]
    },
    {
      "cell_type": "markdown",
      "metadata": {
        "id": "cj63SacOV8XQ"
      },
      "source": [
        "Consideremos la llamada fórmula de Dulong. La formula de Dulong es un resultado experimental surgido de analizar la energía liberda en la combustión de combustibles fósiles. La formula predice el valor de energía liberada en función la proporción de cada elemento en el combustible.\n",
        "\n",
        "$$E\\left[\\frac{kJ}{g}\\right] = 38,2C + 84,9 (H − \\frac{O}{8})  − 0,5l -  0,62s$$\n",
        "\n",
        "Donde $C$ es la proporción en masa de carbono en el combustible, $H$ la proporción de hidrógeno, $O$ la de oxígeno, $l$ vale 1 solamente si el combustible es líquido, $s$ vale 1 solamente si el combustible es sólido\n",
        "\n",
        "Por ejemplo, al quemar gas metáno se obtiene las siguientes proporciones, $C = 0.75$, $H = 0.25$ y $O = 0.00$\n",
        "\n",
        "En nuestra fórmula eso nos devuelve $49.87\\frac{kJ}{g}$ frente al valor $50.01\\frac{kJ}{g}$ reportado en tablas.\n",
        "\n",
        "> Nota: esos valores provienen de lo siguiente:\n",
        "> * Fórmula del metano: $CH_4$\n",
        "> * Masa molar del metano: $16 \\frac{g}{mol}$\n",
        "> * Masa molar del carbono: $12 \\frac{g}{mol}$\n",
        "> * Masa molar del hidrógeno: $1 \\frac{g}{mol}$\n",
        "> * $C = \\frac{12}{16} = 0.75$\n",
        "> * $C = 4\\times\\frac{1}{16} = 0.25$ porque hay 4 hidrógenos."
      ]
    },
    {
      "cell_type": "markdown",
      "metadata": {
        "id": "RcjNCv-iiMMd"
      },
      "source": [
        "El punto de este comentario no es discutir un resultado de termódinámica química, sino señalar que la regresión lineal es una técnica usada desde hace años en areas de las más variopintas. Sin ir más lejos, la formula de Dulong es un resultado del siglo XIX que sigue teniendo utilidad. Tal es así que los coeficientes de la versión que hemos presentado corresponden a un resultado de [2016](https://www.sciencedirect.com/science/article/pii/S0378382016302995?via%3Dihubtps://) La única diferencia con el otro modelo presentado es que aquí hemos decidido usar una notación con one-hot vectors para el estado del combustible."
      ]
    },
    {
      "cell_type": "markdown",
      "metadata": {
        "id": "0TP0efkvj20T"
      },
      "source": [
        "Siguiento el ejemplo anterior consideremos que hemos estudiado solo dos combustibles, el gas metano y el alcohol etílico.\n",
        "\n",
        "||$C$|$H$|$O$|gas|líquido|sólido|$E$\n",
        "|---|---|---|---|---|---|---|---|\n",
        "metano|0.75|0.25|0.00|1|0|0|50.01|\n",
        "alcohol etílico ($C_2H_5OH$)|0.52|0.13|0.35|0|1|0|26.70|\n",
        "\n",
        "Notar que para repersentar el estado de agregación del combustible, hemos usado una codificación de one hot vectors.\n",
        "\n",
        "En la columna $E$ reportamos el valor medido en laboratorio. Consideremos por ahora solo los valores nuestras variables independientes y pongamos la dentro de una matriz:\n",
        "\n",
        "\\begin{align}\n",
        "     X = \\left[\\begin{array}{cccccc}\n",
        "     0.75&0.25&0.00&1&0&0\\\\\n",
        "     0.52&0.13&0.35&0&1&0\n",
        "     \\end{array}\\right]\n",
        "     \\end{align}\n",
        "\n",
        "Consideremos también un vector donde guardaremos los valores reales o los ground truth de nuestos datos\n",
        "\n",
        "\\begin{align}\n",
        "     y = \\left[\\begin{array}{c}\n",
        "     50.01\\\\\n",
        "     26.7\n",
        "     \\end{array}\\right]\n",
        "     \\end{align}\n",
        "\n",
        "Esta matriz $X$, se conoce como matriz de diseño y nos permite guardar toda la información de los ejemplos que quiesieramos estudiar. Además, la matriz $X$ tiene una propiedad interesante. Condiremos lo coeficientes de la fórmula de Dulong y guardemoslos en un vector $w$\n",
        "\n",
        "\\begin{align}\n",
        "     w^T = \\left[\\begin{array}{cccccc}\n",
        "     38.2&84.9&-10.6125&0&-0.5&-0.62\n",
        "     \\end{array}\\right]\n",
        "     \\end{align}\n",
        "\n",
        "por que $-\\frac{84.9}{8} = -1.6125$\n",
        "\n",
        "Consideremos ahora el vector:\n",
        "\n",
        "$$\\hat{y} = Xw$$\n",
        "\\begin{align}\n",
        "     \\hat{y} = \\left[\\begin{array}{cccccc}\n",
        "     0.75&0.25&0.00&1&0&0\\\\\n",
        "     0.52&0.13&0.35&0&1&0\n",
        "     \\end{array}\\right]\\left[\\begin{array}{c}\n",
        "     38.2\\\\84.9\\\\-10.6125\\\\0\\\\-0.5\\\\-0.62\n",
        "     \\end{array}\\right]\n",
        "     \\end{align}\n",
        "\\begin{align}\n",
        "     \\hat{y} = \\left[\\begin{array}{cc}\n",
        "     49.87\\\\\n",
        "     26.69\n",
        "     \\end{array}\\right]\n",
        "     \\end{align}\n",
        "\n",
        "Al guardar nuestros datos y nuestros parametros en matrices, ahora podemos calcular nuestras predicciones como una mera multiplicación de matrices. Además podemos estimar el error absoluto entre nuestra predicción y el valor real como una operación matricial.\n",
        "\n",
        "$$e=\\hat{y} - y$$\n",
        "\n",
        "De más está decir que de lo anterior podemos tratar de calcular la varianza de los valores en el vector $e$, suponiendo que un buen modelo debe tener dispersión media igual a 0 con respecto a los valore reales.\n",
        "\n",
        "$$Var(e)$$"
      ]
    },
    {
      "cell_type": "markdown",
      "metadata": {
        "id": "cbasYgvG4OaA"
      },
      "source": [
        "La formula anterior y todo el analisis es para señalar que es una neurona artificial\n",
        "\n"
      ]
    },
    {
      "cell_type": "markdown",
      "metadata": {
        "id": "2ah9UDoO6aDf"
      },
      "source": [
        "![imagen.png](data:image/png;base64,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)"
      ]
    },
    {
      "cell_type": "markdown",
      "metadata": {
        "id": "J83vbLc1CtB-"
      },
      "source": [
        "La fórmula de Dulong, como toda regresión lineal, tiene una serie de variables independientes que influyen en el resultado de una variable dependiente. En el caso anterior tenemos, proporcion de diferentes átomos y estado de agregación del combustible (sólido, líquido, gas).\n",
        "\n",
        "Esta estructura es similar a una neurona que recibe 6 estimulos y produce una única respuesta. Es por esto que decimos que es una neurona."
      ]
    },
    {
      "cell_type": "markdown",
      "metadata": {
        "id": "4IJQRzZxj2Fc"
      },
      "source": [
        "Minimizar la varianza de nuestro error abosoluto es equivalente a pedir un ajuste lineal por mínimos cuadrados. Es decir, el entrenamiento de nuestra neurona, consistirá en encontrar los parametos $w$ que al aplicarlos sobre nuestros datos $X$ nos permitan obtener las mejores predicciones $\\hat{y}$ de tal manera que se acerque lo más posible a nuestros valores reales $y$ En este contexto, encontrar esos parametros es equivalente a minimizar la varianza. A la cantidad a minimizar la llamaremos **función de pérdida**"
      ]
    },
    {
      "cell_type": "markdown",
      "metadata": {
        "id": "fdSvvb7brVK5"
      },
      "source": [
        "Hemos elegido un caso de análisis como es el calor liberado por un combustible en función de sus constituyentes para señalar que el principio con el que opera la técnica es tan general que puede aplicarse a un monton de otras areas. Sin ir más lejos, podríamos ir un paso más alla y en lugar de entrenar solo una neurona para que nos dé la energía liberada, podríamos entrenar una segunda neurona que nos dé la masa molar del combustible. O una tercer neurona para que nos entregue otra propiedad del combustible, como por ejemplo el índice de refracción.\n",
        "\n",
        "En caso de tener varias neuronas, nuestros parámetros deberían ser almacenados en una matriz de pesos. Es decir:\n",
        "\n",
        "$$\\hat{y} = XW$$\n",
        "\\begin{align}\n",
        "     \\hat{y} = \\left[\\begin{array}{cccccc}\n",
        "     0.75&0.25&0.00&1&0&0\\\\\n",
        "     0.52&0.13&0.35&0&1&0\n",
        "     \\end{array}\\right]\\left[\\begin{array}{cc}\n",
        "     38.2&1\\\\84.9&1\\\\-1.6125&1\\\\0&-1\\\\-0.5&1\\\\-0.62&2\n",
        "     \\end{array}\\right]\n",
        "     \\end{align}\n",
        "\\begin{align}\n",
        "     \\hat{y} = \\left[\\begin{array}{cc}\n",
        "     49.87&0\\\\\n",
        "     26.69&2\n",
        "     \\end{array}\\right]\n",
        "     \\end{align}\n",
        "\n",
        "Donde la segunda columna corresponde a una segunda neurona que aprendió a devolver alguna otra propiedad de los combustibles"
      ]
    },
    {
      "cell_type": "markdown",
      "metadata": {
        "id": "6QR4cq47sGht"
      },
      "source": [
        "Esperamos que con lo aquí descripto, se entienda que es una neurona, red de una capa de neuronas y en que consiste encontrar los parametros óptimos al problema."
      ]
    },
    {
      "cell_type": "markdown",
      "metadata": {
        "id": "yGPRN3ihsUFG"
      },
      "source": [
        "## Presentando el pipeline"
      ]
    },
    {
      "cell_type": "markdown",
      "metadata": {
        "id": "VTm-V3vE4hYT"
      },
      "source": [
        "Ahora, lo que describiremos será como es el proceso general para entrenar una red:\n",
        "\n",
        "1. Carga de los datos\n",
        "1. Separación de los datos en lotes\n",
        "1. Inicialización de parámetros\n",
        "1. Definición del modelo\n",
        "1. Definición de la función de pérdida\n",
        "1. Definición del algoritmo de optimización\n",
        "\n",
        "Para nuestro primer ejemplo lo que haremos será trabajar con datos sintéticos. Es decir, tomaremos los datos generados de un modelo lineal. Nuestra intención con esto es múltiple:\n",
        "\n",
        "* Queremos mostrar un ejemplo que nos permita entender el significado de los parámetros de nuestro modelo.\n",
        "* Queremos saber que tan buenas son nuestras estimaciones\n",
        "* Queremos usar un modelo sencillo que nos permita analizar cada paso del pipeline.\n",
        "\n",
        "Este último punto es el principal motivo de esta parte. Por lo general, los frameworks de deep learning tiene multiples herramientas que nos permite simplificar cada uno de los pasos. Sin embargo, también es común que necesitemos ajustar detalles del modelo que usaremos. Es en este sentido que \"reinventar la rueda\", nos puede ayudar entender como funcionan las herramientas preexistentes en los frameworks que usaremos."
      ]
    },
    {
      "cell_type": "code",
      "execution_count": 17,
      "metadata": {
        "id": "CSaDWMHXz6Ug",
        "origin_pos": 2,
        "tab": [
          "pytorch"
        ]
      },
      "outputs": [],
      "source": [
        "%matplotlib inline\n",
        "import random\n",
        "import torch\n",
        "from matplotlib import pyplot as plt\n",
        "from matplotlib_inline import backend_inline"
      ]
    },
    {
      "cell_type": "markdown",
      "metadata": {
        "id": "CRgOrKSwz6Uh",
        "origin_pos": 4
      },
      "source": [
        "### \"Dataset\"\n",
        "\n",
        "Comencemos con un modelo lineal sencillo al que añadiremos ruido gaussiano\n",
        "\n",
        "**$$\\mathbf{y}= \\mathbf{X} \\mathbf{w} + b + \\mathbf\\epsilon.$$**\n",
        "\n",
        "$$\\mathbf{w} = [2, -3.4]^\\top$$\n",
        "$$b = 4.2$$\n"
      ]
    },
    {
      "cell_type": "code",
      "execution_count": 18,
      "metadata": {
        "id": "FkoyQUAez6Uj",
        "origin_pos": 5,
        "tab": [
          "pytorch"
        ]
      },
      "outputs": [],
      "source": [
        "def synthetic_data(w, b, num_examples):\n",
        "    X = torch.normal(0, 1, (num_examples, len(w))) # X is a matrix of size num_examples x len(w) with values drawn from a normal distribution with mean 0 and variance 1\n",
        "    y = torch.matmul(X, w) + b # y is a vector of size num_examples with values drawn from a normal distribution with mean 0 and variance 1 and then multiplied by w and added b (mis etiquetas reales)\n",
        "    y += torch.normal(0, 0.01, y.shape) #le agrego un poco de ruido a mis etiquetas\n",
        "    return X, y.reshape((-1, 1)) # -1 means that the size of that dimension is inferred"
      ]
    },
    {
      "cell_type": "code",
      "execution_count": 19,
      "metadata": {
        "id": "RvV55S-Wz6Ul",
        "origin_pos": 7,
        "tab": [
          "pytorch"
        ]
      },
      "outputs": [],
      "source": [
        "true_w = torch.tensor([2, -3.4])\n",
        "true_b = 4.2\n",
        "features, labels = synthetic_data(true_w, true_b, 1000)"
      ]
    },
    {
      "cell_type": "markdown",
      "metadata": {
        "id": "PNpW_tkoz6Un",
        "origin_pos": 8
      },
      "source": [
        "Es importante ver cual es la dimensionalidad de nuestros features y nuestras etiquetas.\n"
      ]
    },
    {
      "cell_type": "code",
      "execution_count": 20,
      "metadata": {
        "colab": {
          "base_uri": "https://localhost:8080/"
        },
        "id": "MBDt723Tz6Up",
        "origin_pos": 9,
        "outputId": "4d9abb3a-aa43-46bb-abc9-a89d9b34176b",
        "tab": [
          "pytorch"
        ]
      },
      "outputs": [
        {
          "name": "stdout",
          "output_type": "stream",
          "text": [
            "features: torch.Size([1000, 2]) \n",
            "label: torch.Size([1000, 1])\n"
          ]
        }
      ],
      "source": [
        "print('features:', features.shape,'\\nlabel:', labels.shape)"
      ]
    },
    {
      "cell_type": "markdown",
      "metadata": {
        "id": "Cz4ZRY0mz6Ur",
        "origin_pos": 10
      },
      "source": [
        "Podemos graficar la etiqueta y una de las features para ver este comportamiento lineal\n"
      ]
    },
    {
      "cell_type": "code",
      "execution_count": 21,
      "metadata": {
        "colab": {
          "base_uri": "https://localhost:8080/",
          "height": 243
        },
        "id": "Mm0OJKdaz6Us",
        "origin_pos": 11,
        "outputId": "d19dc6ca-323e-4a7b-9bc6-cc827c5d6d90",
        "tab": [
          "pytorch"
        ]
      },
      "outputs": [
        {
          "data": {
            "image/svg+xml": [
              "<?xml version=\"1.0\" encoding=\"utf-8\" standalone=\"no\"?>\n",
              "<!DOCTYPE svg PUBLIC \"-//W3C//DTD SVG 1.1//EN\"\n",
              "  \"http://www.w3.org/Graphics/SVG/1.1/DTD/svg11.dtd\">\n",
              "<!-- Created with matplotlib (https://matplotlib.org/) -->\n",
              "<svg height=\"166.978125pt\" version=\"1.1\" viewBox=\"0 0 237.804688 166.978125\" width=\"237.804688pt\" xmlns=\"http://www.w3.org/2000/svg\" xmlns:xlink=\"http://www.w3.org/1999/xlink\">\n",
              " <metadata>\n",
              "  <rdf:RDF xmlns:cc=\"http://creativecommons.org/ns#\" xmlns:dc=\"http://purl.org/dc/elements/1.1/\" xmlns:rdf=\"http://www.w3.org/1999/02/22-rdf-syntax-ns#\">\n",
              "   <cc:Work>\n",
              "    <dc:type rdf:resource=\"http://purl.org/dc/dcmitype/StillImage\"/>\n",
              "    <dc:date>2023-08-15T14:54:42.121025</dc:date>\n",
              "    <dc:format>image/svg+xml</dc:format>\n",
              "    <dc:creator>\n",
              "     <cc:Agent>\n",
              "      <dc:title>Matplotlib v3.3.4, https://matplotlib.org/</dc:title>\n",
              "     </cc:Agent>\n",
              "    </dc:creator>\n",
              "   </cc:Work>\n",
              "  </rdf:RDF>\n",
              " </metadata>\n",
              " <defs>\n",
              "  <style type=\"text/css\">*{stroke-linecap:butt;stroke-linejoin:round;}</style>\n",
              " </defs>\n",
              " <g id=\"figure_1\">\n",
              "  <g id=\"patch_1\">\n",
              "   <path d=\"M 0 166.978125 \n",
              "L 237.804688 166.978125 \n",
              "L 237.804688 0 \n",
              "L 0 0 \n",
              "z\n",
              "\" style=\"fill:none;\"/>\n",
              "  </g>\n",
              "  <g id=\"axes_1\">\n",
              "   <g id=\"patch_2\">\n",
              "    <path d=\"M 35.304688 143.1 \n",
              "L 230.604688 143.1 \n",
              "L 230.604688 7.2 \n",
              "L 35.304688 7.2 \n",
              "z\n",
              "\" style=\"fill:#ffffff;\"/>\n",
              "   </g>\n",
              "   <g id=\"PathCollection_1\">\n",
              "    <defs>\n",
              "     <path d=\"M 0 0.5 \n",
              "C 0.132602 0.5 0.25979 0.447317 0.353553 0.353553 \n",
              "C 0.447317 0.25979 0.5 0.132602 0.5 0 \n",
              "C 0.5 -0.132602 0.447317 -0.25979 0.353553 -0.353553 \n",
              "C 0.25979 -0.447317 0.132602 -0.5 0 -0.5 \n",
              "C -0.132602 -0.5 -0.25979 -0.447317 -0.353553 -0.353553 \n",
              "C -0.447317 -0.25979 -0.5 -0.132602 -0.5 0 \n",
              "C -0.5 0.132602 -0.447317 0.25979 -0.353553 0.353553 \n",
              "C -0.25979 0.447317 -0.132602 0.5 0 0.5 \n",
              "z\n",
              "\" id=\"m3cf4376498\" style=\"stroke:#1f77b4;\"/>\n",
              "    </defs>\n",
              "    <g clip-path=\"url(#pca285a01af)\">\n",
              "     <use style=\"fill:#1f77b4;stroke:#1f77b4;\" x=\"138.338173\" xlink:href=\"#m3cf4376498\" y=\"82.856822\"/>\n",
              "     <use style=\"fill:#1f77b4;stroke:#1f77b4;\" x=\"159.409174\" xlink:href=\"#m3cf4376498\" y=\"97.463405\"/>\n",
              "     <use style=\"fill:#1f77b4;stroke:#1f77b4;\" x=\"101.756136\" xlink:href=\"#m3cf4376498\" y=\"53.338021\"/>\n",
              "     <use style=\"fill:#1f77b4;stroke:#1f77b4;\" x=\"127.50545\" xlink:href=\"#m3cf4376498\" y=\"73.152619\"/>\n",
              "     <use style=\"fill:#1f77b4;stroke:#1f77b4;\" x=\"129.107147\" xlink:href=\"#m3cf4376498\" y=\"74.859327\"/>\n",
              "     <use style=\"fill:#1f77b4;stroke:#1f77b4;\" x=\"125.459172\" xlink:href=\"#m3cf4376498\" y=\"78.991479\"/>\n",
              "     <use style=\"fill:#1f77b4;stroke:#1f77b4;\" x=\"154.504336\" xlink:href=\"#m3cf4376498\" y=\"115.31185\"/>\n",
              "     <use style=\"fill:#1f77b4;stroke:#1f77b4;\" x=\"49.682538\" xlink:href=\"#m3cf4376498\" y=\"33.129097\"/>\n",
              "     <use style=\"fill:#1f77b4;stroke:#1f77b4;\" x=\"146.958204\" xlink:href=\"#m3cf4376498\" y=\"77.386667\"/>\n",
              "     <use style=\"fill:#1f77b4;stroke:#1f77b4;\" x=\"121.72299\" xlink:href=\"#m3cf4376498\" y=\"62.119097\"/>\n",
              "     <use style=\"fill:#1f77b4;stroke:#1f77b4;\" x=\"120.886316\" xlink:href=\"#m3cf4376498\" y=\"78.139595\"/>\n",
              "     <use style=\"fill:#1f77b4;stroke:#1f77b4;\" x=\"112.696527\" xlink:href=\"#m3cf4376498\" y=\"62.898646\"/>\n",
              "     <use style=\"fill:#1f77b4;stroke:#1f77b4;\" x=\"111.953364\" xlink:href=\"#m3cf4376498\" y=\"76.137899\"/>\n",
              "     <use style=\"fill:#1f77b4;stroke:#1f77b4;\" x=\"132.258296\" xlink:href=\"#m3cf4376498\" y=\"100.72614\"/>\n",
              "     <use style=\"fill:#1f77b4;stroke:#1f77b4;\" x=\"107.062464\" xlink:href=\"#m3cf4376498\" y=\"52.592713\"/>\n",
              "     <use style=\"fill:#1f77b4;stroke:#1f77b4;\" x=\"110.470133\" xlink:href=\"#m3cf4376498\" y=\"54.361231\"/>\n",
              "     <use style=\"fill:#1f77b4;stroke:#1f77b4;\" x=\"167.383445\" xlink:href=\"#m3cf4376498\" y=\"101.752832\"/>\n",
              "     <use style=\"fill:#1f77b4;stroke:#1f77b4;\" x=\"104.773222\" xlink:href=\"#m3cf4376498\" y=\"73.105583\"/>\n",
              "     <use style=\"fill:#1f77b4;stroke:#1f77b4;\" x=\"117.3658\" xlink:href=\"#m3cf4376498\" y=\"99.129135\"/>\n",
              "     <use style=\"fill:#1f77b4;stroke:#1f77b4;\" x=\"108.109123\" xlink:href=\"#m3cf4376498\" y=\"70.913789\"/>\n",
              "     <use style=\"fill:#1f77b4;stroke:#1f77b4;\" x=\"102.021515\" xlink:href=\"#m3cf4376498\" y=\"53.50417\"/>\n",
              "     <use style=\"fill:#1f77b4;stroke:#1f77b4;\" x=\"125.02964\" xlink:href=\"#m3cf4376498\" y=\"84.414538\"/>\n",
              "     <use style=\"fill:#1f77b4;stroke:#1f77b4;\" x=\"113.04089\" xlink:href=\"#m3cf4376498\" y=\"91.052099\"/>\n",
              "     <use style=\"fill:#1f77b4;stroke:#1f77b4;\" x=\"147.121976\" xlink:href=\"#m3cf4376498\" y=\"91.360616\"/>\n",
              "     <use style=\"fill:#1f77b4;stroke:#1f77b4;\" x=\"147.888526\" xlink:href=\"#m3cf4376498\" y=\"99.328017\"/>\n",
              "     <use style=\"fill:#1f77b4;stroke:#1f77b4;\" x=\"142.56984\" xlink:href=\"#m3cf4376498\" y=\"105.245825\"/>\n",
              "     <use style=\"fill:#1f77b4;stroke:#1f77b4;\" x=\"110.49929\" xlink:href=\"#m3cf4376498\" y=\"71.643822\"/>\n",
              "     <use style=\"fill:#1f77b4;stroke:#1f77b4;\" x=\"102.885989\" xlink:href=\"#m3cf4376498\" y=\"69.793546\"/>\n",
              "     <use style=\"fill:#1f77b4;stroke:#1f77b4;\" x=\"100.452012\" xlink:href=\"#m3cf4376498\" y=\"69.273391\"/>\n",
              "     <use style=\"fill:#1f77b4;stroke:#1f77b4;\" x=\"83.134905\" xlink:href=\"#m3cf4376498\" y=\"45.66041\"/>\n",
              "     <use style=\"fill:#1f77b4;stroke:#1f77b4;\" x=\"117.822314\" xlink:href=\"#m3cf4376498\" y=\"69.501668\"/>\n",
              "     <use style=\"fill:#1f77b4;stroke:#1f77b4;\" x=\"118.61525\" xlink:href=\"#m3cf4376498\" y=\"93.724872\"/>\n",
              "     <use style=\"fill:#1f77b4;stroke:#1f77b4;\" x=\"145.595674\" xlink:href=\"#m3cf4376498\" y=\"95.008644\"/>\n",
              "     <use style=\"fill:#1f77b4;stroke:#1f77b4;\" x=\"126.234198\" xlink:href=\"#m3cf4376498\" y=\"72.414081\"/>\n",
              "     <use style=\"fill:#1f77b4;stroke:#1f77b4;\" x=\"133.651398\" xlink:href=\"#m3cf4376498\" y=\"82.066265\"/>\n",
              "     <use style=\"fill:#1f77b4;stroke:#1f77b4;\" x=\"111.189963\" xlink:href=\"#m3cf4376498\" y=\"59.918954\"/>\n",
              "     <use style=\"fill:#1f77b4;stroke:#1f77b4;\" x=\"120.769835\" xlink:href=\"#m3cf4376498\" y=\"81.125308\"/>\n",
              "     <use style=\"fill:#1f77b4;stroke:#1f77b4;\" x=\"122.432848\" xlink:href=\"#m3cf4376498\" y=\"80.001976\"/>\n",
              "     <use style=\"fill:#1f77b4;stroke:#1f77b4;\" x=\"122.567955\" xlink:href=\"#m3cf4376498\" y=\"76.961979\"/>\n",
              "     <use style=\"fill:#1f77b4;stroke:#1f77b4;\" x=\"125.881402\" xlink:href=\"#m3cf4376498\" y=\"68.015814\"/>\n",
              "     <use style=\"fill:#1f77b4;stroke:#1f77b4;\" x=\"112.647021\" xlink:href=\"#m3cf4376498\" y=\"72.887128\"/>\n",
              "     <use style=\"fill:#1f77b4;stroke:#1f77b4;\" x=\"98.684231\" xlink:href=\"#m3cf4376498\" y=\"44.220709\"/>\n",
              "     <use style=\"fill:#1f77b4;stroke:#1f77b4;\" x=\"115.356929\" xlink:href=\"#m3cf4376498\" y=\"64.274589\"/>\n",
              "     <use style=\"fill:#1f77b4;stroke:#1f77b4;\" x=\"135.340478\" xlink:href=\"#m3cf4376498\" y=\"91.191729\"/>\n",
              "     <use style=\"fill:#1f77b4;stroke:#1f77b4;\" x=\"156.656499\" xlink:href=\"#m3cf4376498\" y=\"92.896327\"/>\n",
              "     <use style=\"fill:#1f77b4;stroke:#1f77b4;\" x=\"145.676657\" xlink:href=\"#m3cf4376498\" y=\"87.495365\"/>\n",
              "     <use style=\"fill:#1f77b4;stroke:#1f77b4;\" x=\"94.393801\" xlink:href=\"#m3cf4376498\" y=\"51.818779\"/>\n",
              "     <use style=\"fill:#1f77b4;stroke:#1f77b4;\" x=\"97.039455\" xlink:href=\"#m3cf4376498\" y=\"66.085335\"/>\n",
              "     <use style=\"fill:#1f77b4;stroke:#1f77b4;\" x=\"109.954637\" xlink:href=\"#m3cf4376498\" y=\"59.164521\"/>\n",
              "     <use style=\"fill:#1f77b4;stroke:#1f77b4;\" x=\"100.060792\" xlink:href=\"#m3cf4376498\" y=\"58.721995\"/>\n",
              "     <use style=\"fill:#1f77b4;stroke:#1f77b4;\" x=\"108.535354\" xlink:href=\"#m3cf4376498\" y=\"73.539444\"/>\n",
              "     <use style=\"fill:#1f77b4;stroke:#1f77b4;\" x=\"102.513169\" xlink:href=\"#m3cf4376498\" y=\"60.539545\"/>\n",
              "     <use style=\"fill:#1f77b4;stroke:#1f77b4;\" x=\"99.206756\" xlink:href=\"#m3cf4376498\" y=\"76.677075\"/>\n",
              "     <use style=\"fill:#1f77b4;stroke:#1f77b4;\" x=\"146.65204\" xlink:href=\"#m3cf4376498\" y=\"85.419319\"/>\n",
              "     <use style=\"fill:#1f77b4;stroke:#1f77b4;\" x=\"128.595928\" xlink:href=\"#m3cf4376498\" y=\"79.945698\"/>\n",
              "     <use style=\"fill:#1f77b4;stroke:#1f77b4;\" x=\"128.830635\" xlink:href=\"#m3cf4376498\" y=\"83.416446\"/>\n",
              "     <use style=\"fill:#1f77b4;stroke:#1f77b4;\" x=\"82.030452\" xlink:href=\"#m3cf4376498\" y=\"53.804843\"/>\n",
              "     <use style=\"fill:#1f77b4;stroke:#1f77b4;\" x=\"88.559541\" xlink:href=\"#m3cf4376498\" y=\"47.939157\"/>\n",
              "     <use style=\"fill:#1f77b4;stroke:#1f77b4;\" x=\"99.476275\" xlink:href=\"#m3cf4376498\" y=\"69.59231\"/>\n",
              "     <use style=\"fill:#1f77b4;stroke:#1f77b4;\" x=\"122.186064\" xlink:href=\"#m3cf4376498\" y=\"40.640165\"/>\n",
              "     <use style=\"fill:#1f77b4;stroke:#1f77b4;\" x=\"108.703294\" xlink:href=\"#m3cf4376498\" y=\"68.287235\"/>\n",
              "     <use style=\"fill:#1f77b4;stroke:#1f77b4;\" x=\"107.737032\" xlink:href=\"#m3cf4376498\" y=\"51.335205\"/>\n",
              "     <use style=\"fill:#1f77b4;stroke:#1f77b4;\" x=\"78.289948\" xlink:href=\"#m3cf4376498\" y=\"58.71615\"/>\n",
              "     <use style=\"fill:#1f77b4;stroke:#1f77b4;\" x=\"132.503664\" xlink:href=\"#m3cf4376498\" y=\"71.909364\"/>\n",
              "     <use style=\"fill:#1f77b4;stroke:#1f77b4;\" x=\"156.966366\" xlink:href=\"#m3cf4376498\" y=\"88.149258\"/>\n",
              "     <use style=\"fill:#1f77b4;stroke:#1f77b4;\" x=\"84.123779\" xlink:href=\"#m3cf4376498\" y=\"46.718128\"/>\n",
              "     <use style=\"fill:#1f77b4;stroke:#1f77b4;\" x=\"73.006436\" xlink:href=\"#m3cf4376498\" y=\"35.048394\"/>\n",
              "     <use style=\"fill:#1f77b4;stroke:#1f77b4;\" x=\"112.871575\" xlink:href=\"#m3cf4376498\" y=\"80.60488\"/>\n",
              "     <use style=\"fill:#1f77b4;stroke:#1f77b4;\" x=\"114.881282\" xlink:href=\"#m3cf4376498\" y=\"70.507368\"/>\n",
              "     <use style=\"fill:#1f77b4;stroke:#1f77b4;\" x=\"117.206128\" xlink:href=\"#m3cf4376498\" y=\"78.71149\"/>\n",
              "     <use style=\"fill:#1f77b4;stroke:#1f77b4;\" x=\"97.839386\" xlink:href=\"#m3cf4376498\" y=\"67.434675\"/>\n",
              "     <use style=\"fill:#1f77b4;stroke:#1f77b4;\" x=\"138.963087\" xlink:href=\"#m3cf4376498\" y=\"73.894691\"/>\n",
              "     <use style=\"fill:#1f77b4;stroke:#1f77b4;\" x=\"122.138073\" xlink:href=\"#m3cf4376498\" y=\"54.954922\"/>\n",
              "     <use style=\"fill:#1f77b4;stroke:#1f77b4;\" x=\"144.437644\" xlink:href=\"#m3cf4376498\" y=\"84.319995\"/>\n",
              "     <use style=\"fill:#1f77b4;stroke:#1f77b4;\" x=\"143.718674\" xlink:href=\"#m3cf4376498\" y=\"79.368251\"/>\n",
              "     <use style=\"fill:#1f77b4;stroke:#1f77b4;\" x=\"126.524772\" xlink:href=\"#m3cf4376498\" y=\"88.736475\"/>\n",
              "     <use style=\"fill:#1f77b4;stroke:#1f77b4;\" x=\"131.657141\" xlink:href=\"#m3cf4376498\" y=\"95.347291\"/>\n",
              "     <use style=\"fill:#1f77b4;stroke:#1f77b4;\" x=\"157.737264\" xlink:href=\"#m3cf4376498\" y=\"105.89335\"/>\n",
              "     <use style=\"fill:#1f77b4;stroke:#1f77b4;\" x=\"153.010858\" xlink:href=\"#m3cf4376498\" y=\"85.952269\"/>\n",
              "     <use style=\"fill:#1f77b4;stroke:#1f77b4;\" x=\"108.613424\" xlink:href=\"#m3cf4376498\" y=\"61.667765\"/>\n",
              "     <use style=\"fill:#1f77b4;stroke:#1f77b4;\" x=\"128.453311\" xlink:href=\"#m3cf4376498\" y=\"81.730161\"/>\n",
              "     <use style=\"fill:#1f77b4;stroke:#1f77b4;\" x=\"136.703705\" xlink:href=\"#m3cf4376498\" y=\"95.63089\"/>\n",
              "     <use style=\"fill:#1f77b4;stroke:#1f77b4;\" x=\"144.596304\" xlink:href=\"#m3cf4376498\" y=\"108.421317\"/>\n",
              "     <use style=\"fill:#1f77b4;stroke:#1f77b4;\" x=\"100.307764\" xlink:href=\"#m3cf4376498\" y=\"54.019737\"/>\n",
              "     <use style=\"fill:#1f77b4;stroke:#1f77b4;\" x=\"112.811324\" xlink:href=\"#m3cf4376498\" y=\"65.323446\"/>\n",
              "     <use style=\"fill:#1f77b4;stroke:#1f77b4;\" x=\"114.392725\" xlink:href=\"#m3cf4376498\" y=\"79.349401\"/>\n",
              "     <use style=\"fill:#1f77b4;stroke:#1f77b4;\" x=\"135.002024\" xlink:href=\"#m3cf4376498\" y=\"72.498072\"/>\n",
              "     <use style=\"fill:#1f77b4;stroke:#1f77b4;\" x=\"80.560105\" xlink:href=\"#m3cf4376498\" y=\"40.997941\"/>\n",
              "     <use style=\"fill:#1f77b4;stroke:#1f77b4;\" x=\"109.223785\" xlink:href=\"#m3cf4376498\" y=\"63.000178\"/>\n",
              "     <use style=\"fill:#1f77b4;stroke:#1f77b4;\" x=\"94.53812\" xlink:href=\"#m3cf4376498\" y=\"45.134385\"/>\n",
              "     <use style=\"fill:#1f77b4;stroke:#1f77b4;\" x=\"163.855867\" xlink:href=\"#m3cf4376498\" y=\"96.021529\"/>\n",
              "     <use style=\"fill:#1f77b4;stroke:#1f77b4;\" x=\"97.582311\" xlink:href=\"#m3cf4376498\" y=\"57.638546\"/>\n",
              "     <use style=\"fill:#1f77b4;stroke:#1f77b4;\" x=\"158.041759\" xlink:href=\"#m3cf4376498\" y=\"92.419785\"/>\n",
              "     <use style=\"fill:#1f77b4;stroke:#1f77b4;\" x=\"138.602877\" xlink:href=\"#m3cf4376498\" y=\"71.998564\"/>\n",
              "     <use style=\"fill:#1f77b4;stroke:#1f77b4;\" x=\"126.569239\" xlink:href=\"#m3cf4376498\" y=\"65.778411\"/>\n",
              "     <use style=\"fill:#1f77b4;stroke:#1f77b4;\" x=\"117.10388\" xlink:href=\"#m3cf4376498\" y=\"56.442745\"/>\n",
              "     <use style=\"fill:#1f77b4;stroke:#1f77b4;\" x=\"147.458253\" xlink:href=\"#m3cf4376498\" y=\"81.341056\"/>\n",
              "     <use style=\"fill:#1f77b4;stroke:#1f77b4;\" x=\"140.56176\" xlink:href=\"#m3cf4376498\" y=\"75.837268\"/>\n",
              "     <use style=\"fill:#1f77b4;stroke:#1f77b4;\" x=\"129.781777\" xlink:href=\"#m3cf4376498\" y=\"79.283937\"/>\n",
              "     <use style=\"fill:#1f77b4;stroke:#1f77b4;\" x=\"99.566085\" xlink:href=\"#m3cf4376498\" y=\"53.173374\"/>\n",
              "     <use style=\"fill:#1f77b4;stroke:#1f77b4;\" x=\"105.809905\" xlink:href=\"#m3cf4376498\" y=\"74.951245\"/>\n",
              "     <use style=\"fill:#1f77b4;stroke:#1f77b4;\" x=\"135.620319\" xlink:href=\"#m3cf4376498\" y=\"79.728265\"/>\n",
              "     <use style=\"fill:#1f77b4;stroke:#1f77b4;\" x=\"89.994233\" xlink:href=\"#m3cf4376498\" y=\"63.298348\"/>\n",
              "     <use style=\"fill:#1f77b4;stroke:#1f77b4;\" x=\"155.4487\" xlink:href=\"#m3cf4376498\" y=\"83.281166\"/>\n",
              "     <use style=\"fill:#1f77b4;stroke:#1f77b4;\" x=\"127.009289\" xlink:href=\"#m3cf4376498\" y=\"81.568022\"/>\n",
              "     <use style=\"fill:#1f77b4;stroke:#1f77b4;\" x=\"130.045068\" xlink:href=\"#m3cf4376498\" y=\"74.055133\"/>\n",
              "     <use style=\"fill:#1f77b4;stroke:#1f77b4;\" x=\"119.970355\" xlink:href=\"#m3cf4376498\" y=\"70.563661\"/>\n",
              "     <use style=\"fill:#1f77b4;stroke:#1f77b4;\" x=\"93.024552\" xlink:href=\"#m3cf4376498\" y=\"56.974211\"/>\n",
              "     <use style=\"fill:#1f77b4;stroke:#1f77b4;\" x=\"92.818415\" xlink:href=\"#m3cf4376498\" y=\"58.312422\"/>\n",
              "     <use style=\"fill:#1f77b4;stroke:#1f77b4;\" x=\"109.057948\" xlink:href=\"#m3cf4376498\" y=\"65.613891\"/>\n",
              "     <use style=\"fill:#1f77b4;stroke:#1f77b4;\" x=\"96.88731\" xlink:href=\"#m3cf4376498\" y=\"54.397002\"/>\n",
              "     <use style=\"fill:#1f77b4;stroke:#1f77b4;\" x=\"112.988716\" xlink:href=\"#m3cf4376498\" y=\"74.597552\"/>\n",
              "     <use style=\"fill:#1f77b4;stroke:#1f77b4;\" x=\"77.353235\" xlink:href=\"#m3cf4376498\" y=\"38.399042\"/>\n",
              "     <use style=\"fill:#1f77b4;stroke:#1f77b4;\" x=\"134.062626\" xlink:href=\"#m3cf4376498\" y=\"89.846796\"/>\n",
              "     <use style=\"fill:#1f77b4;stroke:#1f77b4;\" x=\"101.470404\" xlink:href=\"#m3cf4376498\" y=\"55.447452\"/>\n",
              "     <use style=\"fill:#1f77b4;stroke:#1f77b4;\" x=\"126.419624\" xlink:href=\"#m3cf4376498\" y=\"93.063895\"/>\n",
              "     <use style=\"fill:#1f77b4;stroke:#1f77b4;\" x=\"117.994049\" xlink:href=\"#m3cf4376498\" y=\"76.386944\"/>\n",
              "     <use style=\"fill:#1f77b4;stroke:#1f77b4;\" x=\"107.334413\" xlink:href=\"#m3cf4376498\" y=\"56.680853\"/>\n",
              "     <use style=\"fill:#1f77b4;stroke:#1f77b4;\" x=\"173.672309\" xlink:href=\"#m3cf4376498\" y=\"109.493857\"/>\n",
              "     <use style=\"fill:#1f77b4;stroke:#1f77b4;\" x=\"129.469541\" xlink:href=\"#m3cf4376498\" y=\"80.415073\"/>\n",
              "     <use style=\"fill:#1f77b4;stroke:#1f77b4;\" x=\"98.966621\" xlink:href=\"#m3cf4376498\" y=\"70.887893\"/>\n",
              "     <use style=\"fill:#1f77b4;stroke:#1f77b4;\" x=\"102.342367\" xlink:href=\"#m3cf4376498\" y=\"50.1889\"/>\n",
              "     <use style=\"fill:#1f77b4;stroke:#1f77b4;\" x=\"153.1676\" xlink:href=\"#m3cf4376498\" y=\"95.69449\"/>\n",
              "     <use style=\"fill:#1f77b4;stroke:#1f77b4;\" x=\"115.805153\" xlink:href=\"#m3cf4376498\" y=\"60.816233\"/>\n",
              "     <use style=\"fill:#1f77b4;stroke:#1f77b4;\" x=\"90.789649\" xlink:href=\"#m3cf4376498\" y=\"48.11602\"/>\n",
              "     <use style=\"fill:#1f77b4;stroke:#1f77b4;\" x=\"83.847932\" xlink:href=\"#m3cf4376498\" y=\"65.987024\"/>\n",
              "     <use style=\"fill:#1f77b4;stroke:#1f77b4;\" x=\"112.023886\" xlink:href=\"#m3cf4376498\" y=\"81.619681\"/>\n",
              "     <use style=\"fill:#1f77b4;stroke:#1f77b4;\" x=\"82.560409\" xlink:href=\"#m3cf4376498\" y=\"42.421187\"/>\n",
              "     <use style=\"fill:#1f77b4;stroke:#1f77b4;\" x=\"129.507379\" xlink:href=\"#m3cf4376498\" y=\"78.408767\"/>\n",
              "     <use style=\"fill:#1f77b4;stroke:#1f77b4;\" x=\"99.989757\" xlink:href=\"#m3cf4376498\" y=\"74.788938\"/>\n",
              "     <use style=\"fill:#1f77b4;stroke:#1f77b4;\" x=\"142.342403\" xlink:href=\"#m3cf4376498\" y=\"84.688437\"/>\n",
              "     <use style=\"fill:#1f77b4;stroke:#1f77b4;\" x=\"96.763983\" xlink:href=\"#m3cf4376498\" y=\"63.18718\"/>\n",
              "     <use style=\"fill:#1f77b4;stroke:#1f77b4;\" x=\"125.9669\" xlink:href=\"#m3cf4376498\" y=\"69.014037\"/>\n",
              "     <use style=\"fill:#1f77b4;stroke:#1f77b4;\" x=\"121.034465\" xlink:href=\"#m3cf4376498\" y=\"53.629313\"/>\n",
              "     <use style=\"fill:#1f77b4;stroke:#1f77b4;\" x=\"158.931704\" xlink:href=\"#m3cf4376498\" y=\"107.447737\"/>\n",
              "     <use style=\"fill:#1f77b4;stroke:#1f77b4;\" x=\"127.187764\" xlink:href=\"#m3cf4376498\" y=\"90.073988\"/>\n",
              "     <use style=\"fill:#1f77b4;stroke:#1f77b4;\" x=\"117.063295\" xlink:href=\"#m3cf4376498\" y=\"79.259302\"/>\n",
              "     <use style=\"fill:#1f77b4;stroke:#1f77b4;\" x=\"116.83926\" xlink:href=\"#m3cf4376498\" y=\"75.379011\"/>\n",
              "     <use style=\"fill:#1f77b4;stroke:#1f77b4;\" x=\"150.422405\" xlink:href=\"#m3cf4376498\" y=\"101.183985\"/>\n",
              "     <use style=\"fill:#1f77b4;stroke:#1f77b4;\" x=\"148.177663\" xlink:href=\"#m3cf4376498\" y=\"99.449156\"/>\n",
              "     <use style=\"fill:#1f77b4;stroke:#1f77b4;\" x=\"87.649987\" xlink:href=\"#m3cf4376498\" y=\"48.392863\"/>\n",
              "     <use style=\"fill:#1f77b4;stroke:#1f77b4;\" x=\"168.354268\" xlink:href=\"#m3cf4376498\" y=\"110.036557\"/>\n",
              "     <use style=\"fill:#1f77b4;stroke:#1f77b4;\" x=\"140.354034\" xlink:href=\"#m3cf4376498\" y=\"96.962251\"/>\n",
              "     <use style=\"fill:#1f77b4;stroke:#1f77b4;\" x=\"101.514028\" xlink:href=\"#m3cf4376498\" y=\"50.757158\"/>\n",
              "     <use style=\"fill:#1f77b4;stroke:#1f77b4;\" x=\"100.792475\" xlink:href=\"#m3cf4376498\" y=\"67.505157\"/>\n",
              "     <use style=\"fill:#1f77b4;stroke:#1f77b4;\" x=\"109.842728\" xlink:href=\"#m3cf4376498\" y=\"67.569684\"/>\n",
              "     <use style=\"fill:#1f77b4;stroke:#1f77b4;\" x=\"162.770147\" xlink:href=\"#m3cf4376498\" y=\"111.290971\"/>\n",
              "     <use style=\"fill:#1f77b4;stroke:#1f77b4;\" x=\"119.603379\" xlink:href=\"#m3cf4376498\" y=\"56.044992\"/>\n",
              "     <use style=\"fill:#1f77b4;stroke:#1f77b4;\" x=\"147.101556\" xlink:href=\"#m3cf4376498\" y=\"85.101015\"/>\n",
              "     <use style=\"fill:#1f77b4;stroke:#1f77b4;\" x=\"109.927496\" xlink:href=\"#m3cf4376498\" y=\"70.125426\"/>\n",
              "     <use style=\"fill:#1f77b4;stroke:#1f77b4;\" x=\"139.304426\" xlink:href=\"#m3cf4376498\" y=\"101.420506\"/>\n",
              "     <use style=\"fill:#1f77b4;stroke:#1f77b4;\" x=\"121.549443\" xlink:href=\"#m3cf4376498\" y=\"74.119287\"/>\n",
              "     <use style=\"fill:#1f77b4;stroke:#1f77b4;\" x=\"128.829186\" xlink:href=\"#m3cf4376498\" y=\"87.188036\"/>\n",
              "     <use style=\"fill:#1f77b4;stroke:#1f77b4;\" x=\"95.774588\" xlink:href=\"#m3cf4376498\" y=\"64.713018\"/>\n",
              "     <use style=\"fill:#1f77b4;stroke:#1f77b4;\" x=\"106.913119\" xlink:href=\"#m3cf4376498\" y=\"66.284242\"/>\n",
              "     <use style=\"fill:#1f77b4;stroke:#1f77b4;\" x=\"151.937562\" xlink:href=\"#m3cf4376498\" y=\"111.495833\"/>\n",
              "     <use style=\"fill:#1f77b4;stroke:#1f77b4;\" x=\"157.900679\" xlink:href=\"#m3cf4376498\" y=\"92.584378\"/>\n",
              "     <use style=\"fill:#1f77b4;stroke:#1f77b4;\" x=\"160.194416\" xlink:href=\"#m3cf4376498\" y=\"98.779496\"/>\n",
              "     <use style=\"fill:#1f77b4;stroke:#1f77b4;\" x=\"122.943301\" xlink:href=\"#m3cf4376498\" y=\"82.86985\"/>\n",
              "     <use style=\"fill:#1f77b4;stroke:#1f77b4;\" x=\"134.733173\" xlink:href=\"#m3cf4376498\" y=\"77.586921\"/>\n",
              "     <use style=\"fill:#1f77b4;stroke:#1f77b4;\" x=\"100.263312\" xlink:href=\"#m3cf4376498\" y=\"63.964368\"/>\n",
              "     <use style=\"fill:#1f77b4;stroke:#1f77b4;\" x=\"116.572243\" xlink:href=\"#m3cf4376498\" y=\"70.574163\"/>\n",
              "     <use style=\"fill:#1f77b4;stroke:#1f77b4;\" x=\"126.214597\" xlink:href=\"#m3cf4376498\" y=\"81.373613\"/>\n",
              "     <use style=\"fill:#1f77b4;stroke:#1f77b4;\" x=\"128.477778\" xlink:href=\"#m3cf4376498\" y=\"70.869777\"/>\n",
              "     <use style=\"fill:#1f77b4;stroke:#1f77b4;\" x=\"140.597634\" xlink:href=\"#m3cf4376498\" y=\"94.141696\"/>\n",
              "     <use style=\"fill:#1f77b4;stroke:#1f77b4;\" x=\"150.370668\" xlink:href=\"#m3cf4376498\" y=\"82.834167\"/>\n",
              "     <use style=\"fill:#1f77b4;stroke:#1f77b4;\" x=\"118.832767\" xlink:href=\"#m3cf4376498\" y=\"63.103698\"/>\n",
              "     <use style=\"fill:#1f77b4;stroke:#1f77b4;\" x=\"141.229478\" xlink:href=\"#m3cf4376498\" y=\"82.914915\"/>\n",
              "     <use style=\"fill:#1f77b4;stroke:#1f77b4;\" x=\"136.205025\" xlink:href=\"#m3cf4376498\" y=\"88.757635\"/>\n",
              "     <use style=\"fill:#1f77b4;stroke:#1f77b4;\" x=\"75.113953\" xlink:href=\"#m3cf4376498\" y=\"32.882959\"/>\n",
              "     <use style=\"fill:#1f77b4;stroke:#1f77b4;\" x=\"136.253251\" xlink:href=\"#m3cf4376498\" y=\"79.805868\"/>\n",
              "     <use style=\"fill:#1f77b4;stroke:#1f77b4;\" x=\"100.460376\" xlink:href=\"#m3cf4376498\" y=\"55.033308\"/>\n",
              "     <use style=\"fill:#1f77b4;stroke:#1f77b4;\" x=\"119.395912\" xlink:href=\"#m3cf4376498\" y=\"79.94573\"/>\n",
              "     <use style=\"fill:#1f77b4;stroke:#1f77b4;\" x=\"137.131874\" xlink:href=\"#m3cf4376498\" y=\"82.307363\"/>\n",
              "     <use style=\"fill:#1f77b4;stroke:#1f77b4;\" x=\"81.080884\" xlink:href=\"#m3cf4376498\" y=\"57.130757\"/>\n",
              "     <use style=\"fill:#1f77b4;stroke:#1f77b4;\" x=\"83.309425\" xlink:href=\"#m3cf4376498\" y=\"38.027477\"/>\n",
              "     <use style=\"fill:#1f77b4;stroke:#1f77b4;\" x=\"110.907744\" xlink:href=\"#m3cf4376498\" y=\"69.133567\"/>\n",
              "     <use style=\"fill:#1f77b4;stroke:#1f77b4;\" x=\"145.163554\" xlink:href=\"#m3cf4376498\" y=\"88.017235\"/>\n",
              "     <use style=\"fill:#1f77b4;stroke:#1f77b4;\" x=\"92.896411\" xlink:href=\"#m3cf4376498\" y=\"58.144262\"/>\n",
              "     <use style=\"fill:#1f77b4;stroke:#1f77b4;\" x=\"152.257532\" xlink:href=\"#m3cf4376498\" y=\"83.40488\"/>\n",
              "     <use style=\"fill:#1f77b4;stroke:#1f77b4;\" x=\"144.192805\" xlink:href=\"#m3cf4376498\" y=\"103.200065\"/>\n",
              "     <use style=\"fill:#1f77b4;stroke:#1f77b4;\" x=\"112.052584\" xlink:href=\"#m3cf4376498\" y=\"74.566463\"/>\n",
              "     <use style=\"fill:#1f77b4;stroke:#1f77b4;\" x=\"117.929887\" xlink:href=\"#m3cf4376498\" y=\"76.396239\"/>\n",
              "     <use style=\"fill:#1f77b4;stroke:#1f77b4;\" x=\"127.115249\" xlink:href=\"#m3cf4376498\" y=\"84.492854\"/>\n",
              "     <use style=\"fill:#1f77b4;stroke:#1f77b4;\" x=\"132.867906\" xlink:href=\"#m3cf4376498\" y=\"85.60613\"/>\n",
              "     <use style=\"fill:#1f77b4;stroke:#1f77b4;\" x=\"142.354998\" xlink:href=\"#m3cf4376498\" y=\"91.140486\"/>\n",
              "     <use style=\"fill:#1f77b4;stroke:#1f77b4;\" x=\"91.596935\" xlink:href=\"#m3cf4376498\" y=\"55.92525\"/>\n",
              "     <use style=\"fill:#1f77b4;stroke:#1f77b4;\" x=\"130.295266\" xlink:href=\"#m3cf4376498\" y=\"83.028229\"/>\n",
              "     <use style=\"fill:#1f77b4;stroke:#1f77b4;\" x=\"119.191276\" xlink:href=\"#m3cf4376498\" y=\"60.818934\"/>\n",
              "     <use style=\"fill:#1f77b4;stroke:#1f77b4;\" x=\"124.558109\" xlink:href=\"#m3cf4376498\" y=\"65.588613\"/>\n",
              "     <use style=\"fill:#1f77b4;stroke:#1f77b4;\" x=\"71.860213\" xlink:href=\"#m3cf4376498\" y=\"30.990039\"/>\n",
              "     <use style=\"fill:#1f77b4;stroke:#1f77b4;\" x=\"104.494078\" xlink:href=\"#m3cf4376498\" y=\"67.152827\"/>\n",
              "     <use style=\"fill:#1f77b4;stroke:#1f77b4;\" x=\"98.187383\" xlink:href=\"#m3cf4376498\" y=\"52.466371\"/>\n",
              "     <use style=\"fill:#1f77b4;stroke:#1f77b4;\" x=\"101.014865\" xlink:href=\"#m3cf4376498\" y=\"54.632377\"/>\n",
              "     <use style=\"fill:#1f77b4;stroke:#1f77b4;\" x=\"115.957438\" xlink:href=\"#m3cf4376498\" y=\"76.236422\"/>\n",
              "     <use style=\"fill:#1f77b4;stroke:#1f77b4;\" x=\"96.728067\" xlink:href=\"#m3cf4376498\" y=\"53.333765\"/>\n",
              "     <use style=\"fill:#1f77b4;stroke:#1f77b4;\" x=\"141.275277\" xlink:href=\"#m3cf4376498\" y=\"70.796631\"/>\n",
              "     <use style=\"fill:#1f77b4;stroke:#1f77b4;\" x=\"114.078573\" xlink:href=\"#m3cf4376498\" y=\"68.535305\"/>\n",
              "     <use style=\"fill:#1f77b4;stroke:#1f77b4;\" x=\"95.549701\" xlink:href=\"#m3cf4376498\" y=\"54.561698\"/>\n",
              "     <use style=\"fill:#1f77b4;stroke:#1f77b4;\" x=\"132.107925\" xlink:href=\"#m3cf4376498\" y=\"79.260797\"/>\n",
              "     <use style=\"fill:#1f77b4;stroke:#1f77b4;\" x=\"117.12434\" xlink:href=\"#m3cf4376498\" y=\"54.505672\"/>\n",
              "     <use style=\"fill:#1f77b4;stroke:#1f77b4;\" x=\"66.36641\" xlink:href=\"#m3cf4376498\" y=\"39.79576\"/>\n",
              "     <use style=\"fill:#1f77b4;stroke:#1f77b4;\" x=\"104.044644\" xlink:href=\"#m3cf4376498\" y=\"65.172171\"/>\n",
              "     <use style=\"fill:#1f77b4;stroke:#1f77b4;\" x=\"109.717839\" xlink:href=\"#m3cf4376498\" y=\"74.918482\"/>\n",
              "     <use style=\"fill:#1f77b4;stroke:#1f77b4;\" x=\"146.002729\" xlink:href=\"#m3cf4376498\" y=\"80.85833\"/>\n",
              "     <use style=\"fill:#1f77b4;stroke:#1f77b4;\" x=\"145.803703\" xlink:href=\"#m3cf4376498\" y=\"80.962042\"/>\n",
              "     <use style=\"fill:#1f77b4;stroke:#1f77b4;\" x=\"167.495154\" xlink:href=\"#m3cf4376498\" y=\"112.653486\"/>\n",
              "     <use style=\"fill:#1f77b4;stroke:#1f77b4;\" x=\"131.323914\" xlink:href=\"#m3cf4376498\" y=\"83.815244\"/>\n",
              "     <use style=\"fill:#1f77b4;stroke:#1f77b4;\" x=\"123.124575\" xlink:href=\"#m3cf4376498\" y=\"66.79213\"/>\n",
              "     <use style=\"fill:#1f77b4;stroke:#1f77b4;\" x=\"134.460962\" xlink:href=\"#m3cf4376498\" y=\"70.156666\"/>\n",
              "     <use style=\"fill:#1f77b4;stroke:#1f77b4;\" x=\"121.200273\" xlink:href=\"#m3cf4376498\" y=\"74.744298\"/>\n",
              "     <use style=\"fill:#1f77b4;stroke:#1f77b4;\" x=\"126.609675\" xlink:href=\"#m3cf4376498\" y=\"85.323499\"/>\n",
              "     <use style=\"fill:#1f77b4;stroke:#1f77b4;\" x=\"119.372014\" xlink:href=\"#m3cf4376498\" y=\"87.52342\"/>\n",
              "     <use style=\"fill:#1f77b4;stroke:#1f77b4;\" x=\"146.953542\" xlink:href=\"#m3cf4376498\" y=\"94.52779\"/>\n",
              "     <use style=\"fill:#1f77b4;stroke:#1f77b4;\" x=\"148.681926\" xlink:href=\"#m3cf4376498\" y=\"79.700411\"/>\n",
              "     <use style=\"fill:#1f77b4;stroke:#1f77b4;\" x=\"126.441115\" xlink:href=\"#m3cf4376498\" y=\"69.605999\"/>\n",
              "     <use style=\"fill:#1f77b4;stroke:#1f77b4;\" x=\"111.892859\" xlink:href=\"#m3cf4376498\" y=\"68.945203\"/>\n",
              "     <use style=\"fill:#1f77b4;stroke:#1f77b4;\" x=\"105.69353\" xlink:href=\"#m3cf4376498\" y=\"70.815943\"/>\n",
              "     <use style=\"fill:#1f77b4;stroke:#1f77b4;\" x=\"128.447086\" xlink:href=\"#m3cf4376498\" y=\"91.075526\"/>\n",
              "     <use style=\"fill:#1f77b4;stroke:#1f77b4;\" x=\"133.611323\" xlink:href=\"#m3cf4376498\" y=\"77.131673\"/>\n",
              "     <use style=\"fill:#1f77b4;stroke:#1f77b4;\" x=\"160.277651\" xlink:href=\"#m3cf4376498\" y=\"102.237748\"/>\n",
              "     <use style=\"fill:#1f77b4;stroke:#1f77b4;\" x=\"124.760243\" xlink:href=\"#m3cf4376498\" y=\"80.507499\"/>\n",
              "     <use style=\"fill:#1f77b4;stroke:#1f77b4;\" x=\"158.564369\" xlink:href=\"#m3cf4376498\" y=\"102.637638\"/>\n",
              "     <use style=\"fill:#1f77b4;stroke:#1f77b4;\" x=\"117.557929\" xlink:href=\"#m3cf4376498\" y=\"71.423128\"/>\n",
              "     <use style=\"fill:#1f77b4;stroke:#1f77b4;\" x=\"134.15958\" xlink:href=\"#m3cf4376498\" y=\"86.971278\"/>\n",
              "     <use style=\"fill:#1f77b4;stroke:#1f77b4;\" x=\"69.981255\" xlink:href=\"#m3cf4376498\" y=\"55.830431\"/>\n",
              "     <use style=\"fill:#1f77b4;stroke:#1f77b4;\" x=\"130.88444\" xlink:href=\"#m3cf4376498\" y=\"74.726665\"/>\n",
              "     <use style=\"fill:#1f77b4;stroke:#1f77b4;\" x=\"143.797133\" xlink:href=\"#m3cf4376498\" y=\"103.160668\"/>\n",
              "     <use style=\"fill:#1f77b4;stroke:#1f77b4;\" x=\"147.044258\" xlink:href=\"#m3cf4376498\" y=\"101.429949\"/>\n",
              "     <use style=\"fill:#1f77b4;stroke:#1f77b4;\" x=\"158.694855\" xlink:href=\"#m3cf4376498\" y=\"100.386647\"/>\n",
              "     <use style=\"fill:#1f77b4;stroke:#1f77b4;\" x=\"136.677995\" xlink:href=\"#m3cf4376498\" y=\"76.623215\"/>\n",
              "     <use style=\"fill:#1f77b4;stroke:#1f77b4;\" x=\"119.798403\" xlink:href=\"#m3cf4376498\" y=\"63.606958\"/>\n",
              "     <use style=\"fill:#1f77b4;stroke:#1f77b4;\" x=\"128.276047\" xlink:href=\"#m3cf4376498\" y=\"75.051297\"/>\n",
              "     <use style=\"fill:#1f77b4;stroke:#1f77b4;\" x=\"116.02684\" xlink:href=\"#m3cf4376498\" y=\"53.541846\"/>\n",
              "     <use style=\"fill:#1f77b4;stroke:#1f77b4;\" x=\"98.873793\" xlink:href=\"#m3cf4376498\" y=\"75.259295\"/>\n",
              "     <use style=\"fill:#1f77b4;stroke:#1f77b4;\" x=\"103.545942\" xlink:href=\"#m3cf4376498\" y=\"66.495645\"/>\n",
              "     <use style=\"fill:#1f77b4;stroke:#1f77b4;\" x=\"85.522062\" xlink:href=\"#m3cf4376498\" y=\"37.279556\"/>\n",
              "     <use style=\"fill:#1f77b4;stroke:#1f77b4;\" x=\"90.527145\" xlink:href=\"#m3cf4376498\" y=\"65.997072\"/>\n",
              "     <use style=\"fill:#1f77b4;stroke:#1f77b4;\" x=\"106.699037\" xlink:href=\"#m3cf4376498\" y=\"59.585699\"/>\n",
              "     <use style=\"fill:#1f77b4;stroke:#1f77b4;\" x=\"135.272481\" xlink:href=\"#m3cf4376498\" y=\"74.928937\"/>\n",
              "     <use style=\"fill:#1f77b4;stroke:#1f77b4;\" x=\"139.173976\" xlink:href=\"#m3cf4376498\" y=\"76.061223\"/>\n",
              "     <use style=\"fill:#1f77b4;stroke:#1f77b4;\" x=\"105.262733\" xlink:href=\"#m3cf4376498\" y=\"72.293237\"/>\n",
              "     <use style=\"fill:#1f77b4;stroke:#1f77b4;\" x=\"81.025608\" xlink:href=\"#m3cf4376498\" y=\"46.060419\"/>\n",
              "     <use style=\"fill:#1f77b4;stroke:#1f77b4;\" x=\"128.971139\" xlink:href=\"#m3cf4376498\" y=\"91.283683\"/>\n",
              "     <use style=\"fill:#1f77b4;stroke:#1f77b4;\" x=\"102.689253\" xlink:href=\"#m3cf4376498\" y=\"54.655964\"/>\n",
              "     <use style=\"fill:#1f77b4;stroke:#1f77b4;\" x=\"132.591411\" xlink:href=\"#m3cf4376498\" y=\"77.991476\"/>\n",
              "     <use style=\"fill:#1f77b4;stroke:#1f77b4;\" x=\"135.872757\" xlink:href=\"#m3cf4376498\" y=\"83.313928\"/>\n",
              "     <use style=\"fill:#1f77b4;stroke:#1f77b4;\" x=\"128.305737\" xlink:href=\"#m3cf4376498\" y=\"69.442067\"/>\n",
              "     <use style=\"fill:#1f77b4;stroke:#1f77b4;\" x=\"140.02327\" xlink:href=\"#m3cf4376498\" y=\"89.974678\"/>\n",
              "     <use style=\"fill:#1f77b4;stroke:#1f77b4;\" x=\"131.885444\" xlink:href=\"#m3cf4376498\" y=\"70.151422\"/>\n",
              "     <use style=\"fill:#1f77b4;stroke:#1f77b4;\" x=\"167.530971\" xlink:href=\"#m3cf4376498\" y=\"91.713875\"/>\n",
              "     <use style=\"fill:#1f77b4;stroke:#1f77b4;\" x=\"120.530974\" xlink:href=\"#m3cf4376498\" y=\"73.540182\"/>\n",
              "     <use style=\"fill:#1f77b4;stroke:#1f77b4;\" x=\"137.913221\" xlink:href=\"#m3cf4376498\" y=\"72.549603\"/>\n",
              "     <use style=\"fill:#1f77b4;stroke:#1f77b4;\" x=\"141.461556\" xlink:href=\"#m3cf4376498\" y=\"83.717288\"/>\n",
              "     <use style=\"fill:#1f77b4;stroke:#1f77b4;\" x=\"137.222322\" xlink:href=\"#m3cf4376498\" y=\"74.693412\"/>\n",
              "     <use style=\"fill:#1f77b4;stroke:#1f77b4;\" x=\"128.176477\" xlink:href=\"#m3cf4376498\" y=\"95.281959\"/>\n",
              "     <use style=\"fill:#1f77b4;stroke:#1f77b4;\" x=\"159.200372\" xlink:href=\"#m3cf4376498\" y=\"103.818021\"/>\n",
              "     <use style=\"fill:#1f77b4;stroke:#1f77b4;\" x=\"116.10507\" xlink:href=\"#m3cf4376498\" y=\"65.509038\"/>\n",
              "     <use style=\"fill:#1f77b4;stroke:#1f77b4;\" x=\"125.400247\" xlink:href=\"#m3cf4376498\" y=\"76.028842\"/>\n",
              "     <use style=\"fill:#1f77b4;stroke:#1f77b4;\" x=\"143.262402\" xlink:href=\"#m3cf4376498\" y=\"84.204938\"/>\n",
              "     <use style=\"fill:#1f77b4;stroke:#1f77b4;\" x=\"105.181299\" xlink:href=\"#m3cf4376498\" y=\"59.465887\"/>\n",
              "     <use style=\"fill:#1f77b4;stroke:#1f77b4;\" x=\"83.891557\" xlink:href=\"#m3cf4376498\" y=\"54.099691\"/>\n",
              "     <use style=\"fill:#1f77b4;stroke:#1f77b4;\" x=\"131.439113\" xlink:href=\"#m3cf4376498\" y=\"85.425922\"/>\n",
              "     <use style=\"fill:#1f77b4;stroke:#1f77b4;\" x=\"107.935264\" xlink:href=\"#m3cf4376498\" y=\"69.126706\"/>\n",
              "     <use style=\"fill:#1f77b4;stroke:#1f77b4;\" x=\"126.100264\" xlink:href=\"#m3cf4376498\" y=\"87.681595\"/>\n",
              "     <use style=\"fill:#1f77b4;stroke:#1f77b4;\" x=\"146.21764\" xlink:href=\"#m3cf4376498\" y=\"77.529508\"/>\n",
              "     <use style=\"fill:#1f77b4;stroke:#1f77b4;\" x=\"124.135955\" xlink:href=\"#m3cf4376498\" y=\"76.631341\"/>\n",
              "     <use style=\"fill:#1f77b4;stroke:#1f77b4;\" x=\"86.697356\" xlink:href=\"#m3cf4376498\" y=\"53.643726\"/>\n",
              "     <use style=\"fill:#1f77b4;stroke:#1f77b4;\" x=\"119.171084\" xlink:href=\"#m3cf4376498\" y=\"73.807907\"/>\n",
              "     <use style=\"fill:#1f77b4;stroke:#1f77b4;\" x=\"110.894207\" xlink:href=\"#m3cf4376498\" y=\"68.699441\"/>\n",
              "     <use style=\"fill:#1f77b4;stroke:#1f77b4;\" x=\"132.01245\" xlink:href=\"#m3cf4376498\" y=\"82.838051\"/>\n",
              "     <use style=\"fill:#1f77b4;stroke:#1f77b4;\" x=\"116.652862\" xlink:href=\"#m3cf4376498\" y=\"68.885473\"/>\n",
              "     <use style=\"fill:#1f77b4;stroke:#1f77b4;\" x=\"130.585177\" xlink:href=\"#m3cf4376498\" y=\"93.195882\"/>\n",
              "     <use style=\"fill:#1f77b4;stroke:#1f77b4;\" x=\"116.841847\" xlink:href=\"#m3cf4376498\" y=\"64.037953\"/>\n",
              "     <use style=\"fill:#1f77b4;stroke:#1f77b4;\" x=\"99.571752\" xlink:href=\"#m3cf4376498\" y=\"42.277424\"/>\n",
              "     <use style=\"fill:#1f77b4;stroke:#1f77b4;\" x=\"112.140212\" xlink:href=\"#m3cf4376498\" y=\"76.721458\"/>\n",
              "     <use style=\"fill:#1f77b4;stroke:#1f77b4;\" x=\"102.043255\" xlink:href=\"#m3cf4376498\" y=\"55.971146\"/>\n",
              "     <use style=\"fill:#1f77b4;stroke:#1f77b4;\" x=\"108.073514\" xlink:href=\"#m3cf4376498\" y=\"65.597472\"/>\n",
              "     <use style=\"fill:#1f77b4;stroke:#1f77b4;\" x=\"80.219709\" xlink:href=\"#m3cf4376498\" y=\"43.377615\"/>\n",
              "     <use style=\"fill:#1f77b4;stroke:#1f77b4;\" x=\"139.315587\" xlink:href=\"#m3cf4376498\" y=\"65.713277\"/>\n",
              "     <use style=\"fill:#1f77b4;stroke:#1f77b4;\" x=\"117.098289\" xlink:href=\"#m3cf4376498\" y=\"73.6679\"/>\n",
              "     <use style=\"fill:#1f77b4;stroke:#1f77b4;\" x=\"164.477645\" xlink:href=\"#m3cf4376498\" y=\"85.943266\"/>\n",
              "     <use style=\"fill:#1f77b4;stroke:#1f77b4;\" x=\"101.572411\" xlink:href=\"#m3cf4376498\" y=\"53.968817\"/>\n",
              "     <use style=\"fill:#1f77b4;stroke:#1f77b4;\" x=\"124.022785\" xlink:href=\"#m3cf4376498\" y=\"84.974904\"/>\n",
              "     <use style=\"fill:#1f77b4;stroke:#1f77b4;\" x=\"125.264773\" xlink:href=\"#m3cf4376498\" y=\"74.805307\"/>\n",
              "     <use style=\"fill:#1f77b4;stroke:#1f77b4;\" x=\"101.500495\" xlink:href=\"#m3cf4376498\" y=\"63.432017\"/>\n",
              "     <use style=\"fill:#1f77b4;stroke:#1f77b4;\" x=\"101.223888\" xlink:href=\"#m3cf4376498\" y=\"54.047948\"/>\n",
              "     <use style=\"fill:#1f77b4;stroke:#1f77b4;\" x=\"91.911641\" xlink:href=\"#m3cf4376498\" y=\"44.77412\"/>\n",
              "     <use style=\"fill:#1f77b4;stroke:#1f77b4;\" x=\"122.969936\" xlink:href=\"#m3cf4376498\" y=\"62.534669\"/>\n",
              "     <use style=\"fill:#1f77b4;stroke:#1f77b4;\" x=\"120.052977\" xlink:href=\"#m3cf4376498\" y=\"58.179765\"/>\n",
              "     <use style=\"fill:#1f77b4;stroke:#1f77b4;\" x=\"143.881904\" xlink:href=\"#m3cf4376498\" y=\"96.28277\"/>\n",
              "     <use style=\"fill:#1f77b4;stroke:#1f77b4;\" x=\"108.058146\" xlink:href=\"#m3cf4376498\" y=\"70.449045\"/>\n",
              "     <use style=\"fill:#1f77b4;stroke:#1f77b4;\" x=\"108.442019\" xlink:href=\"#m3cf4376498\" y=\"78.829749\"/>\n",
              "     <use style=\"fill:#1f77b4;stroke:#1f77b4;\" x=\"125.259055\" xlink:href=\"#m3cf4376498\" y=\"88.663148\"/>\n",
              "     <use style=\"fill:#1f77b4;stroke:#1f77b4;\" x=\"146.250979\" xlink:href=\"#m3cf4376498\" y=\"81.592362\"/>\n",
              "     <use style=\"fill:#1f77b4;stroke:#1f77b4;\" x=\"131.669254\" xlink:href=\"#m3cf4376498\" y=\"84.177263\"/>\n",
              "     <use style=\"fill:#1f77b4;stroke:#1f77b4;\" x=\"145.159515\" xlink:href=\"#m3cf4376498\" y=\"89.724457\"/>\n",
              "     <use style=\"fill:#1f77b4;stroke:#1f77b4;\" x=\"86.941862\" xlink:href=\"#m3cf4376498\" y=\"65.742303\"/>\n",
              "     <use style=\"fill:#1f77b4;stroke:#1f77b4;\" x=\"157.798635\" xlink:href=\"#m3cf4376498\" y=\"82.517661\"/>\n",
              "     <use style=\"fill:#1f77b4;stroke:#1f77b4;\" x=\"119.895428\" xlink:href=\"#m3cf4376498\" y=\"81.030584\"/>\n",
              "     <use style=\"fill:#1f77b4;stroke:#1f77b4;\" x=\"122.135011\" xlink:href=\"#m3cf4376498\" y=\"67.446295\"/>\n",
              "     <use style=\"fill:#1f77b4;stroke:#1f77b4;\" x=\"126.353147\" xlink:href=\"#m3cf4376498\" y=\"68.502098\"/>\n",
              "     <use style=\"fill:#1f77b4;stroke:#1f77b4;\" x=\"142.635952\" xlink:href=\"#m3cf4376498\" y=\"69.561989\"/>\n",
              "     <use style=\"fill:#1f77b4;stroke:#1f77b4;\" x=\"75.36902\" xlink:href=\"#m3cf4376498\" y=\"47.255377\"/>\n",
              "     <use style=\"fill:#1f77b4;stroke:#1f77b4;\" x=\"113.148648\" xlink:href=\"#m3cf4376498\" y=\"53.238144\"/>\n",
              "     <use style=\"fill:#1f77b4;stroke:#1f77b4;\" x=\"129.345365\" xlink:href=\"#m3cf4376498\" y=\"71.170018\"/>\n",
              "     <use style=\"fill:#1f77b4;stroke:#1f77b4;\" x=\"121.08631\" xlink:href=\"#m3cf4376498\" y=\"68.76552\"/>\n",
              "     <use style=\"fill:#1f77b4;stroke:#1f77b4;\" x=\"97.344808\" xlink:href=\"#m3cf4376498\" y=\"46.413363\"/>\n",
              "     <use style=\"fill:#1f77b4;stroke:#1f77b4;\" x=\"111.722466\" xlink:href=\"#m3cf4376498\" y=\"71.0963\"/>\n",
              "     <use style=\"fill:#1f77b4;stroke:#1f77b4;\" x=\"122.84815\" xlink:href=\"#m3cf4376498\" y=\"79.01709\"/>\n",
              "     <use style=\"fill:#1f77b4;stroke:#1f77b4;\" x=\"139.877393\" xlink:href=\"#m3cf4376498\" y=\"97.566042\"/>\n",
              "     <use style=\"fill:#1f77b4;stroke:#1f77b4;\" x=\"87.839426\" xlink:href=\"#m3cf4376498\" y=\"38.905271\"/>\n",
              "     <use style=\"fill:#1f77b4;stroke:#1f77b4;\" x=\"145.760676\" xlink:href=\"#m3cf4376498\" y=\"94.233082\"/>\n",
              "     <use style=\"fill:#1f77b4;stroke:#1f77b4;\" x=\"118.46084\" xlink:href=\"#m3cf4376498\" y=\"91.599736\"/>\n",
              "     <use style=\"fill:#1f77b4;stroke:#1f77b4;\" x=\"133.007294\" xlink:href=\"#m3cf4376498\" y=\"68.897337\"/>\n",
              "     <use style=\"fill:#1f77b4;stroke:#1f77b4;\" x=\"86.32159\" xlink:href=\"#m3cf4376498\" y=\"36.169735\"/>\n",
              "     <use style=\"fill:#1f77b4;stroke:#1f77b4;\" x=\"143.186598\" xlink:href=\"#m3cf4376498\" y=\"89.887993\"/>\n",
              "     <use style=\"fill:#1f77b4;stroke:#1f77b4;\" x=\"164.372298\" xlink:href=\"#m3cf4376498\" y=\"102.848354\"/>\n",
              "     <use style=\"fill:#1f77b4;stroke:#1f77b4;\" x=\"146.842007\" xlink:href=\"#m3cf4376498\" y=\"92.680913\"/>\n",
              "     <use style=\"fill:#1f77b4;stroke:#1f77b4;\" x=\"129.948645\" xlink:href=\"#m3cf4376498\" y=\"76.786802\"/>\n",
              "     <use style=\"fill:#1f77b4;stroke:#1f77b4;\" x=\"136.5131\" xlink:href=\"#m3cf4376498\" y=\"80.196075\"/>\n",
              "     <use style=\"fill:#1f77b4;stroke:#1f77b4;\" x=\"108.396539\" xlink:href=\"#m3cf4376498\" y=\"66.862492\"/>\n",
              "     <use style=\"fill:#1f77b4;stroke:#1f77b4;\" x=\"131.947803\" xlink:href=\"#m3cf4376498\" y=\"79.93723\"/>\n",
              "     <use style=\"fill:#1f77b4;stroke:#1f77b4;\" x=\"129.342333\" xlink:href=\"#m3cf4376498\" y=\"80.643679\"/>\n",
              "     <use style=\"fill:#1f77b4;stroke:#1f77b4;\" x=\"124.138385\" xlink:href=\"#m3cf4376498\" y=\"75.923532\"/>\n",
              "     <use style=\"fill:#1f77b4;stroke:#1f77b4;\" x=\"163.885002\" xlink:href=\"#m3cf4376498\" y=\"98.918092\"/>\n",
              "     <use style=\"fill:#1f77b4;stroke:#1f77b4;\" x=\"167.31251\" xlink:href=\"#m3cf4376498\" y=\"97.136312\"/>\n",
              "     <use style=\"fill:#1f77b4;stroke:#1f77b4;\" x=\"122.775137\" xlink:href=\"#m3cf4376498\" y=\"63.177101\"/>\n",
              "     <use style=\"fill:#1f77b4;stroke:#1f77b4;\" x=\"99.302986\" xlink:href=\"#m3cf4376498\" y=\"64.177077\"/>\n",
              "     <use style=\"fill:#1f77b4;stroke:#1f77b4;\" x=\"143.118624\" xlink:href=\"#m3cf4376498\" y=\"85.014033\"/>\n",
              "     <use style=\"fill:#1f77b4;stroke:#1f77b4;\" x=\"131.110533\" xlink:href=\"#m3cf4376498\" y=\"78.206269\"/>\n",
              "     <use style=\"fill:#1f77b4;stroke:#1f77b4;\" x=\"118.146815\" xlink:href=\"#m3cf4376498\" y=\"58.080929\"/>\n",
              "     <use style=\"fill:#1f77b4;stroke:#1f77b4;\" x=\"90.146813\" xlink:href=\"#m3cf4376498\" y=\"55.371621\"/>\n",
              "     <use style=\"fill:#1f77b4;stroke:#1f77b4;\" x=\"114.038296\" xlink:href=\"#m3cf4376498\" y=\"55.828017\"/>\n",
              "     <use style=\"fill:#1f77b4;stroke:#1f77b4;\" x=\"137.514754\" xlink:href=\"#m3cf4376498\" y=\"84.161722\"/>\n",
              "     <use style=\"fill:#1f77b4;stroke:#1f77b4;\" x=\"138.162132\" xlink:href=\"#m3cf4376498\" y=\"92.379348\"/>\n",
              "     <use style=\"fill:#1f77b4;stroke:#1f77b4;\" x=\"165.888\" xlink:href=\"#m3cf4376498\" y=\"99.416457\"/>\n",
              "     <use style=\"fill:#1f77b4;stroke:#1f77b4;\" x=\"142.845225\" xlink:href=\"#m3cf4376498\" y=\"87.884945\"/>\n",
              "     <use style=\"fill:#1f77b4;stroke:#1f77b4;\" x=\"116.884602\" xlink:href=\"#m3cf4376498\" y=\"76.745091\"/>\n",
              "     <use style=\"fill:#1f77b4;stroke:#1f77b4;\" x=\"109.583009\" xlink:href=\"#m3cf4376498\" y=\"63.955\"/>\n",
              "     <use style=\"fill:#1f77b4;stroke:#1f77b4;\" x=\"113.960775\" xlink:href=\"#m3cf4376498\" y=\"50.52184\"/>\n",
              "     <use style=\"fill:#1f77b4;stroke:#1f77b4;\" x=\"120.484934\" xlink:href=\"#m3cf4376498\" y=\"73.435468\"/>\n",
              "     <use style=\"fill:#1f77b4;stroke:#1f77b4;\" x=\"124.012806\" xlink:href=\"#m3cf4376498\" y=\"79.112686\"/>\n",
              "     <use style=\"fill:#1f77b4;stroke:#1f77b4;\" x=\"115.774915\" xlink:href=\"#m3cf4376498\" y=\"86.796136\"/>\n",
              "     <use style=\"fill:#1f77b4;stroke:#1f77b4;\" x=\"97.76319\" xlink:href=\"#m3cf4376498\" y=\"48.159884\"/>\n",
              "     <use style=\"fill:#1f77b4;stroke:#1f77b4;\" x=\"119.042231\" xlink:href=\"#m3cf4376498\" y=\"82.104741\"/>\n",
              "     <use style=\"fill:#1f77b4;stroke:#1f77b4;\" x=\"90.594742\" xlink:href=\"#m3cf4376498\" y=\"44.925768\"/>\n",
              "     <use style=\"fill:#1f77b4;stroke:#1f77b4;\" x=\"107.083809\" xlink:href=\"#m3cf4376498\" y=\"59.647792\"/>\n",
              "     <use style=\"fill:#1f77b4;stroke:#1f77b4;\" x=\"126.303237\" xlink:href=\"#m3cf4376498\" y=\"90.414089\"/>\n",
              "     <use style=\"fill:#1f77b4;stroke:#1f77b4;\" x=\"99.0824\" xlink:href=\"#m3cf4376498\" y=\"56.577213\"/>\n",
              "     <use style=\"fill:#1f77b4;stroke:#1f77b4;\" x=\"137.969327\" xlink:href=\"#m3cf4376498\" y=\"85.802746\"/>\n",
              "     <use style=\"fill:#1f77b4;stroke:#1f77b4;\" x=\"162.618432\" xlink:href=\"#m3cf4376498\" y=\"86.103091\"/>\n",
              "     <use style=\"fill:#1f77b4;stroke:#1f77b4;\" x=\"103.997692\" xlink:href=\"#m3cf4376498\" y=\"37.171591\"/>\n",
              "     <use style=\"fill:#1f77b4;stroke:#1f77b4;\" x=\"97.474259\" xlink:href=\"#m3cf4376498\" y=\"62.703153\"/>\n",
              "     <use style=\"fill:#1f77b4;stroke:#1f77b4;\" x=\"106.147665\" xlink:href=\"#m3cf4376498\" y=\"63.392946\"/>\n",
              "     <use style=\"fill:#1f77b4;stroke:#1f77b4;\" x=\"160.032508\" xlink:href=\"#m3cf4376498\" y=\"88.921465\"/>\n",
              "     <use style=\"fill:#1f77b4;stroke:#1f77b4;\" x=\"123.25461\" xlink:href=\"#m3cf4376498\" y=\"76.6902\"/>\n",
              "     <use style=\"fill:#1f77b4;stroke:#1f77b4;\" x=\"143.308974\" xlink:href=\"#m3cf4376498\" y=\"87.684306\"/>\n",
              "     <use style=\"fill:#1f77b4;stroke:#1f77b4;\" x=\"132.469422\" xlink:href=\"#m3cf4376498\" y=\"78.692752\"/>\n",
              "     <use style=\"fill:#1f77b4;stroke:#1f77b4;\" x=\"150.691312\" xlink:href=\"#m3cf4376498\" y=\"92.050874\"/>\n",
              "     <use style=\"fill:#1f77b4;stroke:#1f77b4;\" x=\"126.321192\" xlink:href=\"#m3cf4376498\" y=\"74.617473\"/>\n",
              "     <use style=\"fill:#1f77b4;stroke:#1f77b4;\" x=\"81.904901\" xlink:href=\"#m3cf4376498\" y=\"44.629299\"/>\n",
              "     <use style=\"fill:#1f77b4;stroke:#1f77b4;\" x=\"78.105232\" xlink:href=\"#m3cf4376498\" y=\"54.003406\"/>\n",
              "     <use style=\"fill:#1f77b4;stroke:#1f77b4;\" x=\"160.260303\" xlink:href=\"#m3cf4376498\" y=\"86.595073\"/>\n",
              "     <use style=\"fill:#1f77b4;stroke:#1f77b4;\" x=\"146.049457\" xlink:href=\"#m3cf4376498\" y=\"90.483842\"/>\n",
              "     <use style=\"fill:#1f77b4;stroke:#1f77b4;\" x=\"103.647574\" xlink:href=\"#m3cf4376498\" y=\"62.121815\"/>\n",
              "     <use style=\"fill:#1f77b4;stroke:#1f77b4;\" x=\"172.040205\" xlink:href=\"#m3cf4376498\" y=\"110.095943\"/>\n",
              "     <use style=\"fill:#1f77b4;stroke:#1f77b4;\" x=\"100.416117\" xlink:href=\"#m3cf4376498\" y=\"44.093578\"/>\n",
              "     <use style=\"fill:#1f77b4;stroke:#1f77b4;\" x=\"102.930939\" xlink:href=\"#m3cf4376498\" y=\"68.453355\"/>\n",
              "     <use style=\"fill:#1f77b4;stroke:#1f77b4;\" x=\"134.827434\" xlink:href=\"#m3cf4376498\" y=\"76.727772\"/>\n",
              "     <use style=\"fill:#1f77b4;stroke:#1f77b4;\" x=\"142.348603\" xlink:href=\"#m3cf4376498\" y=\"79.603869\"/>\n",
              "     <use style=\"fill:#1f77b4;stroke:#1f77b4;\" x=\"124.154402\" xlink:href=\"#m3cf4376498\" y=\"79.55875\"/>\n",
              "     <use style=\"fill:#1f77b4;stroke:#1f77b4;\" x=\"125.143211\" xlink:href=\"#m3cf4376498\" y=\"92.382306\"/>\n",
              "     <use style=\"fill:#1f77b4;stroke:#1f77b4;\" x=\"106.599872\" xlink:href=\"#m3cf4376498\" y=\"42.170645\"/>\n",
              "     <use style=\"fill:#1f77b4;stroke:#1f77b4;\" x=\"131.335972\" xlink:href=\"#m3cf4376498\" y=\"81.768594\"/>\n",
              "     <use style=\"fill:#1f77b4;stroke:#1f77b4;\" x=\"124.864541\" xlink:href=\"#m3cf4376498\" y=\"55.307972\"/>\n",
              "     <use style=\"fill:#1f77b4;stroke:#1f77b4;\" x=\"128.551128\" xlink:href=\"#m3cf4376498\" y=\"74.040252\"/>\n",
              "     <use style=\"fill:#1f77b4;stroke:#1f77b4;\" x=\"139.567981\" xlink:href=\"#m3cf4376498\" y=\"82.108594\"/>\n",
              "     <use style=\"fill:#1f77b4;stroke:#1f77b4;\" x=\"123.520245\" xlink:href=\"#m3cf4376498\" y=\"88.404943\"/>\n",
              "     <use style=\"fill:#1f77b4;stroke:#1f77b4;\" x=\"113.871087\" xlink:href=\"#m3cf4376498\" y=\"52.603583\"/>\n",
              "     <use style=\"fill:#1f77b4;stroke:#1f77b4;\" x=\"137.982407\" xlink:href=\"#m3cf4376498\" y=\"85.911574\"/>\n",
              "     <use style=\"fill:#1f77b4;stroke:#1f77b4;\" x=\"89.961484\" xlink:href=\"#m3cf4376498\" y=\"47.99191\"/>\n",
              "     <use style=\"fill:#1f77b4;stroke:#1f77b4;\" x=\"114.211202\" xlink:href=\"#m3cf4376498\" y=\"80.481087\"/>\n",
              "     <use style=\"fill:#1f77b4;stroke:#1f77b4;\" x=\"112.497986\" xlink:href=\"#m3cf4376498\" y=\"59.171033\"/>\n",
              "     <use style=\"fill:#1f77b4;stroke:#1f77b4;\" x=\"105.133682\" xlink:href=\"#m3cf4376498\" y=\"64.498171\"/>\n",
              "     <use style=\"fill:#1f77b4;stroke:#1f77b4;\" x=\"113.189079\" xlink:href=\"#m3cf4376498\" y=\"73.157841\"/>\n",
              "     <use style=\"fill:#1f77b4;stroke:#1f77b4;\" x=\"106.782383\" xlink:href=\"#m3cf4376498\" y=\"67.409115\"/>\n",
              "     <use style=\"fill:#1f77b4;stroke:#1f77b4;\" x=\"136.170937\" xlink:href=\"#m3cf4376498\" y=\"75.015258\"/>\n",
              "     <use style=\"fill:#1f77b4;stroke:#1f77b4;\" x=\"105.211388\" xlink:href=\"#m3cf4376498\" y=\"77.573739\"/>\n",
              "     <use style=\"fill:#1f77b4;stroke:#1f77b4;\" x=\"120.18936\" xlink:href=\"#m3cf4376498\" y=\"70.036828\"/>\n",
              "     <use style=\"fill:#1f77b4;stroke:#1f77b4;\" x=\"117.67785\" xlink:href=\"#m3cf4376498\" y=\"72.295049\"/>\n",
              "     <use style=\"fill:#1f77b4;stroke:#1f77b4;\" x=\"115.513867\" xlink:href=\"#m3cf4376498\" y=\"79.961239\"/>\n",
              "     <use style=\"fill:#1f77b4;stroke:#1f77b4;\" x=\"138.517307\" xlink:href=\"#m3cf4376498\" y=\"78.765528\"/>\n",
              "     <use style=\"fill:#1f77b4;stroke:#1f77b4;\" x=\"116.756992\" xlink:href=\"#m3cf4376498\" y=\"59.453669\"/>\n",
              "     <use style=\"fill:#1f77b4;stroke:#1f77b4;\" x=\"119.549702\" xlink:href=\"#m3cf4376498\" y=\"84.591301\"/>\n",
              "     <use style=\"fill:#1f77b4;stroke:#1f77b4;\" x=\"126.599588\" xlink:href=\"#m3cf4376498\" y=\"77.858348\"/>\n",
              "     <use style=\"fill:#1f77b4;stroke:#1f77b4;\" x=\"145.754558\" xlink:href=\"#m3cf4376498\" y=\"75.355142\"/>\n",
              "     <use style=\"fill:#1f77b4;stroke:#1f77b4;\" x=\"128.437566\" xlink:href=\"#m3cf4376498\" y=\"78.547385\"/>\n",
              "     <use style=\"fill:#1f77b4;stroke:#1f77b4;\" x=\"87.240792\" xlink:href=\"#m3cf4376498\" y=\"56.921287\"/>\n",
              "     <use style=\"fill:#1f77b4;stroke:#1f77b4;\" x=\"117.691831\" xlink:href=\"#m3cf4376498\" y=\"93.026939\"/>\n",
              "     <use style=\"fill:#1f77b4;stroke:#1f77b4;\" x=\"59.483176\" xlink:href=\"#m3cf4376498\" y=\"35.214481\"/>\n",
              "     <use style=\"fill:#1f77b4;stroke:#1f77b4;\" x=\"154.098534\" xlink:href=\"#m3cf4376498\" y=\"88.946668\"/>\n",
              "     <use style=\"fill:#1f77b4;stroke:#1f77b4;\" x=\"83.034866\" xlink:href=\"#m3cf4376498\" y=\"63.899902\"/>\n",
              "     <use style=\"fill:#1f77b4;stroke:#1f77b4;\" x=\"60.74078\" xlink:href=\"#m3cf4376498\" y=\"25.459999\"/>\n",
              "     <use style=\"fill:#1f77b4;stroke:#1f77b4;\" x=\"105.171951\" xlink:href=\"#m3cf4376498\" y=\"48.601441\"/>\n",
              "     <use style=\"fill:#1f77b4;stroke:#1f77b4;\" x=\"131.739263\" xlink:href=\"#m3cf4376498\" y=\"82.277057\"/>\n",
              "     <use style=\"fill:#1f77b4;stroke:#1f77b4;\" x=\"120.809899\" xlink:href=\"#m3cf4376498\" y=\"60.462733\"/>\n",
              "     <use style=\"fill:#1f77b4;stroke:#1f77b4;\" x=\"86.892116\" xlink:href=\"#m3cf4376498\" y=\"46.558136\"/>\n",
              "     <use style=\"fill:#1f77b4;stroke:#1f77b4;\" x=\"120.101367\" xlink:href=\"#m3cf4376498\" y=\"57.686042\"/>\n",
              "     <use style=\"fill:#1f77b4;stroke:#1f77b4;\" x=\"136.188638\" xlink:href=\"#m3cf4376498\" y=\"75.043943\"/>\n",
              "     <use style=\"fill:#1f77b4;stroke:#1f77b4;\" x=\"74.532569\" xlink:href=\"#m3cf4376498\" y=\"25.327894\"/>\n",
              "     <use style=\"fill:#1f77b4;stroke:#1f77b4;\" x=\"134.208901\" xlink:href=\"#m3cf4376498\" y=\"83.88769\"/>\n",
              "     <use style=\"fill:#1f77b4;stroke:#1f77b4;\" x=\"105.068492\" xlink:href=\"#m3cf4376498\" y=\"47.608878\"/>\n",
              "     <use style=\"fill:#1f77b4;stroke:#1f77b4;\" x=\"156.877761\" xlink:href=\"#m3cf4376498\" y=\"81.788597\"/>\n",
              "     <use style=\"fill:#1f77b4;stroke:#1f77b4;\" x=\"132.334762\" xlink:href=\"#m3cf4376498\" y=\"83.077712\"/>\n",
              "     <use style=\"fill:#1f77b4;stroke:#1f77b4;\" x=\"128.612583\" xlink:href=\"#m3cf4376498\" y=\"96.428138\"/>\n",
              "     <use style=\"fill:#1f77b4;stroke:#1f77b4;\" x=\"132.620603\" xlink:href=\"#m3cf4376498\" y=\"76.508318\"/>\n",
              "     <use style=\"fill:#1f77b4;stroke:#1f77b4;\" x=\"118.169076\" xlink:href=\"#m3cf4376498\" y=\"67.125341\"/>\n",
              "     <use style=\"fill:#1f77b4;stroke:#1f77b4;\" x=\"110.476684\" xlink:href=\"#m3cf4376498\" y=\"88.910081\"/>\n",
              "     <use style=\"fill:#1f77b4;stroke:#1f77b4;\" x=\"145.635287\" xlink:href=\"#m3cf4376498\" y=\"98.327777\"/>\n",
              "     <use style=\"fill:#1f77b4;stroke:#1f77b4;\" x=\"96.613326\" xlink:href=\"#m3cf4376498\" y=\"54.742792\"/>\n",
              "     <use style=\"fill:#1f77b4;stroke:#1f77b4;\" x=\"86.338889\" xlink:href=\"#m3cf4376498\" y=\"54.837265\"/>\n",
              "     <use style=\"fill:#1f77b4;stroke:#1f77b4;\" x=\"132.857576\" xlink:href=\"#m3cf4376498\" y=\"75.007807\"/>\n",
              "     <use style=\"fill:#1f77b4;stroke:#1f77b4;\" x=\"44.18196\" xlink:href=\"#m3cf4376498\" y=\"28.664465\"/>\n",
              "     <use style=\"fill:#1f77b4;stroke:#1f77b4;\" x=\"93.642539\" xlink:href=\"#m3cf4376498\" y=\"56.806665\"/>\n",
              "     <use style=\"fill:#1f77b4;stroke:#1f77b4;\" x=\"105.110894\" xlink:href=\"#m3cf4376498\" y=\"78.137292\"/>\n",
              "     <use style=\"fill:#1f77b4;stroke:#1f77b4;\" x=\"139.531071\" xlink:href=\"#m3cf4376498\" y=\"97.46438\"/>\n",
              "     <use style=\"fill:#1f77b4;stroke:#1f77b4;\" x=\"137.916325\" xlink:href=\"#m3cf4376498\" y=\"79.539617\"/>\n",
              "     <use style=\"fill:#1f77b4;stroke:#1f77b4;\" x=\"134.95718\" xlink:href=\"#m3cf4376498\" y=\"87.421504\"/>\n",
              "     <use style=\"fill:#1f77b4;stroke:#1f77b4;\" x=\"138.206862\" xlink:href=\"#m3cf4376498\" y=\"65.204151\"/>\n",
              "     <use style=\"fill:#1f77b4;stroke:#1f77b4;\" x=\"128.408853\" xlink:href=\"#m3cf4376498\" y=\"75.625483\"/>\n",
              "     <use style=\"fill:#1f77b4;stroke:#1f77b4;\" x=\"132.460355\" xlink:href=\"#m3cf4376498\" y=\"76.202096\"/>\n",
              "     <use style=\"fill:#1f77b4;stroke:#1f77b4;\" x=\"111.419863\" xlink:href=\"#m3cf4376498\" y=\"55.422444\"/>\n",
              "     <use style=\"fill:#1f77b4;stroke:#1f77b4;\" x=\"144.725185\" xlink:href=\"#m3cf4376498\" y=\"96.163357\"/>\n",
              "     <use style=\"fill:#1f77b4;stroke:#1f77b4;\" x=\"114.569897\" xlink:href=\"#m3cf4376498\" y=\"79.712671\"/>\n",
              "     <use style=\"fill:#1f77b4;stroke:#1f77b4;\" x=\"78.524701\" xlink:href=\"#m3cf4376498\" y=\"65.277064\"/>\n",
              "     <use style=\"fill:#1f77b4;stroke:#1f77b4;\" x=\"123.87844\" xlink:href=\"#m3cf4376498\" y=\"52.408741\"/>\n",
              "     <use style=\"fill:#1f77b4;stroke:#1f77b4;\" x=\"57.432081\" xlink:href=\"#m3cf4376498\" y=\"13.377273\"/>\n",
              "     <use style=\"fill:#1f77b4;stroke:#1f77b4;\" x=\"105.244655\" xlink:href=\"#m3cf4376498\" y=\"43.908764\"/>\n",
              "     <use style=\"fill:#1f77b4;stroke:#1f77b4;\" x=\"124.941208\" xlink:href=\"#m3cf4376498\" y=\"88.592365\"/>\n",
              "     <use style=\"fill:#1f77b4;stroke:#1f77b4;\" x=\"135.981899\" xlink:href=\"#m3cf4376498\" y=\"79.624537\"/>\n",
              "     <use style=\"fill:#1f77b4;stroke:#1f77b4;\" x=\"124.791509\" xlink:href=\"#m3cf4376498\" y=\"79.91937\"/>\n",
              "     <use style=\"fill:#1f77b4;stroke:#1f77b4;\" x=\"132.503195\" xlink:href=\"#m3cf4376498\" y=\"79.28744\"/>\n",
              "     <use style=\"fill:#1f77b4;stroke:#1f77b4;\" x=\"106.288416\" xlink:href=\"#m3cf4376498\" y=\"66.956257\"/>\n",
              "     <use style=\"fill:#1f77b4;stroke:#1f77b4;\" x=\"135.481057\" xlink:href=\"#m3cf4376498\" y=\"83.831068\"/>\n",
              "     <use style=\"fill:#1f77b4;stroke:#1f77b4;\" x=\"119.584075\" xlink:href=\"#m3cf4376498\" y=\"65.545573\"/>\n",
              "     <use style=\"fill:#1f77b4;stroke:#1f77b4;\" x=\"204.187375\" xlink:href=\"#m3cf4376498\" y=\"134.841135\"/>\n",
              "     <use style=\"fill:#1f77b4;stroke:#1f77b4;\" x=\"98.65807\" xlink:href=\"#m3cf4376498\" y=\"65.192823\"/>\n",
              "     <use style=\"fill:#1f77b4;stroke:#1f77b4;\" x=\"167.139677\" xlink:href=\"#m3cf4376498\" y=\"106.921736\"/>\n",
              "     <use style=\"fill:#1f77b4;stroke:#1f77b4;\" x=\"97.909059\" xlink:href=\"#m3cf4376498\" y=\"59.353012\"/>\n",
              "     <use style=\"fill:#1f77b4;stroke:#1f77b4;\" x=\"106.235487\" xlink:href=\"#m3cf4376498\" y=\"55.194009\"/>\n",
              "     <use style=\"fill:#1f77b4;stroke:#1f77b4;\" x=\"134.495458\" xlink:href=\"#m3cf4376498\" y=\"68.679429\"/>\n",
              "     <use style=\"fill:#1f77b4;stroke:#1f77b4;\" x=\"82.45903\" xlink:href=\"#m3cf4376498\" y=\"49.469428\"/>\n",
              "     <use style=\"fill:#1f77b4;stroke:#1f77b4;\" x=\"152.244924\" xlink:href=\"#m3cf4376498\" y=\"92.717927\"/>\n",
              "     <use style=\"fill:#1f77b4;stroke:#1f77b4;\" x=\"134.730783\" xlink:href=\"#m3cf4376498\" y=\"88.211631\"/>\n",
              "     <use style=\"fill:#1f77b4;stroke:#1f77b4;\" x=\"87.515043\" xlink:href=\"#m3cf4376498\" y=\"47.895328\"/>\n",
              "     <use style=\"fill:#1f77b4;stroke:#1f77b4;\" x=\"162.898688\" xlink:href=\"#m3cf4376498\" y=\"100.242106\"/>\n",
              "     <use style=\"fill:#1f77b4;stroke:#1f77b4;\" x=\"111.160719\" xlink:href=\"#m3cf4376498\" y=\"59.728727\"/>\n",
              "     <use style=\"fill:#1f77b4;stroke:#1f77b4;\" x=\"146.0899\" xlink:href=\"#m3cf4376498\" y=\"82.42323\"/>\n",
              "     <use style=\"fill:#1f77b4;stroke:#1f77b4;\" x=\"104.941587\" xlink:href=\"#m3cf4376498\" y=\"60.080536\"/>\n",
              "     <use style=\"fill:#1f77b4;stroke:#1f77b4;\" x=\"125.024426\" xlink:href=\"#m3cf4376498\" y=\"64.510761\"/>\n",
              "     <use style=\"fill:#1f77b4;stroke:#1f77b4;\" x=\"123.790154\" xlink:href=\"#m3cf4376498\" y=\"81.989555\"/>\n",
              "     <use style=\"fill:#1f77b4;stroke:#1f77b4;\" x=\"90.277479\" xlink:href=\"#m3cf4376498\" y=\"64.565599\"/>\n",
              "     <use style=\"fill:#1f77b4;stroke:#1f77b4;\" x=\"119.93047\" xlink:href=\"#m3cf4376498\" y=\"61.490715\"/>\n",
              "     <use style=\"fill:#1f77b4;stroke:#1f77b4;\" x=\"105.754298\" xlink:href=\"#m3cf4376498\" y=\"70.578131\"/>\n",
              "     <use style=\"fill:#1f77b4;stroke:#1f77b4;\" x=\"129.89387\" xlink:href=\"#m3cf4376498\" y=\"79.534732\"/>\n",
              "     <use style=\"fill:#1f77b4;stroke:#1f77b4;\" x=\"131.134445\" xlink:href=\"#m3cf4376498\" y=\"98.605381\"/>\n",
              "     <use style=\"fill:#1f77b4;stroke:#1f77b4;\" x=\"161.349915\" xlink:href=\"#m3cf4376498\" y=\"114.042568\"/>\n",
              "     <use style=\"fill:#1f77b4;stroke:#1f77b4;\" x=\"113.914842\" xlink:href=\"#m3cf4376498\" y=\"71.14029\"/>\n",
              "     <use style=\"fill:#1f77b4;stroke:#1f77b4;\" x=\"137.468157\" xlink:href=\"#m3cf4376498\" y=\"98.63567\"/>\n",
              "     <use style=\"fill:#1f77b4;stroke:#1f77b4;\" x=\"112.137024\" xlink:href=\"#m3cf4376498\" y=\"72.490115\"/>\n",
              "     <use style=\"fill:#1f77b4;stroke:#1f77b4;\" x=\"129.521655\" xlink:href=\"#m3cf4376498\" y=\"84.175113\"/>\n",
              "     <use style=\"fill:#1f77b4;stroke:#1f77b4;\" x=\"129.129892\" xlink:href=\"#m3cf4376498\" y=\"74.634061\"/>\n",
              "     <use style=\"fill:#1f77b4;stroke:#1f77b4;\" x=\"145.926866\" xlink:href=\"#m3cf4376498\" y=\"91.163908\"/>\n",
              "     <use style=\"fill:#1f77b4;stroke:#1f77b4;\" x=\"143.341627\" xlink:href=\"#m3cf4376498\" y=\"83.627411\"/>\n",
              "     <use style=\"fill:#1f77b4;stroke:#1f77b4;\" x=\"130.343678\" xlink:href=\"#m3cf4376498\" y=\"74.75851\"/>\n",
              "     <use style=\"fill:#1f77b4;stroke:#1f77b4;\" x=\"60.834909\" xlink:href=\"#m3cf4376498\" y=\"33.532642\"/>\n",
              "     <use style=\"fill:#1f77b4;stroke:#1f77b4;\" x=\"59.517141\" xlink:href=\"#m3cf4376498\" y=\"46.937678\"/>\n",
              "     <use style=\"fill:#1f77b4;stroke:#1f77b4;\" x=\"182.722808\" xlink:href=\"#m3cf4376498\" y=\"102.354558\"/>\n",
              "     <use style=\"fill:#1f77b4;stroke:#1f77b4;\" x=\"143.024904\" xlink:href=\"#m3cf4376498\" y=\"83.825033\"/>\n",
              "     <use style=\"fill:#1f77b4;stroke:#1f77b4;\" x=\"162.683315\" xlink:href=\"#m3cf4376498\" y=\"102.044038\"/>\n",
              "     <use style=\"fill:#1f77b4;stroke:#1f77b4;\" x=\"134.054719\" xlink:href=\"#m3cf4376498\" y=\"69.913163\"/>\n",
              "     <use style=\"fill:#1f77b4;stroke:#1f77b4;\" x=\"102.683121\" xlink:href=\"#m3cf4376498\" y=\"61.836029\"/>\n",
              "     <use style=\"fill:#1f77b4;stroke:#1f77b4;\" x=\"146.258354\" xlink:href=\"#m3cf4376498\" y=\"86.20434\"/>\n",
              "     <use style=\"fill:#1f77b4;stroke:#1f77b4;\" x=\"126.496652\" xlink:href=\"#m3cf4376498\" y=\"80.909049\"/>\n",
              "     <use style=\"fill:#1f77b4;stroke:#1f77b4;\" x=\"118.092008\" xlink:href=\"#m3cf4376498\" y=\"75.33118\"/>\n",
              "     <use style=\"fill:#1f77b4;stroke:#1f77b4;\" x=\"85.85883\" xlink:href=\"#m3cf4376498\" y=\"53.006379\"/>\n",
              "     <use style=\"fill:#1f77b4;stroke:#1f77b4;\" x=\"101.147009\" xlink:href=\"#m3cf4376498\" y=\"66.053163\"/>\n",
              "     <use style=\"fill:#1f77b4;stroke:#1f77b4;\" x=\"97.828784\" xlink:href=\"#m3cf4376498\" y=\"65.354436\"/>\n",
              "     <use style=\"fill:#1f77b4;stroke:#1f77b4;\" x=\"143.8186\" xlink:href=\"#m3cf4376498\" y=\"101.559911\"/>\n",
              "     <use style=\"fill:#1f77b4;stroke:#1f77b4;\" x=\"58.969592\" xlink:href=\"#m3cf4376498\" y=\"33.91201\"/>\n",
              "     <use style=\"fill:#1f77b4;stroke:#1f77b4;\" x=\"160.306723\" xlink:href=\"#m3cf4376498\" y=\"86.459936\"/>\n",
              "     <use style=\"fill:#1f77b4;stroke:#1f77b4;\" x=\"132.294452\" xlink:href=\"#m3cf4376498\" y=\"81.886595\"/>\n",
              "     <use style=\"fill:#1f77b4;stroke:#1f77b4;\" x=\"126.670219\" xlink:href=\"#m3cf4376498\" y=\"84.483314\"/>\n",
              "     <use style=\"fill:#1f77b4;stroke:#1f77b4;\" x=\"98.510316\" xlink:href=\"#m3cf4376498\" y=\"40.032982\"/>\n",
              "     <use style=\"fill:#1f77b4;stroke:#1f77b4;\" x=\"100.813737\" xlink:href=\"#m3cf4376498\" y=\"70.158971\"/>\n",
              "     <use style=\"fill:#1f77b4;stroke:#1f77b4;\" x=\"137.017937\" xlink:href=\"#m3cf4376498\" y=\"75.985286\"/>\n",
              "     <use style=\"fill:#1f77b4;stroke:#1f77b4;\" x=\"88.944502\" xlink:href=\"#m3cf4376498\" y=\"43.694162\"/>\n",
              "     <use style=\"fill:#1f77b4;stroke:#1f77b4;\" x=\"136.101344\" xlink:href=\"#m3cf4376498\" y=\"77.902045\"/>\n",
              "     <use style=\"fill:#1f77b4;stroke:#1f77b4;\" x=\"135.985974\" xlink:href=\"#m3cf4376498\" y=\"79.468104\"/>\n",
              "     <use style=\"fill:#1f77b4;stroke:#1f77b4;\" x=\"130.991876\" xlink:href=\"#m3cf4376498\" y=\"71.3108\"/>\n",
              "     <use style=\"fill:#1f77b4;stroke:#1f77b4;\" x=\"110.70998\" xlink:href=\"#m3cf4376498\" y=\"55.970872\"/>\n",
              "     <use style=\"fill:#1f77b4;stroke:#1f77b4;\" x=\"119.136578\" xlink:href=\"#m3cf4376498\" y=\"61.931366\"/>\n",
              "     <use style=\"fill:#1f77b4;stroke:#1f77b4;\" x=\"131.031702\" xlink:href=\"#m3cf4376498\" y=\"72.355213\"/>\n",
              "     <use style=\"fill:#1f77b4;stroke:#1f77b4;\" x=\"104.53025\" xlink:href=\"#m3cf4376498\" y=\"63.841563\"/>\n",
              "     <use style=\"fill:#1f77b4;stroke:#1f77b4;\" x=\"158.437166\" xlink:href=\"#m3cf4376498\" y=\"98.97585\"/>\n",
              "     <use style=\"fill:#1f77b4;stroke:#1f77b4;\" x=\"118.36391\" xlink:href=\"#m3cf4376498\" y=\"64.353945\"/>\n",
              "     <use style=\"fill:#1f77b4;stroke:#1f77b4;\" x=\"113.749848\" xlink:href=\"#m3cf4376498\" y=\"61.700281\"/>\n",
              "     <use style=\"fill:#1f77b4;stroke:#1f77b4;\" x=\"154.124126\" xlink:href=\"#m3cf4376498\" y=\"84.1696\"/>\n",
              "     <use style=\"fill:#1f77b4;stroke:#1f77b4;\" x=\"127.175638\" xlink:href=\"#m3cf4376498\" y=\"86.762934\"/>\n",
              "     <use style=\"fill:#1f77b4;stroke:#1f77b4;\" x=\"113.637286\" xlink:href=\"#m3cf4376498\" y=\"82.966981\"/>\n",
              "     <use style=\"fill:#1f77b4;stroke:#1f77b4;\" x=\"100.208807\" xlink:href=\"#m3cf4376498\" y=\"64.939057\"/>\n",
              "     <use style=\"fill:#1f77b4;stroke:#1f77b4;\" x=\"166.743529\" xlink:href=\"#m3cf4376498\" y=\"103.595657\"/>\n",
              "     <use style=\"fill:#1f77b4;stroke:#1f77b4;\" x=\"190.36717\" xlink:href=\"#m3cf4376498\" y=\"132.456625\"/>\n",
              "     <use style=\"fill:#1f77b4;stroke:#1f77b4;\" x=\"70.584892\" xlink:href=\"#m3cf4376498\" y=\"42.593417\"/>\n",
              "     <use style=\"fill:#1f77b4;stroke:#1f77b4;\" x=\"125.570405\" xlink:href=\"#m3cf4376498\" y=\"74.437711\"/>\n",
              "     <use style=\"fill:#1f77b4;stroke:#1f77b4;\" x=\"122.768925\" xlink:href=\"#m3cf4376498\" y=\"66.168009\"/>\n",
              "     <use style=\"fill:#1f77b4;stroke:#1f77b4;\" x=\"144.719181\" xlink:href=\"#m3cf4376498\" y=\"94.33121\"/>\n",
              "     <use style=\"fill:#1f77b4;stroke:#1f77b4;\" x=\"108.001715\" xlink:href=\"#m3cf4376498\" y=\"71.666959\"/>\n",
              "     <use style=\"fill:#1f77b4;stroke:#1f77b4;\" x=\"104.619853\" xlink:href=\"#m3cf4376498\" y=\"42.008345\"/>\n",
              "     <use style=\"fill:#1f77b4;stroke:#1f77b4;\" x=\"88.178034\" xlink:href=\"#m3cf4376498\" y=\"68.007456\"/>\n",
              "     <use style=\"fill:#1f77b4;stroke:#1f77b4;\" x=\"127.140172\" xlink:href=\"#m3cf4376498\" y=\"91.495885\"/>\n",
              "     <use style=\"fill:#1f77b4;stroke:#1f77b4;\" x=\"120.887214\" xlink:href=\"#m3cf4376498\" y=\"69.573166\"/>\n",
              "     <use style=\"fill:#1f77b4;stroke:#1f77b4;\" x=\"111.854448\" xlink:href=\"#m3cf4376498\" y=\"68.100753\"/>\n",
              "     <use style=\"fill:#1f77b4;stroke:#1f77b4;\" x=\"110.860644\" xlink:href=\"#m3cf4376498\" y=\"61.471306\"/>\n",
              "     <use style=\"fill:#1f77b4;stroke:#1f77b4;\" x=\"155.817627\" xlink:href=\"#m3cf4376498\" y=\"95.903356\"/>\n",
              "     <use style=\"fill:#1f77b4;stroke:#1f77b4;\" x=\"120.051295\" xlink:href=\"#m3cf4376498\" y=\"88.145445\"/>\n",
              "     <use style=\"fill:#1f77b4;stroke:#1f77b4;\" x=\"97.539864\" xlink:href=\"#m3cf4376498\" y=\"74.579751\"/>\n",
              "     <use style=\"fill:#1f77b4;stroke:#1f77b4;\" x=\"123.72701\" xlink:href=\"#m3cf4376498\" y=\"83.200562\"/>\n",
              "     <use style=\"fill:#1f77b4;stroke:#1f77b4;\" x=\"111.89278\" xlink:href=\"#m3cf4376498\" y=\"68.064016\"/>\n",
              "     <use style=\"fill:#1f77b4;stroke:#1f77b4;\" x=\"146.10769\" xlink:href=\"#m3cf4376498\" y=\"80.998254\"/>\n",
              "     <use style=\"fill:#1f77b4;stroke:#1f77b4;\" x=\"135.913547\" xlink:href=\"#m3cf4376498\" y=\"65.528091\"/>\n",
              "     <use style=\"fill:#1f77b4;stroke:#1f77b4;\" x=\"150.261728\" xlink:href=\"#m3cf4376498\" y=\"90.458237\"/>\n",
              "     <use style=\"fill:#1f77b4;stroke:#1f77b4;\" x=\"102.665433\" xlink:href=\"#m3cf4376498\" y=\"73.095139\"/>\n",
              "     <use style=\"fill:#1f77b4;stroke:#1f77b4;\" x=\"129.370342\" xlink:href=\"#m3cf4376498\" y=\"78.416437\"/>\n",
              "     <use style=\"fill:#1f77b4;stroke:#1f77b4;\" x=\"100.833155\" xlink:href=\"#m3cf4376498\" y=\"63.803854\"/>\n",
              "     <use style=\"fill:#1f77b4;stroke:#1f77b4;\" x=\"101.175113\" xlink:href=\"#m3cf4376498\" y=\"53.721416\"/>\n",
              "     <use style=\"fill:#1f77b4;stroke:#1f77b4;\" x=\"121.783372\" xlink:href=\"#m3cf4376498\" y=\"92.131285\"/>\n",
              "     <use style=\"fill:#1f77b4;stroke:#1f77b4;\" x=\"138.659349\" xlink:href=\"#m3cf4376498\" y=\"93.065515\"/>\n",
              "     <use style=\"fill:#1f77b4;stroke:#1f77b4;\" x=\"113.812322\" xlink:href=\"#m3cf4376498\" y=\"61.425542\"/>\n",
              "     <use style=\"fill:#1f77b4;stroke:#1f77b4;\" x=\"130.720853\" xlink:href=\"#m3cf4376498\" y=\"79.332745\"/>\n",
              "     <use style=\"fill:#1f77b4;stroke:#1f77b4;\" x=\"147.004104\" xlink:href=\"#m3cf4376498\" y=\"97.794106\"/>\n",
              "     <use style=\"fill:#1f77b4;stroke:#1f77b4;\" x=\"97.930722\" xlink:href=\"#m3cf4376498\" y=\"63.221528\"/>\n",
              "     <use style=\"fill:#1f77b4;stroke:#1f77b4;\" x=\"118.908535\" xlink:href=\"#m3cf4376498\" y=\"58.6806\"/>\n",
              "     <use style=\"fill:#1f77b4;stroke:#1f77b4;\" x=\"139.564642\" xlink:href=\"#m3cf4376498\" y=\"83.925136\"/>\n",
              "     <use style=\"fill:#1f77b4;stroke:#1f77b4;\" x=\"178.231408\" xlink:href=\"#m3cf4376498\" y=\"113.524087\"/>\n",
              "     <use style=\"fill:#1f77b4;stroke:#1f77b4;\" x=\"145.36681\" xlink:href=\"#m3cf4376498\" y=\"94.712188\"/>\n",
              "     <use style=\"fill:#1f77b4;stroke:#1f77b4;\" x=\"79.292281\" xlink:href=\"#m3cf4376498\" y=\"57.063726\"/>\n",
              "     <use style=\"fill:#1f77b4;stroke:#1f77b4;\" x=\"132.908762\" xlink:href=\"#m3cf4376498\" y=\"78.454926\"/>\n",
              "     <use style=\"fill:#1f77b4;stroke:#1f77b4;\" x=\"145.53742\" xlink:href=\"#m3cf4376498\" y=\"104.024215\"/>\n",
              "     <use style=\"fill:#1f77b4;stroke:#1f77b4;\" x=\"106.87779\" xlink:href=\"#m3cf4376498\" y=\"67.602735\"/>\n",
              "     <use style=\"fill:#1f77b4;stroke:#1f77b4;\" x=\"102.563123\" xlink:href=\"#m3cf4376498\" y=\"69.927899\"/>\n",
              "     <use style=\"fill:#1f77b4;stroke:#1f77b4;\" x=\"131.349682\" xlink:href=\"#m3cf4376498\" y=\"75.904194\"/>\n",
              "     <use style=\"fill:#1f77b4;stroke:#1f77b4;\" x=\"109.846644\" xlink:href=\"#m3cf4376498\" y=\"57.316108\"/>\n",
              "     <use style=\"fill:#1f77b4;stroke:#1f77b4;\" x=\"131.882274\" xlink:href=\"#m3cf4376498\" y=\"66.998754\"/>\n",
              "     <use style=\"fill:#1f77b4;stroke:#1f77b4;\" x=\"119.122468\" xlink:href=\"#m3cf4376498\" y=\"70.386775\"/>\n",
              "     <use style=\"fill:#1f77b4;stroke:#1f77b4;\" x=\"99.574133\" xlink:href=\"#m3cf4376498\" y=\"71.512271\"/>\n",
              "     <use style=\"fill:#1f77b4;stroke:#1f77b4;\" x=\"122.391232\" xlink:href=\"#m3cf4376498\" y=\"73.511187\"/>\n",
              "     <use style=\"fill:#1f77b4;stroke:#1f77b4;\" x=\"115.584909\" xlink:href=\"#m3cf4376498\" y=\"72.938987\"/>\n",
              "     <use style=\"fill:#1f77b4;stroke:#1f77b4;\" x=\"148.490566\" xlink:href=\"#m3cf4376498\" y=\"100.840087\"/>\n",
              "     <use style=\"fill:#1f77b4;stroke:#1f77b4;\" x=\"112.746901\" xlink:href=\"#m3cf4376498\" y=\"64.453986\"/>\n",
              "     <use style=\"fill:#1f77b4;stroke:#1f77b4;\" x=\"122.941116\" xlink:href=\"#m3cf4376498\" y=\"77.137512\"/>\n",
              "     <use style=\"fill:#1f77b4;stroke:#1f77b4;\" x=\"90.149814\" xlink:href=\"#m3cf4376498\" y=\"51.835486\"/>\n",
              "     <use style=\"fill:#1f77b4;stroke:#1f77b4;\" x=\"146.593459\" xlink:href=\"#m3cf4376498\" y=\"86.879212\"/>\n",
              "     <use style=\"fill:#1f77b4;stroke:#1f77b4;\" x=\"147.224946\" xlink:href=\"#m3cf4376498\" y=\"77.520271\"/>\n",
              "     <use style=\"fill:#1f77b4;stroke:#1f77b4;\" x=\"88.904041\" xlink:href=\"#m3cf4376498\" y=\"47.143017\"/>\n",
              "     <use style=\"fill:#1f77b4;stroke:#1f77b4;\" x=\"107.933412\" xlink:href=\"#m3cf4376498\" y=\"68.929523\"/>\n",
              "     <use style=\"fill:#1f77b4;stroke:#1f77b4;\" x=\"99.057421\" xlink:href=\"#m3cf4376498\" y=\"49.623822\"/>\n",
              "     <use style=\"fill:#1f77b4;stroke:#1f77b4;\" x=\"140.903703\" xlink:href=\"#m3cf4376498\" y=\"85.664151\"/>\n",
              "     <use style=\"fill:#1f77b4;stroke:#1f77b4;\" x=\"155.267873\" xlink:href=\"#m3cf4376498\" y=\"100.949262\"/>\n",
              "     <use style=\"fill:#1f77b4;stroke:#1f77b4;\" x=\"109.690045\" xlink:href=\"#m3cf4376498\" y=\"55.63154\"/>\n",
              "     <use style=\"fill:#1f77b4;stroke:#1f77b4;\" x=\"140.530421\" xlink:href=\"#m3cf4376498\" y=\"64.733114\"/>\n",
              "     <use style=\"fill:#1f77b4;stroke:#1f77b4;\" x=\"95.333056\" xlink:href=\"#m3cf4376498\" y=\"44.357\"/>\n",
              "     <use style=\"fill:#1f77b4;stroke:#1f77b4;\" x=\"89.614877\" xlink:href=\"#m3cf4376498\" y=\"51.415009\"/>\n",
              "     <use style=\"fill:#1f77b4;stroke:#1f77b4;\" x=\"166.566557\" xlink:href=\"#m3cf4376498\" y=\"87.254073\"/>\n",
              "     <use style=\"fill:#1f77b4;stroke:#1f77b4;\" x=\"106.125142\" xlink:href=\"#m3cf4376498\" y=\"63.213238\"/>\n",
              "     <use style=\"fill:#1f77b4;stroke:#1f77b4;\" x=\"150.21309\" xlink:href=\"#m3cf4376498\" y=\"85.972838\"/>\n",
              "     <use style=\"fill:#1f77b4;stroke:#1f77b4;\" x=\"124.577511\" xlink:href=\"#m3cf4376498\" y=\"75.705652\"/>\n",
              "     <use style=\"fill:#1f77b4;stroke:#1f77b4;\" x=\"123.669524\" xlink:href=\"#m3cf4376498\" y=\"80.261583\"/>\n",
              "     <use style=\"fill:#1f77b4;stroke:#1f77b4;\" x=\"117.960439\" xlink:href=\"#m3cf4376498\" y=\"67.630979\"/>\n",
              "     <use style=\"fill:#1f77b4;stroke:#1f77b4;\" x=\"95.594884\" xlink:href=\"#m3cf4376498\" y=\"74.961034\"/>\n",
              "     <use style=\"fill:#1f77b4;stroke:#1f77b4;\" x=\"128.007813\" xlink:href=\"#m3cf4376498\" y=\"65.298582\"/>\n",
              "     <use style=\"fill:#1f77b4;stroke:#1f77b4;\" x=\"153.284104\" xlink:href=\"#m3cf4376498\" y=\"102.019996\"/>\n",
              "     <use style=\"fill:#1f77b4;stroke:#1f77b4;\" x=\"95.023535\" xlink:href=\"#m3cf4376498\" y=\"57.884233\"/>\n",
              "     <use style=\"fill:#1f77b4;stroke:#1f77b4;\" x=\"152.599142\" xlink:href=\"#m3cf4376498\" y=\"94.240493\"/>\n",
              "     <use style=\"fill:#1f77b4;stroke:#1f77b4;\" x=\"95.943799\" xlink:href=\"#m3cf4376498\" y=\"45.87289\"/>\n",
              "     <use style=\"fill:#1f77b4;stroke:#1f77b4;\" x=\"109.807703\" xlink:href=\"#m3cf4376498\" y=\"50.682152\"/>\n",
              "     <use style=\"fill:#1f77b4;stroke:#1f77b4;\" x=\"128.674024\" xlink:href=\"#m3cf4376498\" y=\"88.337373\"/>\n",
              "     <use style=\"fill:#1f77b4;stroke:#1f77b4;\" x=\"112.78591\" xlink:href=\"#m3cf4376498\" y=\"71.305266\"/>\n",
              "     <use style=\"fill:#1f77b4;stroke:#1f77b4;\" x=\"84.047419\" xlink:href=\"#m3cf4376498\" y=\"60.5606\"/>\n",
              "     <use style=\"fill:#1f77b4;stroke:#1f77b4;\" x=\"131.473656\" xlink:href=\"#m3cf4376498\" y=\"78.693231\"/>\n",
              "     <use style=\"fill:#1f77b4;stroke:#1f77b4;\" x=\"170.380271\" xlink:href=\"#m3cf4376498\" y=\"107.083454\"/>\n",
              "     <use style=\"fill:#1f77b4;stroke:#1f77b4;\" x=\"86.701243\" xlink:href=\"#m3cf4376498\" y=\"50.499773\"/>\n",
              "     <use style=\"fill:#1f77b4;stroke:#1f77b4;\" x=\"124.856925\" xlink:href=\"#m3cf4376498\" y=\"75.726647\"/>\n",
              "     <use style=\"fill:#1f77b4;stroke:#1f77b4;\" x=\"126.022712\" xlink:href=\"#m3cf4376498\" y=\"78.449592\"/>\n",
              "     <use style=\"fill:#1f77b4;stroke:#1f77b4;\" x=\"141.527317\" xlink:href=\"#m3cf4376498\" y=\"76.078774\"/>\n",
              "     <use style=\"fill:#1f77b4;stroke:#1f77b4;\" x=\"179.27217\" xlink:href=\"#m3cf4376498\" y=\"116.576015\"/>\n",
              "     <use style=\"fill:#1f77b4;stroke:#1f77b4;\" x=\"155.308653\" xlink:href=\"#m3cf4376498\" y=\"96.974225\"/>\n",
              "     <use style=\"fill:#1f77b4;stroke:#1f77b4;\" x=\"132.359056\" xlink:href=\"#m3cf4376498\" y=\"71.700255\"/>\n",
              "     <use style=\"fill:#1f77b4;stroke:#1f77b4;\" x=\"117.233201\" xlink:href=\"#m3cf4376498\" y=\"85.419766\"/>\n",
              "     <use style=\"fill:#1f77b4;stroke:#1f77b4;\" x=\"106.695391\" xlink:href=\"#m3cf4376498\" y=\"76.96926\"/>\n",
              "     <use style=\"fill:#1f77b4;stroke:#1f77b4;\" x=\"96.261474\" xlink:href=\"#m3cf4376498\" y=\"74.912232\"/>\n",
              "     <use style=\"fill:#1f77b4;stroke:#1f77b4;\" x=\"82.731922\" xlink:href=\"#m3cf4376498\" y=\"56.16243\"/>\n",
              "     <use style=\"fill:#1f77b4;stroke:#1f77b4;\" x=\"118.683718\" xlink:href=\"#m3cf4376498\" y=\"79.606472\"/>\n",
              "     <use style=\"fill:#1f77b4;stroke:#1f77b4;\" x=\"107.792862\" xlink:href=\"#m3cf4376498\" y=\"74.453309\"/>\n",
              "     <use style=\"fill:#1f77b4;stroke:#1f77b4;\" x=\"99.355183\" xlink:href=\"#m3cf4376498\" y=\"66.013505\"/>\n",
              "     <use style=\"fill:#1f77b4;stroke:#1f77b4;\" x=\"117.523081\" xlink:href=\"#m3cf4376498\" y=\"84.015961\"/>\n",
              "     <use style=\"fill:#1f77b4;stroke:#1f77b4;\" x=\"148.316366\" xlink:href=\"#m3cf4376498\" y=\"87.019275\"/>\n",
              "     <use style=\"fill:#1f77b4;stroke:#1f77b4;\" x=\"134.216214\" xlink:href=\"#m3cf4376498\" y=\"77.02688\"/>\n",
              "     <use style=\"fill:#1f77b4;stroke:#1f77b4;\" x=\"71.275843\" xlink:href=\"#m3cf4376498\" y=\"39.872432\"/>\n",
              "     <use style=\"fill:#1f77b4;stroke:#1f77b4;\" x=\"106.751009\" xlink:href=\"#m3cf4376498\" y=\"56.987506\"/>\n",
              "     <use style=\"fill:#1f77b4;stroke:#1f77b4;\" x=\"125.883301\" xlink:href=\"#m3cf4376498\" y=\"68.524012\"/>\n",
              "     <use style=\"fill:#1f77b4;stroke:#1f77b4;\" x=\"142.883395\" xlink:href=\"#m3cf4376498\" y=\"91.307069\"/>\n",
              "     <use style=\"fill:#1f77b4;stroke:#1f77b4;\" x=\"119.939229\" xlink:href=\"#m3cf4376498\" y=\"84.137038\"/>\n",
              "     <use style=\"fill:#1f77b4;stroke:#1f77b4;\" x=\"119.456411\" xlink:href=\"#m3cf4376498\" y=\"81.679272\"/>\n",
              "     <use style=\"fill:#1f77b4;stroke:#1f77b4;\" x=\"70.700552\" xlink:href=\"#m3cf4376498\" y=\"52.980972\"/>\n",
              "     <use style=\"fill:#1f77b4;stroke:#1f77b4;\" x=\"134.590319\" xlink:href=\"#m3cf4376498\" y=\"83.282936\"/>\n",
              "     <use style=\"fill:#1f77b4;stroke:#1f77b4;\" x=\"100.604244\" xlink:href=\"#m3cf4376498\" y=\"66.802898\"/>\n",
              "     <use style=\"fill:#1f77b4;stroke:#1f77b4;\" x=\"130.334228\" xlink:href=\"#m3cf4376498\" y=\"85.263819\"/>\n",
              "     <use style=\"fill:#1f77b4;stroke:#1f77b4;\" x=\"119.510956\" xlink:href=\"#m3cf4376498\" y=\"66.560484\"/>\n",
              "     <use style=\"fill:#1f77b4;stroke:#1f77b4;\" x=\"102.560033\" xlink:href=\"#m3cf4376498\" y=\"34.439563\"/>\n",
              "     <use style=\"fill:#1f77b4;stroke:#1f77b4;\" x=\"160.891021\" xlink:href=\"#m3cf4376498\" y=\"94.573644\"/>\n",
              "     <use style=\"fill:#1f77b4;stroke:#1f77b4;\" x=\"150.214373\" xlink:href=\"#m3cf4376498\" y=\"99.036946\"/>\n",
              "     <use style=\"fill:#1f77b4;stroke:#1f77b4;\" x=\"130.228059\" xlink:href=\"#m3cf4376498\" y=\"80.410571\"/>\n",
              "     <use style=\"fill:#1f77b4;stroke:#1f77b4;\" x=\"158.922743\" xlink:href=\"#m3cf4376498\" y=\"84.786229\"/>\n",
              "     <use style=\"fill:#1f77b4;stroke:#1f77b4;\" x=\"106.520107\" xlink:href=\"#m3cf4376498\" y=\"72.73801\"/>\n",
              "     <use style=\"fill:#1f77b4;stroke:#1f77b4;\" x=\"113.493649\" xlink:href=\"#m3cf4376498\" y=\"78.395769\"/>\n",
              "     <use style=\"fill:#1f77b4;stroke:#1f77b4;\" x=\"108.103444\" xlink:href=\"#m3cf4376498\" y=\"70.588627\"/>\n",
              "     <use style=\"fill:#1f77b4;stroke:#1f77b4;\" x=\"115.655816\" xlink:href=\"#m3cf4376498\" y=\"68.111662\"/>\n",
              "     <use style=\"fill:#1f77b4;stroke:#1f77b4;\" x=\"128.183914\" xlink:href=\"#m3cf4376498\" y=\"70.520109\"/>\n",
              "     <use style=\"fill:#1f77b4;stroke:#1f77b4;\" x=\"128.139862\" xlink:href=\"#m3cf4376498\" y=\"81.520766\"/>\n",
              "     <use style=\"fill:#1f77b4;stroke:#1f77b4;\" x=\"129.833784\" xlink:href=\"#m3cf4376498\" y=\"82.511943\"/>\n",
              "     <use style=\"fill:#1f77b4;stroke:#1f77b4;\" x=\"99.403861\" xlink:href=\"#m3cf4376498\" y=\"49.501568\"/>\n",
              "     <use style=\"fill:#1f77b4;stroke:#1f77b4;\" x=\"153.338022\" xlink:href=\"#m3cf4376498\" y=\"90.349866\"/>\n",
              "     <use style=\"fill:#1f77b4;stroke:#1f77b4;\" x=\"118.959724\" xlink:href=\"#m3cf4376498\" y=\"69.161012\"/>\n",
              "     <use style=\"fill:#1f77b4;stroke:#1f77b4;\" x=\"123.616372\" xlink:href=\"#m3cf4376498\" y=\"78.953705\"/>\n",
              "     <use style=\"fill:#1f77b4;stroke:#1f77b4;\" x=\"108.40408\" xlink:href=\"#m3cf4376498\" y=\"68.12294\"/>\n",
              "     <use style=\"fill:#1f77b4;stroke:#1f77b4;\" x=\"109.158091\" xlink:href=\"#m3cf4376498\" y=\"66.303914\"/>\n",
              "     <use style=\"fill:#1f77b4;stroke:#1f77b4;\" x=\"137.339143\" xlink:href=\"#m3cf4376498\" y=\"64.169046\"/>\n",
              "     <use style=\"fill:#1f77b4;stroke:#1f77b4;\" x=\"141.651156\" xlink:href=\"#m3cf4376498\" y=\"86.582668\"/>\n",
              "     <use style=\"fill:#1f77b4;stroke:#1f77b4;\" x=\"130.737463\" xlink:href=\"#m3cf4376498\" y=\"85.216825\"/>\n",
              "     <use style=\"fill:#1f77b4;stroke:#1f77b4;\" x=\"60.176855\" xlink:href=\"#m3cf4376498\" y=\"33.836743\"/>\n",
              "     <use style=\"fill:#1f77b4;stroke:#1f77b4;\" x=\"123.973647\" xlink:href=\"#m3cf4376498\" y=\"87.73566\"/>\n",
              "     <use style=\"fill:#1f77b4;stroke:#1f77b4;\" x=\"102.73897\" xlink:href=\"#m3cf4376498\" y=\"67.166733\"/>\n",
              "     <use style=\"fill:#1f77b4;stroke:#1f77b4;\" x=\"167.953337\" xlink:href=\"#m3cf4376498\" y=\"107.59794\"/>\n",
              "     <use style=\"fill:#1f77b4;stroke:#1f77b4;\" x=\"108.650645\" xlink:href=\"#m3cf4376498\" y=\"72.12597\"/>\n",
              "     <use style=\"fill:#1f77b4;stroke:#1f77b4;\" x=\"98.217652\" xlink:href=\"#m3cf4376498\" y=\"53.274141\"/>\n",
              "     <use style=\"fill:#1f77b4;stroke:#1f77b4;\" x=\"112.522754\" xlink:href=\"#m3cf4376498\" y=\"74.686141\"/>\n",
              "     <use style=\"fill:#1f77b4;stroke:#1f77b4;\" x=\"145.121419\" xlink:href=\"#m3cf4376498\" y=\"101.310153\"/>\n",
              "     <use style=\"fill:#1f77b4;stroke:#1f77b4;\" x=\"96.057662\" xlink:href=\"#m3cf4376498\" y=\"53.491804\"/>\n",
              "     <use style=\"fill:#1f77b4;stroke:#1f77b4;\" x=\"120.965724\" xlink:href=\"#m3cf4376498\" y=\"66.73529\"/>\n",
              "     <use style=\"fill:#1f77b4;stroke:#1f77b4;\" x=\"73.598628\" xlink:href=\"#m3cf4376498\" y=\"38.45785\"/>\n",
              "     <use style=\"fill:#1f77b4;stroke:#1f77b4;\" x=\"172.198665\" xlink:href=\"#m3cf4376498\" y=\"112.503805\"/>\n",
              "     <use style=\"fill:#1f77b4;stroke:#1f77b4;\" x=\"125.095474\" xlink:href=\"#m3cf4376498\" y=\"73.50133\"/>\n",
              "     <use style=\"fill:#1f77b4;stroke:#1f77b4;\" x=\"104.556676\" xlink:href=\"#m3cf4376498\" y=\"75.560948\"/>\n",
              "     <use style=\"fill:#1f77b4;stroke:#1f77b4;\" x=\"142.714981\" xlink:href=\"#m3cf4376498\" y=\"83.169821\"/>\n",
              "     <use style=\"fill:#1f77b4;stroke:#1f77b4;\" x=\"97.415266\" xlink:href=\"#m3cf4376498\" y=\"59.665549\"/>\n",
              "     <use style=\"fill:#1f77b4;stroke:#1f77b4;\" x=\"150.381134\" xlink:href=\"#m3cf4376498\" y=\"92.366975\"/>\n",
              "     <use style=\"fill:#1f77b4;stroke:#1f77b4;\" x=\"128.873205\" xlink:href=\"#m3cf4376498\" y=\"90.310987\"/>\n",
              "     <use style=\"fill:#1f77b4;stroke:#1f77b4;\" x=\"111.320576\" xlink:href=\"#m3cf4376498\" y=\"72.736085\"/>\n",
              "     <use style=\"fill:#1f77b4;stroke:#1f77b4;\" x=\"124.978683\" xlink:href=\"#m3cf4376498\" y=\"76.572772\"/>\n",
              "     <use style=\"fill:#1f77b4;stroke:#1f77b4;\" x=\"103.410027\" xlink:href=\"#m3cf4376498\" y=\"57.798784\"/>\n",
              "     <use style=\"fill:#1f77b4;stroke:#1f77b4;\" x=\"144.066948\" xlink:href=\"#m3cf4376498\" y=\"89.234044\"/>\n",
              "     <use style=\"fill:#1f77b4;stroke:#1f77b4;\" x=\"145.869631\" xlink:href=\"#m3cf4376498\" y=\"83.646301\"/>\n",
              "     <use style=\"fill:#1f77b4;stroke:#1f77b4;\" x=\"128.412086\" xlink:href=\"#m3cf4376498\" y=\"85.328823\"/>\n",
              "     <use style=\"fill:#1f77b4;stroke:#1f77b4;\" x=\"99.175259\" xlink:href=\"#m3cf4376498\" y=\"42.96988\"/>\n",
              "     <use style=\"fill:#1f77b4;stroke:#1f77b4;\" x=\"123.710691\" xlink:href=\"#m3cf4376498\" y=\"88.768388\"/>\n",
              "     <use style=\"fill:#1f77b4;stroke:#1f77b4;\" x=\"118.018421\" xlink:href=\"#m3cf4376498\" y=\"71.874024\"/>\n",
              "     <use style=\"fill:#1f77b4;stroke:#1f77b4;\" x=\"135.834141\" xlink:href=\"#m3cf4376498\" y=\"86.880875\"/>\n",
              "     <use style=\"fill:#1f77b4;stroke:#1f77b4;\" x=\"100.842522\" xlink:href=\"#m3cf4376498\" y=\"72.92998\"/>\n",
              "     <use style=\"fill:#1f77b4;stroke:#1f77b4;\" x=\"125.027854\" xlink:href=\"#m3cf4376498\" y=\"72.89239\"/>\n",
              "     <use style=\"fill:#1f77b4;stroke:#1f77b4;\" x=\"106.597048\" xlink:href=\"#m3cf4376498\" y=\"78.707311\"/>\n",
              "     <use style=\"fill:#1f77b4;stroke:#1f77b4;\" x=\"127.785875\" xlink:href=\"#m3cf4376498\" y=\"79.157773\"/>\n",
              "     <use style=\"fill:#1f77b4;stroke:#1f77b4;\" x=\"122.181468\" xlink:href=\"#m3cf4376498\" y=\"68.630584\"/>\n",
              "     <use style=\"fill:#1f77b4;stroke:#1f77b4;\" x=\"85.022765\" xlink:href=\"#m3cf4376498\" y=\"50.15801\"/>\n",
              "     <use style=\"fill:#1f77b4;stroke:#1f77b4;\" x=\"133.875306\" xlink:href=\"#m3cf4376498\" y=\"71.754091\"/>\n",
              "     <use style=\"fill:#1f77b4;stroke:#1f77b4;\" x=\"110.223304\" xlink:href=\"#m3cf4376498\" y=\"84.536859\"/>\n",
              "     <use style=\"fill:#1f77b4;stroke:#1f77b4;\" x=\"131.140581\" xlink:href=\"#m3cf4376498\" y=\"78.271906\"/>\n",
              "     <use style=\"fill:#1f77b4;stroke:#1f77b4;\" x=\"122.022374\" xlink:href=\"#m3cf4376498\" y=\"83.3565\"/>\n",
              "     <use style=\"fill:#1f77b4;stroke:#1f77b4;\" x=\"91.902429\" xlink:href=\"#m3cf4376498\" y=\"70.368358\"/>\n",
              "     <use style=\"fill:#1f77b4;stroke:#1f77b4;\" x=\"139.035929\" xlink:href=\"#m3cf4376498\" y=\"72.547493\"/>\n",
              "     <use style=\"fill:#1f77b4;stroke:#1f77b4;\" x=\"87.865331\" xlink:href=\"#m3cf4376498\" y=\"62.036326\"/>\n",
              "     <use style=\"fill:#1f77b4;stroke:#1f77b4;\" x=\"102.909663\" xlink:href=\"#m3cf4376498\" y=\"61.579743\"/>\n",
              "     <use style=\"fill:#1f77b4;stroke:#1f77b4;\" x=\"89.13345\" xlink:href=\"#m3cf4376498\" y=\"47.093342\"/>\n",
              "     <use style=\"fill:#1f77b4;stroke:#1f77b4;\" x=\"76.48436\" xlink:href=\"#m3cf4376498\" y=\"49.658849\"/>\n",
              "     <use style=\"fill:#1f77b4;stroke:#1f77b4;\" x=\"130.922848\" xlink:href=\"#m3cf4376498\" y=\"92.667748\"/>\n",
              "     <use style=\"fill:#1f77b4;stroke:#1f77b4;\" x=\"151.076073\" xlink:href=\"#m3cf4376498\" y=\"80.296186\"/>\n",
              "     <use style=\"fill:#1f77b4;stroke:#1f77b4;\" x=\"106.632057\" xlink:href=\"#m3cf4376498\" y=\"73.433793\"/>\n",
              "     <use style=\"fill:#1f77b4;stroke:#1f77b4;\" x=\"146.326723\" xlink:href=\"#m3cf4376498\" y=\"90.6494\"/>\n",
              "     <use style=\"fill:#1f77b4;stroke:#1f77b4;\" x=\"105.726658\" xlink:href=\"#m3cf4376498\" y=\"59.665925\"/>\n",
              "     <use style=\"fill:#1f77b4;stroke:#1f77b4;\" x=\"147.45365\" xlink:href=\"#m3cf4376498\" y=\"105.561706\"/>\n",
              "     <use style=\"fill:#1f77b4;stroke:#1f77b4;\" x=\"126.350988\" xlink:href=\"#m3cf4376498\" y=\"80.044309\"/>\n",
              "     <use style=\"fill:#1f77b4;stroke:#1f77b4;\" x=\"120.956577\" xlink:href=\"#m3cf4376498\" y=\"66.773082\"/>\n",
              "     <use style=\"fill:#1f77b4;stroke:#1f77b4;\" x=\"93.865708\" xlink:href=\"#m3cf4376498\" y=\"50.667632\"/>\n",
              "     <use style=\"fill:#1f77b4;stroke:#1f77b4;\" x=\"125.963041\" xlink:href=\"#m3cf4376498\" y=\"91.225759\"/>\n",
              "     <use style=\"fill:#1f77b4;stroke:#1f77b4;\" x=\"104.4965\" xlink:href=\"#m3cf4376498\" y=\"71.35186\"/>\n",
              "     <use style=\"fill:#1f77b4;stroke:#1f77b4;\" x=\"126.26163\" xlink:href=\"#m3cf4376498\" y=\"79.769742\"/>\n",
              "     <use style=\"fill:#1f77b4;stroke:#1f77b4;\" x=\"79.343203\" xlink:href=\"#m3cf4376498\" y=\"44.140215\"/>\n",
              "     <use style=\"fill:#1f77b4;stroke:#1f77b4;\" x=\"130.559658\" xlink:href=\"#m3cf4376498\" y=\"92.556493\"/>\n",
              "     <use style=\"fill:#1f77b4;stroke:#1f77b4;\" x=\"91.038772\" xlink:href=\"#m3cf4376498\" y=\"61.565943\"/>\n",
              "     <use style=\"fill:#1f77b4;stroke:#1f77b4;\" x=\"162.566065\" xlink:href=\"#m3cf4376498\" y=\"95.542249\"/>\n",
              "     <use style=\"fill:#1f77b4;stroke:#1f77b4;\" x=\"59.977922\" xlink:href=\"#m3cf4376498\" y=\"23.299605\"/>\n",
              "     <use style=\"fill:#1f77b4;stroke:#1f77b4;\" x=\"141.421792\" xlink:href=\"#m3cf4376498\" y=\"89.748028\"/>\n",
              "     <use style=\"fill:#1f77b4;stroke:#1f77b4;\" x=\"121.79593\" xlink:href=\"#m3cf4376498\" y=\"84.512332\"/>\n",
              "     <use style=\"fill:#1f77b4;stroke:#1f77b4;\" x=\"151.186665\" xlink:href=\"#m3cf4376498\" y=\"106.413842\"/>\n",
              "     <use style=\"fill:#1f77b4;stroke:#1f77b4;\" x=\"108.289007\" xlink:href=\"#m3cf4376498\" y=\"65.174503\"/>\n",
              "     <use style=\"fill:#1f77b4;stroke:#1f77b4;\" x=\"101.475423\" xlink:href=\"#m3cf4376498\" y=\"72.552332\"/>\n",
              "     <use style=\"fill:#1f77b4;stroke:#1f77b4;\" x=\"140.404778\" xlink:href=\"#m3cf4376498\" y=\"89.048671\"/>\n",
              "     <use style=\"fill:#1f77b4;stroke:#1f77b4;\" x=\"87.154024\" xlink:href=\"#m3cf4376498\" y=\"31.998344\"/>\n",
              "     <use style=\"fill:#1f77b4;stroke:#1f77b4;\" x=\"153.643555\" xlink:href=\"#m3cf4376498\" y=\"76.225987\"/>\n",
              "     <use style=\"fill:#1f77b4;stroke:#1f77b4;\" x=\"93.595698\" xlink:href=\"#m3cf4376498\" y=\"49.727624\"/>\n",
              "     <use style=\"fill:#1f77b4;stroke:#1f77b4;\" x=\"99.840274\" xlink:href=\"#m3cf4376498\" y=\"80.010567\"/>\n",
              "     <use style=\"fill:#1f77b4;stroke:#1f77b4;\" x=\"162.478366\" xlink:href=\"#m3cf4376498\" y=\"95.67193\"/>\n",
              "     <use style=\"fill:#1f77b4;stroke:#1f77b4;\" x=\"86.882618\" xlink:href=\"#m3cf4376498\" y=\"38.67006\"/>\n",
              "     <use style=\"fill:#1f77b4;stroke:#1f77b4;\" x=\"105.696667\" xlink:href=\"#m3cf4376498\" y=\"68.687978\"/>\n",
              "     <use style=\"fill:#1f77b4;stroke:#1f77b4;\" x=\"98.275588\" xlink:href=\"#m3cf4376498\" y=\"65.761273\"/>\n",
              "     <use style=\"fill:#1f77b4;stroke:#1f77b4;\" x=\"109.698641\" xlink:href=\"#m3cf4376498\" y=\"62.803909\"/>\n",
              "     <use style=\"fill:#1f77b4;stroke:#1f77b4;\" x=\"89.424698\" xlink:href=\"#m3cf4376498\" y=\"57.575552\"/>\n",
              "     <use style=\"fill:#1f77b4;stroke:#1f77b4;\" x=\"159.055255\" xlink:href=\"#m3cf4376498\" y=\"70.076172\"/>\n",
              "     <use style=\"fill:#1f77b4;stroke:#1f77b4;\" x=\"101.858179\" xlink:href=\"#m3cf4376498\" y=\"74.13475\"/>\n",
              "     <use style=\"fill:#1f77b4;stroke:#1f77b4;\" x=\"131.747767\" xlink:href=\"#m3cf4376498\" y=\"75.898225\"/>\n",
              "     <use style=\"fill:#1f77b4;stroke:#1f77b4;\" x=\"165.179843\" xlink:href=\"#m3cf4376498\" y=\"98.000521\"/>\n",
              "     <use style=\"fill:#1f77b4;stroke:#1f77b4;\" x=\"103.505449\" xlink:href=\"#m3cf4376498\" y=\"64.027688\"/>\n",
              "     <use style=\"fill:#1f77b4;stroke:#1f77b4;\" x=\"154.471526\" xlink:href=\"#m3cf4376498\" y=\"78.86165\"/>\n",
              "     <use style=\"fill:#1f77b4;stroke:#1f77b4;\" x=\"138.949617\" xlink:href=\"#m3cf4376498\" y=\"89.887362\"/>\n",
              "     <use style=\"fill:#1f77b4;stroke:#1f77b4;\" x=\"113.163319\" xlink:href=\"#m3cf4376498\" y=\"82.117044\"/>\n",
              "     <use style=\"fill:#1f77b4;stroke:#1f77b4;\" x=\"95.332003\" xlink:href=\"#m3cf4376498\" y=\"62.952332\"/>\n",
              "     <use style=\"fill:#1f77b4;stroke:#1f77b4;\" x=\"120.795248\" xlink:href=\"#m3cf4376498\" y=\"61.540359\"/>\n",
              "     <use style=\"fill:#1f77b4;stroke:#1f77b4;\" x=\"131.571433\" xlink:href=\"#m3cf4376498\" y=\"89.062163\"/>\n",
              "     <use style=\"fill:#1f77b4;stroke:#1f77b4;\" x=\"78.681699\" xlink:href=\"#m3cf4376498\" y=\"51.0857\"/>\n",
              "     <use style=\"fill:#1f77b4;stroke:#1f77b4;\" x=\"121.427767\" xlink:href=\"#m3cf4376498\" y=\"60.881911\"/>\n",
              "     <use style=\"fill:#1f77b4;stroke:#1f77b4;\" x=\"88.780568\" xlink:href=\"#m3cf4376498\" y=\"58.524641\"/>\n",
              "     <use style=\"fill:#1f77b4;stroke:#1f77b4;\" x=\"96.02664\" xlink:href=\"#m3cf4376498\" y=\"48.374344\"/>\n",
              "     <use style=\"fill:#1f77b4;stroke:#1f77b4;\" x=\"148.913757\" xlink:href=\"#m3cf4376498\" y=\"96.155219\"/>\n",
              "     <use style=\"fill:#1f77b4;stroke:#1f77b4;\" x=\"112.397674\" xlink:href=\"#m3cf4376498\" y=\"61.181055\"/>\n",
              "     <use style=\"fill:#1f77b4;stroke:#1f77b4;\" x=\"89.752979\" xlink:href=\"#m3cf4376498\" y=\"62.810285\"/>\n",
              "     <use style=\"fill:#1f77b4;stroke:#1f77b4;\" x=\"132.682455\" xlink:href=\"#m3cf4376498\" y=\"93.622291\"/>\n",
              "     <use style=\"fill:#1f77b4;stroke:#1f77b4;\" x=\"127.574431\" xlink:href=\"#m3cf4376498\" y=\"62.58017\"/>\n",
              "     <use style=\"fill:#1f77b4;stroke:#1f77b4;\" x=\"146.368258\" xlink:href=\"#m3cf4376498\" y=\"75.073536\"/>\n",
              "     <use style=\"fill:#1f77b4;stroke:#1f77b4;\" x=\"138.886731\" xlink:href=\"#m3cf4376498\" y=\"69.358002\"/>\n",
              "     <use style=\"fill:#1f77b4;stroke:#1f77b4;\" x=\"110.109135\" xlink:href=\"#m3cf4376498\" y=\"56.281269\"/>\n",
              "     <use style=\"fill:#1f77b4;stroke:#1f77b4;\" x=\"115.834142\" xlink:href=\"#m3cf4376498\" y=\"62.224057\"/>\n",
              "     <use style=\"fill:#1f77b4;stroke:#1f77b4;\" x=\"106.71557\" xlink:href=\"#m3cf4376498\" y=\"75.313505\"/>\n",
              "     <use style=\"fill:#1f77b4;stroke:#1f77b4;\" x=\"121.882647\" xlink:href=\"#m3cf4376498\" y=\"74.288991\"/>\n",
              "     <use style=\"fill:#1f77b4;stroke:#1f77b4;\" x=\"135.817791\" xlink:href=\"#m3cf4376498\" y=\"83.425867\"/>\n",
              "     <use style=\"fill:#1f77b4;stroke:#1f77b4;\" x=\"130.75825\" xlink:href=\"#m3cf4376498\" y=\"80.363687\"/>\n",
              "     <use style=\"fill:#1f77b4;stroke:#1f77b4;\" x=\"95.148459\" xlink:href=\"#m3cf4376498\" y=\"60.943127\"/>\n",
              "     <use style=\"fill:#1f77b4;stroke:#1f77b4;\" x=\"80.262182\" xlink:href=\"#m3cf4376498\" y=\"73.577966\"/>\n",
              "     <use style=\"fill:#1f77b4;stroke:#1f77b4;\" x=\"109.125048\" xlink:href=\"#m3cf4376498\" y=\"74.553015\"/>\n",
              "     <use style=\"fill:#1f77b4;stroke:#1f77b4;\" x=\"133.311654\" xlink:href=\"#m3cf4376498\" y=\"80.277344\"/>\n",
              "     <use style=\"fill:#1f77b4;stroke:#1f77b4;\" x=\"120.835534\" xlink:href=\"#m3cf4376498\" y=\"82.053299\"/>\n",
              "     <use style=\"fill:#1f77b4;stroke:#1f77b4;\" x=\"151.135676\" xlink:href=\"#m3cf4376498\" y=\"94.831291\"/>\n",
              "     <use style=\"fill:#1f77b4;stroke:#1f77b4;\" x=\"108.878475\" xlink:href=\"#m3cf4376498\" y=\"77.384689\"/>\n",
              "     <use style=\"fill:#1f77b4;stroke:#1f77b4;\" x=\"124.329176\" xlink:href=\"#m3cf4376498\" y=\"81.949555\"/>\n",
              "     <use style=\"fill:#1f77b4;stroke:#1f77b4;\" x=\"144.884294\" xlink:href=\"#m3cf4376498\" y=\"101.667562\"/>\n",
              "     <use style=\"fill:#1f77b4;stroke:#1f77b4;\" x=\"94.000463\" xlink:href=\"#m3cf4376498\" y=\"54.262049\"/>\n",
              "     <use style=\"fill:#1f77b4;stroke:#1f77b4;\" x=\"160.768401\" xlink:href=\"#m3cf4376498\" y=\"85.771212\"/>\n",
              "     <use style=\"fill:#1f77b4;stroke:#1f77b4;\" x=\"109.15011\" xlink:href=\"#m3cf4376498\" y=\"59.492827\"/>\n",
              "     <use style=\"fill:#1f77b4;stroke:#1f77b4;\" x=\"103.68526\" xlink:href=\"#m3cf4376498\" y=\"60.304006\"/>\n",
              "     <use style=\"fill:#1f77b4;stroke:#1f77b4;\" x=\"149.758436\" xlink:href=\"#m3cf4376498\" y=\"80.505736\"/>\n",
              "     <use style=\"fill:#1f77b4;stroke:#1f77b4;\" x=\"112.154152\" xlink:href=\"#m3cf4376498\" y=\"56.61174\"/>\n",
              "     <use style=\"fill:#1f77b4;stroke:#1f77b4;\" x=\"141.867302\" xlink:href=\"#m3cf4376498\" y=\"80.137325\"/>\n",
              "     <use style=\"fill:#1f77b4;stroke:#1f77b4;\" x=\"103.419359\" xlink:href=\"#m3cf4376498\" y=\"70.069875\"/>\n",
              "     <use style=\"fill:#1f77b4;stroke:#1f77b4;\" x=\"84.047742\" xlink:href=\"#m3cf4376498\" y=\"63.378871\"/>\n",
              "     <use style=\"fill:#1f77b4;stroke:#1f77b4;\" x=\"133.841486\" xlink:href=\"#m3cf4376498\" y=\"86.7268\"/>\n",
              "     <use style=\"fill:#1f77b4;stroke:#1f77b4;\" x=\"150.959781\" xlink:href=\"#m3cf4376498\" y=\"85.484116\"/>\n",
              "     <use style=\"fill:#1f77b4;stroke:#1f77b4;\" x=\"129.739129\" xlink:href=\"#m3cf4376498\" y=\"66.565979\"/>\n",
              "     <use style=\"fill:#1f77b4;stroke:#1f77b4;\" x=\"116.513872\" xlink:href=\"#m3cf4376498\" y=\"78.583218\"/>\n",
              "     <use style=\"fill:#1f77b4;stroke:#1f77b4;\" x=\"141.94061\" xlink:href=\"#m3cf4376498\" y=\"83.609429\"/>\n",
              "     <use style=\"fill:#1f77b4;stroke:#1f77b4;\" x=\"124.125059\" xlink:href=\"#m3cf4376498\" y=\"75.201052\"/>\n",
              "     <use style=\"fill:#1f77b4;stroke:#1f77b4;\" x=\"115.986627\" xlink:href=\"#m3cf4376498\" y=\"63.788612\"/>\n",
              "     <use style=\"fill:#1f77b4;stroke:#1f77b4;\" x=\"142.779215\" xlink:href=\"#m3cf4376498\" y=\"76.194249\"/>\n",
              "     <use style=\"fill:#1f77b4;stroke:#1f77b4;\" x=\"116.550537\" xlink:href=\"#m3cf4376498\" y=\"66.036672\"/>\n",
              "     <use style=\"fill:#1f77b4;stroke:#1f77b4;\" x=\"104.560168\" xlink:href=\"#m3cf4376498\" y=\"71.767997\"/>\n",
              "     <use style=\"fill:#1f77b4;stroke:#1f77b4;\" x=\"113.061923\" xlink:href=\"#m3cf4376498\" y=\"63.700769\"/>\n",
              "     <use style=\"fill:#1f77b4;stroke:#1f77b4;\" x=\"97.272021\" xlink:href=\"#m3cf4376498\" y=\"55.005426\"/>\n",
              "     <use style=\"fill:#1f77b4;stroke:#1f77b4;\" x=\"102.518319\" xlink:href=\"#m3cf4376498\" y=\"74.512868\"/>\n",
              "     <use style=\"fill:#1f77b4;stroke:#1f77b4;\" x=\"103.058689\" xlink:href=\"#m3cf4376498\" y=\"54.928528\"/>\n",
              "     <use style=\"fill:#1f77b4;stroke:#1f77b4;\" x=\"113.38888\" xlink:href=\"#m3cf4376498\" y=\"58.527746\"/>\n",
              "     <use style=\"fill:#1f77b4;stroke:#1f77b4;\" x=\"107.162352\" xlink:href=\"#m3cf4376498\" y=\"60.904631\"/>\n",
              "     <use style=\"fill:#1f77b4;stroke:#1f77b4;\" x=\"133.39096\" xlink:href=\"#m3cf4376498\" y=\"81.498349\"/>\n",
              "     <use style=\"fill:#1f77b4;stroke:#1f77b4;\" x=\"132.41752\" xlink:href=\"#m3cf4376498\" y=\"85.954196\"/>\n",
              "     <use style=\"fill:#1f77b4;stroke:#1f77b4;\" x=\"123.876029\" xlink:href=\"#m3cf4376498\" y=\"78.070367\"/>\n",
              "     <use style=\"fill:#1f77b4;stroke:#1f77b4;\" x=\"134.116373\" xlink:href=\"#m3cf4376498\" y=\"84.583979\"/>\n",
              "     <use style=\"fill:#1f77b4;stroke:#1f77b4;\" x=\"96.424401\" xlink:href=\"#m3cf4376498\" y=\"47.178718\"/>\n",
              "     <use style=\"fill:#1f77b4;stroke:#1f77b4;\" x=\"155.984984\" xlink:href=\"#m3cf4376498\" y=\"95.845356\"/>\n",
              "     <use style=\"fill:#1f77b4;stroke:#1f77b4;\" x=\"123.044633\" xlink:href=\"#m3cf4376498\" y=\"76.094357\"/>\n",
              "     <use style=\"fill:#1f77b4;stroke:#1f77b4;\" x=\"141.40055\" xlink:href=\"#m3cf4376498\" y=\"84.323085\"/>\n",
              "     <use style=\"fill:#1f77b4;stroke:#1f77b4;\" x=\"115.090242\" xlink:href=\"#m3cf4376498\" y=\"66.274862\"/>\n",
              "     <use style=\"fill:#1f77b4;stroke:#1f77b4;\" x=\"129.49202\" xlink:href=\"#m3cf4376498\" y=\"59.045\"/>\n",
              "     <use style=\"fill:#1f77b4;stroke:#1f77b4;\" x=\"118.243428\" xlink:href=\"#m3cf4376498\" y=\"70.166404\"/>\n",
              "     <use style=\"fill:#1f77b4;stroke:#1f77b4;\" x=\"108.924453\" xlink:href=\"#m3cf4376498\" y=\"80.367828\"/>\n",
              "     <use style=\"fill:#1f77b4;stroke:#1f77b4;\" x=\"112.401088\" xlink:href=\"#m3cf4376498\" y=\"62.10646\"/>\n",
              "     <use style=\"fill:#1f77b4;stroke:#1f77b4;\" x=\"72.68636\" xlink:href=\"#m3cf4376498\" y=\"43.28156\"/>\n",
              "     <use style=\"fill:#1f77b4;stroke:#1f77b4;\" x=\"104.860708\" xlink:href=\"#m3cf4376498\" y=\"52.825958\"/>\n",
              "     <use style=\"fill:#1f77b4;stroke:#1f77b4;\" x=\"108.228804\" xlink:href=\"#m3cf4376498\" y=\"71.775075\"/>\n",
              "     <use style=\"fill:#1f77b4;stroke:#1f77b4;\" x=\"120.468475\" xlink:href=\"#m3cf4376498\" y=\"72.936464\"/>\n",
              "     <use style=\"fill:#1f77b4;stroke:#1f77b4;\" x=\"107.370796\" xlink:href=\"#m3cf4376498\" y=\"72.282306\"/>\n",
              "     <use style=\"fill:#1f77b4;stroke:#1f77b4;\" x=\"136.14902\" xlink:href=\"#m3cf4376498\" y=\"76.61212\"/>\n",
              "     <use style=\"fill:#1f77b4;stroke:#1f77b4;\" x=\"155.105227\" xlink:href=\"#m3cf4376498\" y=\"95.182009\"/>\n",
              "     <use style=\"fill:#1f77b4;stroke:#1f77b4;\" x=\"116.383511\" xlink:href=\"#m3cf4376498\" y=\"68.579293\"/>\n",
              "     <use style=\"fill:#1f77b4;stroke:#1f77b4;\" x=\"150.114422\" xlink:href=\"#m3cf4376498\" y=\"92.881711\"/>\n",
              "     <use style=\"fill:#1f77b4;stroke:#1f77b4;\" x=\"83.195527\" xlink:href=\"#m3cf4376498\" y=\"58.519412\"/>\n",
              "     <use style=\"fill:#1f77b4;stroke:#1f77b4;\" x=\"84.209627\" xlink:href=\"#m3cf4376498\" y=\"48.645801\"/>\n",
              "     <use style=\"fill:#1f77b4;stroke:#1f77b4;\" x=\"116.34325\" xlink:href=\"#m3cf4376498\" y=\"69.690622\"/>\n",
              "     <use style=\"fill:#1f77b4;stroke:#1f77b4;\" x=\"137.088345\" xlink:href=\"#m3cf4376498\" y=\"93.309799\"/>\n",
              "     <use style=\"fill:#1f77b4;stroke:#1f77b4;\" x=\"65.087774\" xlink:href=\"#m3cf4376498\" y=\"37.836555\"/>\n",
              "     <use style=\"fill:#1f77b4;stroke:#1f77b4;\" x=\"129.117636\" xlink:href=\"#m3cf4376498\" y=\"81.83506\"/>\n",
              "     <use style=\"fill:#1f77b4;stroke:#1f77b4;\" x=\"150.877579\" xlink:href=\"#m3cf4376498\" y=\"109.19486\"/>\n",
              "     <use style=\"fill:#1f77b4;stroke:#1f77b4;\" x=\"158.920471\" xlink:href=\"#m3cf4376498\" y=\"106.010286\"/>\n",
              "     <use style=\"fill:#1f77b4;stroke:#1f77b4;\" x=\"124.045151\" xlink:href=\"#m3cf4376498\" y=\"73.341623\"/>\n",
              "     <use style=\"fill:#1f77b4;stroke:#1f77b4;\" x=\"110.553874\" xlink:href=\"#m3cf4376498\" y=\"63.352047\"/>\n",
              "     <use style=\"fill:#1f77b4;stroke:#1f77b4;\" x=\"101.793987\" xlink:href=\"#m3cf4376498\" y=\"61.286952\"/>\n",
              "     <use style=\"fill:#1f77b4;stroke:#1f77b4;\" x=\"135.946038\" xlink:href=\"#m3cf4376498\" y=\"79.048726\"/>\n",
              "     <use style=\"fill:#1f77b4;stroke:#1f77b4;\" x=\"110.603159\" xlink:href=\"#m3cf4376498\" y=\"69.688504\"/>\n",
              "     <use style=\"fill:#1f77b4;stroke:#1f77b4;\" x=\"113.079418\" xlink:href=\"#m3cf4376498\" y=\"76.837852\"/>\n",
              "     <use style=\"fill:#1f77b4;stroke:#1f77b4;\" x=\"130.128935\" xlink:href=\"#m3cf4376498\" y=\"87.770056\"/>\n",
              "     <use style=\"fill:#1f77b4;stroke:#1f77b4;\" x=\"112.907859\" xlink:href=\"#m3cf4376498\" y=\"55.909043\"/>\n",
              "     <use style=\"fill:#1f77b4;stroke:#1f77b4;\" x=\"97.126699\" xlink:href=\"#m3cf4376498\" y=\"60.583515\"/>\n",
              "     <use style=\"fill:#1f77b4;stroke:#1f77b4;\" x=\"121.681792\" xlink:href=\"#m3cf4376498\" y=\"76.697197\"/>\n",
              "     <use style=\"fill:#1f77b4;stroke:#1f77b4;\" x=\"115.061614\" xlink:href=\"#m3cf4376498\" y=\"59.215089\"/>\n",
              "     <use style=\"fill:#1f77b4;stroke:#1f77b4;\" x=\"128.570031\" xlink:href=\"#m3cf4376498\" y=\"84.512399\"/>\n",
              "     <use style=\"fill:#1f77b4;stroke:#1f77b4;\" x=\"52.889892\" xlink:href=\"#m3cf4376498\" y=\"28.356568\"/>\n",
              "     <use style=\"fill:#1f77b4;stroke:#1f77b4;\" x=\"83.878208\" xlink:href=\"#m3cf4376498\" y=\"19.388277\"/>\n",
              "     <use style=\"fill:#1f77b4;stroke:#1f77b4;\" x=\"132.593224\" xlink:href=\"#m3cf4376498\" y=\"69.881269\"/>\n",
              "     <use style=\"fill:#1f77b4;stroke:#1f77b4;\" x=\"125.047418\" xlink:href=\"#m3cf4376498\" y=\"70.60123\"/>\n",
              "     <use style=\"fill:#1f77b4;stroke:#1f77b4;\" x=\"78.099125\" xlink:href=\"#m3cf4376498\" y=\"47.581283\"/>\n",
              "     <use style=\"fill:#1f77b4;stroke:#1f77b4;\" x=\"91.829735\" xlink:href=\"#m3cf4376498\" y=\"57.768767\"/>\n",
              "     <use style=\"fill:#1f77b4;stroke:#1f77b4;\" x=\"116.57952\" xlink:href=\"#m3cf4376498\" y=\"68.704273\"/>\n",
              "     <use style=\"fill:#1f77b4;stroke:#1f77b4;\" x=\"152.227102\" xlink:href=\"#m3cf4376498\" y=\"104.132024\"/>\n",
              "     <use style=\"fill:#1f77b4;stroke:#1f77b4;\" x=\"113.428314\" xlink:href=\"#m3cf4376498\" y=\"75.320967\"/>\n",
              "     <use style=\"fill:#1f77b4;stroke:#1f77b4;\" x=\"115.151761\" xlink:href=\"#m3cf4376498\" y=\"57.745174\"/>\n",
              "     <use style=\"fill:#1f77b4;stroke:#1f77b4;\" x=\"85.39811\" xlink:href=\"#m3cf4376498\" y=\"44.090407\"/>\n",
              "     <use style=\"fill:#1f77b4;stroke:#1f77b4;\" x=\"104.765291\" xlink:href=\"#m3cf4376498\" y=\"62.588103\"/>\n",
              "     <use style=\"fill:#1f77b4;stroke:#1f77b4;\" x=\"143.393995\" xlink:href=\"#m3cf4376498\" y=\"105.888498\"/>\n",
              "     <use style=\"fill:#1f77b4;stroke:#1f77b4;\" x=\"128.148816\" xlink:href=\"#m3cf4376498\" y=\"79.159412\"/>\n",
              "     <use style=\"fill:#1f77b4;stroke:#1f77b4;\" x=\"128.247025\" xlink:href=\"#m3cf4376498\" y=\"72.819714\"/>\n",
              "     <use style=\"fill:#1f77b4;stroke:#1f77b4;\" x=\"119.697461\" xlink:href=\"#m3cf4376498\" y=\"67.813056\"/>\n",
              "     <use style=\"fill:#1f77b4;stroke:#1f77b4;\" x=\"136.000395\" xlink:href=\"#m3cf4376498\" y=\"77.201411\"/>\n",
              "     <use style=\"fill:#1f77b4;stroke:#1f77b4;\" x=\"169.170056\" xlink:href=\"#m3cf4376498\" y=\"105.800518\"/>\n",
              "     <use style=\"fill:#1f77b4;stroke:#1f77b4;\" x=\"101.206476\" xlink:href=\"#m3cf4376498\" y=\"62.997897\"/>\n",
              "     <use style=\"fill:#1f77b4;stroke:#1f77b4;\" x=\"71.482247\" xlink:href=\"#m3cf4376498\" y=\"30.855839\"/>\n",
              "     <use style=\"fill:#1f77b4;stroke:#1f77b4;\" x=\"111.182245\" xlink:href=\"#m3cf4376498\" y=\"58.990692\"/>\n",
              "     <use style=\"fill:#1f77b4;stroke:#1f77b4;\" x=\"156.276249\" xlink:href=\"#m3cf4376498\" y=\"105.734441\"/>\n",
              "     <use style=\"fill:#1f77b4;stroke:#1f77b4;\" x=\"150.153609\" xlink:href=\"#m3cf4376498\" y=\"89.854894\"/>\n",
              "     <use style=\"fill:#1f77b4;stroke:#1f77b4;\" x=\"125.690175\" xlink:href=\"#m3cf4376498\" y=\"74.516183\"/>\n",
              "     <use style=\"fill:#1f77b4;stroke:#1f77b4;\" x=\"121.575721\" xlink:href=\"#m3cf4376498\" y=\"71.083384\"/>\n",
              "     <use style=\"fill:#1f77b4;stroke:#1f77b4;\" x=\"136.848122\" xlink:href=\"#m3cf4376498\" y=\"65.345991\"/>\n",
              "     <use style=\"fill:#1f77b4;stroke:#1f77b4;\" x=\"151.994613\" xlink:href=\"#m3cf4376498\" y=\"99.621638\"/>\n",
              "     <use style=\"fill:#1f77b4;stroke:#1f77b4;\" x=\"123.823558\" xlink:href=\"#m3cf4376498\" y=\"69.397215\"/>\n",
              "     <use style=\"fill:#1f77b4;stroke:#1f77b4;\" x=\"102.302311\" xlink:href=\"#m3cf4376498\" y=\"70.884066\"/>\n",
              "     <use style=\"fill:#1f77b4;stroke:#1f77b4;\" x=\"114.66068\" xlink:href=\"#m3cf4376498\" y=\"70.984783\"/>\n",
              "     <use style=\"fill:#1f77b4;stroke:#1f77b4;\" x=\"166.050085\" xlink:href=\"#m3cf4376498\" y=\"83.590059\"/>\n",
              "     <use style=\"fill:#1f77b4;stroke:#1f77b4;\" x=\"146.541913\" xlink:href=\"#m3cf4376498\" y=\"80.430278\"/>\n",
              "     <use style=\"fill:#1f77b4;stroke:#1f77b4;\" x=\"96.262327\" xlink:href=\"#m3cf4376498\" y=\"72.774849\"/>\n",
              "     <use style=\"fill:#1f77b4;stroke:#1f77b4;\" x=\"119.44244\" xlink:href=\"#m3cf4376498\" y=\"78.149007\"/>\n",
              "     <use style=\"fill:#1f77b4;stroke:#1f77b4;\" x=\"117.829463\" xlink:href=\"#m3cf4376498\" y=\"60.979091\"/>\n",
              "     <use style=\"fill:#1f77b4;stroke:#1f77b4;\" x=\"178.927461\" xlink:href=\"#m3cf4376498\" y=\"116.169034\"/>\n",
              "     <use style=\"fill:#1f77b4;stroke:#1f77b4;\" x=\"132.065999\" xlink:href=\"#m3cf4376498\" y=\"77.472406\"/>\n",
              "     <use style=\"fill:#1f77b4;stroke:#1f77b4;\" x=\"106.444207\" xlink:href=\"#m3cf4376498\" y=\"60.744991\"/>\n",
              "     <use style=\"fill:#1f77b4;stroke:#1f77b4;\" x=\"84.679495\" xlink:href=\"#m3cf4376498\" y=\"53.994764\"/>\n",
              "     <use style=\"fill:#1f77b4;stroke:#1f77b4;\" x=\"104.003069\" xlink:href=\"#m3cf4376498\" y=\"81.982864\"/>\n",
              "     <use style=\"fill:#1f77b4;stroke:#1f77b4;\" x=\"114.612458\" xlink:href=\"#m3cf4376498\" y=\"73.764032\"/>\n",
              "     <use style=\"fill:#1f77b4;stroke:#1f77b4;\" x=\"58.380735\" xlink:href=\"#m3cf4376498\" y=\"38.63684\"/>\n",
              "     <use style=\"fill:#1f77b4;stroke:#1f77b4;\" x=\"146.472334\" xlink:href=\"#m3cf4376498\" y=\"101.776756\"/>\n",
              "     <use style=\"fill:#1f77b4;stroke:#1f77b4;\" x=\"138.439577\" xlink:href=\"#m3cf4376498\" y=\"82.863229\"/>\n",
              "     <use style=\"fill:#1f77b4;stroke:#1f77b4;\" x=\"120.940701\" xlink:href=\"#m3cf4376498\" y=\"69.315385\"/>\n",
              "     <use style=\"fill:#1f77b4;stroke:#1f77b4;\" x=\"104.043742\" xlink:href=\"#m3cf4376498\" y=\"73.695652\"/>\n",
              "     <use style=\"fill:#1f77b4;stroke:#1f77b4;\" x=\"64.527489\" xlink:href=\"#m3cf4376498\" y=\"42.938893\"/>\n",
              "     <use style=\"fill:#1f77b4;stroke:#1f77b4;\" x=\"81.106571\" xlink:href=\"#m3cf4376498\" y=\"43.681711\"/>\n",
              "     <use style=\"fill:#1f77b4;stroke:#1f77b4;\" x=\"141.791461\" xlink:href=\"#m3cf4376498\" y=\"94.124657\"/>\n",
              "     <use style=\"fill:#1f77b4;stroke:#1f77b4;\" x=\"92.584547\" xlink:href=\"#m3cf4376498\" y=\"62.163222\"/>\n",
              "     <use style=\"fill:#1f77b4;stroke:#1f77b4;\" x=\"99.167516\" xlink:href=\"#m3cf4376498\" y=\"51.414778\"/>\n",
              "     <use style=\"fill:#1f77b4;stroke:#1f77b4;\" x=\"137.661799\" xlink:href=\"#m3cf4376498\" y=\"94.72063\"/>\n",
              "     <use style=\"fill:#1f77b4;stroke:#1f77b4;\" x=\"137.787694\" xlink:href=\"#m3cf4376498\" y=\"90.715484\"/>\n",
              "     <use style=\"fill:#1f77b4;stroke:#1f77b4;\" x=\"132.785885\" xlink:href=\"#m3cf4376498\" y=\"77.733997\"/>\n",
              "     <use style=\"fill:#1f77b4;stroke:#1f77b4;\" x=\"127.635945\" xlink:href=\"#m3cf4376498\" y=\"63.56412\"/>\n",
              "     <use style=\"fill:#1f77b4;stroke:#1f77b4;\" x=\"130.441717\" xlink:href=\"#m3cf4376498\" y=\"82.055304\"/>\n",
              "     <use style=\"fill:#1f77b4;stroke:#1f77b4;\" x=\"161.872961\" xlink:href=\"#m3cf4376498\" y=\"112.017401\"/>\n",
              "     <use style=\"fill:#1f77b4;stroke:#1f77b4;\" x=\"127.523432\" xlink:href=\"#m3cf4376498\" y=\"77.513278\"/>\n",
              "     <use style=\"fill:#1f77b4;stroke:#1f77b4;\" x=\"103.200754\" xlink:href=\"#m3cf4376498\" y=\"49.113269\"/>\n",
              "     <use style=\"fill:#1f77b4;stroke:#1f77b4;\" x=\"106.343385\" xlink:href=\"#m3cf4376498\" y=\"65.404884\"/>\n",
              "     <use style=\"fill:#1f77b4;stroke:#1f77b4;\" x=\"147.103617\" xlink:href=\"#m3cf4376498\" y=\"87.747301\"/>\n",
              "     <use style=\"fill:#1f77b4;stroke:#1f77b4;\" x=\"132.4121\" xlink:href=\"#m3cf4376498\" y=\"87.206749\"/>\n",
              "     <use style=\"fill:#1f77b4;stroke:#1f77b4;\" x=\"124.646954\" xlink:href=\"#m3cf4376498\" y=\"84.342005\"/>\n",
              "     <use style=\"fill:#1f77b4;stroke:#1f77b4;\" x=\"124.557836\" xlink:href=\"#m3cf4376498\" y=\"54.289187\"/>\n",
              "     <use style=\"fill:#1f77b4;stroke:#1f77b4;\" x=\"133.877428\" xlink:href=\"#m3cf4376498\" y=\"89.880167\"/>\n",
              "     <use style=\"fill:#1f77b4;stroke:#1f77b4;\" x=\"116.269075\" xlink:href=\"#m3cf4376498\" y=\"59.740325\"/>\n",
              "     <use style=\"fill:#1f77b4;stroke:#1f77b4;\" x=\"94.954931\" xlink:href=\"#m3cf4376498\" y=\"71.237009\"/>\n",
              "     <use style=\"fill:#1f77b4;stroke:#1f77b4;\" x=\"88.918516\" xlink:href=\"#m3cf4376498\" y=\"31.883185\"/>\n",
              "     <use style=\"fill:#1f77b4;stroke:#1f77b4;\" x=\"152.679962\" xlink:href=\"#m3cf4376498\" y=\"98.791662\"/>\n",
              "     <use style=\"fill:#1f77b4;stroke:#1f77b4;\" x=\"114.23938\" xlink:href=\"#m3cf4376498\" y=\"80.314338\"/>\n",
              "     <use style=\"fill:#1f77b4;stroke:#1f77b4;\" x=\"71.260459\" xlink:href=\"#m3cf4376498\" y=\"53.791046\"/>\n",
              "     <use style=\"fill:#1f77b4;stroke:#1f77b4;\" x=\"122.160599\" xlink:href=\"#m3cf4376498\" y=\"87.361565\"/>\n",
              "     <use style=\"fill:#1f77b4;stroke:#1f77b4;\" x=\"141.249458\" xlink:href=\"#m3cf4376498\" y=\"100.459755\"/>\n",
              "     <use style=\"fill:#1f77b4;stroke:#1f77b4;\" x=\"132.555254\" xlink:href=\"#m3cf4376498\" y=\"68.07664\"/>\n",
              "     <use style=\"fill:#1f77b4;stroke:#1f77b4;\" x=\"147.561792\" xlink:href=\"#m3cf4376498\" y=\"83.41464\"/>\n",
              "     <use style=\"fill:#1f77b4;stroke:#1f77b4;\" x=\"101.238636\" xlink:href=\"#m3cf4376498\" y=\"52.536372\"/>\n",
              "     <use style=\"fill:#1f77b4;stroke:#1f77b4;\" x=\"137.065128\" xlink:href=\"#m3cf4376498\" y=\"95.209257\"/>\n",
              "     <use style=\"fill:#1f77b4;stroke:#1f77b4;\" x=\"61.237941\" xlink:href=\"#m3cf4376498\" y=\"41.051412\"/>\n",
              "     <use style=\"fill:#1f77b4;stroke:#1f77b4;\" x=\"141.050314\" xlink:href=\"#m3cf4376498\" y=\"95.610523\"/>\n",
              "     <use style=\"fill:#1f77b4;stroke:#1f77b4;\" x=\"115.231132\" xlink:href=\"#m3cf4376498\" y=\"69.327838\"/>\n",
              "     <use style=\"fill:#1f77b4;stroke:#1f77b4;\" x=\"151.731187\" xlink:href=\"#m3cf4376498\" y=\"91.272641\"/>\n",
              "     <use style=\"fill:#1f77b4;stroke:#1f77b4;\" x=\"80.231136\" xlink:href=\"#m3cf4376498\" y=\"50.652683\"/>\n",
              "     <use style=\"fill:#1f77b4;stroke:#1f77b4;\" x=\"73.221161\" xlink:href=\"#m3cf4376498\" y=\"60.715483\"/>\n",
              "     <use style=\"fill:#1f77b4;stroke:#1f77b4;\" x=\"117.963207\" xlink:href=\"#m3cf4376498\" y=\"67.863198\"/>\n",
              "     <use style=\"fill:#1f77b4;stroke:#1f77b4;\" x=\"155.234679\" xlink:href=\"#m3cf4376498\" y=\"78.23894\"/>\n",
              "     <use style=\"fill:#1f77b4;stroke:#1f77b4;\" x=\"163.154615\" xlink:href=\"#m3cf4376498\" y=\"103.279517\"/>\n",
              "     <use style=\"fill:#1f77b4;stroke:#1f77b4;\" x=\"221.727415\" xlink:href=\"#m3cf4376498\" y=\"131.184274\"/>\n",
              "     <use style=\"fill:#1f77b4;stroke:#1f77b4;\" x=\"88.464666\" xlink:href=\"#m3cf4376498\" y=\"48.448996\"/>\n",
              "     <use style=\"fill:#1f77b4;stroke:#1f77b4;\" x=\"113.163484\" xlink:href=\"#m3cf4376498\" y=\"77.661809\"/>\n",
              "     <use style=\"fill:#1f77b4;stroke:#1f77b4;\" x=\"126.250956\" xlink:href=\"#m3cf4376498\" y=\"70.018411\"/>\n",
              "     <use style=\"fill:#1f77b4;stroke:#1f77b4;\" x=\"121.628688\" xlink:href=\"#m3cf4376498\" y=\"81.719169\"/>\n",
              "     <use style=\"fill:#1f77b4;stroke:#1f77b4;\" x=\"106.746849\" xlink:href=\"#m3cf4376498\" y=\"85.167478\"/>\n",
              "     <use style=\"fill:#1f77b4;stroke:#1f77b4;\" x=\"112.884623\" xlink:href=\"#m3cf4376498\" y=\"47.953087\"/>\n",
              "     <use style=\"fill:#1f77b4;stroke:#1f77b4;\" x=\"146.673859\" xlink:href=\"#m3cf4376498\" y=\"105.634505\"/>\n",
              "     <use style=\"fill:#1f77b4;stroke:#1f77b4;\" x=\"117.59005\" xlink:href=\"#m3cf4376498\" y=\"95.010622\"/>\n",
              "     <use style=\"fill:#1f77b4;stroke:#1f77b4;\" x=\"119.946281\" xlink:href=\"#m3cf4376498\" y=\"76.83473\"/>\n",
              "     <use style=\"fill:#1f77b4;stroke:#1f77b4;\" x=\"129.163215\" xlink:href=\"#m3cf4376498\" y=\"84.124104\"/>\n",
              "     <use style=\"fill:#1f77b4;stroke:#1f77b4;\" x=\"115.597909\" xlink:href=\"#m3cf4376498\" y=\"65.398411\"/>\n",
              "     <use style=\"fill:#1f77b4;stroke:#1f77b4;\" x=\"79.652774\" xlink:href=\"#m3cf4376498\" y=\"49.042192\"/>\n",
              "     <use style=\"fill:#1f77b4;stroke:#1f77b4;\" x=\"113.263448\" xlink:href=\"#m3cf4376498\" y=\"71.98307\"/>\n",
              "     <use style=\"fill:#1f77b4;stroke:#1f77b4;\" x=\"130.665177\" xlink:href=\"#m3cf4376498\" y=\"83.86772\"/>\n",
              "     <use style=\"fill:#1f77b4;stroke:#1f77b4;\" x=\"100.628202\" xlink:href=\"#m3cf4376498\" y=\"65.969089\"/>\n",
              "     <use style=\"fill:#1f77b4;stroke:#1f77b4;\" x=\"108.892136\" xlink:href=\"#m3cf4376498\" y=\"60.322921\"/>\n",
              "     <use style=\"fill:#1f77b4;stroke:#1f77b4;\" x=\"135.037056\" xlink:href=\"#m3cf4376498\" y=\"83.358037\"/>\n",
              "     <use style=\"fill:#1f77b4;stroke:#1f77b4;\" x=\"108.827973\" xlink:href=\"#m3cf4376498\" y=\"82.832749\"/>\n",
              "     <use style=\"fill:#1f77b4;stroke:#1f77b4;\" x=\"119.237398\" xlink:href=\"#m3cf4376498\" y=\"67.448315\"/>\n",
              "     <use style=\"fill:#1f77b4;stroke:#1f77b4;\" x=\"126.061251\" xlink:href=\"#m3cf4376498\" y=\"63.943314\"/>\n",
              "     <use style=\"fill:#1f77b4;stroke:#1f77b4;\" x=\"97.847825\" xlink:href=\"#m3cf4376498\" y=\"53.798381\"/>\n",
              "     <use style=\"fill:#1f77b4;stroke:#1f77b4;\" x=\"135.843112\" xlink:href=\"#m3cf4376498\" y=\"95.800396\"/>\n",
              "     <use style=\"fill:#1f77b4;stroke:#1f77b4;\" x=\"115.67311\" xlink:href=\"#m3cf4376498\" y=\"80.59661\"/>\n",
              "     <use style=\"fill:#1f77b4;stroke:#1f77b4;\" x=\"131.130532\" xlink:href=\"#m3cf4376498\" y=\"74.745531\"/>\n",
              "     <use style=\"fill:#1f77b4;stroke:#1f77b4;\" x=\"139.890168\" xlink:href=\"#m3cf4376498\" y=\"68.826054\"/>\n",
              "     <use style=\"fill:#1f77b4;stroke:#1f77b4;\" x=\"71.860683\" xlink:href=\"#m3cf4376498\" y=\"45.439302\"/>\n",
              "     <use style=\"fill:#1f77b4;stroke:#1f77b4;\" x=\"137.254969\" xlink:href=\"#m3cf4376498\" y=\"102.421672\"/>\n",
              "     <use style=\"fill:#1f77b4;stroke:#1f77b4;\" x=\"133.640257\" xlink:href=\"#m3cf4376498\" y=\"78.63012\"/>\n",
              "     <use style=\"fill:#1f77b4;stroke:#1f77b4;\" x=\"133.334873\" xlink:href=\"#m3cf4376498\" y=\"74.429452\"/>\n",
              "     <use style=\"fill:#1f77b4;stroke:#1f77b4;\" x=\"139.816225\" xlink:href=\"#m3cf4376498\" y=\"89.287173\"/>\n",
              "     <use style=\"fill:#1f77b4;stroke:#1f77b4;\" x=\"87.720834\" xlink:href=\"#m3cf4376498\" y=\"55.159124\"/>\n",
              "     <use style=\"fill:#1f77b4;stroke:#1f77b4;\" x=\"113.239813\" xlink:href=\"#m3cf4376498\" y=\"72.136724\"/>\n",
              "     <use style=\"fill:#1f77b4;stroke:#1f77b4;\" x=\"129.659489\" xlink:href=\"#m3cf4376498\" y=\"79.624808\"/>\n",
              "     <use style=\"fill:#1f77b4;stroke:#1f77b4;\" x=\"135.162809\" xlink:href=\"#m3cf4376498\" y=\"87.830611\"/>\n",
              "     <use style=\"fill:#1f77b4;stroke:#1f77b4;\" x=\"129.774816\" xlink:href=\"#m3cf4376498\" y=\"77.626321\"/>\n",
              "     <use style=\"fill:#1f77b4;stroke:#1f77b4;\" x=\"120.687034\" xlink:href=\"#m3cf4376498\" y=\"65.095062\"/>\n",
              "     <use style=\"fill:#1f77b4;stroke:#1f77b4;\" x=\"118.012466\" xlink:href=\"#m3cf4376498\" y=\"73.218237\"/>\n",
              "     <use style=\"fill:#1f77b4;stroke:#1f77b4;\" x=\"123.778048\" xlink:href=\"#m3cf4376498\" y=\"80.667718\"/>\n",
              "     <use style=\"fill:#1f77b4;stroke:#1f77b4;\" x=\"106.190337\" xlink:href=\"#m3cf4376498\" y=\"60.366127\"/>\n",
              "     <use style=\"fill:#1f77b4;stroke:#1f77b4;\" x=\"110.026985\" xlink:href=\"#m3cf4376498\" y=\"65.962049\"/>\n",
              "     <use style=\"fill:#1f77b4;stroke:#1f77b4;\" x=\"155.855827\" xlink:href=\"#m3cf4376498\" y=\"88.851667\"/>\n",
              "     <use style=\"fill:#1f77b4;stroke:#1f77b4;\" x=\"145.904673\" xlink:href=\"#m3cf4376498\" y=\"84.146309\"/>\n",
              "     <use style=\"fill:#1f77b4;stroke:#1f77b4;\" x=\"136.345709\" xlink:href=\"#m3cf4376498\" y=\"64.169263\"/>\n",
              "     <use style=\"fill:#1f77b4;stroke:#1f77b4;\" x=\"139.507448\" xlink:href=\"#m3cf4376498\" y=\"87.430285\"/>\n",
              "     <use style=\"fill:#1f77b4;stroke:#1f77b4;\" x=\"141.244456\" xlink:href=\"#m3cf4376498\" y=\"92.776919\"/>\n",
              "     <use style=\"fill:#1f77b4;stroke:#1f77b4;\" x=\"99.610869\" xlink:href=\"#m3cf4376498\" y=\"66.259579\"/>\n",
              "     <use style=\"fill:#1f77b4;stroke:#1f77b4;\" x=\"156.16752\" xlink:href=\"#m3cf4376498\" y=\"94.76588\"/>\n",
              "     <use style=\"fill:#1f77b4;stroke:#1f77b4;\" x=\"105.459636\" xlink:href=\"#m3cf4376498\" y=\"59.556425\"/>\n",
              "     <use style=\"fill:#1f77b4;stroke:#1f77b4;\" x=\"78.353325\" xlink:href=\"#m3cf4376498\" y=\"31.180753\"/>\n",
              "     <use style=\"fill:#1f77b4;stroke:#1f77b4;\" x=\"56.981465\" xlink:href=\"#m3cf4376498\" y=\"30.618235\"/>\n",
              "     <use style=\"fill:#1f77b4;stroke:#1f77b4;\" x=\"88.869858\" xlink:href=\"#m3cf4376498\" y=\"60.39969\"/>\n",
              "     <use style=\"fill:#1f77b4;stroke:#1f77b4;\" x=\"112.881164\" xlink:href=\"#m3cf4376498\" y=\"62.540797\"/>\n",
              "     <use style=\"fill:#1f77b4;stroke:#1f77b4;\" x=\"86.897546\" xlink:href=\"#m3cf4376498\" y=\"42.510978\"/>\n",
              "     <use style=\"fill:#1f77b4;stroke:#1f77b4;\" x=\"144.856431\" xlink:href=\"#m3cf4376498\" y=\"79.757778\"/>\n",
              "     <use style=\"fill:#1f77b4;stroke:#1f77b4;\" x=\"147.358337\" xlink:href=\"#m3cf4376498\" y=\"95.727024\"/>\n",
              "     <use style=\"fill:#1f77b4;stroke:#1f77b4;\" x=\"149.851337\" xlink:href=\"#m3cf4376498\" y=\"93.567987\"/>\n",
              "     <use style=\"fill:#1f77b4;stroke:#1f77b4;\" x=\"100.356058\" xlink:href=\"#m3cf4376498\" y=\"73.586621\"/>\n",
              "     <use style=\"fill:#1f77b4;stroke:#1f77b4;\" x=\"141.298477\" xlink:href=\"#m3cf4376498\" y=\"87.392518\"/>\n",
              "     <use style=\"fill:#1f77b4;stroke:#1f77b4;\" x=\"94.280994\" xlink:href=\"#m3cf4376498\" y=\"48.783527\"/>\n",
              "     <use style=\"fill:#1f77b4;stroke:#1f77b4;\" x=\"86.384845\" xlink:href=\"#m3cf4376498\" y=\"58.540491\"/>\n",
              "     <use style=\"fill:#1f77b4;stroke:#1f77b4;\" x=\"151.341706\" xlink:href=\"#m3cf4376498\" y=\"99.553149\"/>\n",
              "     <use style=\"fill:#1f77b4;stroke:#1f77b4;\" x=\"126.479642\" xlink:href=\"#m3cf4376498\" y=\"76.166229\"/>\n",
              "     <use style=\"fill:#1f77b4;stroke:#1f77b4;\" x=\"143.789385\" xlink:href=\"#m3cf4376498\" y=\"76.810349\"/>\n",
              "     <use style=\"fill:#1f77b4;stroke:#1f77b4;\" x=\"129.932441\" xlink:href=\"#m3cf4376498\" y=\"74.396715\"/>\n",
              "     <use style=\"fill:#1f77b4;stroke:#1f77b4;\" x=\"122.025807\" xlink:href=\"#m3cf4376498\" y=\"76.237701\"/>\n",
              "     <use style=\"fill:#1f77b4;stroke:#1f77b4;\" x=\"132.553344\" xlink:href=\"#m3cf4376498\" y=\"72.201204\"/>\n",
              "     <use style=\"fill:#1f77b4;stroke:#1f77b4;\" x=\"99.708932\" xlink:href=\"#m3cf4376498\" y=\"73.698843\"/>\n",
              "     <use style=\"fill:#1f77b4;stroke:#1f77b4;\" x=\"120.144272\" xlink:href=\"#m3cf4376498\" y=\"76.129197\"/>\n",
              "     <use style=\"fill:#1f77b4;stroke:#1f77b4;\" x=\"76.574832\" xlink:href=\"#m3cf4376498\" y=\"40.67327\"/>\n",
              "     <use style=\"fill:#1f77b4;stroke:#1f77b4;\" x=\"112.226601\" xlink:href=\"#m3cf4376498\" y=\"67.04843\"/>\n",
              "     <use style=\"fill:#1f77b4;stroke:#1f77b4;\" x=\"94.476677\" xlink:href=\"#m3cf4376498\" y=\"64.861384\"/>\n",
              "     <use style=\"fill:#1f77b4;stroke:#1f77b4;\" x=\"145.693178\" xlink:href=\"#m3cf4376498\" y=\"79.527634\"/>\n",
              "     <use style=\"fill:#1f77b4;stroke:#1f77b4;\" x=\"123.148104\" xlink:href=\"#m3cf4376498\" y=\"62.173935\"/>\n",
              "     <use style=\"fill:#1f77b4;stroke:#1f77b4;\" x=\"93.678693\" xlink:href=\"#m3cf4376498\" y=\"65.612523\"/>\n",
              "     <use style=\"fill:#1f77b4;stroke:#1f77b4;\" x=\"106.757653\" xlink:href=\"#m3cf4376498\" y=\"77.219356\"/>\n",
              "     <use style=\"fill:#1f77b4;stroke:#1f77b4;\" x=\"88.015794\" xlink:href=\"#m3cf4376498\" y=\"44.973056\"/>\n",
              "     <use style=\"fill:#1f77b4;stroke:#1f77b4;\" x=\"78.973878\" xlink:href=\"#m3cf4376498\" y=\"47.346426\"/>\n",
              "     <use style=\"fill:#1f77b4;stroke:#1f77b4;\" x=\"124.09745\" xlink:href=\"#m3cf4376498\" y=\"65.786093\"/>\n",
              "     <use style=\"fill:#1f77b4;stroke:#1f77b4;\" x=\"162.541675\" xlink:href=\"#m3cf4376498\" y=\"104.555574\"/>\n",
              "     <use style=\"fill:#1f77b4;stroke:#1f77b4;\" x=\"122.770642\" xlink:href=\"#m3cf4376498\" y=\"77.386224\"/>\n",
              "     <use style=\"fill:#1f77b4;stroke:#1f77b4;\" x=\"115.129635\" xlink:href=\"#m3cf4376498\" y=\"65.944064\"/>\n",
              "     <use style=\"fill:#1f77b4;stroke:#1f77b4;\" x=\"113.924523\" xlink:href=\"#m3cf4376498\" y=\"53.919102\"/>\n",
              "     <use style=\"fill:#1f77b4;stroke:#1f77b4;\" x=\"54.85044\" xlink:href=\"#m3cf4376498\" y=\"26.002527\"/>\n",
              "     <use style=\"fill:#1f77b4;stroke:#1f77b4;\" x=\"134.122566\" xlink:href=\"#m3cf4376498\" y=\"78.03919\"/>\n",
              "     <use style=\"fill:#1f77b4;stroke:#1f77b4;\" x=\"70.097286\" xlink:href=\"#m3cf4376498\" y=\"43.368685\"/>\n",
              "     <use style=\"fill:#1f77b4;stroke:#1f77b4;\" x=\"115.200052\" xlink:href=\"#m3cf4376498\" y=\"67.393467\"/>\n",
              "     <use style=\"fill:#1f77b4;stroke:#1f77b4;\" x=\"190.395748\" xlink:href=\"#m3cf4376498\" y=\"136.922727\"/>\n",
              "     <use style=\"fill:#1f77b4;stroke:#1f77b4;\" x=\"127.971714\" xlink:href=\"#m3cf4376498\" y=\"64.606375\"/>\n",
              "     <use style=\"fill:#1f77b4;stroke:#1f77b4;\" x=\"121.052821\" xlink:href=\"#m3cf4376498\" y=\"77.08464\"/>\n",
              "     <use style=\"fill:#1f77b4;stroke:#1f77b4;\" x=\"132.301639\" xlink:href=\"#m3cf4376498\" y=\"80.966427\"/>\n",
              "     <use style=\"fill:#1f77b4;stroke:#1f77b4;\" x=\"104.805849\" xlink:href=\"#m3cf4376498\" y=\"70.496731\"/>\n",
              "    </g>\n",
              "   </g>\n",
              "   <g id=\"matplotlib.axis_1\">\n",
              "    <g id=\"xtick_1\">\n",
              "     <g id=\"line2d_1\">\n",
              "      <defs>\n",
              "       <path d=\"M 0 0 \n",
              "L 0 3.5 \n",
              "\" id=\"m1e162a1572\" style=\"stroke:#000000;stroke-width:0.8;\"/>\n",
              "      </defs>\n",
              "      <g>\n",
              "       <use style=\"stroke:#000000;stroke-width:0.8;\" x=\"72.134356\" xlink:href=\"#m1e162a1572\" y=\"143.1\"/>\n",
              "      </g>\n",
              "     </g>\n",
              "     <g id=\"text_1\">\n",
              "      <!-- −2 -->\n",
              "      <g transform=\"translate(64.763262 157.698438)scale(0.1 -0.1)\">\n",
              "       <defs>\n",
              "        <path d=\"M 10.59375 35.5 \n",
              "L 73.1875 35.5 \n",
              "L 73.1875 27.203125 \n",
              "L 10.59375 27.203125 \n",
              "z\n",
              "\" id=\"DejaVuSans-8722\"/>\n",
              "        <path d=\"M 19.1875 8.296875 \n",
              "L 53.609375 8.296875 \n",
              "L 53.609375 0 \n",
              "L 7.328125 0 \n",
              "L 7.328125 8.296875 \n",
              "Q 12.9375 14.109375 22.625 23.890625 \n",
              "Q 32.328125 33.6875 34.8125 36.53125 \n",
              "Q 39.546875 41.84375 41.421875 45.53125 \n",
              "Q 43.3125 49.21875 43.3125 52.78125 \n",
              "Q 43.3125 58.59375 39.234375 62.25 \n",
              "Q 35.15625 65.921875 28.609375 65.921875 \n",
              "Q 23.96875 65.921875 18.8125 64.3125 \n",
              "Q 13.671875 62.703125 7.8125 59.421875 \n",
              "L 7.8125 69.390625 \n",
              "Q 13.765625 71.78125 18.9375 73 \n",
              "Q 24.125 74.21875 28.421875 74.21875 \n",
              "Q 39.75 74.21875 46.484375 68.546875 \n",
              "Q 53.21875 62.890625 53.21875 53.421875 \n",
              "Q 53.21875 48.921875 51.53125 44.890625 \n",
              "Q 49.859375 40.875 45.40625 35.40625 \n",
              "Q 44.1875 33.984375 37.640625 27.21875 \n",
              "Q 31.109375 20.453125 19.1875 8.296875 \n",
              "z\n",
              "\" id=\"DejaVuSans-50\"/>\n",
              "       </defs>\n",
              "       <use xlink:href=\"#DejaVuSans-8722\"/>\n",
              "       <use x=\"83.789062\" xlink:href=\"#DejaVuSans-50\"/>\n",
              "      </g>\n",
              "     </g>\n",
              "    </g>\n",
              "    <g id=\"xtick_2\">\n",
              "     <g id=\"line2d_2\">\n",
              "      <g>\n",
              "       <use style=\"stroke:#000000;stroke-width:0.8;\" x=\"120.830565\" xlink:href=\"#m1e162a1572\" y=\"143.1\"/>\n",
              "      </g>\n",
              "     </g>\n",
              "     <g id=\"text_2\">\n",
              "      <!-- 0 -->\n",
              "      <g transform=\"translate(117.649315 157.698438)scale(0.1 -0.1)\">\n",
              "       <defs>\n",
              "        <path d=\"M 31.78125 66.40625 \n",
              "Q 24.171875 66.40625 20.328125 58.90625 \n",
              "Q 16.5 51.421875 16.5 36.375 \n",
              "Q 16.5 21.390625 20.328125 13.890625 \n",
              "Q 24.171875 6.390625 31.78125 6.390625 \n",
              "Q 39.453125 6.390625 43.28125 13.890625 \n",
              "Q 47.125 21.390625 47.125 36.375 \n",
              "Q 47.125 51.421875 43.28125 58.90625 \n",
              "Q 39.453125 66.40625 31.78125 66.40625 \n",
              "z\n",
              "M 31.78125 74.21875 \n",
              "Q 44.046875 74.21875 50.515625 64.515625 \n",
              "Q 56.984375 54.828125 56.984375 36.375 \n",
              "Q 56.984375 17.96875 50.515625 8.265625 \n",
              "Q 44.046875 -1.421875 31.78125 -1.421875 \n",
              "Q 19.53125 -1.421875 13.0625 8.265625 \n",
              "Q 6.59375 17.96875 6.59375 36.375 \n",
              "Q 6.59375 54.828125 13.0625 64.515625 \n",
              "Q 19.53125 74.21875 31.78125 74.21875 \n",
              "z\n",
              "\" id=\"DejaVuSans-48\"/>\n",
              "       </defs>\n",
              "       <use xlink:href=\"#DejaVuSans-48\"/>\n",
              "      </g>\n",
              "     </g>\n",
              "    </g>\n",
              "    <g id=\"xtick_3\">\n",
              "     <g id=\"line2d_3\">\n",
              "      <g>\n",
              "       <use style=\"stroke:#000000;stroke-width:0.8;\" x=\"169.526773\" xlink:href=\"#m1e162a1572\" y=\"143.1\"/>\n",
              "      </g>\n",
              "     </g>\n",
              "     <g id=\"text_3\">\n",
              "      <!-- 2 -->\n",
              "      <g transform=\"translate(166.345523 157.698438)scale(0.1 -0.1)\">\n",
              "       <use xlink:href=\"#DejaVuSans-50\"/>\n",
              "      </g>\n",
              "     </g>\n",
              "    </g>\n",
              "    <g id=\"xtick_4\">\n",
              "     <g id=\"line2d_4\">\n",
              "      <g>\n",
              "       <use style=\"stroke:#000000;stroke-width:0.8;\" x=\"218.222982\" xlink:href=\"#m1e162a1572\" y=\"143.1\"/>\n",
              "      </g>\n",
              "     </g>\n",
              "     <g id=\"text_4\">\n",
              "      <!-- 4 -->\n",
              "      <g transform=\"translate(215.041732 157.698438)scale(0.1 -0.1)\">\n",
              "       <defs>\n",
              "        <path d=\"M 37.796875 64.3125 \n",
              "L 12.890625 25.390625 \n",
              "L 37.796875 25.390625 \n",
              "z\n",
              "M 35.203125 72.90625 \n",
              "L 47.609375 72.90625 \n",
              "L 47.609375 25.390625 \n",
              "L 58.015625 25.390625 \n",
              "L 58.015625 17.1875 \n",
              "L 47.609375 17.1875 \n",
              "L 47.609375 0 \n",
              "L 37.796875 0 \n",
              "L 37.796875 17.1875 \n",
              "L 4.890625 17.1875 \n",
              "L 4.890625 26.703125 \n",
              "z\n",
              "\" id=\"DejaVuSans-52\"/>\n",
              "       </defs>\n",
              "       <use xlink:href=\"#DejaVuSans-52\"/>\n",
              "      </g>\n",
              "     </g>\n",
              "    </g>\n",
              "   </g>\n",
              "   <g id=\"matplotlib.axis_2\">\n",
              "    <g id=\"ytick_1\">\n",
              "     <g id=\"line2d_5\">\n",
              "      <defs>\n",
              "       <path d=\"M 0 0 \n",
              "L -3.5 0 \n",
              "\" id=\"mbf62d346a5\" style=\"stroke:#000000;stroke-width:0.8;\"/>\n",
              "      </defs>\n",
              "      <g>\n",
              "       <use style=\"stroke:#000000;stroke-width:0.8;\" x=\"35.304688\" xlink:href=\"#mbf62d346a5\" y=\"139.735963\"/>\n",
              "      </g>\n",
              "     </g>\n",
              "     <g id=\"text_5\">\n",
              "      <!-- −10 -->\n",
              "      <g transform=\"translate(7.2 143.535182)scale(0.1 -0.1)\">\n",
              "       <defs>\n",
              "        <path d=\"M 12.40625 8.296875 \n",
              "L 28.515625 8.296875 \n",
              "L 28.515625 63.921875 \n",
              "L 10.984375 60.40625 \n",
              "L 10.984375 69.390625 \n",
              "L 28.421875 72.90625 \n",
              "L 38.28125 72.90625 \n",
              "L 38.28125 8.296875 \n",
              "L 54.390625 8.296875 \n",
              "L 54.390625 0 \n",
              "L 12.40625 0 \n",
              "z\n",
              "\" id=\"DejaVuSans-49\"/>\n",
              "       </defs>\n",
              "       <use xlink:href=\"#DejaVuSans-8722\"/>\n",
              "       <use x=\"83.789062\" xlink:href=\"#DejaVuSans-49\"/>\n",
              "       <use x=\"147.412109\" xlink:href=\"#DejaVuSans-48\"/>\n",
              "      </g>\n",
              "     </g>\n",
              "    </g>\n",
              "    <g id=\"ytick_2\">\n",
              "     <g id=\"line2d_6\">\n",
              "      <g>\n",
              "       <use style=\"stroke:#000000;stroke-width:0.8;\" x=\"35.304688\" xlink:href=\"#mbf62d346a5\" y=\"116.513446\"/>\n",
              "      </g>\n",
              "     </g>\n",
              "     <g id=\"text_6\">\n",
              "      <!-- −5 -->\n",
              "      <g transform=\"translate(13.5625 120.312665)scale(0.1 -0.1)\">\n",
              "       <defs>\n",
              "        <path d=\"M 10.796875 72.90625 \n",
              "L 49.515625 72.90625 \n",
              "L 49.515625 64.59375 \n",
              "L 19.828125 64.59375 \n",
              "L 19.828125 46.734375 \n",
              "Q 21.96875 47.46875 24.109375 47.828125 \n",
              "Q 26.265625 48.1875 28.421875 48.1875 \n",
              "Q 40.625 48.1875 47.75 41.5 \n",
              "Q 54.890625 34.8125 54.890625 23.390625 \n",
              "Q 54.890625 11.625 47.5625 5.09375 \n",
              "Q 40.234375 -1.421875 26.90625 -1.421875 \n",
              "Q 22.3125 -1.421875 17.546875 -0.640625 \n",
              "Q 12.796875 0.140625 7.71875 1.703125 \n",
              "L 7.71875 11.625 \n",
              "Q 12.109375 9.234375 16.796875 8.0625 \n",
              "Q 21.484375 6.890625 26.703125 6.890625 \n",
              "Q 35.15625 6.890625 40.078125 11.328125 \n",
              "Q 45.015625 15.765625 45.015625 23.390625 \n",
              "Q 45.015625 31 40.078125 35.4375 \n",
              "Q 35.15625 39.890625 26.703125 39.890625 \n",
              "Q 22.75 39.890625 18.8125 39.015625 \n",
              "Q 14.890625 38.140625 10.796875 36.28125 \n",
              "z\n",
              "\" id=\"DejaVuSans-53\"/>\n",
              "       </defs>\n",
              "       <use xlink:href=\"#DejaVuSans-8722\"/>\n",
              "       <use x=\"83.789062\" xlink:href=\"#DejaVuSans-53\"/>\n",
              "      </g>\n",
              "     </g>\n",
              "    </g>\n",
              "    <g id=\"ytick_3\">\n",
              "     <g id=\"line2d_7\">\n",
              "      <g>\n",
              "       <use style=\"stroke:#000000;stroke-width:0.8;\" x=\"35.304688\" xlink:href=\"#mbf62d346a5\" y=\"93.29093\"/>\n",
              "      </g>\n",
              "     </g>\n",
              "     <g id=\"text_7\">\n",
              "      <!-- 0 -->\n",
              "      <g transform=\"translate(21.942187 97.090149)scale(0.1 -0.1)\">\n",
              "       <use xlink:href=\"#DejaVuSans-48\"/>\n",
              "      </g>\n",
              "     </g>\n",
              "    </g>\n",
              "    <g id=\"ytick_4\">\n",
              "     <g id=\"line2d_8\">\n",
              "      <g>\n",
              "       <use style=\"stroke:#000000;stroke-width:0.8;\" x=\"35.304688\" xlink:href=\"#mbf62d346a5\" y=\"70.068414\"/>\n",
              "      </g>\n",
              "     </g>\n",
              "     <g id=\"text_8\">\n",
              "      <!-- 5 -->\n",
              "      <g transform=\"translate(21.942187 73.867632)scale(0.1 -0.1)\">\n",
              "       <use xlink:href=\"#DejaVuSans-53\"/>\n",
              "      </g>\n",
              "     </g>\n",
              "    </g>\n",
              "    <g id=\"ytick_5\">\n",
              "     <g id=\"line2d_9\">\n",
              "      <g>\n",
              "       <use style=\"stroke:#000000;stroke-width:0.8;\" x=\"35.304688\" xlink:href=\"#mbf62d346a5\" y=\"46.845897\"/>\n",
              "      </g>\n",
              "     </g>\n",
              "     <g id=\"text_9\">\n",
              "      <!-- 10 -->\n",
              "      <g transform=\"translate(15.579687 50.645116)scale(0.1 -0.1)\">\n",
              "       <use xlink:href=\"#DejaVuSans-49\"/>\n",
              "       <use x=\"63.623047\" xlink:href=\"#DejaVuSans-48\"/>\n",
              "      </g>\n",
              "     </g>\n",
              "    </g>\n",
              "    <g id=\"ytick_6\">\n",
              "     <g id=\"line2d_10\">\n",
              "      <g>\n",
              "       <use style=\"stroke:#000000;stroke-width:0.8;\" x=\"35.304688\" xlink:href=\"#mbf62d346a5\" y=\"23.623381\"/>\n",
              "      </g>\n",
              "     </g>\n",
              "     <g id=\"text_10\">\n",
              "      <!-- 15 -->\n",
              "      <g transform=\"translate(15.579687 27.422599)scale(0.1 -0.1)\">\n",
              "       <use xlink:href=\"#DejaVuSans-49\"/>\n",
              "       <use x=\"63.623047\" xlink:href=\"#DejaVuSans-53\"/>\n",
              "      </g>\n",
              "     </g>\n",
              "    </g>\n",
              "   </g>\n",
              "   <g id=\"patch_3\">\n",
              "    <path d=\"M 35.304688 143.1 \n",
              "L 35.304688 7.2 \n",
              "\" style=\"fill:none;stroke:#000000;stroke-linecap:square;stroke-linejoin:miter;stroke-width:0.8;\"/>\n",
              "   </g>\n",
              "   <g id=\"patch_4\">\n",
              "    <path d=\"M 230.604688 143.1 \n",
              "L 230.604688 7.2 \n",
              "\" style=\"fill:none;stroke:#000000;stroke-linecap:square;stroke-linejoin:miter;stroke-width:0.8;\"/>\n",
              "   </g>\n",
              "   <g id=\"patch_5\">\n",
              "    <path d=\"M 35.304688 143.1 \n",
              "L 230.604688 143.1 \n",
              "\" style=\"fill:none;stroke:#000000;stroke-linecap:square;stroke-linejoin:miter;stroke-width:0.8;\"/>\n",
              "   </g>\n",
              "   <g id=\"patch_6\">\n",
              "    <path d=\"M 35.304688 7.2 \n",
              "L 230.604688 7.2 \n",
              "\" style=\"fill:none;stroke:#000000;stroke-linecap:square;stroke-linejoin:miter;stroke-width:0.8;\"/>\n",
              "   </g>\n",
              "  </g>\n",
              " </g>\n",
              " <defs>\n",
              "  <clipPath id=\"pca285a01af\">\n",
              "   <rect height=\"135.9\" width=\"195.3\" x=\"35.304688\" y=\"7.2\"/>\n",
              "  </clipPath>\n",
              " </defs>\n",
              "</svg>\n"
            ],
            "text/plain": [
              "<Figure size 252x180 with 1 Axes>"
            ]
          },
          "metadata": {
            "needs_background": "light"
          },
          "output_type": "display_data"
        }
      ],
      "source": [
        "backend_inline.set_matplotlib_formats('svg')\n",
        "plt.rcParams['figure.figsize'] = (3.5, 2.5)\n",
        "# Punto y coma para mostrar solo la figura\n",
        "plt.scatter(features[:, (1)].detach().numpy(), labels.detach().numpy(), 1);\n"
      ]
    },
    {
      "cell_type": "markdown",
      "metadata": {
        "id": "s7PC6D2mz6Uu",
        "origin_pos": 12
      },
      "source": [
        "### Cargando los datos\n",
        "\n",
        "Dado que el entrenamiento se hace usando muchos mini-lotes de datos, es conveniente tener una función que se encarga de generar estos minilotes segun los necesitemos.\n",
        "\n",
        "Para esto necesitamos una función que tome nuestra matriz de diseño, tome nuestras etiquetas y nos genere lotes para el entrenamiento de un tamaño dado.\n",
        "\n"
      ]
    },
    {
      "cell_type": "code",
      "execution_count": 22,
      "metadata": {
        "id": "N_oU-mWuz6Uw",
        "origin_pos": 13,
        "tab": [
          "pytorch"
        ]
      },
      "outputs": [],
      "source": [
        "def data_iter(batch_size, features, labels):#funcion que genera los lotes de datos para el entrenamiento\n",
        "    num_examples = len(features)\n",
        "    indices = list(range(num_examples))\n",
        "    # aleatorizamos el orden de los datos\n",
        "    random.shuffle(indices)\n",
        "    for i in range(0, num_examples, batch_size):\n",
        "        batch_indices = torch.tensor(\n",
        "            indices[i: min(i + batch_size, num_examples)])#indices de los datos que se usaran en el batch\n",
        "        yield features[batch_indices], labels[batch_indices] #regresa los datos del batch usa yield para que el for no se detenga y se reanude en el siguiente batch"
      ]
    },
    {
      "cell_type": "code",
      "execution_count": 23,
      "metadata": {
        "colab": {
          "base_uri": "https://localhost:8080/"
        },
        "id": "8EBzYu3nz6Uz",
        "origin_pos": 16,
        "outputId": "6b9b4dac-061d-4593-ee98-64bb521c06b4",
        "tab": [
          "pytorch"
        ]
      },
      "outputs": [
        {
          "name": "stdout",
          "output_type": "stream",
          "text": [
            "tensor([[ 0.2622,  1.2088],\n",
            "        [-0.6403,  0.6964],\n",
            "        [ 0.8465,  0.3141],\n",
            "        [ 1.4410,  1.0731],\n",
            "        [-1.4337, -0.3149],\n",
            "        [-0.3240, -0.8213],\n",
            "        [-1.1395, -1.2548],\n",
            "        [-0.6314, -0.3221],\n",
            "        [ 1.4311,  0.7299],\n",
            "        [-0.1539, -0.7116]]) \n",
            " tensor([[0.6099],\n",
            "        [0.5545],\n",
            "        [4.8275],\n",
            "        [3.4243],\n",
            "        [2.4058],\n",
            "        [6.3488],\n",
            "        [6.1848],\n",
            "        [4.0248],\n",
            "        [4.5844],\n",
            "        [6.3006]])\n"
          ]
        }
      ],
      "source": [
        "batch_size = 10\n",
        "\n",
        "for X, y in data_iter(batch_size, features, labels):\n",
        "    print(X, '\\n', y)\n",
        "    break"
      ]
    },
    {
      "cell_type": "markdown",
      "metadata": {
        "id": "u8l0L3kJz6U0",
        "origin_pos": 17
      },
      "source": [
        "### Valores iniciales de nuestro modelo\n",
        "\n",
        "Dado que estamos estamos buscando mínimos de una fución de pérdida, podemos elegir iniciar con cualquier valor. Luego nuestro optimizador se encargará de encontrar los mínimos adecuados."
      ]
    },
    {
      "cell_type": "code",
      "execution_count": 24,
      "metadata": {
        "id": "HBzvnKgfz6U1",
        "origin_pos": 19,
        "tab": [
          "pytorch"
        ]
      },
      "outputs": [],
      "source": [
        "w = torch.normal(0, 0.01, size=(2,1), requires_grad=True)\n",
        "b = torch.zeros(1, requires_grad=True)"
      ]
    },
    {
      "cell_type": "markdown",
      "metadata": {
        "id": "YhAUUqFDz6U2",
        "origin_pos": 21
      },
      "source": [
        "Con estos parametros iniciales, estamos en condiciones de empezar a entrenar nuestra red. Es decir, buscar los parámetros que mejor representen el comportamiento de nuestros datos.\n",
        "\n",
        "Debemos recordar que detras del uso de descenso por gradiente, usamos herramientas de diferenciación automática para nuestros problemas.\n",
        "\n",
        "\n",
        "### Definiendo el modelo.\n",
        "\n",
        "En este caso, nuestro modelo será análogo al usado para generar nuestros datos, es decir:\n",
        "\n",
        "$$\\mathbf{y} = \\mathbf{Xw} + b$$\n",
        "\n"
      ]
    },
    {
      "cell_type": "code",
      "execution_count": 25,
      "metadata": {
        "id": "2pWmHqqez6U3",
        "origin_pos": 22,
        "tab": [
          "pytorch"
        ]
      },
      "outputs": [],
      "source": [
        "def linreg(X, w, b):\n",
        "    return torch.matmul(X, w) + b"
      ]
    },
    {
      "cell_type": "markdown",
      "metadata": {
        "id": "a3EBNBX0z6U4",
        "origin_pos": 23
      },
      "source": [
        "### Definiendo la función de pérdida\n",
        "\n",
        "Como estamos haciendo una regresión lineal, sabemos que lo que minimizamos son es la cantidad llamada **mínimos cuadrados**"
      ]
    },
    {
      "cell_type": "code",
      "execution_count": 26,
      "metadata": {
        "id": "iiVM4aHsz6U4",
        "origin_pos": 24,
        "tab": [
          "pytorch"
        ]
      },
      "outputs": [],
      "source": [
        "def squared_loss(y_hat, y):\n",
        "    return (y_hat - y.reshape(y_hat.shape)) ** 2 / 2 # calcula el error cuadrático medio (MSE) (cuadrados mínimos) entre y_hat y y (Se divide por dos para que la derivada sea más sencilla)"
      ]
    },
    {
      "cell_type": "markdown",
      "metadata": {
        "id": "jLaOfB0Uz6U4",
        "origin_pos": 25
      },
      "source": [
        "### Definiendo el algoritmo de optimización\n",
        "\n",
        "A continuación mostramos un pequeño ejemplo de funciona descenso gradiente estocástico\n"
      ]
    },
    {
      "cell_type": "code",
      "execution_count": 27,
      "metadata": {
        "id": "fmGZYM8Gz6U5",
        "origin_pos": 27,
        "tab": [
          "pytorch"
        ]
      },
      "outputs": [],
      "source": [
        "def sgd(params, lr, batch_size): #lr = learning rate que tan rapido se mueve en la funcion de perdida (sgd = stochastic gradient descent)\n",
        "    \"\"\"Usamos minilotes\"\"\"\n",
        "    with torch.no_grad(): #no se calcula el gradiente\n",
        "        for param in params:\n",
        "            param -= lr * param.grad / batch_size #en la direccion del gradiente avanza tanto como indique el learning rate y lo divide por el batch size\n",
        "                                                    #para que cada lote avance en proporcion a su tamaño\n",
        "            param.grad.zero_() #reinicia el gradiente para que no se acumulen los gradientes de los lotes anteriores"
      ]
    },
    {
      "cell_type": "markdown",
      "metadata": {
        "id": "cWrnqMGPz6U6",
        "origin_pos": 29
      },
      "source": [
        "### Entrenamiento\n",
        "\n",
        "A continuación esbozamos como es nuestro ciclo de entrenamiento\n",
        "\n",
        "* Iniciamos nuestros parametros. $(\\mathbf{w}, b)$\n",
        "* Repetimos hasta concluir\n",
        "    * Calculamos la función de pérdida ${L} \\leftarrow \\frac{1}{|\\mathcal{B}|} \\sum_{i \\in \\mathcal{B}} l(\\mathbf{x}^{(i)}, y^{(i)}, \\mathbf{w}, b)$\n",
        "    * Calculamos el gradiente con minilotes $\\mathbf{g} \\leftarrow \\partial_{(\\mathbf{w},b)} L$\n",
        "    * actualizamos los parámetros. $(\\mathbf{w}, b) \\leftarrow (\\mathbf{w}, b) - \\eta \\mathbf{g}$\n",
        "    > Nota: estos últimos dos pasos pasos los hace la función `sdg` definida arriba.\n",
        "\n",
        "Llamamos **época** a cada vez que iteramos sobre todos nuestros datos. Por otro lado el parametro $η$ es lo que llamamos **tasa de aprendizaje** o **learning rate**. Este valor nos dice que tanto nos moveremos en la dirección hacia donde esta el mínimo. Tanto la cantidad de épocas a recorrer como la tasa de aprendizaje son **hiperparametros**. Encontrar lo hiperparámetros apropiados para nuestros datos y modelos no es una tarea sencilla. Por ahora daremos valores arbitrarios, pero aprender a encontrar valores correctos es todo un arte.\n"
      ]
    },
    {
      "cell_type": "code",
      "execution_count": 28,
      "metadata": {
        "id": "FIcRq_t2z6U6",
        "origin_pos": 30,
        "tab": [
          "pytorch"
        ]
      },
      "outputs": [],
      "source": [
        "lr = 0.03\n",
        "num_epochs = 5\n",
        "net = linreg\n",
        "loss = squared_loss"
      ]
    },
    {
      "cell_type": "code",
      "execution_count": 29,
      "metadata": {
        "colab": {
          "base_uri": "https://localhost:8080/"
        },
        "id": "ipeFctL-z6U7",
        "origin_pos": 32,
        "outputId": "b8bb7a0c-158e-4e20-97b0-5d83173862bd",
        "tab": [
          "pytorch"
        ]
      },
      "outputs": [
        {
          "name": "stdout",
          "output_type": "stream",
          "text": [
            "epoch 1, loss 0.039320\n",
            "epoch 2, loss 0.000148\n",
            "epoch 3, loss 0.000050\n",
            "epoch 4, loss 0.000050\n",
            "epoch 5, loss 0.000050\n"
          ]
        }
      ],
      "source": [
        "for epoch in range(num_epochs):\n",
        "    for X, y in data_iter(batch_size, features, labels):\n",
        "        # Funcion de perdida para nuestro minilote con `X` e `y`\n",
        "        l = loss(net(X, w, b), y)\n",
        "        # Gradiente de la funcion l con respeto a [`w`, `b`]\n",
        "        # Recordar w es un \"vector\" de parametros\n",
        "        l.sum().backward()\n",
        "        sgd([w, b], lr, batch_size)\n",
        "    with torch.no_grad():\n",
        "        train_l = loss(net(features, w, b), labels)\n",
        "        print(f'epoch {epoch + 1}, loss {float(train_l.mean()):f}')"
      ]
    },
    {
      "cell_type": "markdown",
      "metadata": {
        "id": "TlMwPA-8z6U8",
        "origin_pos": 34
      },
      "source": [
        "Como nuestros datos son sintéticos, podemos comparar nuestras estimaciones con los valores reales.\n"
      ]
    },
    {
      "cell_type": "code",
      "execution_count": 30,
      "metadata": {
        "colab": {
          "base_uri": "https://localhost:8080/"
        },
        "id": "tNghXmT5z6U8",
        "origin_pos": 35,
        "outputId": "68224998-2cdf-4d41-bcc4-143fe5391a26",
        "tab": [
          "pytorch"
        ]
      },
      "outputs": [
        {
          "name": "stdout",
          "output_type": "stream",
          "text": [
            "error in estimating w: tensor([0.0005, 0.0005], grad_fn=<SubBackward0>)\n",
            "error in estimating b: tensor([0.0005], grad_fn=<RsubBackward1>)\n"
          ]
        }
      ],
      "source": [
        "print(f'error in estimating w: {true_w - w.reshape(true_w.shape)}')\n",
        "print(f'error in estimating b: {true_b - b}')"
      ]
    },
    {
      "cell_type": "markdown",
      "metadata": {
        "id": "AhE6f0rKIyFg"
      },
      "source": [
        "# Regresión lineal concisa.\n",
        "\n",
        "En el notebook anterior, vimos un ejemplo de como implementar una red neuronal desde cero. Sin embargo, hacer esto es una mala idea. La principal razón por la que es una mala idea, es que muchas de las cosas que hicimos consisten en \"reinventar la rueda\". Hay bibliotecas que ya tienen herramientas para hacer lo que ya hicimos. Además, nuestra implementación puede no ser la más eficiente. Es decir: la implementación usada puede generar tiempos de espera que podrían ser evitados si nuestro código estuviera implementado de manera distinta. Por esta razón, es siempre recomendable usar las bibliotecas preexistentes.\n",
        "\n",
        "Recordemos que el ejemplo anterior estaba pensado para que le perdamos el miedo a las bibliotecas preexistentes, para que entendamos como funcionan y para aprender a implementar cosas nuevas (si llegamos a necesitarlo)\n",
        "\n",
        "Veamos entonces como implementariamos todo lo anterior haciendo uso de la biblioteca ``pytorch``"
      ]
    },
    {
      "cell_type": "markdown",
      "metadata": {
        "id": "Ho7hYFsTIaPu",
        "origin_pos": 0
      },
      "source": [
        "## Datos sintéticos\n"
      ]
    },
    {
      "cell_type": "code",
      "execution_count": 31,
      "metadata": {
        "id": "zo70_UBVIaPw",
        "origin_pos": 2,
        "tab": [
          "pytorch"
        ]
      },
      "outputs": [],
      "source": [
        "import numpy as np\n",
        "import torch\n",
        "from torch.utils import data"
      ]
    },
    {
      "cell_type": "markdown",
      "metadata": {
        "id": "kQX3OhaQ7wTf"
      },
      "source": [
        "Misma función que usamos anteriormente"
      ]
    },
    {
      "cell_type": "code",
      "execution_count": 32,
      "metadata": {
        "id": "Tmh5NYga01CX"
      },
      "outputs": [],
      "source": [
        "def synthetic_data(w, b, num_examples):\n",
        "    X = torch.normal(0, 1, (num_examples, len(w)))\n",
        "    y = torch.matmul(X, w) + b\n",
        "    y += torch.normal(0, 0.01, y.shape)\n",
        "    return X, y.reshape((-1, 1))"
      ]
    },
    {
      "cell_type": "code",
      "execution_count": 33,
      "metadata": {
        "id": "s0adDvfCIaPy",
        "origin_pos": 4,
        "tab": [
          "pytorch"
        ]
      },
      "outputs": [],
      "source": [
        "true_w = torch.tensor([2, -3.4])\n",
        "true_b = 4.2\n",
        "features, labels = synthetic_data(true_w, true_b, 1000)"
      ]
    },
    {
      "cell_type": "markdown",
      "metadata": {
        "id": "L89Foy1JIaPz",
        "origin_pos": 5
      },
      "source": [
        "## Cargando nuestros datos\n",
        "\n",
        "En este caso, podemos enviar nuestros datos diferentes metodos preexistentes de `pytorch` para generar nuestro minilotes.\n",
        "\n",
        "Además podemos pedir nos mezcle nuestros datos o que los deje tal cual\n"
      ]
    },
    {
      "cell_type": "code",
      "execution_count": 34,
      "metadata": {
        "id": "_s7RVCfEIaP0",
        "origin_pos": 7,
        "tab": [
          "pytorch"
        ]
      },
      "outputs": [],
      "source": [
        "def load_array(data_arrays, batch_size, is_train=True):\n",
        "    dataset = data.TensorDataset(*data_arrays)\n",
        "    return data.DataLoader(dataset, batch_size, shuffle=is_train) #seria la funcion iter usada previamente "
      ]
    },
    {
      "cell_type": "code",
      "execution_count": 35,
      "metadata": {
        "id": "46yPkqcuIaP1",
        "origin_pos": 9,
        "tab": [
          "pytorch"
        ]
      },
      "outputs": [],
      "source": [
        "batch_size = 10\n",
        "data_iter = load_array((features, labels), batch_size) #la transforma en un iterador "
      ]
    },
    {
      "cell_type": "markdown",
      "metadata": {
        "id": "0QJFVBHMIaP2",
        "origin_pos": 10
      },
      "source": [
        "Queremos ver como se generan nuestros minilotes. Para esto debemos poder imprimierlos por pantalla. A diferencia de la implementación anterior, el método `DataLoader`, no genera un iterable, por esto debemos convertirlo en uno y recorrerlo segun necesitemos\n"
      ]
    },
    {
      "cell_type": "code",
      "execution_count": 44,
      "metadata": {
        "colab": {
          "base_uri": "https://localhost:8080/"
        },
        "id": "rJGz2ZwmIaP3",
        "origin_pos": 11,
        "outputId": "415b92b0-4e54-4fd2-b634-78d9f2679c0c",
        "tab": [
          "pytorch"
        ]
      },
      "outputs": [
        {
          "data": {
            "text/plain": [
              "[tensor([[-1.1408, -2.1511],\n",
              "         [ 0.3263,  0.0697],\n",
              "         [-0.5125, -2.5868],\n",
              "         [ 0.5483,  0.9378],\n",
              "         [ 1.1561, -1.6525],\n",
              "         [ 1.3339, -1.5130],\n",
              "         [ 0.3659,  0.6831],\n",
              "         [-0.6993,  0.8998],\n",
              "         [-1.3533, -2.1735],\n",
              "         [-0.3798,  0.4297]]),\n",
              " tensor([[ 9.2124],\n",
              "         [ 4.6158],\n",
              "         [11.9716],\n",
              "         [ 2.0902],\n",
              "         [12.1095],\n",
              "         [11.9994],\n",
              "         [ 2.5975],\n",
              "         [-0.2681],\n",
              "         [ 8.8655],\n",
              "         [ 1.9774]])]"
            ]
          },
          "execution_count": 44,
          "metadata": {},
          "output_type": "execute_result"
        }
      ],
      "source": [
        "next(iter(data_iter)) #llama a la siguiente iteracion"
      ]
    },
    {
      "cell_type": "markdown",
      "metadata": {
        "id": "c-MO_VboIaP3",
        "origin_pos": 12
      },
      "source": [
        "## Definiendo el modelo\n",
        "\n",
        "A continuación presentamos la versión concisa de nuestro modelo, luego la discutiremos.\n"
      ]
    },
    {
      "cell_type": "code",
      "execution_count": 37,
      "metadata": {
        "id": "xxpgLFRiIaP6",
        "origin_pos": 17,
        "tab": [
          "pytorch"
        ]
      },
      "outputs": [],
      "source": [
        "# `nn` = neural networks, redes neuronales\n",
        "from torch import nn \n",
        "\n",
        "net = nn.Sequential(nn.Linear(2, 1)) # 2 entradas, 1 salida (1 neurona) sequential es una funcion que recibe capas y las apila \n",
        "#cada neurona esta conectada con todas las entradas"
      ]
    },
    {
      "cell_type": "markdown",
      "metadata": {
        "id": "KdAWZYUVMURe"
      },
      "source": [
        "La clase `Sequential` define todas las capas a aplicar de manera secuencial en nuestro modelo. Por ahora, como trabajamos con regresión lineal solo usaremos una capa. Sin embargo esta capa es lo que se llama una capa *totalmente conectada*. Es decir, esta representada por una matriz que aplica sobre vector de features. Al aplicar esta matriz encontramos la salida de nuestra neurona. En este caso, este tipo de capas se las conoce como `Linear` y reciben como entrada `(<numero_de_entradas>, <numero_de_salidas>)`. Para nuestro modelo, esto son nuestras 2 features y nuestra etiqueta."
      ]
    },
    {
      "cell_type": "markdown",
      "metadata": {
        "id": "YgBZAsPHq1fA"
      },
      "source": [
        "\n",
        "¿Que es una capa densa?\n",
        "------------------\n",
        "\n",
        "\n",
        "una capa densa o completamente conectada es la forma más básica de una red neuronal. Cada entrada influencia a cada salida de acuerdo a los pesos. Si nuestro modelo tiene $m$ entradas y $n$ salidas, la matriz de pesos sera $m \\times n$. De igual modo el vector de sesgos o bias tendra dimensión $n$"
      ]
    },
    {
      "cell_type": "code",
      "execution_count": 45,
      "metadata": {
        "colab": {
          "base_uri": "https://localhost:8080/"
        },
        "id": "zqzGHdjVhhNJ",
        "outputId": "e36fb257-536b-48fc-e6ee-fddfded4a785"
      },
      "outputs": [
        {
          "name": "stdout",
          "output_type": "stream",
          "text": [
            "entrada:\n",
            "tensor([[0.5347, 0.2850]])\n",
            "\n",
            "\n",
            "Pesos y parametros:\n",
            "('weight', Parameter containing:\n",
            "tensor([[ 0.1381, -0.5922]], requires_grad=True))\n",
            "('bias', Parameter containing:\n",
            "tensor([-0.3960], requires_grad=True))\n",
            "\n",
            "\n",
            "salida\n",
            "tensor([[-0.4909]], grad_fn=<AddmmBackward0>)\n"
          ]
        },
        {
          "data": {
            "text/plain": [
              "tensor([[-0.4909]], grad_fn=<AddBackward0>)"
            ]
          },
          "execution_count": 45,
          "metadata": {},
          "output_type": "execute_result"
        }
      ],
      "source": [
        "import torch\n",
        "\n",
        "lin = torch.nn.Linear(2, 1)\n",
        "x = torch.rand(1, 2)\n",
        "print('entrada:')\n",
        "print(x)\n",
        "\n",
        "print('\\n\\nPesos y parametros:')\n",
        "for param in lin.named_parameters():\n",
        "    print(param)\n",
        "\n",
        "y = lin(x)\n",
        "print('\\n\\nsalida')\n",
        "print(y)\n",
        "\n",
        "# Al hacer la multiplicacion matricial correspondiente obtenemos nuesta salida.\n",
        "x @ lin.weight.T + lin.bias"
      ]
    },
    {
      "cell_type": "markdown",
      "metadata": {
        "id": "UDuEzQVaIaP6",
        "origin_pos": 19
      },
      "source": [
        "## Inicialización de parametros de nuestro modelo.\n",
        "\n",
        "Por lo general, los frameworks prexistentes tienen implementaciones por defecto para inicializar los parámetros. Sin embargo, queremos iniciarlos de manera similar a la anterior."
      ]
    },
    {
      "cell_type": "markdown",
      "metadata": {
        "id": "d4VMoRtWIaP7",
        "origin_pos": 21,
        "tab": [
          "pytorch"
        ]
      },
      "source": [
        "Para ellos accedemos a la primera (y única capa) usando `net[0]`. Luego accedemos a los pesos y los sesgos con `weight.data` and `bias.data`. Finalmente rellenamos los valores con lo que teníamos pensado usar.\n"
      ]
    },
    {
      "cell_type": "code",
      "execution_count": 46,
      "metadata": {
        "colab": {
          "base_uri": "https://localhost:8080/"
        },
        "id": "04P7myKQIaP7",
        "origin_pos": 24,
        "outputId": "9ffc22e3-2657-4d2c-d7e0-e848c2b7f52c",
        "tab": [
          "pytorch"
        ]
      },
      "outputs": [
        {
          "data": {
            "text/plain": [
              "tensor([0.])"
            ]
          },
          "execution_count": 46,
          "metadata": {},
          "output_type": "execute_result"
        }
      ],
      "source": [
        "net[0].weight.data.normal_(0, 0.01)\n",
        "net[0].bias.data.fill_(0)"
      ]
    },
    {
      "cell_type": "markdown",
      "metadata": {
        "id": "zLlMm_qEIaP-",
        "origin_pos": 29
      },
      "source": [
        "## Definiendo la función de pérdida\n"
      ]
    },
    {
      "cell_type": "code",
      "execution_count": 47,
      "metadata": {
        "id": "f2zHtPgyIaP_",
        "origin_pos": 34,
        "tab": [
          "pytorch"
        ]
      },
      "outputs": [],
      "source": [
        "loss = nn.MSELoss()"
      ]
    },
    {
      "cell_type": "markdown",
      "metadata": {
        "id": "pDAt2_m0IaP_",
        "origin_pos": 36
      },
      "source": [
        "## Definiendo el algoritmo de optimización\n"
      ]
    },
    {
      "cell_type": "markdown",
      "metadata": {
        "id": "7SImV0xVIaP_",
        "origin_pos": 38,
        "tab": [
          "pytorch"
        ]
      },
      "source": [
        "La principal diferencia con lo que hicimos antes, es que solamente debemos pasarle a nuestro `SDG`, los parametros a optimizar. El resto de los detalles ya son manejados por la implementación de `pytorch`. En este caso también estamos pasando la tasa de aprendizaje, pero la clase `SGD` de `pytorch` ya incluye un valor por defecto."
      ]
    },
    {
      "cell_type": "code",
      "execution_count": 48,
      "metadata": {
        "id": "Q36F2-g2IaQA",
        "origin_pos": 41,
        "tab": [
          "pytorch"
        ]
      },
      "outputs": [],
      "source": [
        "trainer = torch.optim.SGD(net.parameters(), lr=0.03)"
      ]
    },
    {
      "cell_type": "markdown",
      "metadata": {
        "id": "-HS9IpaWOqlt"
      },
      "source": [
        "Un optimizador en `torch` tiene por defecto una serie de métodos. Sin embargo ahora mismo solo nos interesan 2 de ellos, pues son los que más usaremos.\n",
        "\n",
        "* `Optimizer.step`\n",
        "  > Este es el método es el que propiamente aplica el algoritmo SGD, o cualquier otro algoritmo que fueramos a implementar.\n",
        "* `Optimizer.zero_grad`\n",
        "  > Por defecto, `Optimizer` suma los sucesivos gradientes calculados. Esto hace que al principio de cada época de el entrenamiento, debamos setear el gradiente en 0. Es por esto que este método existe dentro de la clase `Optimizer`"
      ]
    },
    {
      "cell_type": "markdown",
      "metadata": {
        "id": "Aph98AJ2IaQA",
        "origin_pos": 43
      },
      "source": [
        "## Entrenamiento\n",
        "\n",
        "Hasta aquí veníamos reduciendo lineas de código de manera impresionante. Sin embargo, nuestro ciclo de entrenamiento será casi identico a lo que habíamos visto antes.\n",
        "* Repetimos hasta concluir\n",
        "    * Calculamos la función de pérdida\n",
        "    * Calculamos el gradiente con minilotes\n",
        "    * Actualizamos los parámetros.\n"
      ]
    },
    {
      "cell_type": "code",
      "execution_count": 51,
      "metadata": {
        "colab": {
          "base_uri": "https://localhost:8080/"
        },
        "id": "noX-wsqNIaQA",
        "origin_pos": 45,
        "outputId": "2dce3639-e16a-411a-cd9c-92d7ec29d10e",
        "tab": [
          "pytorch"
        ]
      },
      "outputs": [
        {
          "name": "stdout",
          "output_type": "stream",
          "text": [
            "epoch 1, loss 0.000105\n",
            "epoch 2, loss 0.000105\n",
            "epoch 3, loss 0.000105\n",
            "epoch 4, loss 0.000105\n",
            "epoch 5, loss 0.000106\n"
          ]
        }
      ],
      "source": [
        "num_epochs = 5\n",
        "for epoch in range(num_epochs):\n",
        "    for X, y in data_iter:\n",
        "        l = loss(net(X) ,y)\n",
        "        trainer.zero_grad()\n",
        "        l.backward()\n",
        "        trainer.step()\n",
        "    l = loss(net(features), labels)\n",
        "    print(f'epoch {epoch + 1}, loss {l:f}')"
      ]
    },
    {
      "cell_type": "code",
      "execution_count": 52,
      "metadata": {
        "colab": {
          "base_uri": "https://localhost:8080/"
        },
        "id": "0ufuypfPIaQB",
        "origin_pos": 49,
        "outputId": "93b9084a-6eab-44d5-ea70-8de60a1535b5",
        "tab": [
          "pytorch"
        ]
      },
      "outputs": [
        {
          "name": "stdout",
          "output_type": "stream",
          "text": [
            "error in estimating w: tensor([ 0.0009, -0.0011])\n",
            "error in estimating b: tensor([0.0012])\n"
          ]
        }
      ],
      "source": [
        "w = net[0].weight.data\n",
        "print('error in estimating w:', true_w - w.reshape(true_w.shape))\n",
        "b = net[0].bias.data\n",
        "print('error in estimating b:', true_b - b)"
      ]
    },
    {
      "cell_type": "markdown",
      "metadata": {
        "id": "tDALUq9b_h2m"
      },
      "source": [
        "Hasta aquí hemos trabajado con el problema de la regresión. Sin embargo, muchas veces lo que deseamos es clasificar segun clases discretas. De hecho, más adelante veremos que los grandes logros de las redes neuronales son en el area de clasificación. Para esto, a continuación hablaremos de Regresión Softmax y su aplicación en clasificación."
      ]
    }
  ],
  "metadata": {
    "colab": {
      "name": "Regresion_Lineal_1.ipynb",
      "provenance": []
    },
    "kernelspec": {
      "display_name": "Python 3",
      "name": "python3"
    },
    "language_info": {
      "codemirror_mode": {
        "name": "ipython",
        "version": 3
      },
      "file_extension": ".py",
      "mimetype": "text/x-python",
      "name": "python",
      "nbconvert_exporter": "python",
      "pygments_lexer": "ipython3",
      "version": "3.6.13"
    }
  },
  "nbformat": 4,
  "nbformat_minor": 0
}

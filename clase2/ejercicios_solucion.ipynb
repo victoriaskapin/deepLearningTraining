{
  "nbformat": 4,
  "nbformat_minor": 0,
  "metadata": {
    "colab": {
      "name": "ejercicios_solucion.ipynb",
      "provenance": []
    },
    "kernelspec": {
      "name": "python3",
      "display_name": "Python 3"
    },
    "language_info": {
      "name": "python"
    }
  },
  "cells": [
    {
      "cell_type": "markdown",
      "source": [
        "<a href=\"https://colab.research.google.com/github/institutohumai/cursos-python/blob/master/DeepLearning/2_Redes_de_una_capa/ejercicios/ejercicios_solucion.ipynb\" target=\"_parent\"><img src=\"https://colab.research.google.com/assets/colab-badge.svg\" alt=\"Open in Colab\"/></a>"
      ],
      "metadata": {
        "id": "vuzhbZH7ht8M"
      }
    },
    {
      "cell_type": "markdown",
      "source": [
        "# Ejercicios para la clase 2\n",
        "\n"
      ],
      "metadata": {
        "id": "lgsT9jksm5LF"
      }
    },
    {
      "cell_type": "markdown",
      "source": [
        "En este notebook vamos a retomar el ejemplo de la red neuronal entrenada para clasificar FashionMNIST. Si bien ese ejemplo tiene todos los pasos necesarios para entrenar la red, varios de esos pasos sirven para entrenar cualquier otro modelo. Así que vamos a tratar de modularizarlo de manera que el código sea reutilizable.\n",
        "\n",
        "Arranquemos importando los módulos necesarios."
      ],
      "metadata": {
        "id": "KEwhMG1-wDZw"
      }
    },
    {
      "cell_type": "code",
      "execution_count": null,
      "metadata": {
        "origin_pos": 2,
        "tab": [
          "pytorch"
        ],
        "id": "_IKoVRbjSfc6"
      },
      "outputs": [],
      "source": [
        "import torch\n",
        "import torchvision\n",
        "from IPython import display\n",
        "from torchvision import transforms\n",
        "from torch.utils import data"
      ]
    },
    {
      "cell_type": "markdown",
      "source": [
        "Volvemos a definir la función que crea los Datasets y devuelve los DataLoaders para poder iterar sobre ellos."
      ],
      "metadata": {
        "id": "_ZRZy4UfRQhB"
      }
    },
    {
      "cell_type": "code",
      "source": [
        "def load_data_fashion_mnist(batch_size, resize=None):\n",
        "    trans = [transforms.ToTensor()]\n",
        "    if resize:\n",
        "        trans.insert(0, transforms.Resize(resize))\n",
        "    trans = transforms.Compose(trans)\n",
        "    mnist_train = torchvision.datasets.FashionMNIST(\n",
        "        root=\"../data\", train=True, transform=trans, download=True)\n",
        "    mnist_test = torchvision.datasets.FashionMNIST(\n",
        "        root=\"../data\", train=False, transform=trans, download=True)\n",
        "    return (data.DataLoader(mnist_train, batch_size, shuffle=True,\n",
        "                            num_workers=1),\n",
        "            data.DataLoader(mnist_test, batch_size, shuffle=False,\n",
        "                            num_workers=1))\n"
      ],
      "metadata": {
        "id": "5wo108R04-B3"
      },
      "execution_count": null,
      "outputs": []
    },
    {
      "cell_type": "markdown",
      "source": [
        "También definimos una función que devuelve la cantidad de aciertos del modelo a partir de un tensor de predicciones y otro de etiquetas."
      ],
      "metadata": {
        "id": "8xbesO6LRS_G"
      }
    },
    {
      "cell_type": "code",
      "execution_count": null,
      "metadata": {
        "origin_pos": 27,
        "tab": [
          "pytorch"
        ],
        "id": "UrSYLgd4SfdP"
      },
      "outputs": [],
      "source": [
        "def accuracy(y_hat, y):\n",
        "    \"\"\"Compute the number of correct predictions.\"\"\"\n",
        "    if len(y_hat.shape) > 1 and y_hat.shape[1] > 1:\n",
        "        y_hat = y_hat.argmax(axis=1)\n",
        "    cmp = y_hat.type(y.dtype) == y\n",
        "    return float(cmp.type(y.dtype).sum())"
      ]
    },
    {
      "cell_type": "markdown",
      "source": [
        "Volvemos a definir el modelo con una capa de 10 neuronas para hacer la clasificación e inicializamos sus pesos aleatoriamente con una distribución gaussiana."
      ],
      "metadata": {
        "id": "aZkInvacReE4"
      }
    },
    {
      "cell_type": "code",
      "execution_count": null,
      "metadata": {
        "origin_pos": 7,
        "tab": [
          "pytorch"
        ],
        "id": "DBFL4_UxSYQc"
      },
      "outputs": [],
      "source": [
        "net = torch.nn.Sequential(torch.nn.Flatten(), torch.nn.Linear(784, 10))\n",
        "\n",
        "def init_weights(m):\n",
        "    if type(m) == torch.nn.Linear:\n",
        "        torch.nn.init.normal_(m.weight, std=0.01)\n",
        "\n",
        "net.apply(init_weights);"
      ]
    },
    {
      "cell_type": "markdown",
      "source": [
        "Definimos la entropía cruzada como función de perdida y el descenso de gradiente estocástico como algoritmo de optimización."
      ],
      "metadata": {
        "id": "OKCx8gJfRiTc"
      }
    },
    {
      "cell_type": "code",
      "execution_count": null,
      "metadata": {
        "origin_pos": 11,
        "tab": [
          "pytorch"
        ],
        "id": "VlPHONcmSYQf"
      },
      "outputs": [],
      "source": [
        "loss = torch.nn.CrossEntropyLoss(reduction='none')\n",
        "trainer = torch.optim.SGD(net.parameters(), lr=0.1)"
      ]
    },
    {
      "cell_type": "markdown",
      "source": [
        "Y por último, definimos una función que lleva adelante el entrenamiento completo."
      ],
      "metadata": {
        "id": "uFeFfZzK0KIO"
      }
    },
    {
      "cell_type": "code",
      "source": [
        "def train(net, train_iter, test_iter, loss, num_epochs, updater):\n",
        "  '''\n",
        "  Lleva adelante el entrenamiento completo llamando a funciones internas\n",
        "  que modularizan el ciclo de entrenamiento.\n",
        "\n",
        "    Parámetros:\n",
        "            net: la red neuronal que se va a entrenar\n",
        "            train_iter: iterador de datos de entrenamiento\n",
        "            test_iter: iterador de datos de prueba\n",
        "            loss: función de perdida a minimizar\n",
        "            num_epoch: cantidad de épocas a entrenar\n",
        "            updater: algoritmo de optimización\n",
        "\n",
        "    Salida:\n",
        "            metrics: una lista de tuplas (una para cada epoch)\n",
        "              con las siguientes componentes\n",
        "              - epoch: número de época\n",
        "              - L: pérdida calculada\n",
        "              - Acc: accuracy de entrenamiento calculada\n",
        "              - TestAcc: accuracy de prueba calculada\n",
        "  '''\n",
        "  metrics =[]\n",
        "  for epoch in range(num_epochs):\n",
        "      L, Acc = train_epoch(net, train_iter, loss, updater)\n",
        "      TestAcc = test_accuracy(net, test_iter)\n",
        "      metric = (epoch + 1, L, Acc, TestAcc)\n",
        "      print(metric)\n",
        "      metrics.append(metric)\n",
        "  return metrics\n"
      ],
      "metadata": {
        "id": "JkWvYfcnyIw9"
      },
      "execution_count": null,
      "outputs": []
    },
    {
      "cell_type": "markdown",
      "source": [
        "## Ejercicio 1\n",
        "\n",
        "Implementar la función `train_epoch()` que lleva adelante el entrenamiento de una época."
      ],
      "metadata": {
        "id": "J1rb67LYPG0o"
      }
    },
    {
      "cell_type": "code",
      "source": [
        "def train_epoch(net, train_iter, loss, updater):\n",
        "  '''\n",
        "  Lleva adelante el entrenamiento de una sola época.\n",
        "\n",
        "    Parámetros:\n",
        "            net: la red neuronal que se va a entrenar\n",
        "            train_iter: iterador de datos de entrenamiento\n",
        "            loss: función de perdida a minimizar\n",
        "            updater: algoritmo de optimización\n",
        "\n",
        "    Salida:\n",
        "            L: pérdida calculada\n",
        "            Acc: accuracy de entrenamiento calculada\n",
        "  '''\n",
        "  # inserte su código aquí\n",
        "  L = 0.0\n",
        "  N = 0\n",
        "  Acc = 0.0\n",
        "  for X, y in train_iter:\n",
        "      updater.zero_grad()\n",
        "      l = loss(net(X) ,y)\n",
        "      l.sum().backward()\n",
        "      updater.step()\n",
        "      L += l.sum()\n",
        "      N += l.numel()\n",
        "      Acc += accuracy(net(X), y)\n",
        "  L /= N\n",
        "  Acc /= N\n",
        "  return L.detach(), Acc\n",
        "\n"
      ],
      "metadata": {
        "id": "n-j-GPHgzHhx"
      },
      "execution_count": null,
      "outputs": []
    },
    {
      "cell_type": "markdown",
      "source": [
        "## Ejercicio 2\n",
        "\n",
        "Implementar la función `test_accuracy()` que lleva adelante la evaluación de la performance de la red con los datos de prueba."
      ],
      "metadata": {
        "id": "tUDesTD05Ern"
      }
    },
    {
      "cell_type": "code",
      "source": [
        "def test_accuracy(net, test_iter):\n",
        "  '''\n",
        "  Evalúa los resultados del entrenamiento de una sola época.\n",
        "\n",
        "    Parámetros:\n",
        "            net: la red neuronal que se va a evaluar\n",
        "            test_iter: iterador de datos de prueba\n",
        "\n",
        "    Salida:\n",
        "            - TestAcc: accuracy de prueba calculada\n",
        "  '''\n",
        "  # inserte su código aquí\n",
        "  TestAcc = 0.0\n",
        "  N = 0\n",
        "  for X, y in test_iter:\n",
        "      N += y.numel()\n",
        "      TestAcc += accuracy(net(X), y)\n",
        "  TestAcc /= N\n",
        "  return TestAcc"
      ],
      "metadata": {
        "id": "M6FI7Ym-wFpS"
      },
      "execution_count": null,
      "outputs": []
    },
    {
      "cell_type": "markdown",
      "source": [
        "## Ejercicio 3\n",
        "\n",
        "Utilizar las funciones anteriores para entrenar efectivamente a la red. Entrenarla por 10 epochs y con lotes de tamaño 256."
      ],
      "metadata": {
        "id": "MeLMq-kc6_EH"
      }
    },
    {
      "cell_type": "code",
      "source": [
        "#inserte su código aquí\n",
        "num_epochs = 10\n",
        "batch_size = 256\n",
        "train_iter, test_iter = load_data_fashion_mnist(batch_size)\n",
        "metrics = train(net, train_iter, test_iter, loss, num_epochs, trainer)"
      ],
      "metadata": {
        "id": "5tD0w1U0R6xO",
        "colab": {
          "base_uri": "https://localhost:8080/"
        },
        "outputId": "110f5f7d-634d-4590-a960-8bcdbb4e8a0f"
      },
      "execution_count": null,
      "outputs": [
        {
          "output_type": "stream",
          "name": "stdout",
          "text": [
            "(1, tensor(39.2525), 0.80415, 0.7917)\n",
            "(2, tensor(38.6751), 0.8017666666666666, 0.8479666666666666)\n",
            "(3, tensor(37.9541), 0.80495, 0.8560333333333333)\n",
            "(4, tensor(38.5382), 0.8032333333333334, 0.85145)\n",
            "(5, tensor(39.2897), 0.8050833333333334, 0.8454833333333334)\n",
            "(6, tensor(37.5063), 0.8052666666666667, 0.8338166666666667)\n",
            "(7, tensor(35.9438), 0.8104666666666667, 0.8534166666666667)\n",
            "(8, tensor(37.1757), 0.8067166666666666, 0.8482833333333333)\n",
            "(9, tensor(36.9351), 0.8120666666666667, 0.7745833333333333)\n",
            "(10, tensor(36.0858), 0.8115, 0.8329166666666666)\n"
          ]
        }
      ]
    },
    {
      "cell_type": "markdown",
      "source": [
        "## Ejercicio 4\n",
        "Graficar la evolución de los valores de el accuracy de entrenamiento, el accuracy de prueba y la pérdida en función de las épocas."
      ],
      "metadata": {
        "id": "DtyCl3ZyEyjL"
      }
    },
    {
      "cell_type": "code",
      "source": [
        "#inserte su código aquí\n",
        "import numpy as np\n",
        "import matplotlib.pyplot as plt\n",
        "plotting = np.array(metrics)\n",
        "plt.plot(plotting.T[0], plotting.T[1])\n",
        "plt.show()\n",
        "plt.plot(plotting.T[0], plotting.T[2], plotting.T[0], plotting.T[3])"
      ],
      "metadata": {
        "id": "7MctBmcjbGwZ",
        "colab": {
          "base_uri": "https://localhost:8080/",
          "height": 552
        },
        "outputId": "5f8044f6-f8a1-4376-b06c-022ebff75be0"
      },
      "execution_count": null,
      "outputs": [
        {
          "output_type": "display_data",
          "data": {
            "text/plain": [
              "<Figure size 432x288 with 1 Axes>"
            ],
            "image/png": "[encoded data removed]"
          },
          "metadata": {
            "needs_background": "light"
          }
        },
        {
          "output_type": "execute_result",
          "data": {
            "text/plain": [
              "[<matplotlib.lines.Line2D at 0x7f0c825e3690>,\n",
              " <matplotlib.lines.Line2D at 0x7f0c825e38d0>]"
            ]
          },
          "metadata": {},
          "execution_count": 23
        },
        {
          "output_type": "display_data",
          "data": {
            "text/plain": [
              "<Figure size 432x288 with 1 Axes>"
            ],
            "image/png": "[encoded data removed]"
          },
          "metadata": {
            "needs_background": "light"
          }
        }
      ]
    }
  ]
}
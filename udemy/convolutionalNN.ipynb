{
 "cells": [
  {
   "cell_type": "code",
   "execution_count": 1,
   "metadata": {},
   "outputs": [],
   "source": [
    "import torch \n",
    "import torch.nn as nn \n",
    "import torch.nn.functional as F"
   ]
  },
  {
   "cell_type": "code",
   "execution_count": 2,
   "metadata": {},
   "outputs": [],
   "source": [
    "from torch.utils.data import DataLoader\n",
    "from torchvision import datasets, transforms\n"
   ]
  },
  {
   "cell_type": "code",
   "execution_count": 3,
   "metadata": {},
   "outputs": [],
   "source": [
    "import numpy as np\n",
    "import pandas as pd\n",
    "from sklearn.metrics import confusion_matrix\n",
    "import matplotlib.pyplot as plt\n",
    "%matplotlib inline\n"
   ]
  },
  {
   "cell_type": "code",
   "execution_count": 4,
   "metadata": {},
   "outputs": [],
   "source": [
    "transform = transforms.ToTensor()"
   ]
  },
  {
   "cell_type": "code",
   "execution_count": 5,
   "metadata": {},
   "outputs": [
    {
     "name": "stdout",
     "output_type": "stream",
     "text": [
      "Downloading http://yann.lecun.com/exdb/mnist/train-images-idx3-ubyte.gz\n"
     ]
    },
    {
     "name": "stderr",
     "output_type": "stream",
     "text": [
      "3.9%"
     ]
    },
    {
     "name": "stdout",
     "output_type": "stream",
     "text": [
      "Downloading http://yann.lecun.com/exdb/mnist/train-images-idx3-ubyte.gz to data/MNIST/raw/train-images-idx3-ubyte.gz\n"
     ]
    },
    {
     "name": "stderr",
     "output_type": "stream",
     "text": [
      "100.0%\n"
     ]
    },
    {
     "name": "stdout",
     "output_type": "stream",
     "text": [
      "Extracting data/MNIST/raw/train-images-idx3-ubyte.gz to data/MNIST/raw\n",
      "\n",
      "Downloading http://yann.lecun.com/exdb/mnist/train-labels-idx1-ubyte.gz\n"
     ]
    },
    {
     "name": "stderr",
     "output_type": "stream",
     "text": [
      "102.8%"
     ]
    },
    {
     "name": "stdout",
     "output_type": "stream",
     "text": [
      "Downloading http://yann.lecun.com/exdb/mnist/train-labels-idx1-ubyte.gz to data/MNIST/raw/train-labels-idx1-ubyte.gz\n",
      "Extracting data/MNIST/raw/train-labels-idx1-ubyte.gz to data/MNIST/raw\n",
      "\n",
      "Downloading http://yann.lecun.com/exdb/mnist/t10k-images-idx3-ubyte.gz\n"
     ]
    },
    {
     "name": "stderr",
     "output_type": "stream",
     "text": [
      "\n",
      "27.1%"
     ]
    },
    {
     "name": "stdout",
     "output_type": "stream",
     "text": [
      "Downloading http://yann.lecun.com/exdb/mnist/t10k-images-idx3-ubyte.gz to data/MNIST/raw/t10k-images-idx3-ubyte.gz\n"
     ]
    },
    {
     "name": "stderr",
     "output_type": "stream",
     "text": [
      "100.0%\n"
     ]
    },
    {
     "name": "stdout",
     "output_type": "stream",
     "text": [
      "Extracting data/MNIST/raw/t10k-images-idx3-ubyte.gz to data/MNIST/raw\n",
      "\n",
      "Downloading http://yann.lecun.com/exdb/mnist/t10k-labels-idx1-ubyte.gz\n"
     ]
    },
    {
     "name": "stderr",
     "output_type": "stream",
     "text": [
      "112.7%"
     ]
    },
    {
     "name": "stdout",
     "output_type": "stream",
     "text": [
      "Downloading http://yann.lecun.com/exdb/mnist/t10k-labels-idx1-ubyte.gz to data/MNIST/raw/t10k-labels-idx1-ubyte.gz\n",
      "Extracting data/MNIST/raw/t10k-labels-idx1-ubyte.gz to data/MNIST/raw\n",
      "\n"
     ]
    },
    {
     "name": "stderr",
     "output_type": "stream",
     "text": [
      "\n"
     ]
    }
   ],
   "source": [
    "train_data = datasets.MNIST(root = 'data/', train = True, transform = transforms.ToTensor(), download = True)"
   ]
  },
  {
   "cell_type": "code",
   "execution_count": 7,
   "metadata": {},
   "outputs": [],
   "source": [
    "test_data = datasets.MNIST(root='data/', train=False, download=True, transform=transform)"
   ]
  },
  {
   "cell_type": "code",
   "execution_count": 16,
   "metadata": {},
   "outputs": [
    {
     "data": {
      "text/plain": [
       "<matplotlib.image.AxesImage at 0x7f8f089072e8>"
      ]
     },
     "execution_count": 16,
     "metadata": {},
     "output_type": "execute_result"
    },
    {
     "data": {
      "image/png": "[encoded data removed]",
      "text/plain": [
       "<Figure size 432x288 with 1 Axes>"
      ]
     },
     "metadata": {
      "needs_background": "light"
     },
     "output_type": "display_data"
    }
   ],
   "source": [
    "image,label = train_data[0]\n",
    "plt.imshow(image.reshape(28,28),cmap='gist_yarg') ## para poder visualizarla tengo que hacer un reshape para que sea una matriz de 28x28 y no un vector de 784\n"
   ]
  },
  {
   "cell_type": "code",
   "execution_count": 17,
   "metadata": {},
   "outputs": [],
   "source": [
    "torch.manual_seed(101)\n",
    "batch_size = 100\n",
    "train_loader= DataLoader(train_data, batch_size = batch_size, shuffle=True)\n",
    "test_loader= DataLoader(test_data, batch_size = 500, shuffle=False)"
   ]
  },
  {
   "cell_type": "code",
   "execution_count": 18,
   "metadata": {},
   "outputs": [],
   "source": [
    "from torchvision.utils import make_grid\n",
    "np.set_printoptions(formatter=dict(int=lambda x: f'{x:4}')) # to widen the printed array\n"
   ]
  },
  {
   "cell_type": "code",
   "execution_count": 19,
   "metadata": {},
   "outputs": [],
   "source": [
    "# First batch solo quiero agarrar el primer batch de imagenes \n",
    "for images,labels in train_loader:\n",
    "    break"
   ]
  },
  {
   "cell_type": "code",
   "execution_count": 23,
   "metadata": {},
   "outputs": [
    {
     "name": "stdout",
     "output_type": "stream",
     "text": [
      "Labels:  [   7    2    3    5    8    5    3    6    9    9    1    3]\n"
     ]
    },
    {
     "data": {
      "text/plain": [
       "<matplotlib.image.AxesImage at 0x7f8f08ce7390>"
      ]
     },
     "execution_count": 23,
     "metadata": {},
     "output_type": "execute_result"
    },
    {
     "data": {
      "image/png": "[encoded data removed]",
      "text/plain": [
       "<Figure size 720x288 with 1 Axes>"
      ]
     },
     "metadata": {
      "needs_background": "light"
     },
     "output_type": "display_data"
    }
   ],
   "source": [
    "print( 'Labels: ', labels[:12].numpy() ) #Imprime las primeras 12 etiquetas \n",
    "\n",
    "im= make_grid( images[:12], nrow= 12 ) #Imprime las primeras 12 imagenes \n",
    "plt.figure( figsize= (10,4) ) #Tamaño de la figura para que se vea mas prolijo \n",
    "plt.imshow( np.transpose( im.numpy(), (1,2,0) ) )  # mueve las filas de la imagen para que el gradiente del color sea el ultimo valor de la tupla WidexHeightxColor\n"
   ]
  },
  {
   "cell_type": "code",
   "execution_count": 24,
   "metadata": {},
   "outputs": [],
   "source": [
    "class MultilayerPerceptron(nn.Module): \n",
    "    def __init__(self, in_sz=784, out_sz=10,layers=[120,84]):\n",
    "        super().__init__()\n",
    "\n",
    "        self.fc1 = nn.Linear(in_sz,layers[0])\n",
    "        self.fc2 = nn.Linear(layers[0],layers[1])\n",
    "        self.fc3 = nn.Linear(layers[1],out_sz)\n",
    "    \n",
    "    def forward(self,X):\n",
    "        X = F.relu(self.fc1(X))\n",
    "        X = F.relu(self.fc2(X))\n",
    "        X = self.fc3(X)\n",
    "        return F.log_softmax(X,dim=1)"
   ]
  },
  {
   "cell_type": "code",
   "execution_count": 25,
   "metadata": {},
   "outputs": [
    {
     "data": {
      "text/plain": [
       "MultilayerPerceptron(\n",
       "  (fc1): Linear(in_features=784, out_features=120, bias=True)\n",
       "  (fc2): Linear(in_features=120, out_features=84, bias=True)\n",
       "  (fc3): Linear(in_features=84, out_features=10, bias=True)\n",
       ")"
      ]
     },
     "execution_count": 25,
     "metadata": {},
     "output_type": "execute_result"
    }
   ],
   "source": [
    "torch.manual_seed(101)\n",
    "model = MultilayerPerceptron()\n",
    "model"
   ]
  },
  {
   "cell_type": "code",
   "execution_count": 26,
   "metadata": {},
   "outputs": [
    {
     "name": "stdout",
     "output_type": "stream",
     "text": [
      "94080\n",
      "120\n",
      "10080\n",
      "84\n",
      "840\n",
      "10\n"
     ]
    }
   ],
   "source": [
    "for param in model.parameters():\n",
    "    print(param.numel())"
   ]
  },
  {
   "cell_type": "code",
   "execution_count": 27,
   "metadata": {},
   "outputs": [],
   "source": [
    "criterion = nn.CrossEntropyLoss()\n",
    "optimizer = torch.optim.Adam(model.parameters(), lr=0.001) "
   ]
  },
  {
   "cell_type": "code",
   "execution_count": 29,
   "metadata": {},
   "outputs": [
    {
     "data": {
      "text/plain": [
       "torch.Size([100, 784])"
      ]
     },
     "execution_count": 29,
     "metadata": {},
     "output_type": "execute_result"
    }
   ],
   "source": [
    "images.view(100, -1) # 100 images, -1 means the rest of the dimensions are flattened"
   ]
  },
  {
   "cell_type": "code",
   "execution_count": 51,
   "metadata": {},
   "outputs": [
    {
     "name": "stdout",
     "output_type": "stream",
     "text": [
      "Epoch: 0 Batch: 200 Loss: 1.5362042177002877e-05, accuracy: 99.935%\n",
      "Epoch: 0 Batch: 400 Loss: 0.00029181389254517853, accuracy: 99.9575%\n",
      "Epoch: 0 Batch: 600 Loss: 3.4459673770470545e-05, accuracy: 99.96833333333333%\n",
      "Epoch: 1 Batch: 200 Loss: 2.0196210243739188e-05, accuracy: 100.0%\n",
      "Epoch: 1 Batch: 400 Loss: 2.2933940272196196e-05, accuracy: 100.0%\n",
      "Epoch: 1 Batch: 600 Loss: 0.0003563010832294822, accuracy: 99.985%\n",
      "Epoch: 2 Batch: 200 Loss: 3.201836807420477e-05, accuracy: 99.93%\n",
      "Epoch: 2 Batch: 400 Loss: 0.03762038052082062, accuracy: 99.7975%\n",
      "Epoch: 2 Batch: 600 Loss: 0.0008012417238205671, accuracy: 99.765%\n",
      "Epoch: 3 Batch: 200 Loss: 0.00048739928752183914, accuracy: 99.91%\n",
      "Epoch: 3 Batch: 400 Loss: 0.0008165508043020964, accuracy: 99.8625%\n",
      "Epoch: 3 Batch: 600 Loss: 5.1554757192207035e-06, accuracy: 99.87833333333333%\n",
      "Epoch: 4 Batch: 200 Loss: 0.00027441640850156546, accuracy: 99.945%\n",
      "Epoch: 4 Batch: 400 Loss: 0.0005880030803382397, accuracy: 99.915%\n",
      "Epoch: 4 Batch: 600 Loss: 4.58417207482853e-06, accuracy: 99.93333333333334%\n",
      "Epoch: 5 Batch: 200 Loss: 0.00038426113314926624, accuracy: 99.92%\n",
      "Epoch: 5 Batch: 400 Loss: 0.04885348677635193, accuracy: 99.9025%\n",
      "Epoch: 5 Batch: 600 Loss: 7.988030120031908e-06, accuracy: 99.885%\n",
      "Epoch: 6 Batch: 200 Loss: 6.658022903138772e-05, accuracy: 99.945%\n",
      "Epoch: 6 Batch: 400 Loss: 0.049890827387571335, accuracy: 99.905%\n",
      "Epoch: 6 Batch: 600 Loss: 3.427117189858109e-05, accuracy: 99.86333333333333%\n",
      "Epoch: 7 Batch: 200 Loss: 0.0015656010946258903, accuracy: 99.855%\n",
      "Epoch: 7 Batch: 400 Loss: 3.504730443637527e-07, accuracy: 99.88%\n",
      "Epoch: 7 Batch: 600 Loss: 0.0002116908726748079, accuracy: 99.90666666666667%\n",
      "Epoch: 8 Batch: 200 Loss: 5.137836183166655e-07, accuracy: 99.98%\n",
      "Epoch: 8 Batch: 400 Loss: 7.137047759897541e-06, accuracy: 99.945%\n",
      "Epoch: 8 Batch: 600 Loss: 6.7191281232226174e-06, accuracy: 99.92333333333333%\n",
      "Epoch: 9 Batch: 200 Loss: 0.00139425543602556, accuracy: 99.87%\n",
      "Epoch: 9 Batch: 400 Loss: 0.0036334132310003042, accuracy: 99.875%\n",
      "Epoch: 9 Batch: 600 Loss: 0.003063598880544305, accuracy: 99.885%\n",
      "Duration: 1.1948527097702026 minutes\n"
     ]
    }
   ],
   "source": [
    "import time \n",
    "start_time = time.time()\n",
    "\n",
    "#TRAINING \n",
    "epochs = 10 \n",
    "#TRACKERS \n",
    "train_losses = []\n",
    "test_losses = []\n",
    "train_correct = []\n",
    "test_correct = []\n",
    "\n",
    "for i in range(epochs):\n",
    "    trn_corr = 0\n",
    "    tst_corr = 0\n",
    "\n",
    "    for batch, (X_train, y_train) in enumerate(train_loader):\n",
    "        batch += 1\n",
    "\n",
    "        y_pred = model(X_train.view(100, -1)) #flatten the data \n",
    "        loss = criterion(y_pred, y_train)\n",
    "\n",
    "        predicted = torch.max(y_pred.data, 1)[1] #returns the index of the max value, trae lo que predijo el modelo\n",
    "        batch_corr = (predicted == y_train).sum() #cuantos aciertos hubo en el batch\n",
    "        trn_corr += batch_corr #lo guardo en el tracker fuera del for \n",
    "\n",
    "        optimizer.zero_grad()\n",
    "        loss.backward()\n",
    "        optimizer.step()\n",
    "\n",
    "        if batch % 200 == 0:\n",
    "            accuracy = trn_corr.item()*100/(100*batch)\n",
    "            print(f'Epoch: {i} Batch: {batch} Loss: {loss.item()}, accuracy: {accuracy}%')\n",
    "\n",
    "    train_losses.append(loss)\n",
    "    train_correct.append(trn_corr)\n",
    "\n",
    "    with torch.no_grad():\n",
    "        for b,(X_test, y_test) in enumerate(test_loader):\n",
    "            y_val = model(X_test.view(500, -1))\n",
    "            predicted = torch.max(y_val.data, 1)[1]\n",
    "            tst_corr += (predicted == y_test).sum()\n",
    "        \n",
    "    loss = criterion(y_val, y_test)\n",
    "    test_losses.append(loss)\n",
    "    test_correct.append(tst_corr)\n",
    "\n",
    "\n",
    "\n",
    "total_time = time.time() - start_time\n",
    "print(f'Duration: {total_time/60} minutes')"
   ]
  },
  {
   "cell_type": "code",
   "execution_count": 53,
   "metadata": {},
   "outputs": [
    {
     "name": "stdout",
     "output_type": "stream",
     "text": [
      "[tensor(0.3925), tensor(0.3620), tensor(0.2928), tensor(0.3310), tensor(0.3332), tensor(0.3157), tensor(0.3938), tensor(0.3616), tensor(0.3924), tensor(0.4252)]\n"
     ]
    },
    {
     "data": {
      "image/png": "[encoded data removed]",
      "text/plain": [
       "<Figure size 432x288 with 1 Axes>"
      ]
     },
     "metadata": {
      "needs_background": "light"
     },
     "output_type": "display_data"
    }
   ],
   "source": [
    "plt.plot(train_losses, label='Training loss')\n",
    "plt.plot(test_losses, label='Test/ Validation loss')\n",
    "plt.legend()\n",
    "\n"
   ]
  },
  {
   "cell_type": "code",
   "execution_count": 57,
   "metadata": {},
   "outputs": [
    {
     "data": {
      "text/plain": [
       "[tensor(99.9683),\n",
       " tensor(99.9850),\n",
       " tensor(99.7650),\n",
       " tensor(99.8783),\n",
       " tensor(99.9333),\n",
       " tensor(99.8850),\n",
       " tensor(99.8633),\n",
       " tensor(99.9067),\n",
       " tensor(99.9233),\n",
       " tensor(99.8850)]"
      ]
     },
     "execution_count": 57,
     "metadata": {},
     "output_type": "execute_result"
    }
   ],
   "source": [
    "train_acc = [t/600 for t in train_correct]\n",
    "train_acc"
   ]
  },
  {
   "cell_type": "code",
   "execution_count": 61,
   "metadata": {},
   "outputs": [
    {
     "data": {
      "text/plain": [
       "[tensor(97.9400),\n",
       " tensor(97.7900),\n",
       " tensor(97.8300),\n",
       " tensor(97.6600),\n",
       " tensor(97.8500),\n",
       " tensor(97.6900),\n",
       " tensor(97.7500),\n",
       " tensor(97.8300),\n",
       " tensor(97.9300),\n",
       " tensor(97.7700)]"
      ]
     },
     "execution_count": 61,
     "metadata": {},
     "output_type": "execute_result"
    }
   ],
   "source": [
    "test_acc = [t/100 for t in test_correct]\n",
    "test_acc"
   ]
  },
  {
   "cell_type": "code",
   "execution_count": 60,
   "metadata": {},
   "outputs": [
    {
     "data": {
      "text/plain": [
       "<matplotlib.legend.Legend at 0x7f8f08591400>"
      ]
     },
     "execution_count": 60,
     "metadata": {},
     "output_type": "execute_result"
    },
    {
     "data": {
      "image/png": "[encoded data removed]",
      "text/plain": [
       "<Figure size 432x288 with 1 Axes>"
      ]
     },
     "metadata": {
      "needs_background": "light"
     },
     "output_type": "display_data"
    }
   ],
   "source": [
    "plt.plot(train_acc,label='train accuracy')\n",
    "plt.plot(test_acc,label='test accuracy')\n",
    "plt.legend()\n"
   ]
  },
  {
   "cell_type": "code",
   "execution_count": 62,
   "metadata": {},
   "outputs": [],
   "source": [
    "#NEW UNSEEN DATA \n",
    "\n",
    "test_load_all  = DataLoader(test_data, batch_size=10000, shuffle=False)\n"
   ]
  },
  {
   "cell_type": "code",
   "execution_count": 63,
   "metadata": {},
   "outputs": [],
   "source": [
    "with torch.no_grad():\n",
    "    correct = 0\n",
    "\n",
    "    for X_test, y_test in test_load_all:\n",
    "        y_val = model(X_test.view(len(X_test), -1))\n",
    "        predicted = torch.max(y_val, 1)[1]\n",
    "        correct += (predicted == y_test).sum()\n",
    "        "
   ]
  },
  {
   "cell_type": "code",
   "execution_count": 66,
   "metadata": {},
   "outputs": [
    {
     "data": {
      "text/plain": [
       "97.77"
      ]
     },
     "execution_count": 66,
     "metadata": {},
     "output_type": "execute_result"
    }
   ],
   "source": [
    "correct.item()/len(test_data)*100"
   ]
  },
  {
   "cell_type": "code",
   "execution_count": 67,
   "metadata": {},
   "outputs": [
    {
     "data": {
      "text/plain": [
       "array([[ 965,    0,    2,    0,    2,    2,    2,    1,    1,    0],\n",
       "       [   0, 1125,    4,    0,    2,    0,    2,    6,    1,    5],\n",
       "       [   2,    3, 1000,    3,    2,    0,    2,    8,    1,    0],\n",
       "       [   1,    2,    7,  991,    1,   12,    1,    1,    5,    3],\n",
       "       [   1,    0,    1,    0,  961,    2,    4,    1,    1,    9],\n",
       "       [   1,    0,    0,    5,    0,  862,    8,    0,    0,    3],\n",
       "       [   4,    2,    1,    0,    5,    4,  935,    1,    0,    0],\n",
       "       [   2,    1,    5,    5,    1,    1,    0, 1000,    3,    4],\n",
       "       [   3,    2,   12,    6,    0,    8,    4,    5,  960,    7],\n",
       "       [   1,    0,    0,    0,    8,    1,    0,    5,    2,  978]])"
      ]
     },
     "execution_count": 67,
     "metadata": {},
     "output_type": "execute_result"
    }
   ],
   "source": [
    "confusion_matrix(predicted.view(-1), y_test.view(-1))"
   ]
  },
  {
   "cell_type": "code",
   "execution_count": null,
   "metadata": {},
   "outputs": [],
   "source": []
  }
 ],
 "metadata": {
  "kernelspec": {
   "display_name": "env_pytorch",
   "language": "python",
   "name": "python3"
  },
  "language_info": {
   "codemirror_mode": {
    "name": "ipython",
    "version": 3
   },
   "file_extension": ".py",
   "mimetype": "text/x-python",
   "name": "python",
   "nbconvert_exporter": "python",
   "pygments_lexer": "ipython3",
   "version": "3.6.13"
  },
  "orig_nbformat": 4
 },
 "nbformat": 4,
 "nbformat_minor": 2
}
